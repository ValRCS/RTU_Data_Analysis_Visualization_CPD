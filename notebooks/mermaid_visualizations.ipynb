{
  "nbformat": 4,
  "nbformat_minor": 0,
  "metadata": {
    "colab": {
      "provenance": [],
      "authorship_tag": "ABX9TyPp0zSOBphvJpEq3n+mY13a",
      "include_colab_link": true
    },
    "kernelspec": {
      "name": "python3",
      "display_name": "Python 3"
    },
    "language_info": {
      "name": "python"
    }
  },
  "cells": [
    {
      "cell_type": "markdown",
      "metadata": {
        "id": "view-in-github",
        "colab_type": "text"
      },
      "source": [
        "<a href=\"https://colab.research.google.com/github/ValRCS/RTU_Data_Analysis_Visualization_CPD/blob/main/notebooks/mermaid_visualizations.ipynb\" target=\"_parent\"><img src=\"https://colab.research.google.com/assets/colab-badge.svg\" alt=\"Open In Colab\"/></a>"
      ]
    },
    {
      "cell_type": "markdown",
      "source": [
        "# Visualizations using mermaid.js\n",
        "\n",
        "Mermaid.js is a JavaScript-based diagramming and charting tool that renders markdown-inspired text definitions to create diagrams dynamically in the browser. It allows you to create various types of diagrams and visualizations using simple text syntax, such as flowcharts, sequence diagrams, class diagrams, state diagrams, entity relationship diagrams, user journey diagrams, Gantt charts, and pie charts.\n",
        "\n",
        "## Live Mermaid Examples\n",
        "\n",
        "https://mermaid.live/\n"
      ],
      "metadata": {
        "id": "wmwM2t8-qjDI"
      }
    },
    {
      "cell_type": "markdown",
      "source": [
        "## Jupyter Notebooks, Google Colab and Mermaid\n",
        "\n",
        "Using Mermaid on Jupyter notebooks is tricky because Mermaid is based on Javascript and usually requires Node (a server based Javascript) to run.\n",
        "\n",
        "As of September 2025 no \"easy\" plugin solution for Notebooks exists.\n",
        "\n",
        "However, we can still render and display the Mermaid charts by installing required software and using Python to call it.\n",
        "\n",
        "This is very error prone process as running Node through Colab can get messy"
      ],
      "metadata": {
        "id": "cb7Qginnq-Tn"
      }
    },
    {
      "cell_type": "code",
      "source": [
        "%%bash\n",
        "\n",
        "set -e\n",
        "\n",
        "echo \"📦 Installing Node.js and Mermaid CLI...\"\n",
        "\n",
        "# Install NVM\n",
        "curl -o- https://raw.githubusercontent.com/nvm-sh/nvm/v0.39.5/install.sh | bash\n",
        "\n",
        "# Load NVM into shell\n",
        "export NVM_DIR=\"$HOME/.nvm\"\n",
        "source \"$NVM_DIR/nvm.sh\"\n",
        "\n",
        "# Install and activate Node.js 20\n",
        "nvm install 20\n",
        "nvm use 20\n",
        "\n",
        "# Install Mermaid CLI\n",
        "npm install -g @mermaid-js/mermaid-cli\n",
        "\n",
        "# Save mmdc path\n",
        "which mmdc > /content/mmdc_path.txt\n",
        "echo \"✅ mmdc installed at $(cat /content/mmdc_path.txt)\"\n"
      ],
      "metadata": {
        "colab": {
          "base_uri": "https://localhost:8080/"
        },
        "id": "ra8CVjfPF8J4",
        "outputId": "36562803-aa16-4005-c4cc-8f536c303259"
      },
      "execution_count": 1,
      "outputs": [
        {
          "output_type": "stream",
          "name": "stdout",
          "text": [
            "📦 Installing Node.js and Mermaid CLI...\n",
            "=> Downloading nvm from git to '/root/.nvm'\n",
            "\r=> * (HEAD detached at FETCH_HEAD)\n",
            "  master\n",
            "=> Compressing and cleaning up git repository\n",
            "\n",
            "=> Appending nvm source string to /root/.bashrc\n",
            "=> Appending bash_completion source string to /root/.bashrc\n",
            "=> You currently have modules installed globally with `npm`. These will no\n",
            "=> longer be linked to the active version of Node when you install a new node\n",
            "=> with `nvm`; and they may (depending on how you construct your `$PATH`)\n",
            "=> override the binaries of modules installed with `nvm`:\n",
            "\n",
            "/tools/node/lib\n",
            "├── @google/gemini-cli@0.4.1\n",
            "├── corepack@0.31.0\n",
            "=> If you wish to uninstall them at a later point (or re-install them under your\n",
            "=> `nvm` Nodes), you can remove them from the system Node as follows:\n",
            "\n",
            "     $ nvm use system\n",
            "     $ npm uninstall -g a_module\n",
            "\n",
            "=> Close and reopen your terminal to start using nvm or run the following to use it now:\n",
            "\n",
            "export NVM_DIR=\"$HOME/.nvm\"\n",
            "[ -s \"$NVM_DIR/nvm.sh\" ] && \\. \"$NVM_DIR/nvm.sh\"  # This loads nvm\n",
            "[ -s \"$NVM_DIR/bash_completion\" ] && \\. \"$NVM_DIR/bash_completion\"  # This loads nvm bash_completion\n",
            "Downloading and installing node v20.19.5...\n",
            "Now using node v20.19.5 (npm v10.8.2)\n",
            "Creating default alias: \u001b[0;32mdefault\u001b[0m \u001b[0;90m->\u001b[0m \u001b[0;32m20\u001b[0m (\u001b[0;90m->\u001b[0m \u001b[0;32mv20.19.5\u001b[0m)\n",
            "Now using node v20.19.5 (npm v10.8.2)\n",
            "\n",
            "added 411 packages in 54s\n",
            "\n",
            "54 packages are looking for funding\n",
            "  run `npm fund` for details\n",
            "✅ mmdc installed at /root/.nvm/versions/node/v20.19.5/bin/mmdc\n"
          ]
        },
        {
          "output_type": "stream",
          "name": "stderr",
          "text": [
            "  % Total    % Received % Xferd  Average Speed   Time    Time     Time  Current\n",
            "                                 Dload  Upload   Total   Spent    Left  Speed\n",
            "\r  0     0    0     0    0     0      0      0 --:--:-- --:--:-- --:--:--     0\r100 15916  100 15916    0     0   107k      0 --:--:-- --:--:-- --:--:--  107k\n",
            "Cloning into '/root/.nvm'...\n",
            "Downloading https://nodejs.org/dist/v20.19.5/node-v20.19.5-linux-x64.tar.xz...\n",
            "#=#=#                                                                         \r\r###                                                                        4.7%\r####################################################                      73.3%\r######################################################################## 100.0%\n",
            "Computing checksum with sha256sum\n",
            "Checksums matched!\n",
            "npm warn deprecated puppeteer@23.11.1: < 24.10.2 is no longer supported\n"
          ]
        }
      ]
    },
    {
      "cell_type": "code",
      "source": [
        "from pathlib import Path\n",
        "\n",
        "mmdc_path = Path(\"/content/mmdc_path.txt\").read_text().strip()\n",
        "print(\"✅ Mermaid CLI path:\", mmdc_path)"
      ],
      "metadata": {
        "colab": {
          "base_uri": "https://localhost:8080/"
        },
        "id": "CB2lR_0KNxtl",
        "outputId": "5c6a4e74-225f-459a-90dd-68d5c4e171dc"
      },
      "execution_count": 2,
      "outputs": [
        {
          "output_type": "stream",
          "name": "stdout",
          "text": [
            "✅ Mermaid CLI path: /root/.nvm/versions/node/v20.19.5/bin/mmdc\n"
          ]
        }
      ]
    },
    {
      "cell_type": "code",
      "source": [
        "mermaid_code = \"\"\"\n",
        "flowchart LR\n",
        "    A[Client/User] -->|JSON request| B[LLM Provider]\n",
        "    B -->|Response| A\n",
        "\"\"\"\n",
        "\n",
        "with open(\"diagram.mmd\", \"w\") as f:\n",
        "    f.write(mermaid_code)\n",
        "\n",
        "print(\"📄 Mermaid code written to diagram.mmd\")"
      ],
      "metadata": {
        "id": "LaYeEh5JxpNh",
        "colab": {
          "base_uri": "https://localhost:8080/"
        },
        "outputId": "902bf13f-9385-440a-efe9-81b91368d77e"
      },
      "execution_count": 3,
      "outputs": [
        {
          "output_type": "stream",
          "name": "stdout",
          "text": [
            "📄 Mermaid code written to diagram.mmd\n"
          ]
        }
      ]
    },
    {
      "cell_type": "markdown",
      "source": [
        "## Tracking down Puppeteer / Chromium errors\n",
        "\n",
        "When testing manually with ! --debug was not found so I tried the following command `! /root/.nvm/versions/node/v20.19.5/bin/mmdc -i diagram.mmd -o diagram.svg` and got the following error: `Generating single mermaid chart Error: Failed to launch the browser process!`\n",
        "\n",
        "### GPT5 explanation of error\n",
        "\n",
        "Running as root without --no-sandbox is not supported.\n",
        "This happens because:\n",
        "\n",
        "Google Colab runs everything as root\n",
        "\n",
        "Chromium (used by Puppeteer) refuses to run without the --no-sandbox flag when run as root (for security reasons)"
      ],
      "metadata": {
        "id": "gBUpBJHFP33Z"
      }
    },
    {
      "cell_type": "markdown",
      "source": [
        "✅ Solution: Use --puppeteerConfigFile with --no-sandbox\n",
        "\n",
        "We’ll now pass a JSON config file to Mermaid CLI that tells Puppeteer (Chromium) to run without sandboxing."
      ],
      "metadata": {
        "id": "Yok1335tP0uq"
      }
    },
    {
      "cell_type": "code",
      "source": [
        "with open(\"puppeteer-config.json\", \"w\") as f:\n",
        "    f.write(\"\"\"\n",
        "{\n",
        "  \"args\": [\"--no-sandbox\", \"--disable-setuid-sandbox\"]\n",
        "}\n",
        "\"\"\")\n",
        "print(\"✅ Puppeteer config saved\")"
      ],
      "metadata": {
        "colab": {
          "base_uri": "https://localhost:8080/"
        },
        "id": "kH1dWYL7PXYa",
        "outputId": "ab1feff3-2194-4ec1-a52f-09f49cc5eede"
      },
      "execution_count": 7,
      "outputs": [
        {
          "output_type": "stream",
          "name": "stdout",
          "text": [
            "✅ Puppeteer config saved\n"
          ]
        }
      ]
    },
    {
      "cell_type": "code",
      "source": [
        "import subprocess\n",
        "\n",
        "mmdc_path = \"/root/.nvm/versions/node/v20.19.5/bin/mmdc\"\n",
        "\n",
        "subprocess.run([\n",
        "    mmdc_path,\n",
        "    \"-i\", \"diagram.mmd\",\n",
        "    \"-o\", \"diagram.svg\",\n",
        "    \"--puppeteerConfigFile\", \"puppeteer-config.json\"\n",
        "], check=True)\n",
        "\n",
        "print(\"✅ Diagram generated\")"
      ],
      "metadata": {
        "colab": {
          "base_uri": "https://localhost:8080/"
        },
        "id": "h9X_aS2tPYj5",
        "outputId": "63ddfd58-4d6f-490f-d6a3-d4618eaf8abd"
      },
      "execution_count": 14,
      "outputs": [
        {
          "output_type": "stream",
          "name": "stdout",
          "text": [
            "✅ Diagram generated\n"
          ]
        }
      ]
    },
    {
      "cell_type": "code",
      "source": [
        "from IPython.display import SVG, display\n",
        "display(SVG(\"diagram.svg\"))"
      ],
      "metadata": {
        "colab": {
          "base_uri": "https://localhost:8080/",
          "height": 105
        },
        "id": "U5Py5z-9OVgZ",
        "outputId": "9085bbaf-c076-4f3d-df14-142249acbbbf"
      },
      "execution_count": 9,
      "outputs": [
        {
          "output_type": "display_data",
          "data": {
            "text/plain": [
              "<IPython.core.display.SVG object>"
            ],
            "image/svg+xml": "<svg xmlns=\"http://www.w3.org/2000/svg\" xmlns:xlink=\"http://www.w3.org/1999/xlink\" id=\"my-svg\" width=\"100%\" class=\"flowchart\" style=\"max-width: 460.781px; background-color: white;\" viewBox=\"0 0 460.78125 83.99342346191406\" role=\"graphics-document document\" aria-roledescription=\"flowchart-v2\"><style>#my-svg{font-family:&quot;trebuchet ms&quot;,verdana,arial,sans-serif;font-size:16px;fill:#333;}@keyframes edge-animation-frame{from{stroke-dashoffset:0;}}@keyframes dash{to{stroke-dashoffset:0;}}#my-svg .edge-animation-slow{stroke-dasharray:9,5!important;stroke-dashoffset:900;animation:dash 50s linear infinite;stroke-linecap:round;}#my-svg .edge-animation-fast{stroke-dasharray:9,5!important;stroke-dashoffset:900;animation:dash 20s linear infinite;stroke-linecap:round;}#my-svg .error-icon{fill:#552222;}#my-svg .error-text{fill:#552222;stroke:#552222;}#my-svg .edge-thickness-normal{stroke-width:1px;}#my-svg .edge-thickness-thick{stroke-width:3.5px;}#my-svg .edge-pattern-solid{stroke-dasharray:0;}#my-svg .edge-thickness-invisible{stroke-width:0;fill:none;}#my-svg .edge-pattern-dashed{stroke-dasharray:3;}#my-svg .edge-pattern-dotted{stroke-dasharray:2;}#my-svg .marker{fill:#333333;stroke:#333333;}#my-svg .marker.cross{stroke:#333333;}#my-svg svg{font-family:&quot;trebuchet ms&quot;,verdana,arial,sans-serif;font-size:16px;}#my-svg p{margin:0;}#my-svg .label{font-family:&quot;trebuchet ms&quot;,verdana,arial,sans-serif;color:#333;}#my-svg .cluster-label text{fill:#333;}#my-svg .cluster-label span{color:#333;}#my-svg .cluster-label span p{background-color:transparent;}#my-svg .label text,#my-svg span{fill:#333;color:#333;}#my-svg .node rect,#my-svg .node circle,#my-svg .node ellipse,#my-svg .node polygon,#my-svg .node path{fill:#ECECFF;stroke:#9370DB;stroke-width:1px;}#my-svg .rough-node .label text,#my-svg .node .label text,#my-svg .image-shape .label,#my-svg .icon-shape .label{text-anchor:middle;}#my-svg .node .katex path{fill:#000;stroke:#000;stroke-width:1px;}#my-svg .rough-node .label,#my-svg .node .label,#my-svg .image-shape .label,#my-svg .icon-shape .label{text-align:center;}#my-svg .node.clickable{cursor:pointer;}#my-svg .root .anchor path{fill:#333333!important;stroke-width:0;stroke:#333333;}#my-svg .arrowheadPath{fill:#333333;}#my-svg .edgePath .path{stroke:#333333;stroke-width:2.0px;}#my-svg .flowchart-link{stroke:#333333;fill:none;}#my-svg .edgeLabel{background-color:rgba(232,232,232, 0.8);text-align:center;}#my-svg .edgeLabel p{background-color:rgba(232,232,232, 0.8);}#my-svg .edgeLabel rect{opacity:0.5;background-color:rgba(232,232,232, 0.8);fill:rgba(232,232,232, 0.8);}#my-svg .labelBkg{background-color:rgba(232, 232, 232, 0.5);}#my-svg .cluster rect{fill:#ffffde;stroke:#aaaa33;stroke-width:1px;}#my-svg .cluster text{fill:#333;}#my-svg .cluster span{color:#333;}#my-svg div.mermaidTooltip{position:absolute;text-align:center;max-width:200px;padding:2px;font-family:&quot;trebuchet ms&quot;,verdana,arial,sans-serif;font-size:12px;background:hsl(80, 100%, 96.2745098039%);border:1px solid #aaaa33;border-radius:2px;pointer-events:none;z-index:100;}#my-svg .flowchartTitleText{text-anchor:middle;font-size:18px;fill:#333;}#my-svg rect.text{fill:none;stroke-width:0;}#my-svg .icon-shape,#my-svg .image-shape{background-color:rgba(232,232,232, 0.8);text-align:center;}#my-svg .icon-shape p,#my-svg .image-shape p{background-color:rgba(232,232,232, 0.8);padding:2px;}#my-svg .icon-shape rect,#my-svg .image-shape rect{opacity:0.5;background-color:rgba(232,232,232, 0.8);fill:rgba(232,232,232, 0.8);}#my-svg .label-icon{display:inline-block;height:1em;overflow:visible;vertical-align:-0.125em;}#my-svg .node .label-icon path{fill:currentColor;stroke:revert;stroke-width:revert;}#my-svg :root{--mermaid-font-family:&quot;trebuchet ms&quot;,verdana,arial,sans-serif;}</style><g><marker id=\"my-svg_flowchart-v2-pointEnd\" class=\"marker flowchart-v2\" viewBox=\"0 0 10 10\" refX=\"5\" refY=\"5\" markerUnits=\"userSpaceOnUse\" markerWidth=\"8\" markerHeight=\"8\" orient=\"auto\"><path d=\"M 0 0 L 10 5 L 0 10 z\" class=\"arrowMarkerPath\" style=\"stroke-width: 1; stroke-dasharray: 1, 0;\"/></marker><marker id=\"my-svg_flowchart-v2-pointStart\" class=\"marker flowchart-v2\" viewBox=\"0 0 10 10\" refX=\"4.5\" refY=\"5\" markerUnits=\"userSpaceOnUse\" markerWidth=\"8\" markerHeight=\"8\" orient=\"auto\"><path d=\"M 0 5 L 10 10 L 10 0 z\" class=\"arrowMarkerPath\" style=\"stroke-width: 1; stroke-dasharray: 1, 0;\"/></marker><marker id=\"my-svg_flowchart-v2-circleEnd\" class=\"marker flowchart-v2\" viewBox=\"0 0 10 10\" refX=\"11\" refY=\"5\" markerUnits=\"userSpaceOnUse\" markerWidth=\"11\" markerHeight=\"11\" orient=\"auto\"><circle cx=\"5\" cy=\"5\" r=\"5\" class=\"arrowMarkerPath\" style=\"stroke-width: 1; stroke-dasharray: 1, 0;\"/></marker><marker id=\"my-svg_flowchart-v2-circleStart\" class=\"marker flowchart-v2\" viewBox=\"0 0 10 10\" refX=\"-1\" refY=\"5\" markerUnits=\"userSpaceOnUse\" markerWidth=\"11\" markerHeight=\"11\" orient=\"auto\"><circle cx=\"5\" cy=\"5\" r=\"5\" class=\"arrowMarkerPath\" style=\"stroke-width: 1; stroke-dasharray: 1, 0;\"/></marker><marker id=\"my-svg_flowchart-v2-crossEnd\" class=\"marker cross flowchart-v2\" viewBox=\"0 0 11 11\" refX=\"12\" refY=\"5.2\" markerUnits=\"userSpaceOnUse\" markerWidth=\"11\" markerHeight=\"11\" orient=\"auto\"><path d=\"M 1,1 l 9,9 M 10,1 l -9,9\" class=\"arrowMarkerPath\" style=\"stroke-width: 2; stroke-dasharray: 1, 0;\"/></marker><marker id=\"my-svg_flowchart-v2-crossStart\" class=\"marker cross flowchart-v2\" viewBox=\"0 0 11 11\" refX=\"-1\" refY=\"5.2\" markerUnits=\"userSpaceOnUse\" markerWidth=\"11\" markerHeight=\"11\" orient=\"auto\"><path d=\"M 1,1 l 9,9 M 10,1 l -9,9\" class=\"arrowMarkerPath\" style=\"stroke-width: 2; stroke-dasharray: 1, 0;\"/></marker><g class=\"root\"><g class=\"clusters\"/><g class=\"edgePaths\"><path d=\"M147.141,31.431L159.681,29.526C172.221,27.621,197.302,23.81,221.723,23.615C246.144,23.421,269.905,26.841,281.785,28.552L293.666,30.262\" id=\"L_A_B_0\" class=\"edge-thickness-normal edge-pattern-solid edge-thickness-normal edge-pattern-solid flowchart-link\" style=\";\" data-edge=\"true\" data-et=\"edge\" data-id=\"L_A_B_0\" data-points=\"W3sieCI6MTQ3LjE0MDYyNSwieSI6MzEuNDMwODM3Mjg5NTk4NjJ9LHsieCI6MjIyLjM4MjgxMjUsInkiOjIwfSx7IngiOjI5Ny42MjUsInkiOjMwLjgzMTg1OTMxMTg5NjExOH1d\" marker-end=\"url(#my-svg_flowchart-v2-pointEnd)\"/><path d=\"M297.625,53.168L285.085,54.973C272.544,56.779,247.464,60.389,223.042,60.39C198.62,60.39,174.858,56.78,162.977,54.975L151.095,53.17\" id=\"L_B_A_0\" class=\"edge-thickness-normal edge-pattern-solid edge-thickness-normal edge-pattern-solid flowchart-link\" style=\";\" data-edge=\"true\" data-et=\"edge\" data-id=\"L_B_A_0\" data-points=\"W3sieCI6Mjk3LjYyNSwieSI6NTMuMTY4MTQwNjg4MTAzODh9LHsieCI6MjIyLjM4MjgxMjUsInkiOjY0fSx7IngiOjE0Ny4xNDA2MjUsInkiOjUyLjU2OTE2MjcxMDQwMTM4fV0=\" marker-end=\"url(#my-svg_flowchart-v2-pointEnd)\"/></g><g class=\"edgeLabels\"><g class=\"edgeLabel\" transform=\"translate(222.3828125, 20)\"><g class=\"label\" data-id=\"L_A_B_0\" transform=\"translate(-50.2421875, -12)\"><foreignObject width=\"100.484375\" height=\"24\"><div xmlns=\"http://www.w3.org/1999/xhtml\" class=\"labelBkg\" style=\"display: table-cell; white-space: nowrap; line-height: 1.5; max-width: 200px; text-align: center;\"><span class=\"edgeLabel\"><p>JSON request</p></span></div></foreignObject></g></g><g class=\"edgeLabel\" transform=\"translate(222.33948, 63.99342)\"><g class=\"label\" data-id=\"L_B_A_0\" transform=\"translate(-36.0234375, -12)\"><foreignObject width=\"72.046875\" height=\"24\"><div xmlns=\"http://www.w3.org/1999/xhtml\" class=\"labelBkg\" style=\"display: table-cell; white-space: nowrap; line-height: 1.5; max-width: 200px; text-align: center;\"><span class=\"edgeLabel\"><p>Response</p></span></div></foreignObject></g></g></g><g class=\"nodes\"><g class=\"node default\" id=\"flowchart-A-0\" transform=\"translate(77.5703125, 42)\"><rect class=\"basic label-container\" style=\"\" x=\"-69.5703125\" y=\"-27\" width=\"139.140625\" height=\"54\"/><g class=\"label\" style=\"\" transform=\"translate(-39.5703125, -12)\"><rect/><foreignObject width=\"79.140625\" height=\"24\"><div xmlns=\"http://www.w3.org/1999/xhtml\" style=\"display: table-cell; white-space: nowrap; line-height: 1.5; max-width: 200px; text-align: center;\"><span class=\"nodeLabel\"><p>Client/User</p></span></div></foreignObject></g></g><g class=\"node default\" id=\"flowchart-B-1\" transform=\"translate(375.203125, 42)\"><rect class=\"basic label-container\" style=\"\" x=\"-77.578125\" y=\"-27\" width=\"155.15625\" height=\"54\"/><g class=\"label\" style=\"\" transform=\"translate(-47.578125, -12)\"><rect/><foreignObject width=\"95.15625\" height=\"24\"><div xmlns=\"http://www.w3.org/1999/xhtml\" style=\"display: table-cell; white-space: nowrap; line-height: 1.5; max-width: 200px; text-align: center;\"><span class=\"nodeLabel\"><p>LLM Provider</p></span></div></foreignObject></g></g></g></g></g></svg>"
          },
          "metadata": {}
        }
      ]
    },
    {
      "cell_type": "markdown",
      "source": [
        "## Function to save text as mermaid file"
      ],
      "metadata": {
        "id": "R3EGBA1cSB85"
      }
    },
    {
      "cell_type": "code",
      "source": [
        "from pathlib import Path\n",
        "\n",
        "def save_mermaid_code(code: str, filename: str, encoding: str = \"utf-8\") -> Path:\n",
        "    \"\"\"\n",
        "    Saves a Mermaid.js code string to a .mmd file.\n",
        "\n",
        "    Args:\n",
        "        code (str): The Mermaid diagram code.\n",
        "        filename (str): The path to the file to write.\n",
        "        encoding (str): Text encoding (default: 'utf-8').\n",
        "\n",
        "    Returns:\n",
        "        Path: The path to the saved file.\n",
        "    \"\"\"\n",
        "    path = Path(filename)\n",
        "    path.parent.mkdir(parents=True, exist_ok=True)\n",
        "    path.write_text(code.strip(), encoding=encoding)\n",
        "    print(f\"✅ Mermaid code saved to {path.resolve()}\")\n",
        "    return path"
      ],
      "metadata": {
        "id": "f6pvJb2USEog"
      },
      "execution_count": 11,
      "outputs": []
    },
    {
      "cell_type": "code",
      "source": [
        "mermaid_code = \"\"\"\n",
        "flowchart TD\n",
        "    A[Start in Google Colab] --> B[Install NVM via bash]\n",
        "    B --> C[Install Node.js 20 with NVM]\n",
        "    C --> D[Install Mermaid CLI via npm]\n",
        "    D --> E[Save mmdc path to file ]\n",
        "    E --> F[Write Mermaid diagram to diagram.mmd]\n",
        "    F --> G[Create puppeteer-config.json with --no-sandbox]\n",
        "    G --> H[Run mmdc using Python subprocess]\n",
        "    H --> I[\"Render SVG in notebook with display(SVG())\"]\n",
        "    I --> Z[\"✅<br/>Done<br/>!!\"]\n",
        "\"\"\"\n",
        "### Note how in H --> I line we have to escape the text which contains parenthesis due to how mermaid treats those as code\n",
        "# The problem is: display(SVG()) includes parentheses and dots, which Mermaid's parser interprets as syntax elements — not literal text.\n",
        "save_mermaid_code(mermaid_code, \"how_to_mermaid_in_colab.mmd\")"
      ],
      "metadata": {
        "colab": {
          "base_uri": "https://localhost:8080/"
        },
        "id": "YyoMlaLHSFtX",
        "outputId": "221c7024-177f-4a54-b77b-9be6c0528115"
      },
      "execution_count": 36,
      "outputs": [
        {
          "output_type": "stream",
          "name": "stdout",
          "text": [
            "✅ Mermaid code saved to /content/how_to_mermaid_in_colab.mmd\n"
          ]
        },
        {
          "output_type": "execute_result",
          "data": {
            "text/plain": [
              "PosixPath('how_to_mermaid_in_colab.mmd')"
            ]
          },
          "metadata": {},
          "execution_count": 36
        }
      ]
    },
    {
      "cell_type": "markdown",
      "source": [
        "## Function to render and display mermaid from colab"
      ],
      "metadata": {
        "id": "zwzKU67wRW5x"
      }
    },
    {
      "cell_type": "code",
      "source": [
        "import subprocess\n",
        "from pathlib import Path\n",
        "from IPython.display import SVG, display\n",
        "\n",
        "def render_mermaid_diagram(\n",
        "    mmd_path: str,\n",
        "    mmdc_path: str = \"/root/.nvm/versions/node/v20.19.5/bin/mmdc\",\n",
        "    output_file: str = None,\n",
        "    puppeteer_config: str = \"puppeteer-config.json\",\n",
        "    show_svg: bool = True\n",
        "):\n",
        "    mmd_path = Path(mmd_path)\n",
        "\n",
        "    if not output_file:\n",
        "        output_file = mmd_path.with_suffix(\".svg\")\n",
        "    else:\n",
        "        output_file = Path(output_file)\n",
        "\n",
        "    # Check if puppeteer config exists\n",
        "    if not Path(puppeteer_config).exists():\n",
        "        raise FileNotFoundError(f\"Puppeteer config file not found: {puppeteer_config}\")\n",
        "\n",
        "    print(f\"📄 Rendering {mmd_path.name} → {output_file.name} using mmdc...\")\n",
        "\n",
        "    subprocess.run([\n",
        "        mmdc_path,\n",
        "        \"-i\", str(mmd_path),\n",
        "        \"-o\", str(output_file),\n",
        "        \"--puppeteerConfigFile\", puppeteer_config\n",
        "    ], check=True)\n",
        "\n",
        "    print(f\"✅ Diagram saved as {output_file}\")\n",
        "\n",
        "    if show_svg:\n",
        "        display(SVG(filename=str(output_file)))\n"
      ],
      "metadata": {
        "id": "iQ7GnBHFRVAB"
      },
      "execution_count": 31,
      "outputs": []
    },
    {
      "cell_type": "code",
      "source": [
        "# now let's display how_to_mermaid_in_colab\n",
        "render_mermaid_diagram(\n",
        "    \"how_to_mermaid_in_colab.mmd\"\n",
        ")"
      ],
      "metadata": {
        "colab": {
          "base_uri": "https://localhost:8080/",
          "height": 1000
        },
        "id": "oUXUBIQ1SRfg",
        "outputId": "a936b377-4beb-4cfb-8bb7-b42f23d3e1f0"
      },
      "execution_count": 37,
      "outputs": [
        {
          "output_type": "stream",
          "name": "stdout",
          "text": [
            "📄 Rendering how_to_mermaid_in_colab.mmd → how_to_mermaid_in_colab.svg using mmdc...\n",
            "✅ Diagram saved as how_to_mermaid_in_colab.svg\n"
          ]
        },
        {
          "output_type": "display_data",
          "data": {
            "text/plain": [
              "<IPython.core.display.SVG object>"
            ],
            "image/svg+xml": "<svg xmlns=\"http://www.w3.org/2000/svg\" xmlns:xlink=\"http://www.w3.org/1999/xlink\" id=\"my-svg\" width=\"100%\" class=\"flowchart\" style=\"max-width: 276px; background-color: white;\" viewBox=\"0 0 276 1174\" role=\"graphics-document document\" aria-roledescription=\"flowchart-v2\"><style>#my-svg{font-family:&quot;trebuchet ms&quot;,verdana,arial,sans-serif;font-size:16px;fill:#333;}@keyframes edge-animation-frame{from{stroke-dashoffset:0;}}@keyframes dash{to{stroke-dashoffset:0;}}#my-svg .edge-animation-slow{stroke-dasharray:9,5!important;stroke-dashoffset:900;animation:dash 50s linear infinite;stroke-linecap:round;}#my-svg .edge-animation-fast{stroke-dasharray:9,5!important;stroke-dashoffset:900;animation:dash 20s linear infinite;stroke-linecap:round;}#my-svg .error-icon{fill:#552222;}#my-svg .error-text{fill:#552222;stroke:#552222;}#my-svg .edge-thickness-normal{stroke-width:1px;}#my-svg .edge-thickness-thick{stroke-width:3.5px;}#my-svg .edge-pattern-solid{stroke-dasharray:0;}#my-svg .edge-thickness-invisible{stroke-width:0;fill:none;}#my-svg .edge-pattern-dashed{stroke-dasharray:3;}#my-svg .edge-pattern-dotted{stroke-dasharray:2;}#my-svg .marker{fill:#333333;stroke:#333333;}#my-svg .marker.cross{stroke:#333333;}#my-svg svg{font-family:&quot;trebuchet ms&quot;,verdana,arial,sans-serif;font-size:16px;}#my-svg p{margin:0;}#my-svg .label{font-family:&quot;trebuchet ms&quot;,verdana,arial,sans-serif;color:#333;}#my-svg .cluster-label text{fill:#333;}#my-svg .cluster-label span{color:#333;}#my-svg .cluster-label span p{background-color:transparent;}#my-svg .label text,#my-svg span{fill:#333;color:#333;}#my-svg .node rect,#my-svg .node circle,#my-svg .node ellipse,#my-svg .node polygon,#my-svg .node path{fill:#ECECFF;stroke:#9370DB;stroke-width:1px;}#my-svg .rough-node .label text,#my-svg .node .label text,#my-svg .image-shape .label,#my-svg .icon-shape .label{text-anchor:middle;}#my-svg .node .katex path{fill:#000;stroke:#000;stroke-width:1px;}#my-svg .rough-node .label,#my-svg .node .label,#my-svg .image-shape .label,#my-svg .icon-shape .label{text-align:center;}#my-svg .node.clickable{cursor:pointer;}#my-svg .root .anchor path{fill:#333333!important;stroke-width:0;stroke:#333333;}#my-svg .arrowheadPath{fill:#333333;}#my-svg .edgePath .path{stroke:#333333;stroke-width:2.0px;}#my-svg .flowchart-link{stroke:#333333;fill:none;}#my-svg .edgeLabel{background-color:rgba(232,232,232, 0.8);text-align:center;}#my-svg .edgeLabel p{background-color:rgba(232,232,232, 0.8);}#my-svg .edgeLabel rect{opacity:0.5;background-color:rgba(232,232,232, 0.8);fill:rgba(232,232,232, 0.8);}#my-svg .labelBkg{background-color:rgba(232, 232, 232, 0.5);}#my-svg .cluster rect{fill:#ffffde;stroke:#aaaa33;stroke-width:1px;}#my-svg .cluster text{fill:#333;}#my-svg .cluster span{color:#333;}#my-svg div.mermaidTooltip{position:absolute;text-align:center;max-width:200px;padding:2px;font-family:&quot;trebuchet ms&quot;,verdana,arial,sans-serif;font-size:12px;background:hsl(80, 100%, 96.2745098039%);border:1px solid #aaaa33;border-radius:2px;pointer-events:none;z-index:100;}#my-svg .flowchartTitleText{text-anchor:middle;font-size:18px;fill:#333;}#my-svg rect.text{fill:none;stroke-width:0;}#my-svg .icon-shape,#my-svg .image-shape{background-color:rgba(232,232,232, 0.8);text-align:center;}#my-svg .icon-shape p,#my-svg .image-shape p{background-color:rgba(232,232,232, 0.8);padding:2px;}#my-svg .icon-shape rect,#my-svg .image-shape rect{opacity:0.5;background-color:rgba(232,232,232, 0.8);fill:rgba(232,232,232, 0.8);}#my-svg .label-icon{display:inline-block;height:1em;overflow:visible;vertical-align:-0.125em;}#my-svg .node .label-icon path{fill:currentColor;stroke:revert;stroke-width:revert;}#my-svg :root{--mermaid-font-family:&quot;trebuchet ms&quot;,verdana,arial,sans-serif;}</style><g><marker id=\"my-svg_flowchart-v2-pointEnd\" class=\"marker flowchart-v2\" viewBox=\"0 0 10 10\" refX=\"5\" refY=\"5\" markerUnits=\"userSpaceOnUse\" markerWidth=\"8\" markerHeight=\"8\" orient=\"auto\"><path d=\"M 0 0 L 10 5 L 0 10 z\" class=\"arrowMarkerPath\" style=\"stroke-width: 1; stroke-dasharray: 1, 0;\"/></marker><marker id=\"my-svg_flowchart-v2-pointStart\" class=\"marker flowchart-v2\" viewBox=\"0 0 10 10\" refX=\"4.5\" refY=\"5\" markerUnits=\"userSpaceOnUse\" markerWidth=\"8\" markerHeight=\"8\" orient=\"auto\"><path d=\"M 0 5 L 10 10 L 10 0 z\" class=\"arrowMarkerPath\" style=\"stroke-width: 1; stroke-dasharray: 1, 0;\"/></marker><marker id=\"my-svg_flowchart-v2-circleEnd\" class=\"marker flowchart-v2\" viewBox=\"0 0 10 10\" refX=\"11\" refY=\"5\" markerUnits=\"userSpaceOnUse\" markerWidth=\"11\" markerHeight=\"11\" orient=\"auto\"><circle cx=\"5\" cy=\"5\" r=\"5\" class=\"arrowMarkerPath\" style=\"stroke-width: 1; stroke-dasharray: 1, 0;\"/></marker><marker id=\"my-svg_flowchart-v2-circleStart\" class=\"marker flowchart-v2\" viewBox=\"0 0 10 10\" refX=\"-1\" refY=\"5\" markerUnits=\"userSpaceOnUse\" markerWidth=\"11\" markerHeight=\"11\" orient=\"auto\"><circle cx=\"5\" cy=\"5\" r=\"5\" class=\"arrowMarkerPath\" style=\"stroke-width: 1; stroke-dasharray: 1, 0;\"/></marker><marker id=\"my-svg_flowchart-v2-crossEnd\" class=\"marker cross flowchart-v2\" viewBox=\"0 0 11 11\" refX=\"12\" refY=\"5.2\" markerUnits=\"userSpaceOnUse\" markerWidth=\"11\" markerHeight=\"11\" orient=\"auto\"><path d=\"M 1,1 l 9,9 M 10,1 l -9,9\" class=\"arrowMarkerPath\" style=\"stroke-width: 2; stroke-dasharray: 1, 0;\"/></marker><marker id=\"my-svg_flowchart-v2-crossStart\" class=\"marker cross flowchart-v2\" viewBox=\"0 0 11 11\" refX=\"-1\" refY=\"5.2\" markerUnits=\"userSpaceOnUse\" markerWidth=\"11\" markerHeight=\"11\" orient=\"auto\"><path d=\"M 1,1 l 9,9 M 10,1 l -9,9\" class=\"arrowMarkerPath\" style=\"stroke-width: 2; stroke-dasharray: 1, 0;\"/></marker><g class=\"root\"><g class=\"clusters\"/><g class=\"edgePaths\"><path d=\"M138,62L138,66.167C138,70.333,138,78.667,138,86.333C138,94,138,101,138,104.5L138,108\" id=\"L_A_B_0\" class=\"edge-thickness-normal edge-pattern-solid edge-thickness-normal edge-pattern-solid flowchart-link\" style=\";\" data-edge=\"true\" data-et=\"edge\" data-id=\"L_A_B_0\" data-points=\"W3sieCI6MTM4LCJ5Ijo2Mn0seyJ4IjoxMzgsInkiOjg3fSx7IngiOjEzOCwieSI6MTEyfV0=\" marker-end=\"url(#my-svg_flowchart-v2-pointEnd)\"/><path d=\"M138,166L138,170.167C138,174.333,138,182.667,138,190.333C138,198,138,205,138,208.5L138,212\" id=\"L_B_C_0\" class=\"edge-thickness-normal edge-pattern-solid edge-thickness-normal edge-pattern-solid flowchart-link\" style=\";\" data-edge=\"true\" data-et=\"edge\" data-id=\"L_B_C_0\" data-points=\"W3sieCI6MTM4LCJ5IjoxNjZ9LHsieCI6MTM4LCJ5IjoxOTF9LHsieCI6MTM4LCJ5IjoyMTZ9XQ==\" marker-end=\"url(#my-svg_flowchart-v2-pointEnd)\"/><path d=\"M138,270L138,274.167C138,278.333,138,286.667,138,294.333C138,302,138,309,138,312.5L138,316\" id=\"L_C_D_0\" class=\"edge-thickness-normal edge-pattern-solid edge-thickness-normal edge-pattern-solid flowchart-link\" style=\";\" data-edge=\"true\" data-et=\"edge\" data-id=\"L_C_D_0\" data-points=\"W3sieCI6MTM4LCJ5IjoyNzB9LHsieCI6MTM4LCJ5IjoyOTV9LHsieCI6MTM4LCJ5IjozMjB9XQ==\" marker-end=\"url(#my-svg_flowchart-v2-pointEnd)\"/><path d=\"M138,374L138,378.167C138,382.333,138,390.667,138,398.333C138,406,138,413,138,416.5L138,420\" id=\"L_D_E_0\" class=\"edge-thickness-normal edge-pattern-solid edge-thickness-normal edge-pattern-solid flowchart-link\" style=\";\" data-edge=\"true\" data-et=\"edge\" data-id=\"L_D_E_0\" data-points=\"W3sieCI6MTM4LCJ5IjozNzR9LHsieCI6MTM4LCJ5IjozOTl9LHsieCI6MTM4LCJ5Ijo0MjR9XQ==\" marker-end=\"url(#my-svg_flowchart-v2-pointEnd)\"/><path d=\"M138,478L138,482.167C138,486.333,138,494.667,138,502.333C138,510,138,517,138,520.5L138,524\" id=\"L_E_F_0\" class=\"edge-thickness-normal edge-pattern-solid edge-thickness-normal edge-pattern-solid flowchart-link\" style=\";\" data-edge=\"true\" data-et=\"edge\" data-id=\"L_E_F_0\" data-points=\"W3sieCI6MTM4LCJ5Ijo0Nzh9LHsieCI6MTM4LCJ5Ijo1MDN9LHsieCI6MTM4LCJ5Ijo1Mjh9XQ==\" marker-end=\"url(#my-svg_flowchart-v2-pointEnd)\"/><path d=\"M138,606L138,610.167C138,614.333,138,622.667,138,630.333C138,638,138,645,138,648.5L138,652\" id=\"L_F_G_0\" class=\"edge-thickness-normal edge-pattern-solid edge-thickness-normal edge-pattern-solid flowchart-link\" style=\";\" data-edge=\"true\" data-et=\"edge\" data-id=\"L_F_G_0\" data-points=\"W3sieCI6MTM4LCJ5Ijo2MDZ9LHsieCI6MTM4LCJ5Ijo2MzF9LHsieCI6MTM4LCJ5Ijo2NTZ9XQ==\" marker-end=\"url(#my-svg_flowchart-v2-pointEnd)\"/><path d=\"M138,758L138,762.167C138,766.333,138,774.667,138,782.333C138,790,138,797,138,800.5L138,804\" id=\"L_G_H_0\" class=\"edge-thickness-normal edge-pattern-solid edge-thickness-normal edge-pattern-solid flowchart-link\" style=\";\" data-edge=\"true\" data-et=\"edge\" data-id=\"L_G_H_0\" data-points=\"W3sieCI6MTM4LCJ5Ijo3NTh9LHsieCI6MTM4LCJ5Ijo3ODN9LHsieCI6MTM4LCJ5Ijo4MDh9XQ==\" marker-end=\"url(#my-svg_flowchart-v2-pointEnd)\"/><path d=\"M138,886L138,890.167C138,894.333,138,902.667,138,910.333C138,918,138,925,138,928.5L138,932\" id=\"L_H_I_0\" class=\"edge-thickness-normal edge-pattern-solid edge-thickness-normal edge-pattern-solid flowchart-link\" style=\";\" data-edge=\"true\" data-et=\"edge\" data-id=\"L_H_I_0\" data-points=\"W3sieCI6MTM4LCJ5Ijo4ODZ9LHsieCI6MTM4LCJ5Ijo5MTF9LHsieCI6MTM4LCJ5Ijo5MzZ9XQ==\" marker-end=\"url(#my-svg_flowchart-v2-pointEnd)\"/><path d=\"M138,1014L138,1018.167C138,1022.333,138,1030.667,138,1038.333C138,1046,138,1053,138,1056.5L138,1060\" id=\"L_I_Z_0\" class=\"edge-thickness-normal edge-pattern-solid edge-thickness-normal edge-pattern-solid flowchart-link\" style=\";\" data-edge=\"true\" data-et=\"edge\" data-id=\"L_I_Z_0\" data-points=\"W3sieCI6MTM4LCJ5IjoxMDE0fSx7IngiOjEzOCwieSI6MTAzOX0seyJ4IjoxMzgsInkiOjEwNjR9XQ==\" marker-end=\"url(#my-svg_flowchart-v2-pointEnd)\"/></g><g class=\"edgeLabels\"><g class=\"edgeLabel\"><g class=\"label\" data-id=\"L_A_B_0\" transform=\"translate(0, 0)\"><foreignObject width=\"0\" height=\"0\"><div xmlns=\"http://www.w3.org/1999/xhtml\" class=\"labelBkg\" style=\"display: table-cell; white-space: nowrap; line-height: 1.5; max-width: 200px; text-align: center;\"><span class=\"edgeLabel\"/></div></foreignObject></g></g><g class=\"edgeLabel\"><g class=\"label\" data-id=\"L_B_C_0\" transform=\"translate(0, 0)\"><foreignObject width=\"0\" height=\"0\"><div xmlns=\"http://www.w3.org/1999/xhtml\" class=\"labelBkg\" style=\"display: table-cell; white-space: nowrap; line-height: 1.5; max-width: 200px; text-align: center;\"><span class=\"edgeLabel\"/></div></foreignObject></g></g><g class=\"edgeLabel\"><g class=\"label\" data-id=\"L_C_D_0\" transform=\"translate(0, 0)\"><foreignObject width=\"0\" height=\"0\"><div xmlns=\"http://www.w3.org/1999/xhtml\" class=\"labelBkg\" style=\"display: table-cell; white-space: nowrap; line-height: 1.5; max-width: 200px; text-align: center;\"><span class=\"edgeLabel\"/></div></foreignObject></g></g><g class=\"edgeLabel\"><g class=\"label\" data-id=\"L_D_E_0\" transform=\"translate(0, 0)\"><foreignObject width=\"0\" height=\"0\"><div xmlns=\"http://www.w3.org/1999/xhtml\" class=\"labelBkg\" style=\"display: table-cell; white-space: nowrap; line-height: 1.5; max-width: 200px; text-align: center;\"><span class=\"edgeLabel\"/></div></foreignObject></g></g><g class=\"edgeLabel\"><g class=\"label\" data-id=\"L_E_F_0\" transform=\"translate(0, 0)\"><foreignObject width=\"0\" height=\"0\"><div xmlns=\"http://www.w3.org/1999/xhtml\" class=\"labelBkg\" style=\"display: table-cell; white-space: nowrap; line-height: 1.5; max-width: 200px; text-align: center;\"><span class=\"edgeLabel\"/></div></foreignObject></g></g><g class=\"edgeLabel\"><g class=\"label\" data-id=\"L_F_G_0\" transform=\"translate(0, 0)\"><foreignObject width=\"0\" height=\"0\"><div xmlns=\"http://www.w3.org/1999/xhtml\" class=\"labelBkg\" style=\"display: table-cell; white-space: nowrap; line-height: 1.5; max-width: 200px; text-align: center;\"><span class=\"edgeLabel\"/></div></foreignObject></g></g><g class=\"edgeLabel\"><g class=\"label\" data-id=\"L_G_H_0\" transform=\"translate(0, 0)\"><foreignObject width=\"0\" height=\"0\"><div xmlns=\"http://www.w3.org/1999/xhtml\" class=\"labelBkg\" style=\"display: table-cell; white-space: nowrap; line-height: 1.5; max-width: 200px; text-align: center;\"><span class=\"edgeLabel\"/></div></foreignObject></g></g><g class=\"edgeLabel\"><g class=\"label\" data-id=\"L_H_I_0\" transform=\"translate(0, 0)\"><foreignObject width=\"0\" height=\"0\"><div xmlns=\"http://www.w3.org/1999/xhtml\" class=\"labelBkg\" style=\"display: table-cell; white-space: nowrap; line-height: 1.5; max-width: 200px; text-align: center;\"><span class=\"edgeLabel\"/></div></foreignObject></g></g><g class=\"edgeLabel\"><g class=\"label\" data-id=\"L_I_Z_0\" transform=\"translate(0, 0)\"><foreignObject width=\"0\" height=\"0\"><div xmlns=\"http://www.w3.org/1999/xhtml\" class=\"labelBkg\" style=\"display: table-cell; white-space: nowrap; line-height: 1.5; max-width: 200px; text-align: center;\"><span class=\"edgeLabel\"/></div></foreignObject></g></g></g><g class=\"nodes\"><g class=\"node default\" id=\"flowchart-A-0\" transform=\"translate(138, 35)\"><rect class=\"basic label-container\" style=\"\" x=\"-106.4921875\" y=\"-27\" width=\"212.984375\" height=\"54\"/><g class=\"label\" style=\"\" transform=\"translate(-76.4921875, -12)\"><rect/><foreignObject width=\"152.984375\" height=\"24\"><div xmlns=\"http://www.w3.org/1999/xhtml\" style=\"display: table-cell; white-space: nowrap; line-height: 1.5; max-width: 200px; text-align: center;\"><span class=\"nodeLabel\"><p>Start in Google Colab</p></span></div></foreignObject></g></g><g class=\"node default\" id=\"flowchart-B-1\" transform=\"translate(138, 139)\"><rect class=\"basic label-container\" style=\"\" x=\"-102.921875\" y=\"-27\" width=\"205.84375\" height=\"54\"/><g class=\"label\" style=\"\" transform=\"translate(-72.921875, -12)\"><rect/><foreignObject width=\"145.84375\" height=\"24\"><div xmlns=\"http://www.w3.org/1999/xhtml\" style=\"display: table-cell; white-space: nowrap; line-height: 1.5; max-width: 200px; text-align: center;\"><span class=\"nodeLabel\"><p>Install NVM via bash</p></span></div></foreignObject></g></g><g class=\"node default\" id=\"flowchart-C-3\" transform=\"translate(138, 243)\"><rect class=\"basic label-container\" style=\"\" x=\"-127.8203125\" y=\"-27\" width=\"255.640625\" height=\"54\"/><g class=\"label\" style=\"\" transform=\"translate(-97.8203125, -12)\"><rect/><foreignObject width=\"195.640625\" height=\"24\"><div xmlns=\"http://www.w3.org/1999/xhtml\" style=\"display: table-cell; white-space: nowrap; line-height: 1.5; max-width: 200px; text-align: center;\"><span class=\"nodeLabel\"><p>Install Node.js 20 with NVM</p></span></div></foreignObject></g></g><g class=\"node default\" id=\"flowchart-D-5\" transform=\"translate(138, 347)\"><rect class=\"basic label-container\" style=\"\" x=\"-129.1484375\" y=\"-27\" width=\"258.296875\" height=\"54\"/><g class=\"label\" style=\"\" transform=\"translate(-99.1484375, -12)\"><rect/><foreignObject width=\"198.296875\" height=\"24\"><div xmlns=\"http://www.w3.org/1999/xhtml\" style=\"display: table-cell; white-space: nowrap; line-height: 1.5; max-width: 200px; text-align: center;\"><span class=\"nodeLabel\"><p>Install Mermaid CLI via npm</p></span></div></foreignObject></g></g><g class=\"node default\" id=\"flowchart-E-7\" transform=\"translate(138, 451)\"><rect class=\"basic label-container\" style=\"\" x=\"-111.375\" y=\"-27\" width=\"222.75\" height=\"54\"/><g class=\"label\" style=\"\" transform=\"translate(-81.375, -12)\"><rect/><foreignObject width=\"162.75\" height=\"24\"><div xmlns=\"http://www.w3.org/1999/xhtml\" style=\"display: table-cell; white-space: nowrap; line-height: 1.5; max-width: 200px; text-align: center;\"><span class=\"nodeLabel\"><p>Save mmdc path to file</p></span></div></foreignObject></g></g><g class=\"node default\" id=\"flowchart-F-9\" transform=\"translate(138, 567)\"><rect class=\"basic label-container\" style=\"\" x=\"-130\" y=\"-39\" width=\"260\" height=\"78\"/><g class=\"label\" style=\"\" transform=\"translate(-100, -24)\"><rect/><foreignObject width=\"200\" height=\"48\"><div xmlns=\"http://www.w3.org/1999/xhtml\" style=\"display: table; white-space: break-spaces; line-height: 1.5; max-width: 200px; text-align: center; width: 200px;\"><span class=\"nodeLabel\"><p>Write Mermaid diagram to diagram.mmd</p></span></div></foreignObject></g></g><g class=\"node default\" id=\"flowchart-G-11\" transform=\"translate(138, 707)\"><rect class=\"basic label-container\" style=\"\" x=\"-130\" y=\"-51\" width=\"260\" height=\"102\"/><g class=\"label\" style=\"\" transform=\"translate(-100, -36)\"><rect/><foreignObject width=\"200\" height=\"72\"><div xmlns=\"http://www.w3.org/1999/xhtml\" style=\"display: table; white-space: break-spaces; line-height: 1.5; max-width: 200px; text-align: center; width: 200px;\"><span class=\"nodeLabel\"><p>Create puppeteer-config.json with --no-sandbox</p></span></div></foreignObject></g></g><g class=\"node default\" id=\"flowchart-H-13\" transform=\"translate(138, 847)\"><rect class=\"basic label-container\" style=\"\" x=\"-130\" y=\"-39\" width=\"260\" height=\"78\"/><g class=\"label\" style=\"\" transform=\"translate(-100, -24)\"><rect/><foreignObject width=\"200\" height=\"48\"><div xmlns=\"http://www.w3.org/1999/xhtml\" style=\"display: table; white-space: break-spaces; line-height: 1.5; max-width: 200px; text-align: center; width: 200px;\"><span class=\"nodeLabel\"><p>Run mmdc using Python subprocess</p></span></div></foreignObject></g></g><g class=\"node default\" id=\"flowchart-I-15\" transform=\"translate(138, 975)\"><rect class=\"basic label-container\" style=\"\" x=\"-130\" y=\"-39\" width=\"260\" height=\"78\"/><g class=\"label\" style=\"\" transform=\"translate(-100, -24)\"><rect/><foreignObject width=\"200\" height=\"48\"><div xmlns=\"http://www.w3.org/1999/xhtml\" style=\"display: table; white-space: break-spaces; line-height: 1.5; max-width: 200px; text-align: center; width: 200px;\"><span class=\"nodeLabel\"><p>Render SVG in notebook with display(SVG())</p></span></div></foreignObject></g></g><g class=\"node default\" id=\"flowchart-Z-17\" transform=\"translate(138, 1115)\"><rect class=\"basic label-container\" style=\"\" x=\"-49.125\" y=\"-51\" width=\"98.25\" height=\"102\"/><g class=\"label\" style=\"\" transform=\"translate(-19.125, -36)\"><rect/><foreignObject width=\"38.25\" height=\"72\"><div xmlns=\"http://www.w3.org/1999/xhtml\" style=\"display: table-cell; white-space: nowrap; line-height: 1.5; max-width: 200px; text-align: center;\"><span class=\"nodeLabel\"><p>✅<br/>Done<br/>!!</p></span></div></foreignObject></g></g></g></g></g></svg>"
          },
          "metadata": {}
        }
      ]
    }
  ]
}
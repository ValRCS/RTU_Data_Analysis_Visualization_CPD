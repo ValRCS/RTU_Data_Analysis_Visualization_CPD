{
  "nbformat": 4,
  "nbformat_minor": 0,
  "metadata": {
    "colab": {
      "provenance": [],
      "authorship_tag": "ABX9TyO49j0b4pOM2L6RayPd4yp0",
      "include_colab_link": true
    },
    "kernelspec": {
      "name": "python3",
      "display_name": "Python 3"
    },
    "language_info": {
      "name": "python"
    }
  },
  "cells": [
    {
      "cell_type": "markdown",
      "metadata": {
        "id": "view-in-github",
        "colab_type": "text"
      },
      "source": [
        "<a href=\"https://colab.research.google.com/github/ValRCS/RTU_Data_Analysis_Visualization_CPD/blob/main/notebooks/mermaid_visualizations.ipynb\" target=\"_parent\"><img src=\"https://colab.research.google.com/assets/colab-badge.svg\" alt=\"Open In Colab\"/></a>"
      ]
    },
    {
      "cell_type": "markdown",
      "source": [
        "# Visualizations using mermaid.js\n",
        "\n",
        "Mermaid.js is a JavaScript-based diagramming and charting tool that renders markdown-inspired text definitions to create diagrams dynamically in the browser. It allows you to create various types of diagrams and visualizations using simple text syntax, such as flowcharts, sequence diagrams, class diagrams, state diagrams, entity relationship diagrams, user journey diagrams, Gantt charts, and pie charts.\n",
        "\n",
        "## Live Mermaid Examples\n",
        "\n",
        "https://mermaid.live/\n"
      ],
      "metadata": {
        "id": "wmwM2t8-qjDI"
      }
    },
    {
      "cell_type": "markdown",
      "source": [
        "## Jupyter Notebooks, Google Colab and Mermaid\n",
        "\n",
        "Using Mermaid on Jupyter notebooks is tricky because Mermaid is based on Javascript and usually requires Node (a server based Javascript) to run.\n",
        "\n",
        "As of September 2025 no \"easy\" plugin solution for Notebooks exists.\n",
        "\n",
        "However, we can still render and display the Mermaid charts by installing required software and using Python to call it.\n",
        "\n",
        "This is very error prone process as running Node through Colab can get messy"
      ],
      "metadata": {
        "id": "cb7Qginnq-Tn"
      }
    },
    {
      "cell_type": "code",
      "source": [
        "%%bash\n",
        "\n",
        "set -e\n",
        "\n",
        "echo \"📦 Installing Node.js and Mermaid CLI...\"\n",
        "\n",
        "# Install NVM\n",
        "curl -o- https://raw.githubusercontent.com/nvm-sh/nvm/v0.39.5/install.sh | bash\n",
        "\n",
        "# Load NVM into shell\n",
        "export NVM_DIR=\"$HOME/.nvm\"\n",
        "source \"$NVM_DIR/nvm.sh\"\n",
        "\n",
        "# Install and activate Node.js 20\n",
        "nvm install 20\n",
        "nvm use 20\n",
        "\n",
        "# Install Mermaid CLI\n",
        "npm install -g @mermaid-js/mermaid-cli\n",
        "\n",
        "# Save mmdc path\n",
        "which mmdc > /content/mmdc_path.txt\n",
        "echo \"✅ mmdc installed at $(cat /content/mmdc_path.txt)\"\n"
      ],
      "metadata": {
        "id": "ra8CVjfPF8J4",
        "outputId": "36562803-aa16-4005-c4cc-8f536c303259",
        "colab": {
          "base_uri": "https://localhost:8080/"
        }
      },
      "execution_count": 1,
      "outputs": [
        {
          "output_type": "stream",
          "name": "stdout",
          "text": [
            "📦 Installing Node.js and Mermaid CLI...\n",
            "=> Downloading nvm from git to '/root/.nvm'\n",
            "\r=> * (HEAD detached at FETCH_HEAD)\n",
            "  master\n",
            "=> Compressing and cleaning up git repository\n",
            "\n",
            "=> Appending nvm source string to /root/.bashrc\n",
            "=> Appending bash_completion source string to /root/.bashrc\n",
            "=> You currently have modules installed globally with `npm`. These will no\n",
            "=> longer be linked to the active version of Node when you install a new node\n",
            "=> with `nvm`; and they may (depending on how you construct your `$PATH`)\n",
            "=> override the binaries of modules installed with `nvm`:\n",
            "\n",
            "/tools/node/lib\n",
            "├── @google/gemini-cli@0.4.1\n",
            "├── corepack@0.31.0\n",
            "=> If you wish to uninstall them at a later point (or re-install them under your\n",
            "=> `nvm` Nodes), you can remove them from the system Node as follows:\n",
            "\n",
            "     $ nvm use system\n",
            "     $ npm uninstall -g a_module\n",
            "\n",
            "=> Close and reopen your terminal to start using nvm or run the following to use it now:\n",
            "\n",
            "export NVM_DIR=\"$HOME/.nvm\"\n",
            "[ -s \"$NVM_DIR/nvm.sh\" ] && \\. \"$NVM_DIR/nvm.sh\"  # This loads nvm\n",
            "[ -s \"$NVM_DIR/bash_completion\" ] && \\. \"$NVM_DIR/bash_completion\"  # This loads nvm bash_completion\n",
            "Downloading and installing node v20.19.5...\n",
            "Now using node v20.19.5 (npm v10.8.2)\n",
            "Creating default alias: \u001b[0;32mdefault\u001b[0m \u001b[0;90m->\u001b[0m \u001b[0;32m20\u001b[0m (\u001b[0;90m->\u001b[0m \u001b[0;32mv20.19.5\u001b[0m)\n",
            "Now using node v20.19.5 (npm v10.8.2)\n",
            "\n",
            "added 411 packages in 54s\n",
            "\n",
            "54 packages are looking for funding\n",
            "  run `npm fund` for details\n",
            "✅ mmdc installed at /root/.nvm/versions/node/v20.19.5/bin/mmdc\n"
          ]
        },
        {
          "output_type": "stream",
          "name": "stderr",
          "text": [
            "  % Total    % Received % Xferd  Average Speed   Time    Time     Time  Current\n",
            "                                 Dload  Upload   Total   Spent    Left  Speed\n",
            "\r  0     0    0     0    0     0      0      0 --:--:-- --:--:-- --:--:--     0\r100 15916  100 15916    0     0   107k      0 --:--:-- --:--:-- --:--:--  107k\n",
            "Cloning into '/root/.nvm'...\n",
            "Downloading https://nodejs.org/dist/v20.19.5/node-v20.19.5-linux-x64.tar.xz...\n",
            "#=#=#                                                                         \r\r###                                                                        4.7%\r####################################################                      73.3%\r######################################################################## 100.0%\n",
            "Computing checksum with sha256sum\n",
            "Checksums matched!\n",
            "npm warn deprecated puppeteer@23.11.1: < 24.10.2 is no longer supported\n"
          ]
        }
      ]
    },
    {
      "cell_type": "code",
      "source": [
        "from pathlib import Path\n",
        "\n",
        "mmdc_path = Path(\"/content/mmdc_path.txt\").read_text().strip()\n",
        "print(\"✅ Mermaid CLI path:\", mmdc_path)"
      ],
      "metadata": {
        "id": "CB2lR_0KNxtl",
        "outputId": "5c6a4e74-225f-459a-90dd-68d5c4e171dc",
        "colab": {
          "base_uri": "https://localhost:8080/"
        }
      },
      "execution_count": 2,
      "outputs": [
        {
          "output_type": "stream",
          "name": "stdout",
          "text": [
            "✅ Mermaid CLI path: /root/.nvm/versions/node/v20.19.5/bin/mmdc\n"
          ]
        }
      ]
    },
    {
      "cell_type": "code",
      "source": [
        "mermaid_code = \"\"\"\n",
        "flowchart LR\n",
        "    A[Client/User] -->|JSON request| B[LLM Provider]\n",
        "    B -->|Response| A\n",
        "\"\"\"\n",
        "\n",
        "with open(\"diagram.mmd\", \"w\") as f:\n",
        "    f.write(mermaid_code)\n",
        "\n",
        "print(\"📄 Mermaid code written to diagram.mmd\")"
      ],
      "metadata": {
        "id": "LaYeEh5JxpNh",
        "outputId": "902bf13f-9385-440a-efe9-81b91368d77e",
        "colab": {
          "base_uri": "https://localhost:8080/"
        }
      },
      "execution_count": 3,
      "outputs": [
        {
          "output_type": "stream",
          "name": "stdout",
          "text": [
            "📄 Mermaid code written to diagram.mmd\n"
          ]
        }
      ]
    },
    {
      "cell_type": "markdown",
      "source": [
        "## Tracking down Puppeteer / Chromium errors\n",
        "\n",
        "When testing manually with ! --debug was not found so I tried the following command `! /root/.nvm/versions/node/v20.19.5/bin/mmdc -i diagram.mmd -o diagram.svg` and got the following error: `Generating single mermaid chart Error: Failed to launch the browser process!`\n",
        "\n",
        "### GPT5 explanation of error\n",
        "\n",
        "Running as root without --no-sandbox is not supported.\n",
        "This happens because:\n",
        "\n",
        "Google Colab runs everything as root\n",
        "\n",
        "Chromium (used by Puppeteer) refuses to run without the --no-sandbox flag when run as root (for security reasons)"
      ],
      "metadata": {
        "id": "gBUpBJHFP33Z"
      }
    },
    {
      "cell_type": "markdown",
      "source": [
        "✅ Solution: Use --puppeteerConfigFile with --no-sandbox\n",
        "\n",
        "We’ll now pass a JSON config file to Mermaid CLI that tells Puppeteer (Chromium) to run without sandboxing."
      ],
      "metadata": {
        "id": "Yok1335tP0uq"
      }
    },
    {
      "cell_type": "code",
      "source": [
        "with open(\"puppeteer-config.json\", \"w\") as f:\n",
        "    f.write(\"\"\"\n",
        "{\n",
        "  \"args\": [\"--no-sandbox\", \"--disable-setuid-sandbox\"]\n",
        "}\n",
        "\"\"\")\n",
        "print(\"✅ Puppeteer config saved\")"
      ],
      "metadata": {
        "id": "kH1dWYL7PXYa",
        "outputId": "ab1feff3-2194-4ec1-a52f-09f49cc5eede",
        "colab": {
          "base_uri": "https://localhost:8080/"
        }
      },
      "execution_count": 7,
      "outputs": [
        {
          "output_type": "stream",
          "name": "stdout",
          "text": [
            "✅ Puppeteer config saved\n"
          ]
        }
      ]
    },
    {
      "cell_type": "code",
      "source": [
        "import subprocess\n",
        "\n",
        "mmdc_path = \"/root/.nvm/versions/node/v20.19.5/bin/mmdc\"\n",
        "\n",
        "subprocess.run([\n",
        "    mmdc_path,\n",
        "    \"-i\", \"diagram.mmd\",\n",
        "    \"-o\", \"diagram.svg\",\n",
        "    \"--puppeteerConfigFile\", \"puppeteer-config.json\"\n",
        "], check=True)\n",
        "\n",
        "print(\"✅ Diagram generated\")"
      ],
      "metadata": {
        "id": "h9X_aS2tPYj5",
        "outputId": "b60bc4cb-5bb8-4ad5-879d-bbe658fb407e",
        "colab": {
          "base_uri": "https://localhost:8080/"
        }
      },
      "execution_count": 8,
      "outputs": [
        {
          "output_type": "stream",
          "name": "stdout",
          "text": [
            "✅ Diagram generated\n"
          ]
        }
      ]
    },
    {
      "cell_type": "code",
      "source": [
        "from IPython.display import SVG, display\n",
        "display(SVG(\"diagram.svg\"))"
      ],
      "metadata": {
        "id": "U5Py5z-9OVgZ",
        "outputId": "9085bbaf-c076-4f3d-df14-142249acbbbf",
        "colab": {
          "base_uri": "https://localhost:8080/",
          "height": 105
        }
      },
      "execution_count": 9,
      "outputs": [
        {
          "output_type": "display_data",
          "data": {
            "text/plain": [
              "<IPython.core.display.SVG object>"
            ],
            "image/svg+xml": "<svg xmlns=\"http://www.w3.org/2000/svg\" xmlns:xlink=\"http://www.w3.org/1999/xlink\" id=\"my-svg\" width=\"100%\" class=\"flowchart\" style=\"max-width: 460.781px; background-color: white;\" viewBox=\"0 0 460.78125 83.99342346191406\" role=\"graphics-document document\" aria-roledescription=\"flowchart-v2\"><style>#my-svg{font-family:&quot;trebuchet ms&quot;,verdana,arial,sans-serif;font-size:16px;fill:#333;}@keyframes edge-animation-frame{from{stroke-dashoffset:0;}}@keyframes dash{to{stroke-dashoffset:0;}}#my-svg .edge-animation-slow{stroke-dasharray:9,5!important;stroke-dashoffset:900;animation:dash 50s linear infinite;stroke-linecap:round;}#my-svg .edge-animation-fast{stroke-dasharray:9,5!important;stroke-dashoffset:900;animation:dash 20s linear infinite;stroke-linecap:round;}#my-svg .error-icon{fill:#552222;}#my-svg .error-text{fill:#552222;stroke:#552222;}#my-svg .edge-thickness-normal{stroke-width:1px;}#my-svg .edge-thickness-thick{stroke-width:3.5px;}#my-svg .edge-pattern-solid{stroke-dasharray:0;}#my-svg .edge-thickness-invisible{stroke-width:0;fill:none;}#my-svg .edge-pattern-dashed{stroke-dasharray:3;}#my-svg .edge-pattern-dotted{stroke-dasharray:2;}#my-svg .marker{fill:#333333;stroke:#333333;}#my-svg .marker.cross{stroke:#333333;}#my-svg svg{font-family:&quot;trebuchet ms&quot;,verdana,arial,sans-serif;font-size:16px;}#my-svg p{margin:0;}#my-svg .label{font-family:&quot;trebuchet ms&quot;,verdana,arial,sans-serif;color:#333;}#my-svg .cluster-label text{fill:#333;}#my-svg .cluster-label span{color:#333;}#my-svg .cluster-label span p{background-color:transparent;}#my-svg .label text,#my-svg span{fill:#333;color:#333;}#my-svg .node rect,#my-svg .node circle,#my-svg .node ellipse,#my-svg .node polygon,#my-svg .node path{fill:#ECECFF;stroke:#9370DB;stroke-width:1px;}#my-svg .rough-node .label text,#my-svg .node .label text,#my-svg .image-shape .label,#my-svg .icon-shape .label{text-anchor:middle;}#my-svg .node .katex path{fill:#000;stroke:#000;stroke-width:1px;}#my-svg .rough-node .label,#my-svg .node .label,#my-svg .image-shape .label,#my-svg .icon-shape .label{text-align:center;}#my-svg .node.clickable{cursor:pointer;}#my-svg .root .anchor path{fill:#333333!important;stroke-width:0;stroke:#333333;}#my-svg .arrowheadPath{fill:#333333;}#my-svg .edgePath .path{stroke:#333333;stroke-width:2.0px;}#my-svg .flowchart-link{stroke:#333333;fill:none;}#my-svg .edgeLabel{background-color:rgba(232,232,232, 0.8);text-align:center;}#my-svg .edgeLabel p{background-color:rgba(232,232,232, 0.8);}#my-svg .edgeLabel rect{opacity:0.5;background-color:rgba(232,232,232, 0.8);fill:rgba(232,232,232, 0.8);}#my-svg .labelBkg{background-color:rgba(232, 232, 232, 0.5);}#my-svg .cluster rect{fill:#ffffde;stroke:#aaaa33;stroke-width:1px;}#my-svg .cluster text{fill:#333;}#my-svg .cluster span{color:#333;}#my-svg div.mermaidTooltip{position:absolute;text-align:center;max-width:200px;padding:2px;font-family:&quot;trebuchet ms&quot;,verdana,arial,sans-serif;font-size:12px;background:hsl(80, 100%, 96.2745098039%);border:1px solid #aaaa33;border-radius:2px;pointer-events:none;z-index:100;}#my-svg .flowchartTitleText{text-anchor:middle;font-size:18px;fill:#333;}#my-svg rect.text{fill:none;stroke-width:0;}#my-svg .icon-shape,#my-svg .image-shape{background-color:rgba(232,232,232, 0.8);text-align:center;}#my-svg .icon-shape p,#my-svg .image-shape p{background-color:rgba(232,232,232, 0.8);padding:2px;}#my-svg .icon-shape rect,#my-svg .image-shape rect{opacity:0.5;background-color:rgba(232,232,232, 0.8);fill:rgba(232,232,232, 0.8);}#my-svg .label-icon{display:inline-block;height:1em;overflow:visible;vertical-align:-0.125em;}#my-svg .node .label-icon path{fill:currentColor;stroke:revert;stroke-width:revert;}#my-svg :root{--mermaid-font-family:&quot;trebuchet ms&quot;,verdana,arial,sans-serif;}</style><g><marker id=\"my-svg_flowchart-v2-pointEnd\" class=\"marker flowchart-v2\" viewBox=\"0 0 10 10\" refX=\"5\" refY=\"5\" markerUnits=\"userSpaceOnUse\" markerWidth=\"8\" markerHeight=\"8\" orient=\"auto\"><path d=\"M 0 0 L 10 5 L 0 10 z\" class=\"arrowMarkerPath\" style=\"stroke-width: 1; stroke-dasharray: 1, 0;\"/></marker><marker id=\"my-svg_flowchart-v2-pointStart\" class=\"marker flowchart-v2\" viewBox=\"0 0 10 10\" refX=\"4.5\" refY=\"5\" markerUnits=\"userSpaceOnUse\" markerWidth=\"8\" markerHeight=\"8\" orient=\"auto\"><path d=\"M 0 5 L 10 10 L 10 0 z\" class=\"arrowMarkerPath\" style=\"stroke-width: 1; stroke-dasharray: 1, 0;\"/></marker><marker id=\"my-svg_flowchart-v2-circleEnd\" class=\"marker flowchart-v2\" viewBox=\"0 0 10 10\" refX=\"11\" refY=\"5\" markerUnits=\"userSpaceOnUse\" markerWidth=\"11\" markerHeight=\"11\" orient=\"auto\"><circle cx=\"5\" cy=\"5\" r=\"5\" class=\"arrowMarkerPath\" style=\"stroke-width: 1; stroke-dasharray: 1, 0;\"/></marker><marker id=\"my-svg_flowchart-v2-circleStart\" class=\"marker flowchart-v2\" viewBox=\"0 0 10 10\" refX=\"-1\" refY=\"5\" markerUnits=\"userSpaceOnUse\" markerWidth=\"11\" markerHeight=\"11\" orient=\"auto\"><circle cx=\"5\" cy=\"5\" r=\"5\" class=\"arrowMarkerPath\" style=\"stroke-width: 1; stroke-dasharray: 1, 0;\"/></marker><marker id=\"my-svg_flowchart-v2-crossEnd\" class=\"marker cross flowchart-v2\" viewBox=\"0 0 11 11\" refX=\"12\" refY=\"5.2\" markerUnits=\"userSpaceOnUse\" markerWidth=\"11\" markerHeight=\"11\" orient=\"auto\"><path d=\"M 1,1 l 9,9 M 10,1 l -9,9\" class=\"arrowMarkerPath\" style=\"stroke-width: 2; stroke-dasharray: 1, 0;\"/></marker><marker id=\"my-svg_flowchart-v2-crossStart\" class=\"marker cross flowchart-v2\" viewBox=\"0 0 11 11\" refX=\"-1\" refY=\"5.2\" markerUnits=\"userSpaceOnUse\" markerWidth=\"11\" markerHeight=\"11\" orient=\"auto\"><path d=\"M 1,1 l 9,9 M 10,1 l -9,9\" class=\"arrowMarkerPath\" style=\"stroke-width: 2; stroke-dasharray: 1, 0;\"/></marker><g class=\"root\"><g class=\"clusters\"/><g class=\"edgePaths\"><path d=\"M147.141,31.431L159.681,29.526C172.221,27.621,197.302,23.81,221.723,23.615C246.144,23.421,269.905,26.841,281.785,28.552L293.666,30.262\" id=\"L_A_B_0\" class=\"edge-thickness-normal edge-pattern-solid edge-thickness-normal edge-pattern-solid flowchart-link\" style=\";\" data-edge=\"true\" data-et=\"edge\" data-id=\"L_A_B_0\" data-points=\"W3sieCI6MTQ3LjE0MDYyNSwieSI6MzEuNDMwODM3Mjg5NTk4NjJ9LHsieCI6MjIyLjM4MjgxMjUsInkiOjIwfSx7IngiOjI5Ny42MjUsInkiOjMwLjgzMTg1OTMxMTg5NjExOH1d\" marker-end=\"url(#my-svg_flowchart-v2-pointEnd)\"/><path d=\"M297.625,53.168L285.085,54.973C272.544,56.779,247.464,60.389,223.042,60.39C198.62,60.39,174.858,56.78,162.977,54.975L151.095,53.17\" id=\"L_B_A_0\" class=\"edge-thickness-normal edge-pattern-solid edge-thickness-normal edge-pattern-solid flowchart-link\" style=\";\" data-edge=\"true\" data-et=\"edge\" data-id=\"L_B_A_0\" data-points=\"W3sieCI6Mjk3LjYyNSwieSI6NTMuMTY4MTQwNjg4MTAzODh9LHsieCI6MjIyLjM4MjgxMjUsInkiOjY0fSx7IngiOjE0Ny4xNDA2MjUsInkiOjUyLjU2OTE2MjcxMDQwMTM4fV0=\" marker-end=\"url(#my-svg_flowchart-v2-pointEnd)\"/></g><g class=\"edgeLabels\"><g class=\"edgeLabel\" transform=\"translate(222.3828125, 20)\"><g class=\"label\" data-id=\"L_A_B_0\" transform=\"translate(-50.2421875, -12)\"><foreignObject width=\"100.484375\" height=\"24\"><div xmlns=\"http://www.w3.org/1999/xhtml\" class=\"labelBkg\" style=\"display: table-cell; white-space: nowrap; line-height: 1.5; max-width: 200px; text-align: center;\"><span class=\"edgeLabel\"><p>JSON request</p></span></div></foreignObject></g></g><g class=\"edgeLabel\" transform=\"translate(222.33948, 63.99342)\"><g class=\"label\" data-id=\"L_B_A_0\" transform=\"translate(-36.0234375, -12)\"><foreignObject width=\"72.046875\" height=\"24\"><div xmlns=\"http://www.w3.org/1999/xhtml\" class=\"labelBkg\" style=\"display: table-cell; white-space: nowrap; line-height: 1.5; max-width: 200px; text-align: center;\"><span class=\"edgeLabel\"><p>Response</p></span></div></foreignObject></g></g></g><g class=\"nodes\"><g class=\"node default\" id=\"flowchart-A-0\" transform=\"translate(77.5703125, 42)\"><rect class=\"basic label-container\" style=\"\" x=\"-69.5703125\" y=\"-27\" width=\"139.140625\" height=\"54\"/><g class=\"label\" style=\"\" transform=\"translate(-39.5703125, -12)\"><rect/><foreignObject width=\"79.140625\" height=\"24\"><div xmlns=\"http://www.w3.org/1999/xhtml\" style=\"display: table-cell; white-space: nowrap; line-height: 1.5; max-width: 200px; text-align: center;\"><span class=\"nodeLabel\"><p>Client/User</p></span></div></foreignObject></g></g><g class=\"node default\" id=\"flowchart-B-1\" transform=\"translate(375.203125, 42)\"><rect class=\"basic label-container\" style=\"\" x=\"-77.578125\" y=\"-27\" width=\"155.15625\" height=\"54\"/><g class=\"label\" style=\"\" transform=\"translate(-47.578125, -12)\"><rect/><foreignObject width=\"95.15625\" height=\"24\"><div xmlns=\"http://www.w3.org/1999/xhtml\" style=\"display: table-cell; white-space: nowrap; line-height: 1.5; max-width: 200px; text-align: center;\"><span class=\"nodeLabel\"><p>LLM Provider</p></span></div></foreignObject></g></g></g></g></g></svg>"
          },
          "metadata": {}
        }
      ]
    }
  ]
}
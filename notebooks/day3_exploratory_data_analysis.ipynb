{
 "cells": [
  {
   "cell_type": "markdown",
   "id": "85ee0e25",
   "metadata": {},
   "source": [
    "# 📅 Day 3 — Exploratory Data Analysis (EDA)\n"
   ]
  },
  {
   "cell_type": "markdown",
   "id": "d6f94566",
   "metadata": {},
   "source": [
    "\n",
    "## 🛳 The Titanic Dataset\n",
    "\n",
    "The **Titanic dataset** records information about passengers aboard the RMS Titanic. \n",
    "It contains a mix of **numerical** and **categorical** variables, as well as **missing data**, **outliers**, \n",
    "and a **binary target variable** (survival).\n",
    "\n",
    "We will use Seaborn's built-in Titanic dataset (~891 rows, 15 columns).\n"
   ]
  },
  {
   "cell_type": "code",
   "execution_count": null,
   "id": "772e07ba",
   "metadata": {},
   "outputs": [],
   "source": [
    "\n",
    "import pandas as pd\n",
    "import seaborn as sns\n",
    "import matplotlib.pyplot as plt\n",
    "\n",
    "# Load Titanic dataset from seaborn\n",
    "titanic = sns.load_dataset(\"titanic\")\n",
    "titanic.head()\n"
   ]
  },
  {
   "cell_type": "markdown",
   "id": "e7e0db27",
   "metadata": {},
   "source": [
    "\n",
    "### Key Features in the Seaborn Version\n",
    "- **survived**: Whether the passenger survived (0 = No, 1 = Yes)  \n",
    "- **pclass**: Passenger class (1st, 2nd, 3rd)  \n",
    "- **sex**: Male or female  \n",
    "- **age**: Age of passenger in years  \n",
    "- **sibsp**: Number of siblings/spouses aboard  \n",
    "- **parch**: Number of parents/children aboard  \n",
    "- **fare**: Ticket fare (in British pounds)  \n",
    "- **embarked**: Port of embarkation (C = Cherbourg, Q = Queenstown, S = Southampton)  \n",
    "- **class**: Duplicate categorical version of `pclass`  \n",
    "- **who**: Man, woman, or child (based on sex and age)  \n",
    "- **deck**: Cabin deck (many missing)  \n",
    "- **embark_town**: Full name of embarkation port  \n",
    "- **alive**: Duplicate categorical version of `survived`  \n",
    "- **alone**: Whether passenger was alone or not  \n"
   ]
  },
  {
   "cell_type": "markdown",
   "id": "5fb2f8b2",
   "metadata": {},
   "source": [
    "## 📚 Instruction (3h)\n",
    "\n",
    "### 1. Descriptive Statistics"
   ]
  },
  {
   "cell_type": "markdown",
   "id": "1acd0f36",
   "metadata": {},
   "source": [
    "\n",
    "#### Measures of Central Tendency: Mean, Median, Mode\n",
    "We use measures like mean, median, and mode to summarize central tendencies in data. \n",
    "For example, average passenger age or the most common embarkation port.\n"
   ]
  },
  {
   "cell_type": "code",
   "execution_count": null,
   "id": "ad963e3b",
   "metadata": {},
   "outputs": [],
   "source": [
    "\n",
    "# Mean, Median, Mode examples\n",
    "print(\"Mean age:\", titanic['age'].mean())\n",
    "print(\"Median age:\", titanic['age'].median())\n",
    "print(\"Mode embark_town:\", titanic['embark_town'].mode()[0])\n"
   ]
  },
  {
   "cell_type": "markdown",
   "id": "96808805",
   "metadata": {},
   "source": [
    "\n",
    "#### Measures of Spread: Variance, Standard Deviation, Quartiles\n",
    "Spread measures help us understand variability in the dataset. \n",
    "Titanic fares vary widely across classes.\n"
   ]
  },
  {
   "cell_type": "code",
   "execution_count": null,
   "id": "716f2d08",
   "metadata": {},
   "outputs": [],
   "source": [
    "\n",
    "print(\"Fare variance:\", titanic['fare'].var())\n",
    "print(\"Fare standard deviation:\", titanic['fare'].std())\n",
    "print(\"Fare quartiles:\")\n",
    "print(titanic['fare'].describe()[4:7])\n"
   ]
  },
  {
   "cell_type": "markdown",
   "id": "b7a8a854",
   "metadata": {},
   "source": [
    "\n",
    "#### Skewness & Kurtosis\n",
    "Skewness shows asymmetry in distributions, while kurtosis measures tail heaviness.\n"
   ]
  },
  {
   "cell_type": "code",
   "execution_count": null,
   "id": "b590fd58",
   "metadata": {},
   "outputs": [],
   "source": [
    "\n",
    "print(\"Fare skewness:\", titanic['fare'].skew())\n",
    "print(\"Fare kurtosis:\", titanic['fare'].kurt())\n"
   ]
  },
  {
   "cell_type": "markdown",
   "id": "d9bdf095",
   "metadata": {},
   "source": [
    "### 2. Distribution Exploration"
   ]
  },
  {
   "cell_type": "markdown",
   "id": "4129de86",
   "metadata": {},
   "source": [
    "#### Histograms"
   ]
  },
  {
   "cell_type": "code",
   "execution_count": null,
   "id": "b36b1cd4",
   "metadata": {},
   "outputs": [],
   "source": [
    "sns.histplot(titanic['age'].dropna(), bins=20, kde=False);"
   ]
  },
  {
   "cell_type": "markdown",
   "id": "bb3ef08c",
   "metadata": {},
   "source": [
    "#### Density Plots"
   ]
  },
  {
   "cell_type": "code",
   "execution_count": null,
   "id": "90fb57a1",
   "metadata": {},
   "outputs": [],
   "source": [
    "sns.kdeplot(data=titanic, x='age', hue='survived', common_norm=False);"
   ]
  },
  {
   "cell_type": "markdown",
   "id": "e8c3d93b",
   "metadata": {},
   "source": [
    "#### Boxplots"
   ]
  },
  {
   "cell_type": "code",
   "execution_count": null,
   "id": "b99f68ef",
   "metadata": {},
   "outputs": [],
   "source": [
    "sns.boxplot(data=titanic, x='class', y='fare');"
   ]
  },
  {
   "cell_type": "markdown",
   "id": "8547f8f5",
   "metadata": {},
   "source": [
    "### 3. Outlier Detection"
   ]
  },
  {
   "cell_type": "markdown",
   "id": "e5749284",
   "metadata": {},
   "source": [
    "#### Boxplots & Scatterplots"
   ]
  },
  {
   "cell_type": "code",
   "execution_count": null,
   "id": "2dcdd51f",
   "metadata": {},
   "outputs": [],
   "source": [
    "sns.scatterplot(data=titanic, x='age', y='fare', hue='class');"
   ]
  },
  {
   "cell_type": "markdown",
   "id": "15f05873",
   "metadata": {},
   "source": [
    "#### IQR Method"
   ]
  },
  {
   "cell_type": "code",
   "execution_count": null,
   "id": "eccf8bfd",
   "metadata": {},
   "outputs": [],
   "source": [
    "\n",
    "Q1 = titanic['fare'].quantile(0.25)\n",
    "Q3 = titanic['fare'].quantile(0.75)\n",
    "IQR = Q3 - Q1\n",
    "outliers = titanic[(titanic['fare'] < Q1 - 1.5*IQR) | (titanic['fare'] > Q3 + 1.5*IQR)]\n",
    "print(\"Outliers count:\", len(outliers))\n"
   ]
  },
  {
   "cell_type": "markdown",
   "id": "f2015333",
   "metadata": {},
   "source": [
    "### 4. Correlation Analysis"
   ]
  },
  {
   "cell_type": "code",
   "execution_count": null,
   "id": "cd0a922e",
   "metadata": {},
   "outputs": [],
   "source": [
    "\n",
    "corr = titanic[['age','fare','sibsp','parch']].corr()\n",
    "sns.heatmap(corr, annot=True, cmap='coolwarm');\n"
   ]
  },
  {
   "cell_type": "markdown",
   "id": "c6768464",
   "metadata": {},
   "source": [
    "### 5. Grouping & Aggregation"
   ]
  },
  {
   "cell_type": "code",
   "execution_count": null,
   "id": "7c8bbba6",
   "metadata": {},
   "outputs": [],
   "source": [
    "\n",
    "# Survival rates by sex\n",
    "print(titanic.groupby('sex')['survived'].mean())\n",
    "\n",
    "# Multiple statistics on fares by class\n",
    "print(titanic.groupby('class')['fare'].agg(['mean','median','count']))\n"
   ]
  },
  {
   "cell_type": "markdown",
   "id": "259deba8",
   "metadata": {},
   "source": [
    "#### Pivot Tables"
   ]
  },
  {
   "cell_type": "code",
   "execution_count": null,
   "id": "7dd1e3fb",
   "metadata": {},
   "outputs": [],
   "source": [
    "\n",
    "pd.crosstab(titanic['sex'], titanic['class'], values=titanic['survived'], aggfunc='mean')\n"
   ]
  },
  {
   "cell_type": "markdown",
   "id": "cdec1262",
   "metadata": {},
   "source": [
    "### 6. Missing Data Analysis"
   ]
  },
  {
   "cell_type": "code",
   "execution_count": null,
   "id": "513625c5",
   "metadata": {},
   "outputs": [],
   "source": [
    "titanic.isnull().sum()"
   ]
  },
  {
   "cell_type": "markdown",
   "id": "6f6015a7",
   "metadata": {},
   "source": [
    "\n",
    "## 📝 Exercise (30–45 min)\n",
    "\n",
    "Using the Titanic dataset, complete the following tasks:\n",
    "\n",
    "1. Compute survival rates by **embark_town** and **class**.  \n",
    "2. Plot the age distribution for survivors vs non-survivors using **histograms** or **density plots**.  \n",
    "3. Detect outliers in **age** using the IQR method and comment on findings.  \n",
    "4. Create a new feature `family_size = sibsp + parch + 1`. Analyze its relationship with survival.  \n",
    "5. Use a **pivot table** to display survival rates by **sex** and **class**. What patterns do you see?  \n",
    "6. (Optional, for advanced) Perform a **chi-square test** on survival vs sex to test independence.  \n"
   ]
  },
  {
   "cell_type": "markdown",
   "id": "13692724",
   "metadata": {},
   "source": [
    "\n",
    "## 🔄 Reflection\n",
    "\n",
    "- What surprised you most about Titanic passenger survival patterns?  \n",
    "- How do categorical vs numerical features require different EDA approaches?  \n",
    "- How could EDA guide the next steps in modeling or prediction?  \n"
   ]
  },
  {
   "cell_type": "markdown",
   "id": "c84c0b52",
   "metadata": {},
   "source": [
    "\n",
    "## 📚 Additional Sources for Further EDA Work\n",
    "\n",
    "- Wes McKinney, *Python for Data Analysis*  \n",
    "- Jake VanderPlas, *Python Data Science Handbook*  \n",
    "- YData Profiling: [https://ydata-profiling.ydata.ai](https://ydata-profiling.ydata.ai)  \n",
    "- Seaborn Documentation: [https://seaborn.pydata.org](https://seaborn.pydata.org)  \n"
   ]
  }
 ],
 "metadata": {},
 "nbformat": 4,
 "nbformat_minor": 5
}
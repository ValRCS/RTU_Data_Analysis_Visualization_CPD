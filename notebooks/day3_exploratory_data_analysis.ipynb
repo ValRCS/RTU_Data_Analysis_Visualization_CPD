{
  "cells": [
    {
      "cell_type": "markdown",
      "id": "85ee0e25",
      "metadata": {
        "id": "85ee0e25"
      },
      "source": [
        "# 📅 Day 3 — Exploratory Data Analysis (EDA)\n"
      ]
    },
    {
      "cell_type": "markdown",
      "id": "db2edc7a",
      "metadata": {},
      "source": [
        "## EDA – Importance and Meaning\n",
        "\n",
        "Exploratory Data Analysis (EDA) is the process of **getting to know your dataset** before applying advanced models or drawing conclusions.  \n",
        "It is a critical first step in any data analysis workflow because it helps you:\n",
        "\n",
        "- **Understand structure**: Identify variable types (numerical, categorical, date, text) and the shape of the dataset.  \n",
        "- **Detect issues**: Spot missing values, inconsistencies, and potential data quality problems.  \n",
        "- **Summarize key statistics**: Compute central tendencies, spread, correlations, and distributions to build intuition.  \n",
        "- **Reveal patterns**: Use plots and summaries to see trends, clusters, and group differences.  \n",
        "- **Identify anomalies**: Highlight unusual points or outliers that may skew results.  \n",
        "- **Guide decisions**: Inform which cleaning, transformation, or modeling approaches make sense for the dataset.  \n",
        "\n",
        "Think of EDA as the **detective work** of data analysis. Instead of jumping into advanced models right away, you first explore the dataset to generate hypotheses, validate assumptions, and prepare the ground for deeper analysis.\n"
      ]
    },
    {
      "cell_type": "markdown",
      "id": "2549b7d9",
      "metadata": {},
      "source": [
        "## Titanic – The Story We Know\n",
        "\n",
        "![Titanic](https://upload.wikimedia.org/wikipedia/commons/thumb/6/6e/St%C3%B6wer_Titanic.jpg/600px-St%C3%B6wer_Titanic.jpg)\n",
        "\n",
        "The RMS Titanic was one of the largest and most luxurious ocean liners of its time, celebrated as “unsinkable” when it set sail on its maiden voyage from Southampton to New York in April 1912. Tragically, on the night of April 14th, the ship struck an iceberg in the North Atlantic and sank in the early hours of April 15th. Of the more than 2,200 passengers and crew aboard, over 1,500 lost their lives, making it one of the deadliest peacetime maritime disasters in history.\n",
        "\n",
        "The Titanic disaster has been studied for decades, not only as a historical event but also as a data source. Passenger records — including age, gender, class, ticket fare, and survival outcome — were compiled from official lists and archives. Today, these records form the basis of the famous **Titanic dataset**, widely used in teaching data analysis and machine learning. It allows us to explore how social and economic factors influenced survival, offering a powerful case study in how data can tell human stories.\n"
      ]
    },
    {
      "cell_type": "markdown",
      "id": "d6f94566",
      "metadata": {
        "id": "d6f94566"
      },
      "source": [
        "\n",
        "## 🛳 The Titanic Dataset\n",
        "\n",
        "The **Titanic dataset** records information about passengers aboard the RMS Titanic.\n",
        "It contains a mix of **numerical** and **categorical** variables, as well as **missing data**, **outliers**,\n",
        "and a **binary target variable** (survival).\n",
        "\n",
        "We will use Seaborn's built-in Titanic dataset (~891 rows, 15 columns).\n"
      ]
    },
    {
      "cell_type": "code",
      "execution_count": 1,
      "id": "772e07ba",
      "metadata": {
        "colab": {
          "base_uri": "https://localhost:8080/",
          "height": 206
        },
        "id": "772e07ba",
        "outputId": "84a2880b-dc65-4365-a819-2b06946d8fe0"
      },
      "outputs": [
        {
          "data": {
            "application/vnd.google.colaboratory.intrinsic+json": {
              "summary": "{\n  \"name\": \"titanic\",\n  \"rows\": 891,\n  \"fields\": [\n    {\n      \"column\": \"survived\",\n      \"properties\": {\n        \"dtype\": \"number\",\n        \"std\": 0,\n        \"min\": 0,\n        \"max\": 1,\n        \"num_unique_values\": 2,\n        \"samples\": [\n          1,\n          0\n        ],\n        \"semantic_type\": \"\",\n        \"description\": \"\"\n      }\n    },\n    {\n      \"column\": \"pclass\",\n      \"properties\": {\n        \"dtype\": \"number\",\n        \"std\": 0,\n        \"min\": 1,\n        \"max\": 3,\n        \"num_unique_values\": 3,\n        \"samples\": [\n          3,\n          1\n        ],\n        \"semantic_type\": \"\",\n        \"description\": \"\"\n      }\n    },\n    {\n      \"column\": \"sex\",\n      \"properties\": {\n        \"dtype\": \"category\",\n        \"num_unique_values\": 2,\n        \"samples\": [\n          \"female\",\n          \"male\"\n        ],\n        \"semantic_type\": \"\",\n        \"description\": \"\"\n      }\n    },\n    {\n      \"column\": \"age\",\n      \"properties\": {\n        \"dtype\": \"number\",\n        \"std\": 14.526497332334044,\n        \"min\": 0.42,\n        \"max\": 80.0,\n        \"num_unique_values\": 88,\n        \"samples\": [\n          0.75,\n          22.0\n        ],\n        \"semantic_type\": \"\",\n        \"description\": \"\"\n      }\n    },\n    {\n      \"column\": \"sibsp\",\n      \"properties\": {\n        \"dtype\": \"number\",\n        \"std\": 1,\n        \"min\": 0,\n        \"max\": 8,\n        \"num_unique_values\": 7,\n        \"samples\": [\n          1,\n          0\n        ],\n        \"semantic_type\": \"\",\n        \"description\": \"\"\n      }\n    },\n    {\n      \"column\": \"parch\",\n      \"properties\": {\n        \"dtype\": \"number\",\n        \"std\": 0,\n        \"min\": 0,\n        \"max\": 6,\n        \"num_unique_values\": 7,\n        \"samples\": [\n          0,\n          1\n        ],\n        \"semantic_type\": \"\",\n        \"description\": \"\"\n      }\n    },\n    {\n      \"column\": \"fare\",\n      \"properties\": {\n        \"dtype\": \"number\",\n        \"std\": 49.693428597180905,\n        \"min\": 0.0,\n        \"max\": 512.3292,\n        \"num_unique_values\": 248,\n        \"samples\": [\n          11.2417,\n          51.8625\n        ],\n        \"semantic_type\": \"\",\n        \"description\": \"\"\n      }\n    },\n    {\n      \"column\": \"embarked\",\n      \"properties\": {\n        \"dtype\": \"category\",\n        \"num_unique_values\": 3,\n        \"samples\": [\n          \"S\",\n          \"C\"\n        ],\n        \"semantic_type\": \"\",\n        \"description\": \"\"\n      }\n    },\n    {\n      \"column\": \"class\",\n      \"properties\": {\n        \"dtype\": \"category\",\n        \"num_unique_values\": 3,\n        \"samples\": [\n          \"Third\",\n          \"First\"\n        ],\n        \"semantic_type\": \"\",\n        \"description\": \"\"\n      }\n    },\n    {\n      \"column\": \"who\",\n      \"properties\": {\n        \"dtype\": \"category\",\n        \"num_unique_values\": 3,\n        \"samples\": [\n          \"man\",\n          \"woman\"\n        ],\n        \"semantic_type\": \"\",\n        \"description\": \"\"\n      }\n    },\n    {\n      \"column\": \"adult_male\",\n      \"properties\": {\n        \"dtype\": \"boolean\",\n        \"num_unique_values\": 2,\n        \"samples\": [\n          false,\n          true\n        ],\n        \"semantic_type\": \"\",\n        \"description\": \"\"\n      }\n    },\n    {\n      \"column\": \"deck\",\n      \"properties\": {\n        \"dtype\": \"category\",\n        \"num_unique_values\": 7,\n        \"samples\": [\n          \"C\",\n          \"E\"\n        ],\n        \"semantic_type\": \"\",\n        \"description\": \"\"\n      }\n    },\n    {\n      \"column\": \"embark_town\",\n      \"properties\": {\n        \"dtype\": \"category\",\n        \"num_unique_values\": 3,\n        \"samples\": [\n          \"Southampton\",\n          \"Cherbourg\"\n        ],\n        \"semantic_type\": \"\",\n        \"description\": \"\"\n      }\n    },\n    {\n      \"column\": \"alive\",\n      \"properties\": {\n        \"dtype\": \"category\",\n        \"num_unique_values\": 2,\n        \"samples\": [\n          \"yes\",\n          \"no\"\n        ],\n        \"semantic_type\": \"\",\n        \"description\": \"\"\n      }\n    },\n    {\n      \"column\": \"alone\",\n      \"properties\": {\n        \"dtype\": \"boolean\",\n        \"num_unique_values\": 2,\n        \"samples\": [\n          true,\n          false\n        ],\n        \"semantic_type\": \"\",\n        \"description\": \"\"\n      }\n    }\n  ]\n}",
              "type": "dataframe",
              "variable_name": "titanic"
            },
            "text/html": [
              "\n",
              "  <div id=\"df-d6b69df7-a0bc-4583-a358-1206f28c58f1\" class=\"colab-df-container\">\n",
              "    <div>\n",
              "<style scoped>\n",
              "    .dataframe tbody tr th:only-of-type {\n",
              "        vertical-align: middle;\n",
              "    }\n",
              "\n",
              "    .dataframe tbody tr th {\n",
              "        vertical-align: top;\n",
              "    }\n",
              "\n",
              "    .dataframe thead th {\n",
              "        text-align: right;\n",
              "    }\n",
              "</style>\n",
              "<table border=\"1\" class=\"dataframe\">\n",
              "  <thead>\n",
              "    <tr style=\"text-align: right;\">\n",
              "      <th></th>\n",
              "      <th>survived</th>\n",
              "      <th>pclass</th>\n",
              "      <th>sex</th>\n",
              "      <th>age</th>\n",
              "      <th>sibsp</th>\n",
              "      <th>parch</th>\n",
              "      <th>fare</th>\n",
              "      <th>embarked</th>\n",
              "      <th>class</th>\n",
              "      <th>who</th>\n",
              "      <th>adult_male</th>\n",
              "      <th>deck</th>\n",
              "      <th>embark_town</th>\n",
              "      <th>alive</th>\n",
              "      <th>alone</th>\n",
              "    </tr>\n",
              "  </thead>\n",
              "  <tbody>\n",
              "    <tr>\n",
              "      <th>0</th>\n",
              "      <td>0</td>\n",
              "      <td>3</td>\n",
              "      <td>male</td>\n",
              "      <td>22.0</td>\n",
              "      <td>1</td>\n",
              "      <td>0</td>\n",
              "      <td>7.2500</td>\n",
              "      <td>S</td>\n",
              "      <td>Third</td>\n",
              "      <td>man</td>\n",
              "      <td>True</td>\n",
              "      <td>NaN</td>\n",
              "      <td>Southampton</td>\n",
              "      <td>no</td>\n",
              "      <td>False</td>\n",
              "    </tr>\n",
              "    <tr>\n",
              "      <th>1</th>\n",
              "      <td>1</td>\n",
              "      <td>1</td>\n",
              "      <td>female</td>\n",
              "      <td>38.0</td>\n",
              "      <td>1</td>\n",
              "      <td>0</td>\n",
              "      <td>71.2833</td>\n",
              "      <td>C</td>\n",
              "      <td>First</td>\n",
              "      <td>woman</td>\n",
              "      <td>False</td>\n",
              "      <td>C</td>\n",
              "      <td>Cherbourg</td>\n",
              "      <td>yes</td>\n",
              "      <td>False</td>\n",
              "    </tr>\n",
              "    <tr>\n",
              "      <th>2</th>\n",
              "      <td>1</td>\n",
              "      <td>3</td>\n",
              "      <td>female</td>\n",
              "      <td>26.0</td>\n",
              "      <td>0</td>\n",
              "      <td>0</td>\n",
              "      <td>7.9250</td>\n",
              "      <td>S</td>\n",
              "      <td>Third</td>\n",
              "      <td>woman</td>\n",
              "      <td>False</td>\n",
              "      <td>NaN</td>\n",
              "      <td>Southampton</td>\n",
              "      <td>yes</td>\n",
              "      <td>True</td>\n",
              "    </tr>\n",
              "    <tr>\n",
              "      <th>3</th>\n",
              "      <td>1</td>\n",
              "      <td>1</td>\n",
              "      <td>female</td>\n",
              "      <td>35.0</td>\n",
              "      <td>1</td>\n",
              "      <td>0</td>\n",
              "      <td>53.1000</td>\n",
              "      <td>S</td>\n",
              "      <td>First</td>\n",
              "      <td>woman</td>\n",
              "      <td>False</td>\n",
              "      <td>C</td>\n",
              "      <td>Southampton</td>\n",
              "      <td>yes</td>\n",
              "      <td>False</td>\n",
              "    </tr>\n",
              "    <tr>\n",
              "      <th>4</th>\n",
              "      <td>0</td>\n",
              "      <td>3</td>\n",
              "      <td>male</td>\n",
              "      <td>35.0</td>\n",
              "      <td>0</td>\n",
              "      <td>0</td>\n",
              "      <td>8.0500</td>\n",
              "      <td>S</td>\n",
              "      <td>Third</td>\n",
              "      <td>man</td>\n",
              "      <td>True</td>\n",
              "      <td>NaN</td>\n",
              "      <td>Southampton</td>\n",
              "      <td>no</td>\n",
              "      <td>True</td>\n",
              "    </tr>\n",
              "  </tbody>\n",
              "</table>\n",
              "</div>\n",
              "    <div class=\"colab-df-buttons\">\n",
              "\n",
              "  <div class=\"colab-df-container\">\n",
              "    <button class=\"colab-df-convert\" onclick=\"convertToInteractive('df-d6b69df7-a0bc-4583-a358-1206f28c58f1')\"\n",
              "            title=\"Convert this dataframe to an interactive table.\"\n",
              "            style=\"display:none;\">\n",
              "\n",
              "  <svg xmlns=\"http://www.w3.org/2000/svg\" height=\"24px\" viewBox=\"0 -960 960 960\">\n",
              "    <path d=\"M120-120v-720h720v720H120Zm60-500h600v-160H180v160Zm220 220h160v-160H400v160Zm0 220h160v-160H400v160ZM180-400h160v-160H180v160Zm440 0h160v-160H620v160ZM180-180h160v-160H180v160Zm440 0h160v-160H620v160Z\"/>\n",
              "  </svg>\n",
              "    </button>\n",
              "\n",
              "  <style>\n",
              "    .colab-df-container {\n",
              "      display:flex;\n",
              "      gap: 12px;\n",
              "    }\n",
              "\n",
              "    .colab-df-convert {\n",
              "      background-color: #E8F0FE;\n",
              "      border: none;\n",
              "      border-radius: 50%;\n",
              "      cursor: pointer;\n",
              "      display: none;\n",
              "      fill: #1967D2;\n",
              "      height: 32px;\n",
              "      padding: 0 0 0 0;\n",
              "      width: 32px;\n",
              "    }\n",
              "\n",
              "    .colab-df-convert:hover {\n",
              "      background-color: #E2EBFA;\n",
              "      box-shadow: 0px 1px 2px rgba(60, 64, 67, 0.3), 0px 1px 3px 1px rgba(60, 64, 67, 0.15);\n",
              "      fill: #174EA6;\n",
              "    }\n",
              "\n",
              "    .colab-df-buttons div {\n",
              "      margin-bottom: 4px;\n",
              "    }\n",
              "\n",
              "    [theme=dark] .colab-df-convert {\n",
              "      background-color: #3B4455;\n",
              "      fill: #D2E3FC;\n",
              "    }\n",
              "\n",
              "    [theme=dark] .colab-df-convert:hover {\n",
              "      background-color: #434B5C;\n",
              "      box-shadow: 0px 1px 3px 1px rgba(0, 0, 0, 0.15);\n",
              "      filter: drop-shadow(0px 1px 2px rgba(0, 0, 0, 0.3));\n",
              "      fill: #FFFFFF;\n",
              "    }\n",
              "  </style>\n",
              "\n",
              "    <script>\n",
              "      const buttonEl =\n",
              "        document.querySelector('#df-d6b69df7-a0bc-4583-a358-1206f28c58f1 button.colab-df-convert');\n",
              "      buttonEl.style.display =\n",
              "        google.colab.kernel.accessAllowed ? 'block' : 'none';\n",
              "\n",
              "      async function convertToInteractive(key) {\n",
              "        const element = document.querySelector('#df-d6b69df7-a0bc-4583-a358-1206f28c58f1');\n",
              "        const dataTable =\n",
              "          await google.colab.kernel.invokeFunction('convertToInteractive',\n",
              "                                                    [key], {});\n",
              "        if (!dataTable) return;\n",
              "\n",
              "        const docLinkHtml = 'Like what you see? Visit the ' +\n",
              "          '<a target=\"_blank\" href=https://colab.research.google.com/notebooks/data_table.ipynb>data table notebook</a>'\n",
              "          + ' to learn more about interactive tables.';\n",
              "        element.innerHTML = '';\n",
              "        dataTable['output_type'] = 'display_data';\n",
              "        await google.colab.output.renderOutput(dataTable, element);\n",
              "        const docLink = document.createElement('div');\n",
              "        docLink.innerHTML = docLinkHtml;\n",
              "        element.appendChild(docLink);\n",
              "      }\n",
              "    </script>\n",
              "  </div>\n",
              "\n",
              "\n",
              "    <div id=\"df-84876944-2f2e-4d9f-ab83-a73228a2018a\">\n",
              "      <button class=\"colab-df-quickchart\" onclick=\"quickchart('df-84876944-2f2e-4d9f-ab83-a73228a2018a')\"\n",
              "                title=\"Suggest charts\"\n",
              "                style=\"display:none;\">\n",
              "\n",
              "<svg xmlns=\"http://www.w3.org/2000/svg\" height=\"24px\"viewBox=\"0 0 24 24\"\n",
              "     width=\"24px\">\n",
              "    <g>\n",
              "        <path d=\"M19 3H5c-1.1 0-2 .9-2 2v14c0 1.1.9 2 2 2h14c1.1 0 2-.9 2-2V5c0-1.1-.9-2-2-2zM9 17H7v-7h2v7zm4 0h-2V7h2v10zm4 0h-2v-4h2v4z\"/>\n",
              "    </g>\n",
              "</svg>\n",
              "      </button>\n",
              "\n",
              "<style>\n",
              "  .colab-df-quickchart {\n",
              "      --bg-color: #E8F0FE;\n",
              "      --fill-color: #1967D2;\n",
              "      --hover-bg-color: #E2EBFA;\n",
              "      --hover-fill-color: #174EA6;\n",
              "      --disabled-fill-color: #AAA;\n",
              "      --disabled-bg-color: #DDD;\n",
              "  }\n",
              "\n",
              "  [theme=dark] .colab-df-quickchart {\n",
              "      --bg-color: #3B4455;\n",
              "      --fill-color: #D2E3FC;\n",
              "      --hover-bg-color: #434B5C;\n",
              "      --hover-fill-color: #FFFFFF;\n",
              "      --disabled-bg-color: #3B4455;\n",
              "      --disabled-fill-color: #666;\n",
              "  }\n",
              "\n",
              "  .colab-df-quickchart {\n",
              "    background-color: var(--bg-color);\n",
              "    border: none;\n",
              "    border-radius: 50%;\n",
              "    cursor: pointer;\n",
              "    display: none;\n",
              "    fill: var(--fill-color);\n",
              "    height: 32px;\n",
              "    padding: 0;\n",
              "    width: 32px;\n",
              "  }\n",
              "\n",
              "  .colab-df-quickchart:hover {\n",
              "    background-color: var(--hover-bg-color);\n",
              "    box-shadow: 0 1px 2px rgba(60, 64, 67, 0.3), 0 1px 3px 1px rgba(60, 64, 67, 0.15);\n",
              "    fill: var(--button-hover-fill-color);\n",
              "  }\n",
              "\n",
              "  .colab-df-quickchart-complete:disabled,\n",
              "  .colab-df-quickchart-complete:disabled:hover {\n",
              "    background-color: var(--disabled-bg-color);\n",
              "    fill: var(--disabled-fill-color);\n",
              "    box-shadow: none;\n",
              "  }\n",
              "\n",
              "  .colab-df-spinner {\n",
              "    border: 2px solid var(--fill-color);\n",
              "    border-color: transparent;\n",
              "    border-bottom-color: var(--fill-color);\n",
              "    animation:\n",
              "      spin 1s steps(1) infinite;\n",
              "  }\n",
              "\n",
              "  @keyframes spin {\n",
              "    0% {\n",
              "      border-color: transparent;\n",
              "      border-bottom-color: var(--fill-color);\n",
              "      border-left-color: var(--fill-color);\n",
              "    }\n",
              "    20% {\n",
              "      border-color: transparent;\n",
              "      border-left-color: var(--fill-color);\n",
              "      border-top-color: var(--fill-color);\n",
              "    }\n",
              "    30% {\n",
              "      border-color: transparent;\n",
              "      border-left-color: var(--fill-color);\n",
              "      border-top-color: var(--fill-color);\n",
              "      border-right-color: var(--fill-color);\n",
              "    }\n",
              "    40% {\n",
              "      border-color: transparent;\n",
              "      border-right-color: var(--fill-color);\n",
              "      border-top-color: var(--fill-color);\n",
              "    }\n",
              "    60% {\n",
              "      border-color: transparent;\n",
              "      border-right-color: var(--fill-color);\n",
              "    }\n",
              "    80% {\n",
              "      border-color: transparent;\n",
              "      border-right-color: var(--fill-color);\n",
              "      border-bottom-color: var(--fill-color);\n",
              "    }\n",
              "    90% {\n",
              "      border-color: transparent;\n",
              "      border-bottom-color: var(--fill-color);\n",
              "    }\n",
              "  }\n",
              "</style>\n",
              "\n",
              "      <script>\n",
              "        async function quickchart(key) {\n",
              "          const quickchartButtonEl =\n",
              "            document.querySelector('#' + key + ' button');\n",
              "          quickchartButtonEl.disabled = true;  // To prevent multiple clicks.\n",
              "          quickchartButtonEl.classList.add('colab-df-spinner');\n",
              "          try {\n",
              "            const charts = await google.colab.kernel.invokeFunction(\n",
              "                'suggestCharts', [key], {});\n",
              "          } catch (error) {\n",
              "            console.error('Error during call to suggestCharts:', error);\n",
              "          }\n",
              "          quickchartButtonEl.classList.remove('colab-df-spinner');\n",
              "          quickchartButtonEl.classList.add('colab-df-quickchart-complete');\n",
              "        }\n",
              "        (() => {\n",
              "          let quickchartButtonEl =\n",
              "            document.querySelector('#df-84876944-2f2e-4d9f-ab83-a73228a2018a button');\n",
              "          quickchartButtonEl.style.display =\n",
              "            google.colab.kernel.accessAllowed ? 'block' : 'none';\n",
              "        })();\n",
              "      </script>\n",
              "    </div>\n",
              "\n",
              "    </div>\n",
              "  </div>\n"
            ],
            "text/plain": [
              "   survived  pclass     sex   age  sibsp  parch     fare embarked  class  \\\n",
              "0         0       3    male  22.0      1      0   7.2500        S  Third   \n",
              "1         1       1  female  38.0      1      0  71.2833        C  First   \n",
              "2         1       3  female  26.0      0      0   7.9250        S  Third   \n",
              "3         1       1  female  35.0      1      0  53.1000        S  First   \n",
              "4         0       3    male  35.0      0      0   8.0500        S  Third   \n",
              "\n",
              "     who  adult_male deck  embark_town alive  alone  \n",
              "0    man        True  NaN  Southampton    no  False  \n",
              "1  woman       False    C    Cherbourg   yes  False  \n",
              "2  woman       False  NaN  Southampton   yes   True  \n",
              "3  woman       False    C  Southampton   yes  False  \n",
              "4    man        True  NaN  Southampton    no   True  "
            ]
          },
          "execution_count": 1,
          "metadata": {},
          "output_type": "execute_result"
        }
      ],
      "source": [
        "\n",
        "import pandas as pd\n",
        "import seaborn as sns\n",
        "import matplotlib.pyplot as plt\n",
        "\n",
        "# Load Titanic dataset from seaborn\n",
        "titanic = sns.load_dataset(\"titanic\")\n",
        "titanic.head()\n"
      ]
    },
    {
      "cell_type": "markdown",
      "id": "e7e0db27",
      "metadata": {
        "id": "e7e0db27"
      },
      "source": [
        "\n",
        "### Key Features in the Seaborn Version\n",
        "- **survived**: Whether the passenger survived (0 = No, 1 = Yes)  \n",
        "- **pclass**: Passenger class (1st, 2nd, 3rd)  \n",
        "- **sex**: Male or female  \n",
        "- **age**: Age of passenger in years  \n",
        "- **sibsp**: Number of siblings/spouses aboard  \n",
        "- **parch**: Number of parents/children aboard  \n",
        "- **fare**: Ticket fare (in British pounds)  \n",
        "- **embarked**: Port of embarkation (C = Cherbourg, Q = Queenstown, S = Southampton)  \n",
        "- **class**: Duplicate categorical version of `pclass`  \n",
        "- **who**: Man, woman, or child (based on sex and age)  \n",
        "- **deck**: Cabin deck (many missing)  \n",
        "- **embark_town**: Full name of embarkation port  \n",
        "- **alive**: Duplicate categorical version of `survived`  \n",
        "- **alone**: Whether passenger was alone or not  \n"
      ]
    },
    {
      "cell_type": "markdown",
      "id": "5fb2f8b2",
      "metadata": {
        "id": "5fb2f8b2"
      },
      "source": [
        "## 📚 Instruction (3h)\n",
        "\n",
        "### 1. Descriptive Statistics"
      ]
    },
    {
      "cell_type": "markdown",
      "id": "1acd0f36",
      "metadata": {
        "id": "1acd0f36"
      },
      "source": [
        "\n",
        "#### Measures of Central Tendency: Mean, Median, Mode\n",
        "We use measures like mean, median, and mode to summarize central tendencies in data.\n",
        "For example, average passenger age or the most common embarkation port.\n",
        "\n",
        "#### Refresher of your statistics\n",
        "\n",
        "* mean - the average value of a numerical variable\n",
        "* median - the middle value when data is sorted\n",
        "* mode - the most frequently occurring value in a variable\n"
      ]
    },
    {
      "cell_type": "code",
      "execution_count": 2,
      "id": "ad963e3b",
      "metadata": {
        "colab": {
          "base_uri": "https://localhost:8080/"
        },
        "id": "ad963e3b",
        "outputId": "be7c016c-d123-4eff-de4b-785ad295037b"
      },
      "outputs": [
        {
          "name": "stdout",
          "output_type": "stream",
          "text": [
            "Mean age: 29.69911764705882\n",
            "Median age: 28.0\n",
            "Mode embark_town: Southampton\n"
          ]
        }
      ],
      "source": [
        "\n",
        "# Mean, Median, Mode examples\n",
        "print(\"Mean age:\", titanic['age'].mean())\n",
        "print(\"Median age:\", titanic['age'].median())\n",
        "print(\"Mode embark_town:\", titanic['embark_town'].mode()[0])\n"
      ]
    },
    {
      "cell_type": "markdown",
      "id": "96808805",
      "metadata": {
        "id": "96808805"
      },
      "source": [
        "\n",
        "#### Measures of Spread: Variance, Standard Deviation, Quartiles\n",
        "Spread measures help us understand variability in the dataset.\n",
        "Titanic fares vary widely across classes.\n",
        "\n",
        "#### Refresher of your statistics\n",
        "\n",
        "* variance - the average of the squared differences from the mean\n",
        "* standard deviation - the square root of variance, indicating typical deviation from the mean\n",
        "* quartiles - values that divide the data into four equal parts (Q1, Q2/median, Q3, IQR)"
      ]
    },
    {
      "cell_type": "code",
      "execution_count": 3,
      "id": "716f2d08",
      "metadata": {
        "colab": {
          "base_uri": "https://localhost:8080/"
        },
        "id": "716f2d08",
        "outputId": "3616f4d9-424d-4196-9f14-0165230c885e"
      },
      "outputs": [
        {
          "name": "stdout",
          "output_type": "stream",
          "text": [
            "Fare variance: 2469.436845743117\n",
            "Fare standard deviation: 49.693428597180905\n",
            "Fare quartiles:\n",
            "25%     7.9104\n",
            "50%    14.4542\n",
            "75%    31.0000\n",
            "Name: fare, dtype: float64\n"
          ]
        }
      ],
      "source": [
        "\n",
        "print(\"Fare variance:\", titanic['fare'].var())\n",
        "print(\"Fare standard deviation:\", titanic['fare'].std())\n",
        "print(\"Fare quartiles:\")\n",
        "print(titanic['fare'].describe()[4:7])\n"
      ]
    },
    {
      "cell_type": "markdown",
      "id": "b7a8a854",
      "metadata": {
        "id": "b7a8a854"
      },
      "source": [
        "\n",
        "#### Skewness & Kurtosis\n",
        "Skewness shows asymmetry in distributions, while kurtosis measures tail heaviness.\n",
        "\n",
        "#### Refresher of your statistics\n",
        "\n",
        "* skewness - a measure of asymmetry in a distribution (positive = right tail, negative = left tail)\n",
        "* kurtosis - a measure of the \"tailedness\" of a distribution (high kurtosis = heavy tails, low kurtosis = light tails)\n",
        "\n",
        "More on formulas for these on wiki: \n",
        "* https://en.wikipedia.org/wiki/Skewness\n",
        "* https://en.wikipedia.org/wiki/Kurtosis\n"
      ]
    },
    {
      "cell_type": "code",
      "execution_count": 4,
      "id": "b590fd58",
      "metadata": {
        "colab": {
          "base_uri": "https://localhost:8080/"
        },
        "id": "b590fd58",
        "outputId": "25a2c1a5-2086-45e3-bd08-345d9122e01a"
      },
      "outputs": [
        {
          "name": "stdout",
          "output_type": "stream",
          "text": [
            "Fare skewness: 4.787316519674893\n",
            "Fare kurtosis: 33.39814088089868\n"
          ]
        }
      ],
      "source": [
        "\n",
        "print(\"Fare skewness:\", titanic['fare'].skew())\n",
        "print(\"Fare kurtosis:\", titanic['fare'].kurt())\n"
      ]
    },
    {
      "cell_type": "markdown",
      "id": "bf28350c",
      "metadata": {},
      "source": [
        "### Interpretation of Skewness and Kurtosis\n",
        "- **Skewness**: A skewness value greater than 0 indicates a right-skewed distribution, while a value less than 0 indicates a left-skewed distribution. A value close to 0 suggests a symmetric distribution.\n",
        "- **Kurtosis**: A kurtosis value greater than 3 indicates a distribution with heavier tails than a normal distribution (leptokurtic), while a value less than 3 indicates lighter tails (platykurtic). A kurtosis of exactly 3 corresponds to a normal distribution (mesokurtic)."
      ]
    },
    {
      "cell_type": "markdown",
      "id": "172dcd4a",
      "metadata": {},
      "source": [
        "### Descriptive Statistics versus Visualizations\n",
        "\n",
        "- Descriptive statistics provide numerical summaries of data, while visualizations offer graphical representations.\n",
        "- Statistics give precise measures (e.g., mean, median), while visualizations reveal patterns, trends, and outliers.\n",
        "- Both are complementary: statistics quantify, while visualizations illustrate.\n",
        "\n"
      ]
    },
    {
      "cell_type": "code",
      "execution_count": null,
      "id": "f6dd810f",
      "metadata": {},
      "outputs": [],
      "source": []
    },
    {
      "cell_type": "markdown",
      "id": "d9bdf095",
      "metadata": {
        "id": "d9bdf095"
      },
      "source": [
        "### 2. Distribution Exploration"
      ]
    },
    {
      "cell_type": "markdown",
      "id": "4129de86",
      "metadata": {
        "id": "4129de86"
      },
      "source": [
        "#### Histograms\n",
        "\n",
        "Histograms show the distribution of numerical variables.\n",
        "For example, the age distribution of Titanic passengers."
      ]
    },
    {
      "cell_type": "code",
      "execution_count": 5,
      "id": "b36b1cd4",
      "metadata": {
        "colab": {
          "base_uri": "https://localhost:8080/",
          "height": 449
        },
        "id": "b36b1cd4",
        "outputId": "040d2350-3b52-40bf-b6e2-21779a21d11f"
      },
      "outputs": [
        {
          "data": {
            "image/png": "[encoded data removed]",
            "text/plain": [
              "<Figure size 640x480 with 1 Axes>"
            ]
          },
          "metadata": {},
          "output_type": "display_data"
        }
      ],
      "source": [
        "sns.histplot(titanic['age'].dropna(), bins=20, kde=False);"
      ]
    },
    {
      "cell_type": "markdown",
      "id": "bb3ef08c",
      "metadata": {
        "id": "bb3ef08c"
      },
      "source": [
        "#### Density Plots\n",
        "\n",
        "Density plots provide a smoothed estimate of the distribution.\n",
        "They help visualize the shape of the distribution without binning artifacts."
      ]
    },
    {
      "cell_type": "code",
      "execution_count": 6,
      "id": "90fb57a1",
      "metadata": {
        "colab": {
          "base_uri": "https://localhost:8080/",
          "height": 449
        },
        "id": "90fb57a1",
        "outputId": "3f7998a9-ef8c-4284-8adc-960cedf58655"
      },
      "outputs": [
        {
          "data": {
            "image/png": "[encoded data removed]",
            "text/plain": [
              "<Figure size 640x480 with 1 Axes>"
            ]
          },
          "metadata": {},
          "output_type": "display_data"
        }
      ],
      "source": [
        "sns.kdeplot(data=titanic, x='age', hue='survived', common_norm=False);"
      ]
    },
    {
      "cell_type": "markdown",
      "id": "e8c3d93b",
      "metadata": {
        "id": "e8c3d93b"
      },
      "source": [
        "#### Boxplots\n",
        "\n",
        "Boxplots summarize distributions and highlight outliers.\n",
        "They show median, quartiles, and potential outliers in fare by passenger class."
      ]
    },
    {
      "cell_type": "code",
      "execution_count": 7,
      "id": "b99f68ef",
      "metadata": {
        "colab": {
          "base_uri": "https://localhost:8080/",
          "height": 449
        },
        "id": "b99f68ef",
        "outputId": "c2b5128f-e6a5-4011-9ca6-0f79d22c7edf"
      },
      "outputs": [
        {
          "data": {
            "image/png": "[encoded data removed]",
            "text/plain": [
              "<Figure size 640x480 with 1 Axes>"
            ]
          },
          "metadata": {},
          "output_type": "display_data"
        }
      ],
      "source": [
        "sns.boxplot(data=titanic, x='class', y='fare');"
      ]
    },
    {
      "cell_type": "markdown",
      "id": "8547f8f5",
      "metadata": {
        "id": "8547f8f5"
      },
      "source": [
        "### 3. Outlier Detection"
      ]
    },
    {
      "cell_type": "markdown",
      "id": "e5749284",
      "metadata": {
        "id": "e5749284"
      },
      "source": [
        "#### Boxplots & Scatterplots\n",
        "\n",
        "Boxplots and scatterplots help identify outliers in numerical data.\n",
        "For instance, unusually high fares paid by some passengers."
      ]
    },
    {
      "cell_type": "code",
      "execution_count": 8,
      "id": "2dcdd51f",
      "metadata": {
        "colab": {
          "base_uri": "https://localhost:8080/",
          "height": 449
        },
        "id": "2dcdd51f",
        "outputId": "a0dd07ce-e055-468e-999d-646f817098df"
      },
      "outputs": [
        {
          "data": {
            "image/png": "[encoded data removed]",
            "text/plain": [
              "<Figure size 640x480 with 1 Axes>"
            ]
          },
          "metadata": {},
          "output_type": "display_data"
        }
      ],
      "source": [
        "sns.scatterplot(data=titanic, x='age', y='fare', hue='class');"
      ]
    },
    {
      "cell_type": "markdown",
      "id": "15f05873",
      "metadata": {
        "id": "15f05873"
      },
      "source": [
        "#### IQR Method\n",
        "\n",
        "The Interquartile Range (IQR) method identifies outliers as points below Q1 - 1.5*IQR or above Q3 + 1.5*IQR.    \n",
        "\n",
        "Definition of IQR: IQR = Q3 - Q1, where Q1 is the first quartile (25th percentile) and Q3 is the third quartile (75th percentile).\n",
        "Wiki reference: https://en.wikipedia.org/wiki/Interquartile_range\n",
        "\n",
        "![IQR](https://upload.wikimedia.org/wikipedia/commons/thumb/1/1a/Boxplot_vs_PDF.svg/500px-Boxplot_vs_PDF.svg.png)"
      ]
    },
    {
      "cell_type": "code",
      "execution_count": 9,
      "id": "eccf8bfd",
      "metadata": {
        "colab": {
          "base_uri": "https://localhost:8080/"
        },
        "id": "eccf8bfd",
        "outputId": "90eac094-40a1-4a8f-a36a-e93bd47942b5"
      },
      "outputs": [
        {
          "name": "stdout",
          "output_type": "stream",
          "text": [
            "Outliers count: 116\n"
          ]
        }
      ],
      "source": [
        "\n",
        "Q1 = titanic['fare'].quantile(0.25)\n",
        "Q3 = titanic['fare'].quantile(0.75)\n",
        "IQR = Q3 - Q1\n",
        "outliers = titanic[(titanic['fare'] < Q1 - 1.5*IQR) | (titanic['fare'] > Q3 + 1.5*IQR)]\n",
        "print(\"Outliers count:\", len(outliers))\n"
      ]
    },
    {
      "cell_type": "markdown",
      "id": "f2015333",
      "metadata": {
        "id": "f2015333"
      },
      "source": [
        "### 4. Correlation Analysis\n",
        "\n",
        "Correlation measures the strength and direction of relationships between numerical variables.\n",
        "#### Correlation Matrix\n",
        "A correlation matrix shows pairwise correlations between numerical variables."
      ]
    },
    {
      "cell_type": "code",
      "execution_count": 10,
      "id": "cd0a922e",
      "metadata": {
        "colab": {
          "base_uri": "https://localhost:8080/",
          "height": 435
        },
        "id": "cd0a922e",
        "outputId": "2d174363-c7a5-4686-9e88-bfcfefab594c"
      },
      "outputs": [
        {
          "data": {
            "image/png": "[encoded data removed]",
            "text/plain": [
              "<Figure size 640x480 with 2 Axes>"
            ]
          },
          "metadata": {},
          "output_type": "display_data"
        }
      ],
      "source": [
        "\n",
        "corr = titanic[['age','fare','sibsp','parch']].corr()\n",
        "sns.heatmap(corr, annot=True, cmap='coolwarm');\n"
      ]
    },
    {
      "cell_type": "markdown",
      "id": "c6768464",
      "metadata": {
        "id": "c6768464"
      },
      "source": [
        "### 5. Grouping & Aggregation\n",
        "\n",
        "Grouping and aggregation summarize data by categories.\n",
        "\n",
        "The `groupby` function in Pandas allows you to group data by one or more categorical variables and then apply aggregation functions (like mean, sum, count) to summarize the data within each group.\n",
        "\n",
        "#### Similarity to SQL's GROUP BY\n",
        "Pandas' `groupby` function is similar to SQL's `GROUP BY` clause, allowing aggregation of data based on categorical variables."
      ]
    },
    {
      "cell_type": "code",
      "execution_count": 11,
      "id": "7c8bbba6",
      "metadata": {
        "colab": {
          "base_uri": "https://localhost:8080/"
        },
        "id": "7c8bbba6",
        "outputId": "96d184ed-d29f-495d-b676-ac3ffe523c7b"
      },
      "outputs": [
        {
          "name": "stdout",
          "output_type": "stream",
          "text": [
            "sex\n",
            "female    0.742038\n",
            "male      0.188908\n",
            "Name: survived, dtype: float64\n",
            "             mean   median  count\n",
            "class                            \n",
            "First   84.154687  60.2875    216\n",
            "Second  20.662183  14.2500    184\n",
            "Third   13.675550   8.0500    491\n"
          ]
        },
        {
          "name": "stderr",
          "output_type": "stream",
          "text": [
            "/tmp/ipython-input-2110100083.py:5: FutureWarning: The default of observed=False is deprecated and will be changed to True in a future version of pandas. Pass observed=False to retain current behavior or observed=True to adopt the future default and silence this warning.\n",
            "  print(titanic.groupby('class')['fare'].agg(['mean','median','count']))\n"
          ]
        }
      ],
      "source": [
        "\n",
        "# Survival rates by sex\n",
        "print(titanic.groupby('sex')['survived'].mean())\n",
        "\n",
        "# Multiple statistics on fares by class\n",
        "print(titanic.groupby('class')['fare'].agg(['mean','median','count']))\n"
      ]
    },
    {
      "cell_type": "markdown",
      "id": "259deba8",
      "metadata": {
        "id": "259deba8"
      },
      "source": [
        "#### Pivot Tables\n",
        "\n",
        "Pivot tables provide a multi-dimensional summary of data, allowing you to aggregate and analyze data across multiple categorical variables simultaneously.\n",
        "\n",
        "#### Crosstab in Pandas\n",
        "\n",
        "Crosstab is a specific type of pivot table that computes a simple cross-tabulation of two (or more) factors. It is often used to analyze the relationship between categorical variables.\n",
        "\n",
        "Below we analyze survival rates by passenger class and gender."
      ]
    },
    {
      "cell_type": "code",
      "execution_count": 12,
      "id": "7dd1e3fb",
      "metadata": {
        "colab": {
          "base_uri": "https://localhost:8080/",
          "height": 143
        },
        "id": "7dd1e3fb",
        "outputId": "1c5aebe3-9d17-441d-9cbc-7dbfc194f54f"
      },
      "outputs": [
        {
          "data": {
            "application/vnd.google.colaboratory.intrinsic+json": {
              "summary": "{\n  \"name\": \"pd\",\n  \"rows\": 2,\n  \"fields\": [\n    {\n      \"column\": \"sex\",\n      \"properties\": {\n        \"dtype\": \"string\",\n        \"num_unique_values\": 2,\n        \"samples\": [\n          \"male\",\n          \"female\"\n        ],\n        \"semantic_type\": \"\",\n        \"description\": \"\"\n      }\n    },\n    {\n      \"column\": \"First\",\n      \"properties\": {\n        \"dtype\": \"number\",\n        \"std\": 0.4237214684612796,\n        \"min\": 0.36885245901639346,\n        \"max\": 0.9680851063829787,\n        \"num_unique_values\": 2,\n        \"samples\": [\n          0.36885245901639346,\n          0.9680851063829787\n        ],\n        \"semantic_type\": \"\",\n        \"description\": \"\"\n      }\n    },\n    {\n      \"column\": \"Second\",\n      \"properties\": {\n        \"dtype\": \"number\",\n        \"std\": 0.5399787164324171,\n        \"min\": 0.1574074074074074,\n        \"max\": 0.9210526315789473,\n        \"num_unique_values\": 2,\n        \"samples\": [\n          0.1574074074074074,\n          0.9210526315789473\n        ],\n        \"semantic_type\": \"\",\n        \"description\": \"\"\n      }\n    },\n    {\n      \"column\": \"Third\",\n      \"properties\": {\n        \"dtype\": \"number\",\n        \"std\": 0.25777812051901516,\n        \"min\": 0.13544668587896252,\n        \"max\": 0.5,\n        \"num_unique_values\": 2,\n        \"samples\": [\n          0.13544668587896252,\n          0.5\n        ],\n        \"semantic_type\": \"\",\n        \"description\": \"\"\n      }\n    }\n  ]\n}",
              "type": "dataframe"
            },
            "text/html": [
              "\n",
              "  <div id=\"df-ad60df8a-26e2-4d91-b33b-d09825bc8f58\" class=\"colab-df-container\">\n",
              "    <div>\n",
              "<style scoped>\n",
              "    .dataframe tbody tr th:only-of-type {\n",
              "        vertical-align: middle;\n",
              "    }\n",
              "\n",
              "    .dataframe tbody tr th {\n",
              "        vertical-align: top;\n",
              "    }\n",
              "\n",
              "    .dataframe thead th {\n",
              "        text-align: right;\n",
              "    }\n",
              "</style>\n",
              "<table border=\"1\" class=\"dataframe\">\n",
              "  <thead>\n",
              "    <tr style=\"text-align: right;\">\n",
              "      <th>class</th>\n",
              "      <th>First</th>\n",
              "      <th>Second</th>\n",
              "      <th>Third</th>\n",
              "    </tr>\n",
              "    <tr>\n",
              "      <th>sex</th>\n",
              "      <th></th>\n",
              "      <th></th>\n",
              "      <th></th>\n",
              "    </tr>\n",
              "  </thead>\n",
              "  <tbody>\n",
              "    <tr>\n",
              "      <th>female</th>\n",
              "      <td>0.968085</td>\n",
              "      <td>0.921053</td>\n",
              "      <td>0.500000</td>\n",
              "    </tr>\n",
              "    <tr>\n",
              "      <th>male</th>\n",
              "      <td>0.368852</td>\n",
              "      <td>0.157407</td>\n",
              "      <td>0.135447</td>\n",
              "    </tr>\n",
              "  </tbody>\n",
              "</table>\n",
              "</div>\n",
              "    <div class=\"colab-df-buttons\">\n",
              "\n",
              "  <div class=\"colab-df-container\">\n",
              "    <button class=\"colab-df-convert\" onclick=\"convertToInteractive('df-ad60df8a-26e2-4d91-b33b-d09825bc8f58')\"\n",
              "            title=\"Convert this dataframe to an interactive table.\"\n",
              "            style=\"display:none;\">\n",
              "\n",
              "  <svg xmlns=\"http://www.w3.org/2000/svg\" height=\"24px\" viewBox=\"0 -960 960 960\">\n",
              "    <path d=\"M120-120v-720h720v720H120Zm60-500h600v-160H180v160Zm220 220h160v-160H400v160Zm0 220h160v-160H400v160ZM180-400h160v-160H180v160Zm440 0h160v-160H620v160ZM180-180h160v-160H180v160Zm440 0h160v-160H620v160Z\"/>\n",
              "  </svg>\n",
              "    </button>\n",
              "\n",
              "  <style>\n",
              "    .colab-df-container {\n",
              "      display:flex;\n",
              "      gap: 12px;\n",
              "    }\n",
              "\n",
              "    .colab-df-convert {\n",
              "      background-color: #E8F0FE;\n",
              "      border: none;\n",
              "      border-radius: 50%;\n",
              "      cursor: pointer;\n",
              "      display: none;\n",
              "      fill: #1967D2;\n",
              "      height: 32px;\n",
              "      padding: 0 0 0 0;\n",
              "      width: 32px;\n",
              "    }\n",
              "\n",
              "    .colab-df-convert:hover {\n",
              "      background-color: #E2EBFA;\n",
              "      box-shadow: 0px 1px 2px rgba(60, 64, 67, 0.3), 0px 1px 3px 1px rgba(60, 64, 67, 0.15);\n",
              "      fill: #174EA6;\n",
              "    }\n",
              "\n",
              "    .colab-df-buttons div {\n",
              "      margin-bottom: 4px;\n",
              "    }\n",
              "\n",
              "    [theme=dark] .colab-df-convert {\n",
              "      background-color: #3B4455;\n",
              "      fill: #D2E3FC;\n",
              "    }\n",
              "\n",
              "    [theme=dark] .colab-df-convert:hover {\n",
              "      background-color: #434B5C;\n",
              "      box-shadow: 0px 1px 3px 1px rgba(0, 0, 0, 0.15);\n",
              "      filter: drop-shadow(0px 1px 2px rgba(0, 0, 0, 0.3));\n",
              "      fill: #FFFFFF;\n",
              "    }\n",
              "  </style>\n",
              "\n",
              "    <script>\n",
              "      const buttonEl =\n",
              "        document.querySelector('#df-ad60df8a-26e2-4d91-b33b-d09825bc8f58 button.colab-df-convert');\n",
              "      buttonEl.style.display =\n",
              "        google.colab.kernel.accessAllowed ? 'block' : 'none';\n",
              "\n",
              "      async function convertToInteractive(key) {\n",
              "        const element = document.querySelector('#df-ad60df8a-26e2-4d91-b33b-d09825bc8f58');\n",
              "        const dataTable =\n",
              "          await google.colab.kernel.invokeFunction('convertToInteractive',\n",
              "                                                    [key], {});\n",
              "        if (!dataTable) return;\n",
              "\n",
              "        const docLinkHtml = 'Like what you see? Visit the ' +\n",
              "          '<a target=\"_blank\" href=https://colab.research.google.com/notebooks/data_table.ipynb>data table notebook</a>'\n",
              "          + ' to learn more about interactive tables.';\n",
              "        element.innerHTML = '';\n",
              "        dataTable['output_type'] = 'display_data';\n",
              "        await google.colab.output.renderOutput(dataTable, element);\n",
              "        const docLink = document.createElement('div');\n",
              "        docLink.innerHTML = docLinkHtml;\n",
              "        element.appendChild(docLink);\n",
              "      }\n",
              "    </script>\n",
              "  </div>\n",
              "\n",
              "\n",
              "    <div id=\"df-893ee4e8-eca4-4bf6-8341-46c16b60370e\">\n",
              "      <button class=\"colab-df-quickchart\" onclick=\"quickchart('df-893ee4e8-eca4-4bf6-8341-46c16b60370e')\"\n",
              "                title=\"Suggest charts\"\n",
              "                style=\"display:none;\">\n",
              "\n",
              "<svg xmlns=\"http://www.w3.org/2000/svg\" height=\"24px\"viewBox=\"0 0 24 24\"\n",
              "     width=\"24px\">\n",
              "    <g>\n",
              "        <path d=\"M19 3H5c-1.1 0-2 .9-2 2v14c0 1.1.9 2 2 2h14c1.1 0 2-.9 2-2V5c0-1.1-.9-2-2-2zM9 17H7v-7h2v7zm4 0h-2V7h2v10zm4 0h-2v-4h2v4z\"/>\n",
              "    </g>\n",
              "</svg>\n",
              "      </button>\n",
              "\n",
              "<style>\n",
              "  .colab-df-quickchart {\n",
              "      --bg-color: #E8F0FE;\n",
              "      --fill-color: #1967D2;\n",
              "      --hover-bg-color: #E2EBFA;\n",
              "      --hover-fill-color: #174EA6;\n",
              "      --disabled-fill-color: #AAA;\n",
              "      --disabled-bg-color: #DDD;\n",
              "  }\n",
              "\n",
              "  [theme=dark] .colab-df-quickchart {\n",
              "      --bg-color: #3B4455;\n",
              "      --fill-color: #D2E3FC;\n",
              "      --hover-bg-color: #434B5C;\n",
              "      --hover-fill-color: #FFFFFF;\n",
              "      --disabled-bg-color: #3B4455;\n",
              "      --disabled-fill-color: #666;\n",
              "  }\n",
              "\n",
              "  .colab-df-quickchart {\n",
              "    background-color: var(--bg-color);\n",
              "    border: none;\n",
              "    border-radius: 50%;\n",
              "    cursor: pointer;\n",
              "    display: none;\n",
              "    fill: var(--fill-color);\n",
              "    height: 32px;\n",
              "    padding: 0;\n",
              "    width: 32px;\n",
              "  }\n",
              "\n",
              "  .colab-df-quickchart:hover {\n",
              "    background-color: var(--hover-bg-color);\n",
              "    box-shadow: 0 1px 2px rgba(60, 64, 67, 0.3), 0 1px 3px 1px rgba(60, 64, 67, 0.15);\n",
              "    fill: var(--button-hover-fill-color);\n",
              "  }\n",
              "\n",
              "  .colab-df-quickchart-complete:disabled,\n",
              "  .colab-df-quickchart-complete:disabled:hover {\n",
              "    background-color: var(--disabled-bg-color);\n",
              "    fill: var(--disabled-fill-color);\n",
              "    box-shadow: none;\n",
              "  }\n",
              "\n",
              "  .colab-df-spinner {\n",
              "    border: 2px solid var(--fill-color);\n",
              "    border-color: transparent;\n",
              "    border-bottom-color: var(--fill-color);\n",
              "    animation:\n",
              "      spin 1s steps(1) infinite;\n",
              "  }\n",
              "\n",
              "  @keyframes spin {\n",
              "    0% {\n",
              "      border-color: transparent;\n",
              "      border-bottom-color: var(--fill-color);\n",
              "      border-left-color: var(--fill-color);\n",
              "    }\n",
              "    20% {\n",
              "      border-color: transparent;\n",
              "      border-left-color: var(--fill-color);\n",
              "      border-top-color: var(--fill-color);\n",
              "    }\n",
              "    30% {\n",
              "      border-color: transparent;\n",
              "      border-left-color: var(--fill-color);\n",
              "      border-top-color: var(--fill-color);\n",
              "      border-right-color: var(--fill-color);\n",
              "    }\n",
              "    40% {\n",
              "      border-color: transparent;\n",
              "      border-right-color: var(--fill-color);\n",
              "      border-top-color: var(--fill-color);\n",
              "    }\n",
              "    60% {\n",
              "      border-color: transparent;\n",
              "      border-right-color: var(--fill-color);\n",
              "    }\n",
              "    80% {\n",
              "      border-color: transparent;\n",
              "      border-right-color: var(--fill-color);\n",
              "      border-bottom-color: var(--fill-color);\n",
              "    }\n",
              "    90% {\n",
              "      border-color: transparent;\n",
              "      border-bottom-color: var(--fill-color);\n",
              "    }\n",
              "  }\n",
              "</style>\n",
              "\n",
              "      <script>\n",
              "        async function quickchart(key) {\n",
              "          const quickchartButtonEl =\n",
              "            document.querySelector('#' + key + ' button');\n",
              "          quickchartButtonEl.disabled = true;  // To prevent multiple clicks.\n",
              "          quickchartButtonEl.classList.add('colab-df-spinner');\n",
              "          try {\n",
              "            const charts = await google.colab.kernel.invokeFunction(\n",
              "                'suggestCharts', [key], {});\n",
              "          } catch (error) {\n",
              "            console.error('Error during call to suggestCharts:', error);\n",
              "          }\n",
              "          quickchartButtonEl.classList.remove('colab-df-spinner');\n",
              "          quickchartButtonEl.classList.add('colab-df-quickchart-complete');\n",
              "        }\n",
              "        (() => {\n",
              "          let quickchartButtonEl =\n",
              "            document.querySelector('#df-893ee4e8-eca4-4bf6-8341-46c16b60370e button');\n",
              "          quickchartButtonEl.style.display =\n",
              "            google.colab.kernel.accessAllowed ? 'block' : 'none';\n",
              "        })();\n",
              "      </script>\n",
              "    </div>\n",
              "\n",
              "    </div>\n",
              "  </div>\n"
            ],
            "text/plain": [
              "class      First    Second     Third\n",
              "sex                                 \n",
              "female  0.968085  0.921053  0.500000\n",
              "male    0.368852  0.157407  0.135447"
            ]
          },
          "execution_count": 12,
          "metadata": {},
          "output_type": "execute_result"
        }
      ],
      "source": [
        "\n",
        "pd.crosstab(titanic['sex'], titanic['class'], values=titanic['survived'], aggfunc='mean')\n"
      ]
    },
    {
      "cell_type": "markdown",
      "id": "cdec1262",
      "metadata": {
        "id": "cdec1262"
      },
      "source": [
        "### 6. Missing Data Analysis\n",
        "\n",
        "#### Identifying Missing Data\n",
        "\n",
        "We identify missing data using functions like `isnull()` and `sum()` in Pandas.\n",
        "\n"
      ]
    },
    {
      "cell_type": "code",
      "execution_count": 13,
      "id": "513625c5",
      "metadata": {
        "colab": {
          "base_uri": "https://localhost:8080/",
          "height": 554
        },
        "id": "513625c5",
        "outputId": "aa9e03c3-cacc-4f0a-bd85-33a685916134"
      },
      "outputs": [
        {
          "data": {
            "text/html": [
              "<div>\n",
              "<style scoped>\n",
              "    .dataframe tbody tr th:only-of-type {\n",
              "        vertical-align: middle;\n",
              "    }\n",
              "\n",
              "    .dataframe tbody tr th {\n",
              "        vertical-align: top;\n",
              "    }\n",
              "\n",
              "    .dataframe thead th {\n",
              "        text-align: right;\n",
              "    }\n",
              "</style>\n",
              "<table border=\"1\" class=\"dataframe\">\n",
              "  <thead>\n",
              "    <tr style=\"text-align: right;\">\n",
              "      <th></th>\n",
              "      <th>0</th>\n",
              "    </tr>\n",
              "  </thead>\n",
              "  <tbody>\n",
              "    <tr>\n",
              "      <th>survived</th>\n",
              "      <td>0</td>\n",
              "    </tr>\n",
              "    <tr>\n",
              "      <th>pclass</th>\n",
              "      <td>0</td>\n",
              "    </tr>\n",
              "    <tr>\n",
              "      <th>sex</th>\n",
              "      <td>0</td>\n",
              "    </tr>\n",
              "    <tr>\n",
              "      <th>age</th>\n",
              "      <td>177</td>\n",
              "    </tr>\n",
              "    <tr>\n",
              "      <th>sibsp</th>\n",
              "      <td>0</td>\n",
              "    </tr>\n",
              "    <tr>\n",
              "      <th>parch</th>\n",
              "      <td>0</td>\n",
              "    </tr>\n",
              "    <tr>\n",
              "      <th>fare</th>\n",
              "      <td>0</td>\n",
              "    </tr>\n",
              "    <tr>\n",
              "      <th>embarked</th>\n",
              "      <td>2</td>\n",
              "    </tr>\n",
              "    <tr>\n",
              "      <th>class</th>\n",
              "      <td>0</td>\n",
              "    </tr>\n",
              "    <tr>\n",
              "      <th>who</th>\n",
              "      <td>0</td>\n",
              "    </tr>\n",
              "    <tr>\n",
              "      <th>adult_male</th>\n",
              "      <td>0</td>\n",
              "    </tr>\n",
              "    <tr>\n",
              "      <th>deck</th>\n",
              "      <td>688</td>\n",
              "    </tr>\n",
              "    <tr>\n",
              "      <th>embark_town</th>\n",
              "      <td>2</td>\n",
              "    </tr>\n",
              "    <tr>\n",
              "      <th>alive</th>\n",
              "      <td>0</td>\n",
              "    </tr>\n",
              "    <tr>\n",
              "      <th>alone</th>\n",
              "      <td>0</td>\n",
              "    </tr>\n",
              "  </tbody>\n",
              "</table>\n",
              "</div><br><label><b>dtype:</b> int64</label>"
            ],
            "text/plain": [
              "survived         0\n",
              "pclass           0\n",
              "sex              0\n",
              "age            177\n",
              "sibsp            0\n",
              "parch            0\n",
              "fare             0\n",
              "embarked         2\n",
              "class            0\n",
              "who              0\n",
              "adult_male       0\n",
              "deck           688\n",
              "embark_town      2\n",
              "alive            0\n",
              "alone            0\n",
              "dtype: int64"
            ]
          },
          "execution_count": 13,
          "metadata": {},
          "output_type": "execute_result"
        }
      ],
      "source": [
        "titanic.isnull().sum()"
      ]
    },
    {
      "cell_type": "markdown",
      "id": "0e409b4e",
      "metadata": {},
      "source": [
        "### 7. Chi-Squared Test for Categorical Variables\n",
        "\n",
        "Chi-squared test assesses associations between categorical variables.\n",
        "\n",
        "#### Chi-Squared Test Overview\n",
        "\n",
        "- The Chi-squared test evaluates whether there is a significant association between two categorical variables.\n",
        "- It compares observed frequencies in each category to the frequencies expected if there were no association.\n",
        "\n",
        "\n",
        "#### Pandas `crosstab` and `chi2_contingency`\n",
        "\n",
        "- We can use `pandas.crosstab` to create a contingency table of observed frequencies.\n",
        "- The `scipy.stats.chi2_contingency` function performs the Chi-squared test on the contingency table.\n",
        "\n",
        "#### Interpreting Chi-Squared Results\n",
        "\n",
        "- The test returns a Chi-squared statistic, p-value, degrees of freedom, and expected frequencies.\n",
        "- A low p-value (typically < 0.05) indicates a significant association between the variables.\n",
        "#### Example\n",
        "\n",
        "```python\n",
        "import pandas as pd\n",
        "from scipy.stats import chi2_contingency\n",
        "# Create a contingency table\n",
        "contingency_table = pd.crosstab(df['embarked'], df['survived'])\n",
        "# Perform Chi-squared test\n",
        "chi2, p, dof, expected = chi2_contingency(contingency_table)\n",
        "print(f\"Chi-squared: {chi2}, p-value: {p}\")\n",
        "# Interpret results\n",
        "if p < 0.05:\n",
        "    print(\"Significant association between embarked port and survival.\")\n",
        "else:\n",
        "    print(\"No significant association between embarked port and survival.\")\n",
        "```\n",
        "\n",
        "More on Chi-squared test: https://en.wikipedia.org/wiki/Chi-squared_test"
      ]
    },
    {
      "cell_type": "markdown",
      "id": "6f6015a7",
      "metadata": {
        "id": "6f6015a7"
      },
      "source": [
        "\n",
        "## 📝 Exercise (30–45 min)\n",
        "\n",
        "Using the Titanic dataset, complete the following tasks:\n",
        "\n",
        "1. Compute survival rates by **embark_town** and **class**.  \n",
        "2. Plot the age distribution for survivors vs non-survivors using **histograms** or **density plots**.  \n",
        "3. Detect outliers in **age** using the IQR method and comment on findings.  \n",
        "4. Create a new feature `family_size = sibsp + parch + 1`. Analyze its relationship with survival.  \n",
        "5. Use a **pivot table** to display survival rates by **sex** and **class**. What patterns do you see?  \n",
        "6. (Optional, for advanced) Perform a **chi-square test** on survival vs sex to test independence.  \n"
      ]
    },
    {
      "cell_type": "markdown",
      "id": "13692724",
      "metadata": {
        "id": "13692724"
      },
      "source": [
        "\n",
        "## 🔄 Reflection\n",
        "\n",
        "- What surprised you most about Titanic passenger survival patterns?  \n",
        "- How do categorical vs numerical features require different EDA approaches?  \n",
        "- How could EDA guide the next steps in modeling or prediction?  \n"
      ]
    },
    {
      "cell_type": "markdown",
      "id": "c84c0b52",
      "metadata": {
        "id": "c84c0b52"
      },
      "source": [
        "\n",
        "## 📚 Additional Sources for Further EDA Work\n",
        "\n",
        "- Wes McKinney, *Python for Data Analysis*  \n",
        "- Jake VanderPlas, *Python Data Science Handbook*  \n",
        "- YData Profiling: [https://ydata-profiling.ydata.ai](https://ydata-profiling.ydata.ai)  \n",
        "- Seaborn Documentation: [https://seaborn.pydata.org](https://seaborn.pydata.org)  \n"
      ]
    }
  ],
  "metadata": {
    "colab": {
      "provenance": []
    },
    "kernelspec": {
      "display_name": "Python 3",
      "name": "python3"
    },
    "language_info": {
      "name": "python"
    }
  },
  "nbformat": 4,
  "nbformat_minor": 5
}

{
 "cells": [
  {
   "cell_type": "markdown",
   "metadata": {},
   "source": [
    "# 📅 Ideas — Data Visualization in Python\n",
    "\n",
    "**📚 Instruction (3h)**  \n",
    "- 🖌 matplotlib basics  \n",
    "- 🎨 seaborn for statistical plots  \n",
    "- 📊 Choosing the right chart type  \n",
    "- ✏️ Plot customization (titles, labels, color themes)  \n",
    "- 🖼 Multi-panel plots  \n",
    "- 🌐 Intro to plotly for interactivity  \n",
    "\n",
    "**🛠 Practical (1h)**  \n",
    "- 📊 Create bar chart, time series, scatter plot, and an interactive chart  \n",
    "\n",
    "**🔄 Reflection (1h)**  \n",
    "- 🧐 Compare different visualization styles for same data  \n",
    "- 👥 Group critique: clarity, aesthetics, accuracy  \n",
    "- 💬 Discuss when interactivity is worth the extra complexity"
   ]
  }
 ],
 "metadata": {
  "kernelspec": {
   "display_name": "Python 3",
   "language": "python",
   "name": "python3"
  },
  "language_info": {
   "codemirror_mode": {
    "name": "ipython",
    "version": 3
   },
   "file_extension": ".py",
   "mimetype": "text/x-python",
   "name": "python",
   "nbconvert_exporter": "python",
   "pygments_lexer": "ipython3",
   "version": "3.8.0"
  }
 },
 "nbformat": 4,
 "nbformat_minor": 4
}

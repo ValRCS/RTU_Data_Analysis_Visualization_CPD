{
  "cells": [
    {
      "cell_type": "markdown",
      "id": "c5508c77",
      "metadata": {
        "id": "c5508c77"
      },
      "source": [
        "# 📅 Day 2 — Data Cleaning & Preparation\n",
        "\n",
        "*RTU Data Analysis & Visualization CPD course*\n",
        "\n",
        "**📚 Instruction (3h)**  \n",
        "- 🧹 Handling missing values  \n",
        "- 🗑 Removing duplicates  \n",
        "- 🔄 Data type conversion  \n",
        "- 📅 Parsing dates  \n",
        "- 🏗 Feature engineering basics  \n",
        "- 🔗 Combining datasets  \n",
        "- 🏷 Intro to categorical encoding  \n",
        "\n",
        "**🛠 Practical (1h)**  \n",
        "- 🧽 Clean a messy dataset  \n",
        "- 🔀 Merge with a secondary dataset  \n",
        "\n",
        "**🔄 Reflection (1h)**  \n",
        "- 🧐 Review: common pitfalls in cleaning  \n",
        "- 💬 Discuss real-world cleaning challenges  \n",
        "- 📝 Recap exercise: identify cleaning steps for a small example dataset"
      ]
    },
    {
      "cell_type": "markdown",
      "id": "ea319510",
      "metadata": {
        "id": "ea319510"
      },
      "source": [
        "## 🎯 Goals for the Day\n",
        "- Strengthen Python basics (functions, loops, if/else, file handling)\n",
        "- Learn to process raw messy text files into usable form\n",
        "- Apply pandas methods to clean incomplete/messy data\n",
        "- Merge multiple datasets into a single unified dataframe"
      ]
    },
    {
      "cell_type": "markdown",
      "id": "9d16816f",
      "metadata": {
        "id": "9d16816f"
      },
      "source": [
        "## 💡 Motivation / Explanation\n",
        "\n",
        "### Introduction to Data Cleaning and Preparation\n",
        "\n",
        "- **Why cleaning is critical before analysis**\n",
        "  - Raw data is almost never ready for direct analysis\n",
        "  - Errors, inconsistencies, and missing information can distort results\n",
        "  - Proper cleaning ensures reliability, reproducibility, and trust in analysis outcomes\n",
        "\n",
        "- **Real-world examples of messy data**\n",
        "  - 🧹 Handling missing values - Weather records with missing timestamps or corrupt values\n",
        "  - 🗳️ Survey responses with inconsistent categories (e.g., \"Male\", \"male\", \"M\")\n",
        "  - 🗑 Removing duplicates - Financial transactions with duplicate entries\n",
        "  - 🗑 Log files with noise lines, system messages, or broken encodings\n",
        "  - 📅 Parsing dates - Event logs with inconsistent timestamp formats\n",
        "  - 🔄 Data type conversion - User age recorded as text instead of numbers\n",
        "\n",
        "> Think of data cleaning as *“washing vegetables before cooking”* — not exciting, but essential for a good meal.\n"
      ]
    },
    {
      "cell_type": "markdown",
      "id": "5432cd86",
      "metadata": {
        "id": "5432cd86"
      },
      "source": [
        "## Weather Dataset: `latvia_meteo_1925_messy.zip`\n",
        "\n",
        "Let us imagine we are helping Toms Bricis with weather data analysis for the year 1925. We have come across a bundle of messy text files that require cleaning and preparation.\n",
        "\n",
        "- **What it is:** a bundle of **five “messy” text files** (≈50 rows each) simulating daily measurements from Latvian stations in **1925**:\n",
        "  - **Rīga-University** — *Period 1 (Jan–Mar)*\n",
        "  - **Rīga-University** — *Period 2 (Sep–Nov)*\n",
        "  - **Liepāja** — *Apr–Jun*\n",
        "  - **Mērsrags** — *Feb–May*\n",
        "  - **Alūksne** — *Oct–Dec*\n",
        "\n",
        "- **Columns present (but order varies by file):**  \n",
        "  `date`, `t_max_c`, `t_min_c`, `precip_24h_mm`, `precip_type`, `present_weather_code`, `notes`\n",
        "\n",
        "- **Deliberate “messiness” to practice cleaning:**\n",
        "  - **Different separators:** `;`, `,`, `|`, and **TAB** (documented in each file’s `# fields=` header).\n",
        "  - **Mixed column order** across files (use the header to map columns).\n",
        "  - **Date formats vary** (`YYYY-MM-DD`, `DD.MM.YYYY`, `YYYY/MM/DD`, `DD-MM-YYYY`, `MM-DD-YYYY`, `YYYY.MM.DD`) and sometimes **include a time** (e.g., `07:00`).\n",
        "  - **Numeric quirks:** decimal **commas** (e.g., `0,6`), **units** in strings (e.g., `0.8 mm`), and the Latvian word **“nulle”** for zero.\n",
        "  - **Missing values** sprinkled in as `\"\"`, `NA`, `—`, `-999`.\n",
        "  - **Codes as strings** with possible leading zeros (e.g., `present_weather_code = \"05\"`).\n",
        "  - **Free-text `notes`** in Latvian from the station master (may be blank/missing).\n",
        "\n",
        "- **Intended skills to practice (Day 2):**\n",
        "  - Detect & use **separators/column order** from headers.\n",
        "  - **Parse heterogeneous dates** (with optional times).\n",
        "  - Normalize **numerics/units** (decimal commas, `mm`, worded zeros).\n",
        "  - Unify **missing values** and enforce **types** (e.g., cast weather codes to integers).\n",
        "  - Keep useful **categorical text** (`precip_type`, `notes`) intact.\n",
        "\n",
        "As part of our workflow we will want to verify whether the above descriptions of messiness hold true for our specific dataset files. This will help us tailor our cleaning approach effectively.\n"
      ]
    },
    {
      "cell_type": "markdown",
      "id": "eec9faea",
      "metadata": {
        "id": "eec9faea"
      },
      "source": [
        "## Part 1: Python Fundamentals for Data Cleaning\n",
        "\n",
        "For our first part we will use basic Python programming skills to explore and understand the dataset structure before diving into the cleaning process.\n",
        "\n",
        "### 🔑 Key Idea - Loops Go Brrr\n",
        "\n",
        "One of key advantages of programming is that we can automate repetitive tasks using loops. This is especially useful when working with datasets, as it allows us to apply the same operations to multiple rows or files without having to write redundant code.\n",
        "\n",
        "Similarly loops let us figure out an approach that works for a single file and then easily adapt it to others.\n"
      ]
    },
    {
      "cell_type": "markdown",
      "id": "85ecad9f",
      "metadata": {
        "id": "85ecad9f"
      },
      "source": [
        "### Getting ready for work\n",
        "\n",
        "Typically in a finished notebook (and also normal scripts / programs), we want to start with a clear setup phase. This includes:\n",
        "\n",
        "1. **Importing Libraries:** Load all necessary libraries at the beginning.\n",
        "2. **Setting Up Paths:** Define file paths and other constants.\n",
        "3. **Configuring Options:** Set any options or preferences (e.g., display settings).\n",
        "\n",
        "By organizing our code this way, we make it easier to understand and modify later on.\n"
      ]
    },
    {
      "cell_type": "code",
      "execution_count": 1,
      "id": "a4ca0466",
      "metadata": {
        "colab": {
          "base_uri": "https://localhost:8080/"
        },
        "id": "a4ca0466",
        "outputId": "01eb5a62-0cd6-4b97-cc0d-34d714a68514"
      },
      "outputs": [
        {
          "output_type": "stream",
          "name": "stdout",
          "text": [
            "Today : 2025-08-21T15:17:56\n",
            "Python : 3.12.11 (main, Jun  4 2025, 08:56:18) [GCC 11.4.0]\n",
            "pandas: 2.2.2\n",
            "Runtime: Linux-6.1.123+-x86_64-with-glibc2.35\n",
            "Total Current Drive Space: 107.72 GB\n",
            "Free Current Drive Space: 68.88 GB\n",
            "Current Working Directory: /content\n"
          ]
        }
      ],
      "source": [
        "# usually we start with general Python imports\n",
        "from pathlib import Path # for file and file path related tasks\n",
        "import sys, platform, os, io, shutil, zipfile, re # system related tasks\n",
        "from datetime import datetime # this is because datetime module has datetime class\n",
        "# first datetime\n",
        "print(f\"Today : {datetime.now().isoformat(timespec='seconds')}\")\n",
        "# now Python version\n",
        "print(f\"Python : {sys.version}\")\n",
        "\n",
        "# then we import external libraries\n",
        "# external - not part of Python installation\n",
        "# on Google Colab those are already installed\n",
        "try:\n",
        "    import pandas as pd\n",
        "    print('pandas:', pd.__version__)\n",
        "except ImportError:\n",
        "    print(f\"pandas not installed. Install with `pip install pandas`.\")\n",
        "    # for excel support extra instructions\n",
        "    print(f\"Install `openpyxl` for Excel support with `pip install openpyxl`.\")\n",
        "# requests is a widely used network library that makes internet \"requests\" easier\n",
        "try:\n",
        "    import requests\n",
        "except ImportError:\n",
        "    requests = None\n",
        "    print('requests not installed. Install with `pip install requests`.')\n",
        "\n",
        "\n",
        "# we can also print out what type of environment we are running in, this could show OS information\n",
        "print('Runtime:', platform.platform())\n",
        "# We could show system RAM and free RAM but that would require either a non standard library\n",
        "# or we would have to write some extra functions we skip this for now\n",
        "# you can ask LLM to write these functions for you\n",
        "# alternatively there are external libraries like psutil that do this out of the box\n",
        "\n",
        "# Let us show our current drive space\n",
        "print(f\"Total Current Drive Space: {shutil.disk_usage('/').total / (1024**3):.2f} GB\")\n",
        "print(f\"Free Current Drive Space: {shutil.disk_usage('/').free / (1024**3):.2f} GB\")\n",
        "\n",
        "# Current Working Directory\n",
        "print(f\"Current Working Directory: {Path.cwd()}\") # more important in local computer\n",
        "# in Google Colab this should give you /content\n",
        "# note that in some cases you might not want to provide all this information to the public, if you have a super secret computer...\n"
      ]
    },
    {
      "cell_type": "markdown",
      "id": "e523062c",
      "metadata": {
        "id": "e523062c"
      },
      "source": [
        "### 🧑‍💻 Functions"
      ]
    },
    {
      "cell_type": "markdown",
      "id": "6dff1d21",
      "metadata": {
        "id": "6dff1d21"
      },
      "source": [
        "### What is the idea behind functions in programming?\n",
        "\n",
        "In programming, a function is a block of reusable code that performs a specific task. Think of it like a miniature program within your main program. Functions are designed to:\n",
        "\n",
        "- **Break down complex problems:** Large problems can be divided into smaller, manageable parts, each handled by a function. This makes code easier to write, understand, and debug.\n",
        "- **Avoid repetition (DRY principle - Don't Repeat Yourself):** If you need to perform the same set of actions multiple times, you can define a function once and call it whenever needed, rather than writing the same code repeatedly.\n",
        "- **Improve code organization and readability:** Functions group related code together, making the overall structure of your program clearer and easier to follow.\n",
        "- **Enhance code reusability:** Once a function is defined, it can be used in different parts of the same program or even in other programs.\n",
        "- **Simplify debugging:** If there's an issue, you can isolate the problem to a specific function, making it easier to find and fix the error.\n",
        "\n",
        "In essence, functions are tools for modularity and abstraction in programming, allowing you to create more organized, efficient, and maintainable code.\n",
        "\n",
        "### What is a function in Python?\n",
        "\n",
        "In Python, a function is defined using the `def` keyword, followed by the function name, parentheses `()`, and a colon `:`. The code block within the function is indented. Functions can optionally take inputs called *arguments* (placed inside the parentheses) and can return a value using the `return` keyword.\n",
        "\n",
        "Here's a basic structure of a Python function:"
      ]
    },
    {
      "cell_type": "code",
      "execution_count": 2,
      "id": "d94c3040",
      "metadata": {
        "id": "d94c3040"
      },
      "outputs": [],
      "source": [
        "def greet(name: str = 'student') -> str:\n",
        "    \"\"\"\n",
        "    Returns a friendly greeting for the given name.\n",
        "    If no name is provided, defaults to 'student'.\n",
        "    \"\"\"\n",
        "    # name is a variable local to this function\n",
        "    # Use an f-string to insert the name into the greeting\n",
        "    # note we are not printing the greeting here, just returning it for use by another part of the code\n",
        "    return f\"Hello, {name}!\" # we can insert pretty much any type of data in f-strings\n",
        "\n",
        "# also nothing should be happening besides the function being added to our memory\n",
        "# we have not called the function yet"
      ]
    },
    {
      "cell_type": "code",
      "execution_count": 3,
      "id": "ed0a8142",
      "metadata": {
        "colab": {
          "base_uri": "https://localhost:8080/"
        },
        "id": "ed0a8142",
        "outputId": "0541f298-1034-4b43-96d4-b144eb0e1dca"
      },
      "outputs": [
        {
          "output_type": "stream",
          "name": "stdout",
          "text": [
            "Hello, student!\n"
          ]
        }
      ],
      "source": [
        "# Call the function and print the result\n",
        "greeting = greet() # assign results of greet() function to greeting variable\n",
        "print(greeting)"
      ]
    },
    {
      "cell_type": "code",
      "execution_count": 5,
      "id": "DGWKzOyzG-BT",
      "metadata": {
        "colab": {
          "base_uri": "https://localhost:8080/"
        },
        "id": "DGWKzOyzG-BT",
        "outputId": "755ed389-d9b3-43b6-ab07-965cb357eff8"
      },
      "outputs": [
        {
          "output_type": "stream",
          "name": "stdout",
          "text": [
            "Hello, Valdis!\n",
            "Hello, 80800!\n"
          ]
        }
      ],
      "source": [
        "# Now that I have this function I can make other greetings\n",
        "my_greeting = greet(\"Valdis\")\n",
        "print(my_greeting)\n",
        "numeric_greeting = greet(80800) # function expects str, but no penalty in this case\n",
        "print(numeric_greeting)"
      ]
    },
    {
      "cell_type": "markdown",
      "id": "ea45c37c",
      "metadata": {
        "id": "ea45c37c"
      },
      "source": [
        "### Type Hints\n",
        "\n",
        "Type hints in Python provide a way to indicate the expected data types of variables, function parameters, and return values. They help improve code readability and enable better static analysis by tools like linters and IDEs.\n",
        "\n",
        "However, they have no actual power at runtime and are not enforced by the Python interpreter. They serve as a guideline for developers and can be checked using static type checkers like mypy.\n",
        "\n",
        "I liken them to \"documentation for your code.\" Just as documentation helps users understand how to use your code, type hints help developers understand what types of values are expected.\n",
        "\n"
      ]
    },
    {
      "cell_type": "code",
      "execution_count": 6,
      "id": "ad7e7b4b",
      "metadata": {
        "id": "ad7e7b4b"
      },
      "outputs": [],
      "source": [
        "# let's see one more example with simple add function\n",
        "def add(a: int, b: int) -> int:\n",
        "    return a + b\n",
        "\n",
        "# so this function expects only integers and returns integer\n",
        "\n",
        "# however it will work with any values that support adding\n",
        "\n"
      ]
    },
    {
      "cell_type": "code",
      "execution_count": 7,
      "id": "9d4c906f",
      "metadata": {
        "colab": {
          "base_uri": "https://localhost:8080/"
        },
        "id": "9d4c906f",
        "outputId": "6661ed92-b7d9-4aab-ad98-d581c80fc580"
      },
      "outputs": [
        {
          "output_type": "stream",
          "name": "stdout",
          "text": [
            "4\n",
            "5.85\n",
            "Valdis RTU\n"
          ]
        }
      ],
      "source": [
        "print(add(2,2))\n",
        "print(add(3.14, 2.71))\n",
        "print(add(\"Valdis\", \" RTU\"))\n",
        "\n",
        "# so again type hints are useful (AI will happily make them for us)\n",
        "# but in Python they only serve as a guiding light"
      ]
    },
    {
      "cell_type": "code",
      "source": [
        "# let's make a multiplication function that takes two integers and returns an integer\n",
        "def multiply(a: int, b: str = \"*\") -> int:\n",
        "    return a * b\n",
        "\n",
        "print(multiply(2,3))\n",
        "print(multiply(3.1415926, 44444))\n",
        "print(multiply(\"Beer \", 5)) # funnily Python lets us multiply Strings with integers\n",
        "print(\"*\"*80)\n",
        "print(multiply(20))"
      ],
      "metadata": {
        "colab": {
          "base_uri": "https://localhost:8080/"
        },
        "id": "tv8D_7NNRRvh",
        "outputId": "3a0a35f8-01eb-4f1c-8272-bf3995d738ca"
      },
      "id": "tv8D_7NNRRvh",
      "execution_count": 11,
      "outputs": [
        {
          "output_type": "stream",
          "name": "stdout",
          "text": [
            "6\n",
            "139624.9415144\n",
            "Beer Beer Beer Beer Beer \n",
            "********************************************************************************\n",
            "********************\n"
          ]
        }
      ]
    },
    {
      "cell_type": "markdown",
      "id": "eE3hLZ5nIBAX",
      "metadata": {
        "id": "eE3hLZ5nIBAX"
      },
      "source": [
        "### Function to download and unzip file from url\n",
        "\n",
        "Below is a more complicated function that does two things: it downloads a zip file from a given URL and then extracts its contents to a specified directory.\n",
        "\n",
        "Theoretically speaking it would be better to have two functions one that downloads the file and another that extracts it.\n",
        "\n",
        "In general functions should do one thing and do it well.\n",
        "\n",
        "When you need to do more than one thing you can combine them into a single function, but be mindful of keeping the function focused and not overly complex.\n"
      ]
    },
    {
      "cell_type": "code",
      "source": [
        "text = \"A quick brown fox jumped over a sleeping dog\"\n",
        "words = text.split() # split creates a list of strings from string\n",
        "# by default it splits by any whitespace\n",
        "print(words)\n",
        "comma_text = \"Valdis, Līga, Maija, Rūta, Ede\"\n",
        "comma_words = comma_text.split(\",\")\n",
        "print(comma_words)"
      ],
      "metadata": {
        "colab": {
          "base_uri": "https://localhost:8080/"
        },
        "id": "kTf2_q2TTTad",
        "outputId": "9ab1b6f3-1894-494a-b44d-9e8b06ab30f0"
      },
      "id": "kTf2_q2TTTad",
      "execution_count": 13,
      "outputs": [
        {
          "output_type": "stream",
          "name": "stdout",
          "text": [
            "['A', 'quick', 'brown', 'fox', 'jumped', 'over', 'a', 'sleeping', 'dog']\n",
            "['Valdis', ' Līga', ' Maija', ' Rūta', ' Ede']\n"
          ]
        }
      ]
    },
    {
      "cell_type": "code",
      "execution_count": 14,
      "id": "f4b2f894",
      "metadata": {
        "id": "f4b2f894"
      },
      "outputs": [],
      "source": [
        "def download_and_unzip(url: str, target_folder: str | Path = 'sample_data') -> Path:\n",
        "    \"\"\"\n",
        "    Downloads a ZIP file from the given URL and extracts it to the target folder.\n",
        "    Returns the path to the folder where files were extracted.\n",
        "    \"\"\"\n",
        "    target = Path(target_folder)  # Make sure target is a Path object\n",
        "    target.mkdir(parents=True, exist_ok=True)  # Create the folder if it doesn't exist\n",
        "    filename = url.split('/')[-1]  # Get the file name from the URL\n",
        "    # in case of URL the file name is the last one (so index -1 means last one in a list)\n",
        "    # next we create full path where we will save the zip file\n",
        "    zip_path = target / filename  # Full path to save the ZIP file\n",
        "    # check if library exists\n",
        "    if requests is None:\n",
        "        raise RuntimeError('requests required.')\n",
        "    # Download the file in chunks (good for large files)\n",
        "    with requests.get(url, stream=True, timeout=60) as r:\n",
        "        r.raise_for_status()  # Raise an error if download failed\n",
        "        with open(zip_path, 'wb') as f:\n",
        "            for chunk in r.iter_content(chunk_size=8192):\n",
        "                f.write(chunk)\n",
        "    # Unzip the downloaded file\n",
        "    with zipfile.ZipFile(zip_path, 'r') as zf:\n",
        "        zf.extractall(target) # this command given a zip file as target will unzip ALL files\n",
        "    # Optionally, remove the ZIP file after extraction\n",
        "    # zip_path.unlink(missing_ok=True)  # Remove the ZIP file\n",
        "    return target  # Return the folder where files were extracted\n"
      ]
    },
    {
      "cell_type": "markdown",
      "id": "369862d6",
      "metadata": {
        "id": "369862d6"
      },
      "source": [
        "**Practice dataset for Part 1:** `latvia_meteo_1925_messy.zip` (5 text files)\n",
        "\n",
        "- URL: https://github.com/ValRCS/RTU_Data_Analysis_Visualization_CPD/raw/refs/heads/main/data/latvia_meteo_1925_messy.zip"
      ]
    },
    {
      "cell_type": "code",
      "execution_count": 15,
      "id": "7c941a28",
      "metadata": {
        "colab": {
          "base_uri": "https://localhost:8080/"
        },
        "id": "7c941a28",
        "outputId": "ced79fe1-5cfc-4857-e1a9-f5643ea073ac"
      },
      "outputs": [
        {
          "output_type": "stream",
          "name": "stdout",
          "text": [
            "Will download and unzip from following url: https://github.com/ValRCS/RTU_Data_Analysis_Visualization_CPD/raw/refs/heads/main/data/latvia_meteo_1925_messy.zip\n"
          ]
        },
        {
          "output_type": "execute_result",
          "data": {
            "text/plain": [
              "PosixPath('day_2_data')"
            ]
          },
          "metadata": {},
          "execution_count": 15
        }
      ],
      "source": [
        "# let's download the messy files zip\n",
        "url = \"https://github.com/ValRCS/RTU_Data_Analysis_Visualization_CPD/raw/refs/heads/main/data/latvia_meteo_1925_messy.zip\"\n",
        "print(f\"Will download and unzip from following url: {url}\")\n",
        "# let's download the file and extract it under day_2_data\n",
        "download_and_unzip(url, Path(\"day_2_data\"))"
      ]
    },
    {
      "cell_type": "code",
      "source": [
        "text_files = sorted(Path(\"day_2_data\").glob(\"*.txt\"))\n",
        "for p in text_files:\n",
        "    print(p)"
      ],
      "metadata": {
        "colab": {
          "base_uri": "https://localhost:8080/"
        },
        "id": "aIkBZhvaVajQ",
        "outputId": "5fd0a32e-9c5c-4fed-ea19-3d58058f317f"
      },
      "id": "aIkBZhvaVajQ",
      "execution_count": 16,
      "outputs": [
        {
          "output_type": "stream",
          "name": "stdout",
          "text": [
            "day_2_data/aluksne_1925.txt\n",
            "day_2_data/liepaja_1925.txt\n",
            "day_2_data/mersrags_1925.txt\n",
            "day_2_data/riga_university_1925_p1.txt\n",
            "day_2_data/riga_university_1925_p2.txt\n"
          ]
        }
      ]
    },
    {
      "cell_type": "code",
      "execution_count": 17,
      "id": "zVxkQR7yK88c",
      "metadata": {
        "colab": {
          "base_uri": "https://localhost:8080/",
          "height": 17
        },
        "id": "zVxkQR7yK88c",
        "outputId": "66a7076d-d4fa-4fa4-c41d-aa72170be104"
      },
      "outputs": [
        {
          "output_type": "display_data",
          "data": {
            "text/plain": [
              "<IPython.core.display.Javascript object>"
            ],
            "application/javascript": [
              "\n",
              "    async function download(id, filename, size) {\n",
              "      if (!google.colab.kernel.accessAllowed) {\n",
              "        return;\n",
              "      }\n",
              "      const div = document.createElement('div');\n",
              "      const label = document.createElement('label');\n",
              "      label.textContent = `Downloading \"${filename}\": `;\n",
              "      div.appendChild(label);\n",
              "      const progress = document.createElement('progress');\n",
              "      progress.max = size;\n",
              "      div.appendChild(progress);\n",
              "      document.body.appendChild(div);\n",
              "\n",
              "      const buffers = [];\n",
              "      let downloaded = 0;\n",
              "\n",
              "      const channel = await google.colab.kernel.comms.open(id);\n",
              "      // Send a message to notify the kernel that we're ready.\n",
              "      channel.send({})\n",
              "\n",
              "      for await (const message of channel.messages) {\n",
              "        // Send a message to notify the kernel that we're ready.\n",
              "        channel.send({})\n",
              "        if (message.buffers) {\n",
              "          for (const buffer of message.buffers) {\n",
              "            buffers.push(buffer);\n",
              "            downloaded += buffer.byteLength;\n",
              "            progress.value = downloaded;\n",
              "          }\n",
              "        }\n",
              "      }\n",
              "      const blob = new Blob(buffers, {type: 'application/binary'});\n",
              "      const a = document.createElement('a');\n",
              "      a.href = window.URL.createObjectURL(blob);\n",
              "      a.download = filename;\n",
              "      div.appendChild(a);\n",
              "      a.click();\n",
              "      div.remove();\n",
              "    }\n",
              "  "
            ]
          },
          "metadata": {}
        },
        {
          "output_type": "display_data",
          "data": {
            "text/plain": [
              "<IPython.core.display.Javascript object>"
            ],
            "application/javascript": [
              "download(\"download_b900e9f3-79d3-4d4a-a1d0-cf4cfdd29f8e\", \"aluksne_1925.txt\", 2033)"
            ]
          },
          "metadata": {}
        },
        {
          "output_type": "display_data",
          "data": {
            "text/plain": [
              "<IPython.core.display.Javascript object>"
            ],
            "application/javascript": [
              "\n",
              "    async function download(id, filename, size) {\n",
              "      if (!google.colab.kernel.accessAllowed) {\n",
              "        return;\n",
              "      }\n",
              "      const div = document.createElement('div');\n",
              "      const label = document.createElement('label');\n",
              "      label.textContent = `Downloading \"${filename}\": `;\n",
              "      div.appendChild(label);\n",
              "      const progress = document.createElement('progress');\n",
              "      progress.max = size;\n",
              "      div.appendChild(progress);\n",
              "      document.body.appendChild(div);\n",
              "\n",
              "      const buffers = [];\n",
              "      let downloaded = 0;\n",
              "\n",
              "      const channel = await google.colab.kernel.comms.open(id);\n",
              "      // Send a message to notify the kernel that we're ready.\n",
              "      channel.send({})\n",
              "\n",
              "      for await (const message of channel.messages) {\n",
              "        // Send a message to notify the kernel that we're ready.\n",
              "        channel.send({})\n",
              "        if (message.buffers) {\n",
              "          for (const buffer of message.buffers) {\n",
              "            buffers.push(buffer);\n",
              "            downloaded += buffer.byteLength;\n",
              "            progress.value = downloaded;\n",
              "          }\n",
              "        }\n",
              "      }\n",
              "      const blob = new Blob(buffers, {type: 'application/binary'});\n",
              "      const a = document.createElement('a');\n",
              "      a.href = window.URL.createObjectURL(blob);\n",
              "      a.download = filename;\n",
              "      div.appendChild(a);\n",
              "      a.click();\n",
              "      div.remove();\n",
              "    }\n",
              "  "
            ]
          },
          "metadata": {}
        },
        {
          "output_type": "display_data",
          "data": {
            "text/plain": [
              "<IPython.core.display.Javascript object>"
            ],
            "application/javascript": [
              "download(\"download_81604259-d354-467b-ae73-a959fa5fa770\", \"liepaja_1925.txt\", 2077)"
            ]
          },
          "metadata": {}
        },
        {
          "output_type": "display_data",
          "data": {
            "text/plain": [
              "<IPython.core.display.Javascript object>"
            ],
            "application/javascript": [
              "\n",
              "    async function download(id, filename, size) {\n",
              "      if (!google.colab.kernel.accessAllowed) {\n",
              "        return;\n",
              "      }\n",
              "      const div = document.createElement('div');\n",
              "      const label = document.createElement('label');\n",
              "      label.textContent = `Downloading \"${filename}\": `;\n",
              "      div.appendChild(label);\n",
              "      const progress = document.createElement('progress');\n",
              "      progress.max = size;\n",
              "      div.appendChild(progress);\n",
              "      document.body.appendChild(div);\n",
              "\n",
              "      const buffers = [];\n",
              "      let downloaded = 0;\n",
              "\n",
              "      const channel = await google.colab.kernel.comms.open(id);\n",
              "      // Send a message to notify the kernel that we're ready.\n",
              "      channel.send({})\n",
              "\n",
              "      for await (const message of channel.messages) {\n",
              "        // Send a message to notify the kernel that we're ready.\n",
              "        channel.send({})\n",
              "        if (message.buffers) {\n",
              "          for (const buffer of message.buffers) {\n",
              "            buffers.push(buffer);\n",
              "            downloaded += buffer.byteLength;\n",
              "            progress.value = downloaded;\n",
              "          }\n",
              "        }\n",
              "      }\n",
              "      const blob = new Blob(buffers, {type: 'application/binary'});\n",
              "      const a = document.createElement('a');\n",
              "      a.href = window.URL.createObjectURL(blob);\n",
              "      a.download = filename;\n",
              "      div.appendChild(a);\n",
              "      a.click();\n",
              "      div.remove();\n",
              "    }\n",
              "  "
            ]
          },
          "metadata": {}
        },
        {
          "output_type": "display_data",
          "data": {
            "text/plain": [
              "<IPython.core.display.Javascript object>"
            ],
            "application/javascript": [
              "download(\"download_6f81a470-7f47-4bde-b133-fad22d113550\", \"mersrags_1925.txt\", 2537)"
            ]
          },
          "metadata": {}
        },
        {
          "output_type": "display_data",
          "data": {
            "text/plain": [
              "<IPython.core.display.Javascript object>"
            ],
            "application/javascript": [
              "\n",
              "    async function download(id, filename, size) {\n",
              "      if (!google.colab.kernel.accessAllowed) {\n",
              "        return;\n",
              "      }\n",
              "      const div = document.createElement('div');\n",
              "      const label = document.createElement('label');\n",
              "      label.textContent = `Downloading \"${filename}\": `;\n",
              "      div.appendChild(label);\n",
              "      const progress = document.createElement('progress');\n",
              "      progress.max = size;\n",
              "      div.appendChild(progress);\n",
              "      document.body.appendChild(div);\n",
              "\n",
              "      const buffers = [];\n",
              "      let downloaded = 0;\n",
              "\n",
              "      const channel = await google.colab.kernel.comms.open(id);\n",
              "      // Send a message to notify the kernel that we're ready.\n",
              "      channel.send({})\n",
              "\n",
              "      for await (const message of channel.messages) {\n",
              "        // Send a message to notify the kernel that we're ready.\n",
              "        channel.send({})\n",
              "        if (message.buffers) {\n",
              "          for (const buffer of message.buffers) {\n",
              "            buffers.push(buffer);\n",
              "            downloaded += buffer.byteLength;\n",
              "            progress.value = downloaded;\n",
              "          }\n",
              "        }\n",
              "      }\n",
              "      const blob = new Blob(buffers, {type: 'application/binary'});\n",
              "      const a = document.createElement('a');\n",
              "      a.href = window.URL.createObjectURL(blob);\n",
              "      a.download = filename;\n",
              "      div.appendChild(a);\n",
              "      a.click();\n",
              "      div.remove();\n",
              "    }\n",
              "  "
            ]
          },
          "metadata": {}
        },
        {
          "output_type": "display_data",
          "data": {
            "text/plain": [
              "<IPython.core.display.Javascript object>"
            ],
            "application/javascript": [
              "download(\"download_b8c147ed-8468-4d03-b9a5-f27b0bc89197\", \"riga_university_1925_p1.txt\", 2006)"
            ]
          },
          "metadata": {}
        },
        {
          "output_type": "display_data",
          "data": {
            "text/plain": [
              "<IPython.core.display.Javascript object>"
            ],
            "application/javascript": [
              "\n",
              "    async function download(id, filename, size) {\n",
              "      if (!google.colab.kernel.accessAllowed) {\n",
              "        return;\n",
              "      }\n",
              "      const div = document.createElement('div');\n",
              "      const label = document.createElement('label');\n",
              "      label.textContent = `Downloading \"${filename}\": `;\n",
              "      div.appendChild(label);\n",
              "      const progress = document.createElement('progress');\n",
              "      progress.max = size;\n",
              "      div.appendChild(progress);\n",
              "      document.body.appendChild(div);\n",
              "\n",
              "      const buffers = [];\n",
              "      let downloaded = 0;\n",
              "\n",
              "      const channel = await google.colab.kernel.comms.open(id);\n",
              "      // Send a message to notify the kernel that we're ready.\n",
              "      channel.send({})\n",
              "\n",
              "      for await (const message of channel.messages) {\n",
              "        // Send a message to notify the kernel that we're ready.\n",
              "        channel.send({})\n",
              "        if (message.buffers) {\n",
              "          for (const buffer of message.buffers) {\n",
              "            buffers.push(buffer);\n",
              "            downloaded += buffer.byteLength;\n",
              "            progress.value = downloaded;\n",
              "          }\n",
              "        }\n",
              "      }\n",
              "      const blob = new Blob(buffers, {type: 'application/binary'});\n",
              "      const a = document.createElement('a');\n",
              "      a.href = window.URL.createObjectURL(blob);\n",
              "      a.download = filename;\n",
              "      div.appendChild(a);\n",
              "      a.click();\n",
              "      div.remove();\n",
              "    }\n",
              "  "
            ]
          },
          "metadata": {}
        },
        {
          "output_type": "display_data",
          "data": {
            "text/plain": [
              "<IPython.core.display.Javascript object>"
            ],
            "application/javascript": [
              "download(\"download_0c2f799e-5737-4564-950d-85f553188886\", \"riga_university_1925_p2.txt\", 1908)"
            ]
          },
          "metadata": {}
        }
      ],
      "source": [
        "# let's add Google Colab specific code that will offer download to your computer of all the files extracted\n",
        "# this will not work locally since you already have these files locally!\n",
        "from google.colab import files # this is Google Colab specific\n",
        "# if you were local you would already have these files locally\n",
        "for p in sorted(Path(\"day_2_data\").glob(\"*.txt\")): # glob looks in current folder\n",
        "    files.download(p)"
      ]
    },
    {
      "cell_type": "markdown",
      "id": "b153f8c3",
      "metadata": {
        "id": "b153f8c3"
      },
      "source": [
        "### 📂 File Handling\n",
        "\n",
        "First let me show you how to read whole text file into one big text string"
      ]
    },
    {
      "cell_type": "code",
      "execution_count": 18,
      "id": "B2M3mbQ_PZCq",
      "metadata": {
        "id": "B2M3mbQ_PZCq"
      },
      "outputs": [],
      "source": [
        "# let's make a function that takes a file Path or string and optional encoding with default utf-8 and returns text string\n",
        "def get_file_contents(path: Path | str, encoding: str = 'utf-8') -> str:\n",
        "    \"\"\"\n",
        "    Reads the contents of a text file and returns it as a string.\n",
        "    \"\"\"\n",
        "    # so path could be string or Path\n",
        "    # file could have any extension but it should contain text of some sort\n",
        "    with open(path, mode='r', encoding=encoding) as f:\n",
        "        # file stream is open here under f variable which has type IOStream(sic)\n",
        "        content = f.read() # so we came up with name content for our inner variable\n",
        "    # here file is automatically closed after the with block\n",
        "    return content"
      ]
    },
    {
      "cell_type": "code",
      "execution_count": 21,
      "id": "qwAhyXkoP19P",
      "metadata": {
        "colab": {
          "base_uri": "https://localhost:8080/"
        },
        "id": "qwAhyXkoP19P",
        "outputId": "4e051b24-6bab-4581-a8f8-3fcdc3874e8c"
      },
      "outputs": [
        {
          "output_type": "stream",
          "name": "stdout",
          "text": [
            "# station_name=Alūksne\n",
            "# period=(Oct–Dec)\n",
            "# separator_hint=|\n",
            "# columns_in_this_file= notes | present_weather_code | t_max_c | precip_24h_mm | date | precip_type | t_min_c\n",
            "# note: some values intentionally messy (units, words, missing, time in date)\n",
            "# fields=notes|present_weather_code|t_max_c|precip_\n"
          ]
        }
      ],
      "source": [
        "# let's read aluksne into memory\n",
        "# aluksne = get_file_contents(Path(\"day_2_data/aluksne_1925.txt\"))\n",
        "aluksne = get_file_contents(\"day_2_data/aluksne_1925.txt\")\n",
        "print(aluksne[:300]) # let's print first 300 characters"
      ]
    },
    {
      "cell_type": "code",
      "source": [
        "# print last 200 characters\n",
        "print(aluksne[-200:]) # Python offers two types of indexing\n",
        "# positive from 0 to len(iterable)-1\n",
        "# negative from -len(iterable) to -1"
      ],
      "metadata": {
        "colab": {
          "base_uri": "https://localhost:8080/"
        },
        "id": "zBwiI7rpZmRg",
        "outputId": "2a0a4bd8-76ea-423b-805c-c12870053acd"
      },
      "id": "zBwiI7rpZmRg",
      "execution_count": 22,
      "outputs": [
        {
          "output_type": "stream",
          "name": "stdout",
          "text": [
            "0.2 mm|12-18-1925|snow|-7.6\n",
            "Pūtis brāzmas|82|5.3||11-18-1925||-0.4\n",
            "NA|63|3.4||12-19-1925|M|-6.0\n",
            "Novērojums vēlāk|90|-0.2|2.3|12-22-1925|mixed|-8.2\n",
            "Daļēji mākoņains|90|-3.5|0.2 mm|12-16-1925|rain|-4.0\n",
            "\n"
          ]
        }
      ]
    },
    {
      "cell_type": "markdown",
      "source": [
        "![Python indexing](https://developers.google.com/static/edu/python/images/hello.png)"
      ],
      "metadata": {
        "id": "lSEsI0ysaHcI"
      },
      "id": "lSEsI0ysaHcI"
    },
    {
      "cell_type": "markdown",
      "source": [
        "## Simple string methods"
      ],
      "metadata": {
        "id": "OnqlP2xcar3N"
      },
      "id": "OnqlP2xcar3N"
    },
    {
      "cell_type": "code",
      "source": [
        "# we can get count of word \"brāzmas\" in content\n",
        "aluksne.count(\"brāzmas\") # count is a string method"
      ],
      "metadata": {
        "colab": {
          "base_uri": "https://localhost:8080/"
        },
        "id": "f1rmx2MiavGf",
        "outputId": "81203f06-fcd5-4700-ca42-99b429a1d00b"
      },
      "id": "f1rmx2MiavGf",
      "execution_count": 23,
      "outputs": [
        {
          "output_type": "execute_result",
          "data": {
            "text/plain": [
              "4"
            ]
          },
          "metadata": {},
          "execution_count": 23
        }
      ]
    },
    {
      "cell_type": "code",
      "source": [
        "# we could ask if rain is in aluksne\n",
        "# this is so called existence check\n",
        "\"rain\" in aluksne # so ancient Aluksnians wrote in English... :)"
      ],
      "metadata": {
        "colab": {
          "base_uri": "https://localhost:8080/"
        },
        "id": "yJ-lnLI5a3UG",
        "outputId": "d19a3c7a-3940-4583-a862-ef434cb7745e"
      },
      "id": "yJ-lnLI5a3UG",
      "execution_count": 24,
      "outputs": [
        {
          "output_type": "execute_result",
          "data": {
            "text/plain": [
              "True"
            ]
          },
          "metadata": {},
          "execution_count": 24
        }
      ]
    },
    {
      "cell_type": "code",
      "source": [
        "# we could replace some text in this content\n",
        "# however strings are immutable - unchangable\n",
        "# so to change we would have to overwrite or have new variable\n",
        "# let's have new text with replacement of Mērījums apstiprināts to Viss OK\n",
        "aluksne_ok = aluksne.replace(\"Mērījums apstiprināts\", \"Viss OK\")\n",
        "# if I wanted aluksne modified I would have written as follows\n",
        "# aluksne = aluksne.replace(\"Mērījums apstiprināts\", \"Viss OK\")\n",
        "print(aluksne_ok)"
      ],
      "metadata": {
        "id": "EULXF23IbPeG"
      },
      "id": "EULXF23IbPeG",
      "execution_count": null,
      "outputs": []
    },
    {
      "cell_type": "markdown",
      "id": "Xu2zQhslRDSd",
      "metadata": {
        "id": "Xu2zQhslRDSd"
      },
      "source": [
        "### Iterating over file line at a time\n",
        "\n",
        "Above example showed how we could read a whole file into memory.\n",
        "However that means we would be working with file as one big string as a whole. We could do some replace operations.\n",
        "\n",
        "Much more often we will want to work on file one line(row) at a time."
      ]
    },
    {
      "cell_type": "markdown",
      "id": "87dc72f9",
      "metadata": {
        "id": "87dc72f9"
      },
      "source": [
        "### 🔄 For Loops\n",
        "\n",
        "For loops in Python let us iterate over a sequence (like a list, tuple, or string, or other iterables such as lines in a file) and perform an action for each item in that sequence.\n",
        "\n",
        "General syntax of for loops is:\n",
        "\n",
        "```Python\n",
        "for element in <iterable>:\n",
        "    <action>\n",
        "    <more optional action>\n",
        "```\n",
        "\n",
        "Note the indentation, as usual in Python after : we have indentation to indicate the block of code that belongs to the for loop."
      ]
    },
    {
      "cell_type": "code",
      "execution_count": 25,
      "id": "ae3f7301",
      "metadata": {
        "id": "ae3f7301"
      },
      "outputs": [],
      "source": [
        "def count_lines(path: Path | str) -> int:\n",
        "    \"\"\"\n",
        "    Counts the total number of lines and the number of non-empty lines in a file.\n",
        "    Returns a tuple: (total_lines, nonempty_lines)\n",
        "    \"\"\"\n",
        "    total = 0 # we start our counter with 0, very common pattern in software development\n",
        "    with open(path, 'r', encoding='utf-8', errors='replace') as f:\n",
        "        for line in f: # so f is a filestream with this for loop we go through it line at a time\n",
        "            total += 1 # remember this is same as total = total + 1\n",
        "            # we could do something more here with the line but here we just count the contents\n",
        "    # important that file is here closed automatically\n",
        "    return total # Return the line count"
      ]
    },
    {
      "cell_type": "code",
      "execution_count": 26,
      "id": "lOyraEVYRpDS",
      "metadata": {
        "colab": {
          "base_uri": "https://localhost:8080/"
        },
        "id": "lOyraEVYRpDS",
        "outputId": "9ca778a8-31f4-4d8f-bf5a-15740aad1441"
      },
      "outputs": [
        {
          "output_type": "execute_result",
          "data": {
            "text/plain": [
              "42"
            ]
          },
          "metadata": {},
          "execution_count": 26
        }
      ],
      "source": [
        "# let's count lines in aluksne_1925\n",
        "count_lines(Path(\"day_2_data/aluksne_1925.txt\"))"
      ]
    },
    {
      "cell_type": "code",
      "source": [
        "count_lines(\"day_2_data/aluksne_1925.txt\")"
      ],
      "metadata": {
        "colab": {
          "base_uri": "https://localhost:8080/"
        },
        "id": "nUfC4xI1djwJ",
        "outputId": "32e2bcb4-bb7d-4465-e697-e8a9d5058baa"
      },
      "id": "nUfC4xI1djwJ",
      "execution_count": 27,
      "outputs": [
        {
          "output_type": "execute_result",
          "data": {
            "text/plain": [
              "42"
            ]
          },
          "metadata": {},
          "execution_count": 27
        }
      ]
    },
    {
      "cell_type": "markdown",
      "id": "0cb1b335",
      "metadata": {
        "id": "0cb1b335"
      },
      "source": [
        "## Determining the separator character\n",
        "\n",
        "Our files have helpfully provided a separator hint without which it would be very hard to determine.\n",
        "\n",
        "`# separator_hint=|`\n",
        "`# separator_hint=TAB`\n",
        "`# separator_hint=,`\n",
        "\n",
        "Let's write a function that extracts hint from the file\n"
      ]
    },
    {
      "cell_type": "code",
      "execution_count": 28,
      "id": "5f354afe",
      "metadata": {
        "id": "5f354afe"
      },
      "outputs": [],
      "source": [
        "def get_sep(path: Path) -> str:\n",
        "    \"\"\"\n",
        "    We look for first line that contains\n",
        "    `# separator_hint=|`\n",
        "`# separator_hint=TAB`\n",
        "`# separator_hint=,`\n",
        "    \"\"\"\n",
        "    needle = \"separator_hint=\"\n",
        "    sep = None # we start with assumption that we do not know the separator\n",
        "    # lets open file and go through line by line\n",
        "    with open(path, 'r', encoding='utf-8', errors='replace') as f:\n",
        "        for line in f:\n",
        "            if needle in line: # we check for presence of needle\n",
        "            # we could have used regular expression but no need here\n",
        "                # let's find whatever is after needle\n",
        "                # so we split by needle at take last part\n",
        "                sep = line.split(needle)[-1].strip() # strip removes all whitespace from both sides of string\n",
        "    # if sep is TAB we need to return \\t\n",
        "    if sep == \"TAB\": # special case TAB which we need to convert\n",
        "        return \"\\t\" # so \\t is a way of representing tab in Python and many other languages\n",
        "        # similarly \\n is a newline symbol\n",
        "        # so then \\\\ is \\ symbol\n",
        "    return sep"
      ]
    },
    {
      "cell_type": "code",
      "execution_count": 29,
      "id": "dMQsAaEyaCtd",
      "metadata": {
        "colab": {
          "base_uri": "https://localhost:8080/",
          "height": 35
        },
        "id": "dMQsAaEyaCtd",
        "outputId": "bf44920a-6abf-4567-d3bd-3f2f34d2f302"
      },
      "outputs": [
        {
          "output_type": "execute_result",
          "data": {
            "text/plain": [
              "'|'"
            ],
            "application/vnd.google.colaboratory.intrinsic+json": {
              "type": "string"
            }
          },
          "metadata": {},
          "execution_count": 29
        }
      ],
      "source": [
        "# let's see if we can find separator for aluksne_1925\n",
        "get_sep(Path(\"day_2_data/aluksne_1925.txt\"))"
      ]
    },
    {
      "cell_type": "code",
      "execution_count": 30,
      "id": "XvUvlg5zaRzg",
      "metadata": {
        "colab": {
          "base_uri": "https://localhost:8080/"
        },
        "id": "XvUvlg5zaRzg",
        "outputId": "7731ab74-fc80-4f40-ca9d-e20a296c26da"
      },
      "outputs": [
        {
          "output_type": "stream",
          "name": "stdout",
          "text": [
            "day_2_data/aluksne_1925.txt |\n",
            "day_2_data/liepaja_1925.txt ,\n",
            "day_2_data/mersrags_1925.txt \t\n",
            "day_2_data/riga_university_1925_p1.txt ;\n",
            "day_2_data/riga_university_1925_p2.txt ;\n"
          ]
        }
      ],
      "source": [
        "# let's find it for all txt files that do not contain good or bad\n",
        "for p in sorted(Path(\"day_2_data\").glob(\"*.txt\")):\n",
        "    # ignore files that have good or bad in their file names\n",
        "    if \"good\" in p.name or \"bad\" in p.name: continue # continue goes to the next item\n",
        "    # we could have used bad as well\n",
        "    print(p, get_sep(p))"
      ]
    },
    {
      "cell_type": "markdown",
      "id": "177a338f",
      "metadata": {
        "id": "177a338f"
      },
      "source": [
        "### 📥 Loading Cleaned Files into DataFrames"
      ]
    },
    {
      "cell_type": "code",
      "execution_count": 36,
      "id": "8bf9cc54",
      "metadata": {
        "id": "8bf9cc54"
      },
      "outputs": [],
      "source": [
        "# Let us write a function that will take a file path\n",
        "# This function will go through file line by line\n",
        "# If line with separator_hint= is found we save in sep value the last part of this line after stripping whitespace\n",
        "# any other line that starts with hash (#) is ignored\n",
        "# all other lines are split using sep value and stored as a list of lists (2d)\n",
        "# once all lines are read the 2d list is converted to Dataframe and returned\n",
        "def load_messy_file(path: Path | str) -> pd.DataFrame:\n",
        "    sep = None\n",
        "    lines = [] # empty list (saraksts Latviski), array(masīvs) in other languages\n",
        "    # with guarantees closing of file at the end\n",
        "    with open(path, 'r', encoding='utf-8', errors='replace') as f:\n",
        "        # we loop through file one row at a time\n",
        "        for line in f:\n",
        "            if line.startswith('# separator_hint='):\n",
        "                # extract separator by splitting by hint and then taking last item\n",
        "                sep = line.split('separator_hint=')[-1].strip()\n",
        "                # add special case TAB -> \\t\n",
        "                if sep == \"TAB\":\n",
        "                    sep = \"\\t\"\n",
        "            if \"# fields=\" in line:\n",
        "              # we split by \"fields=\" then split last part by sep giving us columns\n",
        "              raw_fields = line.split(\"fields=\")[-1].strip() # we take last part\n",
        "              columns = raw_fields.split(sep)\n",
        "            if line.startswith(\"#\"): # order is important we check this AFTER hint check\n",
        "                continue # we go to next line\n",
        "            # this means here we have a good line that should be usable for data\n",
        "            if sep:\n",
        "                # we split the row by separator and add it to our list of lines\n",
        "                lines.append(line.split(sep))\n",
        "    # Here file is closed - that's good and safe!\n",
        "    # all that remains is to create a dataframe from our lines\n",
        "    df = pd.DataFrame(lines) # we leave the challenge of creating appropriate names for later\n",
        "    # let's check if column count in df corresponds to length of our columns\n",
        "    if len(columns) == len(df.columns):\n",
        "        # if it matches we apply our columns\n",
        "        df.columns = columns\n",
        "    # so above idea is to use our columns only when our shape matches\n",
        "    return df"
      ]
    },
    {
      "cell_type": "code",
      "source": [
        "# let's try above function with aluksne_1925.txt\n",
        "df = load_messy_file(Path(\"day_2_data/aluksne_1925.txt\"))\n",
        "df.head()"
      ],
      "metadata": {
        "colab": {
          "base_uri": "https://localhost:8080/",
          "height": 206
        },
        "id": "IcD8ncNzhW0L",
        "outputId": "39c50405-3d27-4917-ec7f-b1458804cd65"
      },
      "id": "IcD8ncNzhW0L",
      "execution_count": 37,
      "outputs": [
        {
          "output_type": "execute_result",
          "data": {
            "text/plain": [
              "              notes present_weather_code t_max_c precip_24h_mm  \\\n",
              "0                 —                   53     5.9        3.0 mm   \n",
              "1       Rīts auksts                 -999     9.1        2.3 mm   \n",
              "2  Daļēji mākoņains                   65     5.4           0.0   \n",
              "3  Daļēji mākoņains                   50    15.6           0.5   \n",
              "4      Neliels vējš                   63    -1.1           0.0   \n",
              "\n",
              "               date precip_type t_min_c  \n",
              "0        10-19-1925           R   5.5\\n  \n",
              "1        18.10.1925       mixed   4.2\\n  \n",
              "2        11-10-1925              -0.5\\n  \n",
              "3  10-07-1925 14:00           S  10.4\\n  \n",
              "4        12-28-1925           —     —\\n  "
            ],
            "text/html": [
              "\n",
              "  <div id=\"df-b26c015a-0969-4a0a-8dcb-e1893ff1387e\" class=\"colab-df-container\">\n",
              "    <div>\n",
              "<style scoped>\n",
              "    .dataframe tbody tr th:only-of-type {\n",
              "        vertical-align: middle;\n",
              "    }\n",
              "\n",
              "    .dataframe tbody tr th {\n",
              "        vertical-align: top;\n",
              "    }\n",
              "\n",
              "    .dataframe thead th {\n",
              "        text-align: right;\n",
              "    }\n",
              "</style>\n",
              "<table border=\"1\" class=\"dataframe\">\n",
              "  <thead>\n",
              "    <tr style=\"text-align: right;\">\n",
              "      <th></th>\n",
              "      <th>notes</th>\n",
              "      <th>present_weather_code</th>\n",
              "      <th>t_max_c</th>\n",
              "      <th>precip_24h_mm</th>\n",
              "      <th>date</th>\n",
              "      <th>precip_type</th>\n",
              "      <th>t_min_c</th>\n",
              "    </tr>\n",
              "  </thead>\n",
              "  <tbody>\n",
              "    <tr>\n",
              "      <th>0</th>\n",
              "      <td>—</td>\n",
              "      <td>53</td>\n",
              "      <td>5.9</td>\n",
              "      <td>3.0 mm</td>\n",
              "      <td>10-19-1925</td>\n",
              "      <td>R</td>\n",
              "      <td>5.5\\n</td>\n",
              "    </tr>\n",
              "    <tr>\n",
              "      <th>1</th>\n",
              "      <td>Rīts auksts</td>\n",
              "      <td>-999</td>\n",
              "      <td>9.1</td>\n",
              "      <td>2.3 mm</td>\n",
              "      <td>18.10.1925</td>\n",
              "      <td>mixed</td>\n",
              "      <td>4.2\\n</td>\n",
              "    </tr>\n",
              "    <tr>\n",
              "      <th>2</th>\n",
              "      <td>Daļēji mākoņains</td>\n",
              "      <td>65</td>\n",
              "      <td>5.4</td>\n",
              "      <td>0.0</td>\n",
              "      <td>11-10-1925</td>\n",
              "      <td></td>\n",
              "      <td>-0.5\\n</td>\n",
              "    </tr>\n",
              "    <tr>\n",
              "      <th>3</th>\n",
              "      <td>Daļēji mākoņains</td>\n",
              "      <td>50</td>\n",
              "      <td>15.6</td>\n",
              "      <td>0.5</td>\n",
              "      <td>10-07-1925 14:00</td>\n",
              "      <td>S</td>\n",
              "      <td>10.4\\n</td>\n",
              "    </tr>\n",
              "    <tr>\n",
              "      <th>4</th>\n",
              "      <td>Neliels vējš</td>\n",
              "      <td>63</td>\n",
              "      <td>-1.1</td>\n",
              "      <td>0.0</td>\n",
              "      <td>12-28-1925</td>\n",
              "      <td>—</td>\n",
              "      <td>—\\n</td>\n",
              "    </tr>\n",
              "  </tbody>\n",
              "</table>\n",
              "</div>\n",
              "    <div class=\"colab-df-buttons\">\n",
              "\n",
              "  <div class=\"colab-df-container\">\n",
              "    <button class=\"colab-df-convert\" onclick=\"convertToInteractive('df-b26c015a-0969-4a0a-8dcb-e1893ff1387e')\"\n",
              "            title=\"Convert this dataframe to an interactive table.\"\n",
              "            style=\"display:none;\">\n",
              "\n",
              "  <svg xmlns=\"http://www.w3.org/2000/svg\" height=\"24px\" viewBox=\"0 -960 960 960\">\n",
              "    <path d=\"M120-120v-720h720v720H120Zm60-500h600v-160H180v160Zm220 220h160v-160H400v160Zm0 220h160v-160H400v160ZM180-400h160v-160H180v160Zm440 0h160v-160H620v160ZM180-180h160v-160H180v160Zm440 0h160v-160H620v160Z\"/>\n",
              "  </svg>\n",
              "    </button>\n",
              "\n",
              "  <style>\n",
              "    .colab-df-container {\n",
              "      display:flex;\n",
              "      gap: 12px;\n",
              "    }\n",
              "\n",
              "    .colab-df-convert {\n",
              "      background-color: #E8F0FE;\n",
              "      border: none;\n",
              "      border-radius: 50%;\n",
              "      cursor: pointer;\n",
              "      display: none;\n",
              "      fill: #1967D2;\n",
              "      height: 32px;\n",
              "      padding: 0 0 0 0;\n",
              "      width: 32px;\n",
              "    }\n",
              "\n",
              "    .colab-df-convert:hover {\n",
              "      background-color: #E2EBFA;\n",
              "      box-shadow: 0px 1px 2px rgba(60, 64, 67, 0.3), 0px 1px 3px 1px rgba(60, 64, 67, 0.15);\n",
              "      fill: #174EA6;\n",
              "    }\n",
              "\n",
              "    .colab-df-buttons div {\n",
              "      margin-bottom: 4px;\n",
              "    }\n",
              "\n",
              "    [theme=dark] .colab-df-convert {\n",
              "      background-color: #3B4455;\n",
              "      fill: #D2E3FC;\n",
              "    }\n",
              "\n",
              "    [theme=dark] .colab-df-convert:hover {\n",
              "      background-color: #434B5C;\n",
              "      box-shadow: 0px 1px 3px 1px rgba(0, 0, 0, 0.15);\n",
              "      filter: drop-shadow(0px 1px 2px rgba(0, 0, 0, 0.3));\n",
              "      fill: #FFFFFF;\n",
              "    }\n",
              "  </style>\n",
              "\n",
              "    <script>\n",
              "      const buttonEl =\n",
              "        document.querySelector('#df-b26c015a-0969-4a0a-8dcb-e1893ff1387e button.colab-df-convert');\n",
              "      buttonEl.style.display =\n",
              "        google.colab.kernel.accessAllowed ? 'block' : 'none';\n",
              "\n",
              "      async function convertToInteractive(key) {\n",
              "        const element = document.querySelector('#df-b26c015a-0969-4a0a-8dcb-e1893ff1387e');\n",
              "        const dataTable =\n",
              "          await google.colab.kernel.invokeFunction('convertToInteractive',\n",
              "                                                    [key], {});\n",
              "        if (!dataTable) return;\n",
              "\n",
              "        const docLinkHtml = 'Like what you see? Visit the ' +\n",
              "          '<a target=\"_blank\" href=https://colab.research.google.com/notebooks/data_table.ipynb>data table notebook</a>'\n",
              "          + ' to learn more about interactive tables.';\n",
              "        element.innerHTML = '';\n",
              "        dataTable['output_type'] = 'display_data';\n",
              "        await google.colab.output.renderOutput(dataTable, element);\n",
              "        const docLink = document.createElement('div');\n",
              "        docLink.innerHTML = docLinkHtml;\n",
              "        element.appendChild(docLink);\n",
              "      }\n",
              "    </script>\n",
              "  </div>\n",
              "\n",
              "\n",
              "    <div id=\"df-acb2289f-8acc-4e09-8668-e90a4fcde9ef\">\n",
              "      <button class=\"colab-df-quickchart\" onclick=\"quickchart('df-acb2289f-8acc-4e09-8668-e90a4fcde9ef')\"\n",
              "                title=\"Suggest charts\"\n",
              "                style=\"display:none;\">\n",
              "\n",
              "<svg xmlns=\"http://www.w3.org/2000/svg\" height=\"24px\"viewBox=\"0 0 24 24\"\n",
              "     width=\"24px\">\n",
              "    <g>\n",
              "        <path d=\"M19 3H5c-1.1 0-2 .9-2 2v14c0 1.1.9 2 2 2h14c1.1 0 2-.9 2-2V5c0-1.1-.9-2-2-2zM9 17H7v-7h2v7zm4 0h-2V7h2v10zm4 0h-2v-4h2v4z\"/>\n",
              "    </g>\n",
              "</svg>\n",
              "      </button>\n",
              "\n",
              "<style>\n",
              "  .colab-df-quickchart {\n",
              "      --bg-color: #E8F0FE;\n",
              "      --fill-color: #1967D2;\n",
              "      --hover-bg-color: #E2EBFA;\n",
              "      --hover-fill-color: #174EA6;\n",
              "      --disabled-fill-color: #AAA;\n",
              "      --disabled-bg-color: #DDD;\n",
              "  }\n",
              "\n",
              "  [theme=dark] .colab-df-quickchart {\n",
              "      --bg-color: #3B4455;\n",
              "      --fill-color: #D2E3FC;\n",
              "      --hover-bg-color: #434B5C;\n",
              "      --hover-fill-color: #FFFFFF;\n",
              "      --disabled-bg-color: #3B4455;\n",
              "      --disabled-fill-color: #666;\n",
              "  }\n",
              "\n",
              "  .colab-df-quickchart {\n",
              "    background-color: var(--bg-color);\n",
              "    border: none;\n",
              "    border-radius: 50%;\n",
              "    cursor: pointer;\n",
              "    display: none;\n",
              "    fill: var(--fill-color);\n",
              "    height: 32px;\n",
              "    padding: 0;\n",
              "    width: 32px;\n",
              "  }\n",
              "\n",
              "  .colab-df-quickchart:hover {\n",
              "    background-color: var(--hover-bg-color);\n",
              "    box-shadow: 0 1px 2px rgba(60, 64, 67, 0.3), 0 1px 3px 1px rgba(60, 64, 67, 0.15);\n",
              "    fill: var(--button-hover-fill-color);\n",
              "  }\n",
              "\n",
              "  .colab-df-quickchart-complete:disabled,\n",
              "  .colab-df-quickchart-complete:disabled:hover {\n",
              "    background-color: var(--disabled-bg-color);\n",
              "    fill: var(--disabled-fill-color);\n",
              "    box-shadow: none;\n",
              "  }\n",
              "\n",
              "  .colab-df-spinner {\n",
              "    border: 2px solid var(--fill-color);\n",
              "    border-color: transparent;\n",
              "    border-bottom-color: var(--fill-color);\n",
              "    animation:\n",
              "      spin 1s steps(1) infinite;\n",
              "  }\n",
              "\n",
              "  @keyframes spin {\n",
              "    0% {\n",
              "      border-color: transparent;\n",
              "      border-bottom-color: var(--fill-color);\n",
              "      border-left-color: var(--fill-color);\n",
              "    }\n",
              "    20% {\n",
              "      border-color: transparent;\n",
              "      border-left-color: var(--fill-color);\n",
              "      border-top-color: var(--fill-color);\n",
              "    }\n",
              "    30% {\n",
              "      border-color: transparent;\n",
              "      border-left-color: var(--fill-color);\n",
              "      border-top-color: var(--fill-color);\n",
              "      border-right-color: var(--fill-color);\n",
              "    }\n",
              "    40% {\n",
              "      border-color: transparent;\n",
              "      border-right-color: var(--fill-color);\n",
              "      border-top-color: var(--fill-color);\n",
              "    }\n",
              "    60% {\n",
              "      border-color: transparent;\n",
              "      border-right-color: var(--fill-color);\n",
              "    }\n",
              "    80% {\n",
              "      border-color: transparent;\n",
              "      border-right-color: var(--fill-color);\n",
              "      border-bottom-color: var(--fill-color);\n",
              "    }\n",
              "    90% {\n",
              "      border-color: transparent;\n",
              "      border-bottom-color: var(--fill-color);\n",
              "    }\n",
              "  }\n",
              "</style>\n",
              "\n",
              "      <script>\n",
              "        async function quickchart(key) {\n",
              "          const quickchartButtonEl =\n",
              "            document.querySelector('#' + key + ' button');\n",
              "          quickchartButtonEl.disabled = true;  // To prevent multiple clicks.\n",
              "          quickchartButtonEl.classList.add('colab-df-spinner');\n",
              "          try {\n",
              "            const charts = await google.colab.kernel.invokeFunction(\n",
              "                'suggestCharts', [key], {});\n",
              "          } catch (error) {\n",
              "            console.error('Error during call to suggestCharts:', error);\n",
              "          }\n",
              "          quickchartButtonEl.classList.remove('colab-df-spinner');\n",
              "          quickchartButtonEl.classList.add('colab-df-quickchart-complete');\n",
              "        }\n",
              "        (() => {\n",
              "          let quickchartButtonEl =\n",
              "            document.querySelector('#df-acb2289f-8acc-4e09-8668-e90a4fcde9ef button');\n",
              "          quickchartButtonEl.style.display =\n",
              "            google.colab.kernel.accessAllowed ? 'block' : 'none';\n",
              "        })();\n",
              "      </script>\n",
              "    </div>\n",
              "\n",
              "    </div>\n",
              "  </div>\n"
            ],
            "application/vnd.google.colaboratory.intrinsic+json": {
              "type": "dataframe",
              "variable_name": "df",
              "summary": "{\n  \"name\": \"df\",\n  \"rows\": 36,\n  \"fields\": [\n    {\n      \"column\": \"notes\",\n      \"properties\": {\n        \"dtype\": \"category\",\n        \"num_unique_values\": 14,\n        \"samples\": [\n          \"NA\",\n          \"\",\n          \"\\u2014\"\n        ],\n        \"semantic_type\": \"\",\n        \"description\": \"\"\n      }\n    },\n    {\n      \"column\": \"present_weather_code\",\n      \"properties\": {\n        \"dtype\": \"category\",\n        \"num_unique_values\": 17,\n        \"samples\": [\n          \"53\",\n          \"-999\",\n          \"82\"\n        ],\n        \"semantic_type\": \"\",\n        \"description\": \"\"\n      }\n    },\n    {\n      \"column\": \"t_max_c\",\n      \"properties\": {\n        \"dtype\": \"string\",\n        \"num_unique_values\": 31,\n        \"samples\": [\n          \"-2.2\",\n          \"8.9\",\n          \"2.3\"\n        ],\n        \"semantic_type\": \"\",\n        \"description\": \"\"\n      }\n    },\n    {\n      \"column\": \"precip_24h_mm\",\n      \"properties\": {\n        \"dtype\": \"string\",\n        \"num_unique_values\": 25,\n        \"samples\": [\n          \"2.1\",\n          \"1.7\",\n          \"3.0 mm\"\n        ],\n        \"semantic_type\": \"\",\n        \"description\": \"\"\n      }\n    },\n    {\n      \"column\": \"date\",\n      \"properties\": {\n        \"dtype\": \"string\",\n        \"num_unique_values\": 36,\n        \"samples\": [\n          \"12-16-1925\",\n          \"10-01-1925 07:00\",\n          \"11-03-1925 20:00\"\n        ],\n        \"semantic_type\": \"\",\n        \"description\": \"\"\n      }\n    },\n    {\n      \"column\": \"precip_type\",\n      \"properties\": {\n        \"dtype\": \"category\",\n        \"num_unique_values\": 10,\n        \"samples\": [\n          \"snow\",\n          \"mixed\",\n          \"none\"\n        ],\n        \"semantic_type\": \"\",\n        \"description\": \"\"\n      }\n    },\n    {\n      \"column\": \"t_min_c\",\n      \"properties\": {\n        \"dtype\": \"string\",\n        \"num_unique_values\": 33,\n        \"samples\": [\n          \"-6.0\\n\",\n          \"-999\\n\",\n          \"1.4\\n\"\n        ],\n        \"semantic_type\": \"\",\n        \"description\": \"\"\n      }\n    }\n  ]\n}"
            }
          },
          "metadata": {},
          "execution_count": 37
        }
      ]
    },
    {
      "cell_type": "code",
      "source": [
        "df_dictionary = {} # dictionary is a data structure in Python\n",
        "# which uses key -> value, so unique keys point to any type of value\n",
        "for file in text_files:\n",
        "    df_dictionary[file.stem] = load_messy_file(file)\n",
        "# how many dataframes\n",
        "print(len(df_dictionary))"
      ],
      "metadata": {
        "id": "7W5Rr3slj4Af",
        "outputId": "5ade1ae9-7272-41b0-9c4b-c62feda5f966",
        "colab": {
          "base_uri": "https://localhost:8080/"
        }
      },
      "id": "7W5Rr3slj4Af",
      "execution_count": 38,
      "outputs": [
        {
          "output_type": "stream",
          "name": "stdout",
          "text": [
            "5\n"
          ]
        }
      ]
    },
    {
      "cell_type": "code",
      "source": [
        "# let's go through all dataframes, print the file name and display head(3)\n",
        "for k, v in df_dictionary.items(): # items gives us iterable tuples of key and value commonly we use k,v for short\n",
        "# here k == file_name\n",
        "# v == dataframe\n",
        "    print(k)\n",
        "    display(v.head(3))"
      ],
      "metadata": {
        "id": "RuF7fjfjk3yJ",
        "outputId": "a7261b5a-8f72-4780-9045-6ec43cffae81",
        "colab": {
          "base_uri": "https://localhost:8080/",
          "height": 737
        }
      },
      "id": "RuF7fjfjk3yJ",
      "execution_count": 39,
      "outputs": [
        {
          "output_type": "stream",
          "name": "stdout",
          "text": [
            "aluksne_1925\n"
          ]
        },
        {
          "output_type": "display_data",
          "data": {
            "text/plain": [
              "              notes present_weather_code t_max_c precip_24h_mm        date  \\\n",
              "0                 —                   53     5.9        3.0 mm  10-19-1925   \n",
              "1       Rīts auksts                 -999     9.1        2.3 mm  18.10.1925   \n",
              "2  Daļēji mākoņains                   65     5.4           0.0  11-10-1925   \n",
              "\n",
              "  precip_type t_min_c  \n",
              "0           R   5.5\\n  \n",
              "1       mixed   4.2\\n  \n",
              "2              -0.5\\n  "
            ],
            "text/html": [
              "\n",
              "  <div id=\"df-990cfcde-c25c-45a6-8f28-f2eb15f871c5\" class=\"colab-df-container\">\n",
              "    <div>\n",
              "<style scoped>\n",
              "    .dataframe tbody tr th:only-of-type {\n",
              "        vertical-align: middle;\n",
              "    }\n",
              "\n",
              "    .dataframe tbody tr th {\n",
              "        vertical-align: top;\n",
              "    }\n",
              "\n",
              "    .dataframe thead th {\n",
              "        text-align: right;\n",
              "    }\n",
              "</style>\n",
              "<table border=\"1\" class=\"dataframe\">\n",
              "  <thead>\n",
              "    <tr style=\"text-align: right;\">\n",
              "      <th></th>\n",
              "      <th>notes</th>\n",
              "      <th>present_weather_code</th>\n",
              "      <th>t_max_c</th>\n",
              "      <th>precip_24h_mm</th>\n",
              "      <th>date</th>\n",
              "      <th>precip_type</th>\n",
              "      <th>t_min_c</th>\n",
              "    </tr>\n",
              "  </thead>\n",
              "  <tbody>\n",
              "    <tr>\n",
              "      <th>0</th>\n",
              "      <td>—</td>\n",
              "      <td>53</td>\n",
              "      <td>5.9</td>\n",
              "      <td>3.0 mm</td>\n",
              "      <td>10-19-1925</td>\n",
              "      <td>R</td>\n",
              "      <td>5.5\\n</td>\n",
              "    </tr>\n",
              "    <tr>\n",
              "      <th>1</th>\n",
              "      <td>Rīts auksts</td>\n",
              "      <td>-999</td>\n",
              "      <td>9.1</td>\n",
              "      <td>2.3 mm</td>\n",
              "      <td>18.10.1925</td>\n",
              "      <td>mixed</td>\n",
              "      <td>4.2\\n</td>\n",
              "    </tr>\n",
              "    <tr>\n",
              "      <th>2</th>\n",
              "      <td>Daļēji mākoņains</td>\n",
              "      <td>65</td>\n",
              "      <td>5.4</td>\n",
              "      <td>0.0</td>\n",
              "      <td>11-10-1925</td>\n",
              "      <td></td>\n",
              "      <td>-0.5\\n</td>\n",
              "    </tr>\n",
              "  </tbody>\n",
              "</table>\n",
              "</div>\n",
              "    <div class=\"colab-df-buttons\">\n",
              "\n",
              "  <div class=\"colab-df-container\">\n",
              "    <button class=\"colab-df-convert\" onclick=\"convertToInteractive('df-990cfcde-c25c-45a6-8f28-f2eb15f871c5')\"\n",
              "            title=\"Convert this dataframe to an interactive table.\"\n",
              "            style=\"display:none;\">\n",
              "\n",
              "  <svg xmlns=\"http://www.w3.org/2000/svg\" height=\"24px\" viewBox=\"0 -960 960 960\">\n",
              "    <path d=\"M120-120v-720h720v720H120Zm60-500h600v-160H180v160Zm220 220h160v-160H400v160Zm0 220h160v-160H400v160ZM180-400h160v-160H180v160Zm440 0h160v-160H620v160ZM180-180h160v-160H180v160Zm440 0h160v-160H620v160Z\"/>\n",
              "  </svg>\n",
              "    </button>\n",
              "\n",
              "  <style>\n",
              "    .colab-df-container {\n",
              "      display:flex;\n",
              "      gap: 12px;\n",
              "    }\n",
              "\n",
              "    .colab-df-convert {\n",
              "      background-color: #E8F0FE;\n",
              "      border: none;\n",
              "      border-radius: 50%;\n",
              "      cursor: pointer;\n",
              "      display: none;\n",
              "      fill: #1967D2;\n",
              "      height: 32px;\n",
              "      padding: 0 0 0 0;\n",
              "      width: 32px;\n",
              "    }\n",
              "\n",
              "    .colab-df-convert:hover {\n",
              "      background-color: #E2EBFA;\n",
              "      box-shadow: 0px 1px 2px rgba(60, 64, 67, 0.3), 0px 1px 3px 1px rgba(60, 64, 67, 0.15);\n",
              "      fill: #174EA6;\n",
              "    }\n",
              "\n",
              "    .colab-df-buttons div {\n",
              "      margin-bottom: 4px;\n",
              "    }\n",
              "\n",
              "    [theme=dark] .colab-df-convert {\n",
              "      background-color: #3B4455;\n",
              "      fill: #D2E3FC;\n",
              "    }\n",
              "\n",
              "    [theme=dark] .colab-df-convert:hover {\n",
              "      background-color: #434B5C;\n",
              "      box-shadow: 0px 1px 3px 1px rgba(0, 0, 0, 0.15);\n",
              "      filter: drop-shadow(0px 1px 2px rgba(0, 0, 0, 0.3));\n",
              "      fill: #FFFFFF;\n",
              "    }\n",
              "  </style>\n",
              "\n",
              "    <script>\n",
              "      const buttonEl =\n",
              "        document.querySelector('#df-990cfcde-c25c-45a6-8f28-f2eb15f871c5 button.colab-df-convert');\n",
              "      buttonEl.style.display =\n",
              "        google.colab.kernel.accessAllowed ? 'block' : 'none';\n",
              "\n",
              "      async function convertToInteractive(key) {\n",
              "        const element = document.querySelector('#df-990cfcde-c25c-45a6-8f28-f2eb15f871c5');\n",
              "        const dataTable =\n",
              "          await google.colab.kernel.invokeFunction('convertToInteractive',\n",
              "                                                    [key], {});\n",
              "        if (!dataTable) return;\n",
              "\n",
              "        const docLinkHtml = 'Like what you see? Visit the ' +\n",
              "          '<a target=\"_blank\" href=https://colab.research.google.com/notebooks/data_table.ipynb>data table notebook</a>'\n",
              "          + ' to learn more about interactive tables.';\n",
              "        element.innerHTML = '';\n",
              "        dataTable['output_type'] = 'display_data';\n",
              "        await google.colab.output.renderOutput(dataTable, element);\n",
              "        const docLink = document.createElement('div');\n",
              "        docLink.innerHTML = docLinkHtml;\n",
              "        element.appendChild(docLink);\n",
              "      }\n",
              "    </script>\n",
              "  </div>\n",
              "\n",
              "\n",
              "    <div id=\"df-91354437-b9a7-4bb6-8479-77ede2182581\">\n",
              "      <button class=\"colab-df-quickchart\" onclick=\"quickchart('df-91354437-b9a7-4bb6-8479-77ede2182581')\"\n",
              "                title=\"Suggest charts\"\n",
              "                style=\"display:none;\">\n",
              "\n",
              "<svg xmlns=\"http://www.w3.org/2000/svg\" height=\"24px\"viewBox=\"0 0 24 24\"\n",
              "     width=\"24px\">\n",
              "    <g>\n",
              "        <path d=\"M19 3H5c-1.1 0-2 .9-2 2v14c0 1.1.9 2 2 2h14c1.1 0 2-.9 2-2V5c0-1.1-.9-2-2-2zM9 17H7v-7h2v7zm4 0h-2V7h2v10zm4 0h-2v-4h2v4z\"/>\n",
              "    </g>\n",
              "</svg>\n",
              "      </button>\n",
              "\n",
              "<style>\n",
              "  .colab-df-quickchart {\n",
              "      --bg-color: #E8F0FE;\n",
              "      --fill-color: #1967D2;\n",
              "      --hover-bg-color: #E2EBFA;\n",
              "      --hover-fill-color: #174EA6;\n",
              "      --disabled-fill-color: #AAA;\n",
              "      --disabled-bg-color: #DDD;\n",
              "  }\n",
              "\n",
              "  [theme=dark] .colab-df-quickchart {\n",
              "      --bg-color: #3B4455;\n",
              "      --fill-color: #D2E3FC;\n",
              "      --hover-bg-color: #434B5C;\n",
              "      --hover-fill-color: #FFFFFF;\n",
              "      --disabled-bg-color: #3B4455;\n",
              "      --disabled-fill-color: #666;\n",
              "  }\n",
              "\n",
              "  .colab-df-quickchart {\n",
              "    background-color: var(--bg-color);\n",
              "    border: none;\n",
              "    border-radius: 50%;\n",
              "    cursor: pointer;\n",
              "    display: none;\n",
              "    fill: var(--fill-color);\n",
              "    height: 32px;\n",
              "    padding: 0;\n",
              "    width: 32px;\n",
              "  }\n",
              "\n",
              "  .colab-df-quickchart:hover {\n",
              "    background-color: var(--hover-bg-color);\n",
              "    box-shadow: 0 1px 2px rgba(60, 64, 67, 0.3), 0 1px 3px 1px rgba(60, 64, 67, 0.15);\n",
              "    fill: var(--button-hover-fill-color);\n",
              "  }\n",
              "\n",
              "  .colab-df-quickchart-complete:disabled,\n",
              "  .colab-df-quickchart-complete:disabled:hover {\n",
              "    background-color: var(--disabled-bg-color);\n",
              "    fill: var(--disabled-fill-color);\n",
              "    box-shadow: none;\n",
              "  }\n",
              "\n",
              "  .colab-df-spinner {\n",
              "    border: 2px solid var(--fill-color);\n",
              "    border-color: transparent;\n",
              "    border-bottom-color: var(--fill-color);\n",
              "    animation:\n",
              "      spin 1s steps(1) infinite;\n",
              "  }\n",
              "\n",
              "  @keyframes spin {\n",
              "    0% {\n",
              "      border-color: transparent;\n",
              "      border-bottom-color: var(--fill-color);\n",
              "      border-left-color: var(--fill-color);\n",
              "    }\n",
              "    20% {\n",
              "      border-color: transparent;\n",
              "      border-left-color: var(--fill-color);\n",
              "      border-top-color: var(--fill-color);\n",
              "    }\n",
              "    30% {\n",
              "      border-color: transparent;\n",
              "      border-left-color: var(--fill-color);\n",
              "      border-top-color: var(--fill-color);\n",
              "      border-right-color: var(--fill-color);\n",
              "    }\n",
              "    40% {\n",
              "      border-color: transparent;\n",
              "      border-right-color: var(--fill-color);\n",
              "      border-top-color: var(--fill-color);\n",
              "    }\n",
              "    60% {\n",
              "      border-color: transparent;\n",
              "      border-right-color: var(--fill-color);\n",
              "    }\n",
              "    80% {\n",
              "      border-color: transparent;\n",
              "      border-right-color: var(--fill-color);\n",
              "      border-bottom-color: var(--fill-color);\n",
              "    }\n",
              "    90% {\n",
              "      border-color: transparent;\n",
              "      border-bottom-color: var(--fill-color);\n",
              "    }\n",
              "  }\n",
              "</style>\n",
              "\n",
              "      <script>\n",
              "        async function quickchart(key) {\n",
              "          const quickchartButtonEl =\n",
              "            document.querySelector('#' + key + ' button');\n",
              "          quickchartButtonEl.disabled = true;  // To prevent multiple clicks.\n",
              "          quickchartButtonEl.classList.add('colab-df-spinner');\n",
              "          try {\n",
              "            const charts = await google.colab.kernel.invokeFunction(\n",
              "                'suggestCharts', [key], {});\n",
              "          } catch (error) {\n",
              "            console.error('Error during call to suggestCharts:', error);\n",
              "          }\n",
              "          quickchartButtonEl.classList.remove('colab-df-spinner');\n",
              "          quickchartButtonEl.classList.add('colab-df-quickchart-complete');\n",
              "        }\n",
              "        (() => {\n",
              "          let quickchartButtonEl =\n",
              "            document.querySelector('#df-91354437-b9a7-4bb6-8479-77ede2182581 button');\n",
              "          quickchartButtonEl.style.display =\n",
              "            google.colab.kernel.accessAllowed ? 'block' : 'none';\n",
              "        })();\n",
              "      </script>\n",
              "    </div>\n",
              "\n",
              "    </div>\n",
              "  </div>\n"
            ],
            "application/vnd.google.colaboratory.intrinsic+json": {
              "type": "dataframe",
              "summary": "{\n  \"name\": \"    display(v\",\n  \"rows\": 3,\n  \"fields\": [\n    {\n      \"column\": \"notes\",\n      \"properties\": {\n        \"dtype\": \"string\",\n        \"num_unique_values\": 3,\n        \"samples\": [\n          \"\\u2014\",\n          \"R\\u012bts auksts\",\n          \"Da\\u013c\\u0113ji m\\u0101ko\\u0146ains\"\n        ],\n        \"semantic_type\": \"\",\n        \"description\": \"\"\n      }\n    },\n    {\n      \"column\": \"present_weather_code\",\n      \"properties\": {\n        \"dtype\": \"string\",\n        \"num_unique_values\": 3,\n        \"samples\": [\n          \"53\",\n          \"-999\",\n          \"65\"\n        ],\n        \"semantic_type\": \"\",\n        \"description\": \"\"\n      }\n    },\n    {\n      \"column\": \"t_max_c\",\n      \"properties\": {\n        \"dtype\": \"string\",\n        \"num_unique_values\": 3,\n        \"samples\": [\n          \"5.9\",\n          \"9.1\",\n          \"5.4\"\n        ],\n        \"semantic_type\": \"\",\n        \"description\": \"\"\n      }\n    },\n    {\n      \"column\": \"precip_24h_mm\",\n      \"properties\": {\n        \"dtype\": \"string\",\n        \"num_unique_values\": 3,\n        \"samples\": [\n          \"3.0 mm\",\n          \"2.3 mm\",\n          \"0.0\"\n        ],\n        \"semantic_type\": \"\",\n        \"description\": \"\"\n      }\n    },\n    {\n      \"column\": \"date\",\n      \"properties\": {\n        \"dtype\": \"string\",\n        \"num_unique_values\": 3,\n        \"samples\": [\n          \"10-19-1925\",\n          \"18.10.1925\",\n          \"11-10-1925\"\n        ],\n        \"semantic_type\": \"\",\n        \"description\": \"\"\n      }\n    },\n    {\n      \"column\": \"precip_type\",\n      \"properties\": {\n        \"dtype\": \"string\",\n        \"num_unique_values\": 3,\n        \"samples\": [\n          \"R\",\n          \"mixed\",\n          \"\"\n        ],\n        \"semantic_type\": \"\",\n        \"description\": \"\"\n      }\n    },\n    {\n      \"column\": \"t_min_c\",\n      \"properties\": {\n        \"dtype\": \"string\",\n        \"num_unique_values\": 3,\n        \"samples\": [\n          \"5.5\\n\",\n          \"4.2\\n\",\n          \"-0.5\\n\"\n        ],\n        \"semantic_type\": \"\",\n        \"description\": \"\"\n      }\n    }\n  ]\n}"
            }
          },
          "metadata": {}
        },
        {
          "output_type": "stream",
          "name": "stdout",
          "text": [
            "liepaja_1925\n"
          ]
        },
        {
          "output_type": "display_data",
          "data": {
            "text/plain": [
              "    0                1           2     3   4  5     6     7  \\\n",
              "0  13                2  1925/05/26  none  75  0  0 mm  -999   \n",
              "1  24                4  07.06.1925  rain  75  0     6    16   \n",
              "2  12  600000000000001  1925/05/20     S  50  0  4 mm    13   \n",
              "\n",
              "                    8                9  \n",
              "0  Mērīšanas kļūda?\\n             None  \n",
              "1                   8   Neliels vējš\\n  \n",
              "2                   3  Pūtis brāzmas\\n  "
            ],
            "text/html": [
              "\n",
              "  <div id=\"df-d5479671-6d33-42e7-8a94-2b1980cc9a41\" class=\"colab-df-container\">\n",
              "    <div>\n",
              "<style scoped>\n",
              "    .dataframe tbody tr th:only-of-type {\n",
              "        vertical-align: middle;\n",
              "    }\n",
              "\n",
              "    .dataframe tbody tr th {\n",
              "        vertical-align: top;\n",
              "    }\n",
              "\n",
              "    .dataframe thead th {\n",
              "        text-align: right;\n",
              "    }\n",
              "</style>\n",
              "<table border=\"1\" class=\"dataframe\">\n",
              "  <thead>\n",
              "    <tr style=\"text-align: right;\">\n",
              "      <th></th>\n",
              "      <th>0</th>\n",
              "      <th>1</th>\n",
              "      <th>2</th>\n",
              "      <th>3</th>\n",
              "      <th>4</th>\n",
              "      <th>5</th>\n",
              "      <th>6</th>\n",
              "      <th>7</th>\n",
              "      <th>8</th>\n",
              "      <th>9</th>\n",
              "    </tr>\n",
              "  </thead>\n",
              "  <tbody>\n",
              "    <tr>\n",
              "      <th>0</th>\n",
              "      <td>13</td>\n",
              "      <td>2</td>\n",
              "      <td>1925/05/26</td>\n",
              "      <td>none</td>\n",
              "      <td>75</td>\n",
              "      <td>0</td>\n",
              "      <td>0 mm</td>\n",
              "      <td>-999</td>\n",
              "      <td>Mērīšanas kļūda?\\n</td>\n",
              "      <td>None</td>\n",
              "    </tr>\n",
              "    <tr>\n",
              "      <th>1</th>\n",
              "      <td>24</td>\n",
              "      <td>4</td>\n",
              "      <td>07.06.1925</td>\n",
              "      <td>rain</td>\n",
              "      <td>75</td>\n",
              "      <td>0</td>\n",
              "      <td>6</td>\n",
              "      <td>16</td>\n",
              "      <td>8</td>\n",
              "      <td>Neliels vējš\\n</td>\n",
              "    </tr>\n",
              "    <tr>\n",
              "      <th>2</th>\n",
              "      <td>12</td>\n",
              "      <td>600000000000001</td>\n",
              "      <td>1925/05/20</td>\n",
              "      <td>S</td>\n",
              "      <td>50</td>\n",
              "      <td>0</td>\n",
              "      <td>4 mm</td>\n",
              "      <td>13</td>\n",
              "      <td>3</td>\n",
              "      <td>Pūtis brāzmas\\n</td>\n",
              "    </tr>\n",
              "  </tbody>\n",
              "</table>\n",
              "</div>\n",
              "    <div class=\"colab-df-buttons\">\n",
              "\n",
              "  <div class=\"colab-df-container\">\n",
              "    <button class=\"colab-df-convert\" onclick=\"convertToInteractive('df-d5479671-6d33-42e7-8a94-2b1980cc9a41')\"\n",
              "            title=\"Convert this dataframe to an interactive table.\"\n",
              "            style=\"display:none;\">\n",
              "\n",
              "  <svg xmlns=\"http://www.w3.org/2000/svg\" height=\"24px\" viewBox=\"0 -960 960 960\">\n",
              "    <path d=\"M120-120v-720h720v720H120Zm60-500h600v-160H180v160Zm220 220h160v-160H400v160Zm0 220h160v-160H400v160ZM180-400h160v-160H180v160Zm440 0h160v-160H620v160ZM180-180h160v-160H180v160Zm440 0h160v-160H620v160Z\"/>\n",
              "  </svg>\n",
              "    </button>\n",
              "\n",
              "  <style>\n",
              "    .colab-df-container {\n",
              "      display:flex;\n",
              "      gap: 12px;\n",
              "    }\n",
              "\n",
              "    .colab-df-convert {\n",
              "      background-color: #E8F0FE;\n",
              "      border: none;\n",
              "      border-radius: 50%;\n",
              "      cursor: pointer;\n",
              "      display: none;\n",
              "      fill: #1967D2;\n",
              "      height: 32px;\n",
              "      padding: 0 0 0 0;\n",
              "      width: 32px;\n",
              "    }\n",
              "\n",
              "    .colab-df-convert:hover {\n",
              "      background-color: #E2EBFA;\n",
              "      box-shadow: 0px 1px 2px rgba(60, 64, 67, 0.3), 0px 1px 3px 1px rgba(60, 64, 67, 0.15);\n",
              "      fill: #174EA6;\n",
              "    }\n",
              "\n",
              "    .colab-df-buttons div {\n",
              "      margin-bottom: 4px;\n",
              "    }\n",
              "\n",
              "    [theme=dark] .colab-df-convert {\n",
              "      background-color: #3B4455;\n",
              "      fill: #D2E3FC;\n",
              "    }\n",
              "\n",
              "    [theme=dark] .colab-df-convert:hover {\n",
              "      background-color: #434B5C;\n",
              "      box-shadow: 0px 1px 3px 1px rgba(0, 0, 0, 0.15);\n",
              "      filter: drop-shadow(0px 1px 2px rgba(0, 0, 0, 0.3));\n",
              "      fill: #FFFFFF;\n",
              "    }\n",
              "  </style>\n",
              "\n",
              "    <script>\n",
              "      const buttonEl =\n",
              "        document.querySelector('#df-d5479671-6d33-42e7-8a94-2b1980cc9a41 button.colab-df-convert');\n",
              "      buttonEl.style.display =\n",
              "        google.colab.kernel.accessAllowed ? 'block' : 'none';\n",
              "\n",
              "      async function convertToInteractive(key) {\n",
              "        const element = document.querySelector('#df-d5479671-6d33-42e7-8a94-2b1980cc9a41');\n",
              "        const dataTable =\n",
              "          await google.colab.kernel.invokeFunction('convertToInteractive',\n",
              "                                                    [key], {});\n",
              "        if (!dataTable) return;\n",
              "\n",
              "        const docLinkHtml = 'Like what you see? Visit the ' +\n",
              "          '<a target=\"_blank\" href=https://colab.research.google.com/notebooks/data_table.ipynb>data table notebook</a>'\n",
              "          + ' to learn more about interactive tables.';\n",
              "        element.innerHTML = '';\n",
              "        dataTable['output_type'] = 'display_data';\n",
              "        await google.colab.output.renderOutput(dataTable, element);\n",
              "        const docLink = document.createElement('div');\n",
              "        docLink.innerHTML = docLinkHtml;\n",
              "        element.appendChild(docLink);\n",
              "      }\n",
              "    </script>\n",
              "  </div>\n",
              "\n",
              "\n",
              "    <div id=\"df-19121fa7-2d72-435a-a474-70d5ce5528be\">\n",
              "      <button class=\"colab-df-quickchart\" onclick=\"quickchart('df-19121fa7-2d72-435a-a474-70d5ce5528be')\"\n",
              "                title=\"Suggest charts\"\n",
              "                style=\"display:none;\">\n",
              "\n",
              "<svg xmlns=\"http://www.w3.org/2000/svg\" height=\"24px\"viewBox=\"0 0 24 24\"\n",
              "     width=\"24px\">\n",
              "    <g>\n",
              "        <path d=\"M19 3H5c-1.1 0-2 .9-2 2v14c0 1.1.9 2 2 2h14c1.1 0 2-.9 2-2V5c0-1.1-.9-2-2-2zM9 17H7v-7h2v7zm4 0h-2V7h2v10zm4 0h-2v-4h2v4z\"/>\n",
              "    </g>\n",
              "</svg>\n",
              "      </button>\n",
              "\n",
              "<style>\n",
              "  .colab-df-quickchart {\n",
              "      --bg-color: #E8F0FE;\n",
              "      --fill-color: #1967D2;\n",
              "      --hover-bg-color: #E2EBFA;\n",
              "      --hover-fill-color: #174EA6;\n",
              "      --disabled-fill-color: #AAA;\n",
              "      --disabled-bg-color: #DDD;\n",
              "  }\n",
              "\n",
              "  [theme=dark] .colab-df-quickchart {\n",
              "      --bg-color: #3B4455;\n",
              "      --fill-color: #D2E3FC;\n",
              "      --hover-bg-color: #434B5C;\n",
              "      --hover-fill-color: #FFFFFF;\n",
              "      --disabled-bg-color: #3B4455;\n",
              "      --disabled-fill-color: #666;\n",
              "  }\n",
              "\n",
              "  .colab-df-quickchart {\n",
              "    background-color: var(--bg-color);\n",
              "    border: none;\n",
              "    border-radius: 50%;\n",
              "    cursor: pointer;\n",
              "    display: none;\n",
              "    fill: var(--fill-color);\n",
              "    height: 32px;\n",
              "    padding: 0;\n",
              "    width: 32px;\n",
              "  }\n",
              "\n",
              "  .colab-df-quickchart:hover {\n",
              "    background-color: var(--hover-bg-color);\n",
              "    box-shadow: 0 1px 2px rgba(60, 64, 67, 0.3), 0 1px 3px 1px rgba(60, 64, 67, 0.15);\n",
              "    fill: var(--button-hover-fill-color);\n",
              "  }\n",
              "\n",
              "  .colab-df-quickchart-complete:disabled,\n",
              "  .colab-df-quickchart-complete:disabled:hover {\n",
              "    background-color: var(--disabled-bg-color);\n",
              "    fill: var(--disabled-fill-color);\n",
              "    box-shadow: none;\n",
              "  }\n",
              "\n",
              "  .colab-df-spinner {\n",
              "    border: 2px solid var(--fill-color);\n",
              "    border-color: transparent;\n",
              "    border-bottom-color: var(--fill-color);\n",
              "    animation:\n",
              "      spin 1s steps(1) infinite;\n",
              "  }\n",
              "\n",
              "  @keyframes spin {\n",
              "    0% {\n",
              "      border-color: transparent;\n",
              "      border-bottom-color: var(--fill-color);\n",
              "      border-left-color: var(--fill-color);\n",
              "    }\n",
              "    20% {\n",
              "      border-color: transparent;\n",
              "      border-left-color: var(--fill-color);\n",
              "      border-top-color: var(--fill-color);\n",
              "    }\n",
              "    30% {\n",
              "      border-color: transparent;\n",
              "      border-left-color: var(--fill-color);\n",
              "      border-top-color: var(--fill-color);\n",
              "      border-right-color: var(--fill-color);\n",
              "    }\n",
              "    40% {\n",
              "      border-color: transparent;\n",
              "      border-right-color: var(--fill-color);\n",
              "      border-top-color: var(--fill-color);\n",
              "    }\n",
              "    60% {\n",
              "      border-color: transparent;\n",
              "      border-right-color: var(--fill-color);\n",
              "    }\n",
              "    80% {\n",
              "      border-color: transparent;\n",
              "      border-right-color: var(--fill-color);\n",
              "      border-bottom-color: var(--fill-color);\n",
              "    }\n",
              "    90% {\n",
              "      border-color: transparent;\n",
              "      border-bottom-color: var(--fill-color);\n",
              "    }\n",
              "  }\n",
              "</style>\n",
              "\n",
              "      <script>\n",
              "        async function quickchart(key) {\n",
              "          const quickchartButtonEl =\n",
              "            document.querySelector('#' + key + ' button');\n",
              "          quickchartButtonEl.disabled = true;  // To prevent multiple clicks.\n",
              "          quickchartButtonEl.classList.add('colab-df-spinner');\n",
              "          try {\n",
              "            const charts = await google.colab.kernel.invokeFunction(\n",
              "                'suggestCharts', [key], {});\n",
              "          } catch (error) {\n",
              "            console.error('Error during call to suggestCharts:', error);\n",
              "          }\n",
              "          quickchartButtonEl.classList.remove('colab-df-spinner');\n",
              "          quickchartButtonEl.classList.add('colab-df-quickchart-complete');\n",
              "        }\n",
              "        (() => {\n",
              "          let quickchartButtonEl =\n",
              "            document.querySelector('#df-19121fa7-2d72-435a-a474-70d5ce5528be button');\n",
              "          quickchartButtonEl.style.display =\n",
              "            google.colab.kernel.accessAllowed ? 'block' : 'none';\n",
              "        })();\n",
              "      </script>\n",
              "    </div>\n",
              "\n",
              "    </div>\n",
              "  </div>\n"
            ],
            "application/vnd.google.colaboratory.intrinsic+json": {
              "type": "dataframe",
              "summary": "{\n  \"name\": \"    display(v\",\n  \"rows\": 3,\n  \"fields\": [\n    {\n      \"column\": 0,\n      \"properties\": {\n        \"dtype\": \"string\",\n        \"num_unique_values\": 3,\n        \"samples\": [\n          \"13\",\n          \"24\",\n          \"12\"\n        ],\n        \"semantic_type\": \"\",\n        \"description\": \"\"\n      }\n    },\n    {\n      \"column\": 1,\n      \"properties\": {\n        \"dtype\": \"string\",\n        \"num_unique_values\": 3,\n        \"samples\": [\n          \"2\",\n          \"4\",\n          \"600000000000001\"\n        ],\n        \"semantic_type\": \"\",\n        \"description\": \"\"\n      }\n    },\n    {\n      \"column\": 2,\n      \"properties\": {\n        \"dtype\": \"string\",\n        \"num_unique_values\": 3,\n        \"samples\": [\n          \"1925/05/26\",\n          \"07.06.1925\",\n          \"1925/05/20\"\n        ],\n        \"semantic_type\": \"\",\n        \"description\": \"\"\n      }\n    },\n    {\n      \"column\": 3,\n      \"properties\": {\n        \"dtype\": \"string\",\n        \"num_unique_values\": 3,\n        \"samples\": [\n          \"none\",\n          \"rain\",\n          \"S\"\n        ],\n        \"semantic_type\": \"\",\n        \"description\": \"\"\n      }\n    },\n    {\n      \"column\": 4,\n      \"properties\": {\n        \"dtype\": \"string\",\n        \"num_unique_values\": 2,\n        \"samples\": [\n          \"50\",\n          \"75\"\n        ],\n        \"semantic_type\": \"\",\n        \"description\": \"\"\n      }\n    },\n    {\n      \"column\": 5,\n      \"properties\": {\n        \"dtype\": \"category\",\n        \"num_unique_values\": 1,\n        \"samples\": [\n          \"0\"\n        ],\n        \"semantic_type\": \"\",\n        \"description\": \"\"\n      }\n    },\n    {\n      \"column\": 6,\n      \"properties\": {\n        \"dtype\": \"string\",\n        \"num_unique_values\": 3,\n        \"samples\": [\n          \"0 mm\"\n        ],\n        \"semantic_type\": \"\",\n        \"description\": \"\"\n      }\n    },\n    {\n      \"column\": 7,\n      \"properties\": {\n        \"dtype\": \"string\",\n        \"num_unique_values\": 3,\n        \"samples\": [\n          \"-999\"\n        ],\n        \"semantic_type\": \"\",\n        \"description\": \"\"\n      }\n    },\n    {\n      \"column\": 8,\n      \"properties\": {\n        \"dtype\": \"string\",\n        \"num_unique_values\": 3,\n        \"samples\": [\n          \"M\\u0113r\\u012b\\u0161anas k\\u013c\\u016bda?\\n\"\n        ],\n        \"semantic_type\": \"\",\n        \"description\": \"\"\n      }\n    },\n    {\n      \"column\": 9,\n      \"properties\": {\n        \"dtype\": \"string\",\n        \"num_unique_values\": 2,\n        \"samples\": [\n          \"P\\u016btis br\\u0101zmas\\n\"\n        ],\n        \"semantic_type\": \"\",\n        \"description\": \"\"\n      }\n    }\n  ]\n}"
            }
          },
          "metadata": {}
        },
        {
          "output_type": "stream",
          "name": "stdout",
          "text": [
            "mersrags_1925\n"
          ]
        },
        {
          "output_type": "display_data",
          "data": {
            "text/plain": [
              "               date precip_24h_mm precip_type                  notes t_min_c  \\\n",
              "0        15-03-1925           0.0        none  Mērījums apstiprināts    -3.7   \n",
              "1  04-04-1925 14:00           0.6        snow  Ap pusdienlaiku saule     4.7   \n",
              "2        22-05-1925           0.1                                        7.7   \n",
              "\n",
              "  present_weather_code t_max_c  \n",
              "0                   70  -4.4\\n  \n",
              "1                   75   7.9\\n  \n",
              "2                   80  11.9\\n  "
            ],
            "text/html": [
              "\n",
              "  <div id=\"df-ab7adf45-491e-4ce2-a1b9-fbe2ba9ff7f2\" class=\"colab-df-container\">\n",
              "    <div>\n",
              "<style scoped>\n",
              "    .dataframe tbody tr th:only-of-type {\n",
              "        vertical-align: middle;\n",
              "    }\n",
              "\n",
              "    .dataframe tbody tr th {\n",
              "        vertical-align: top;\n",
              "    }\n",
              "\n",
              "    .dataframe thead th {\n",
              "        text-align: right;\n",
              "    }\n",
              "</style>\n",
              "<table border=\"1\" class=\"dataframe\">\n",
              "  <thead>\n",
              "    <tr style=\"text-align: right;\">\n",
              "      <th></th>\n",
              "      <th>date</th>\n",
              "      <th>precip_24h_mm</th>\n",
              "      <th>precip_type</th>\n",
              "      <th>notes</th>\n",
              "      <th>t_min_c</th>\n",
              "      <th>present_weather_code</th>\n",
              "      <th>t_max_c</th>\n",
              "    </tr>\n",
              "  </thead>\n",
              "  <tbody>\n",
              "    <tr>\n",
              "      <th>0</th>\n",
              "      <td>15-03-1925</td>\n",
              "      <td>0.0</td>\n",
              "      <td>none</td>\n",
              "      <td>Mērījums apstiprināts</td>\n",
              "      <td>-3.7</td>\n",
              "      <td>70</td>\n",
              "      <td>-4.4\\n</td>\n",
              "    </tr>\n",
              "    <tr>\n",
              "      <th>1</th>\n",
              "      <td>04-04-1925 14:00</td>\n",
              "      <td>0.6</td>\n",
              "      <td>snow</td>\n",
              "      <td>Ap pusdienlaiku saule</td>\n",
              "      <td>4.7</td>\n",
              "      <td>75</td>\n",
              "      <td>7.9\\n</td>\n",
              "    </tr>\n",
              "    <tr>\n",
              "      <th>2</th>\n",
              "      <td>22-05-1925</td>\n",
              "      <td>0.1</td>\n",
              "      <td></td>\n",
              "      <td></td>\n",
              "      <td>7.7</td>\n",
              "      <td>80</td>\n",
              "      <td>11.9\\n</td>\n",
              "    </tr>\n",
              "  </tbody>\n",
              "</table>\n",
              "</div>\n",
              "    <div class=\"colab-df-buttons\">\n",
              "\n",
              "  <div class=\"colab-df-container\">\n",
              "    <button class=\"colab-df-convert\" onclick=\"convertToInteractive('df-ab7adf45-491e-4ce2-a1b9-fbe2ba9ff7f2')\"\n",
              "            title=\"Convert this dataframe to an interactive table.\"\n",
              "            style=\"display:none;\">\n",
              "\n",
              "  <svg xmlns=\"http://www.w3.org/2000/svg\" height=\"24px\" viewBox=\"0 -960 960 960\">\n",
              "    <path d=\"M120-120v-720h720v720H120Zm60-500h600v-160H180v160Zm220 220h160v-160H400v160Zm0 220h160v-160H400v160ZM180-400h160v-160H180v160Zm440 0h160v-160H620v160ZM180-180h160v-160H180v160Zm440 0h160v-160H620v160Z\"/>\n",
              "  </svg>\n",
              "    </button>\n",
              "\n",
              "  <style>\n",
              "    .colab-df-container {\n",
              "      display:flex;\n",
              "      gap: 12px;\n",
              "    }\n",
              "\n",
              "    .colab-df-convert {\n",
              "      background-color: #E8F0FE;\n",
              "      border: none;\n",
              "      border-radius: 50%;\n",
              "      cursor: pointer;\n",
              "      display: none;\n",
              "      fill: #1967D2;\n",
              "      height: 32px;\n",
              "      padding: 0 0 0 0;\n",
              "      width: 32px;\n",
              "    }\n",
              "\n",
              "    .colab-df-convert:hover {\n",
              "      background-color: #E2EBFA;\n",
              "      box-shadow: 0px 1px 2px rgba(60, 64, 67, 0.3), 0px 1px 3px 1px rgba(60, 64, 67, 0.15);\n",
              "      fill: #174EA6;\n",
              "    }\n",
              "\n",
              "    .colab-df-buttons div {\n",
              "      margin-bottom: 4px;\n",
              "    }\n",
              "\n",
              "    [theme=dark] .colab-df-convert {\n",
              "      background-color: #3B4455;\n",
              "      fill: #D2E3FC;\n",
              "    }\n",
              "\n",
              "    [theme=dark] .colab-df-convert:hover {\n",
              "      background-color: #434B5C;\n",
              "      box-shadow: 0px 1px 3px 1px rgba(0, 0, 0, 0.15);\n",
              "      filter: drop-shadow(0px 1px 2px rgba(0, 0, 0, 0.3));\n",
              "      fill: #FFFFFF;\n",
              "    }\n",
              "  </style>\n",
              "\n",
              "    <script>\n",
              "      const buttonEl =\n",
              "        document.querySelector('#df-ab7adf45-491e-4ce2-a1b9-fbe2ba9ff7f2 button.colab-df-convert');\n",
              "      buttonEl.style.display =\n",
              "        google.colab.kernel.accessAllowed ? 'block' : 'none';\n",
              "\n",
              "      async function convertToInteractive(key) {\n",
              "        const element = document.querySelector('#df-ab7adf45-491e-4ce2-a1b9-fbe2ba9ff7f2');\n",
              "        const dataTable =\n",
              "          await google.colab.kernel.invokeFunction('convertToInteractive',\n",
              "                                                    [key], {});\n",
              "        if (!dataTable) return;\n",
              "\n",
              "        const docLinkHtml = 'Like what you see? Visit the ' +\n",
              "          '<a target=\"_blank\" href=https://colab.research.google.com/notebooks/data_table.ipynb>data table notebook</a>'\n",
              "          + ' to learn more about interactive tables.';\n",
              "        element.innerHTML = '';\n",
              "        dataTable['output_type'] = 'display_data';\n",
              "        await google.colab.output.renderOutput(dataTable, element);\n",
              "        const docLink = document.createElement('div');\n",
              "        docLink.innerHTML = docLinkHtml;\n",
              "        element.appendChild(docLink);\n",
              "      }\n",
              "    </script>\n",
              "  </div>\n",
              "\n",
              "\n",
              "    <div id=\"df-d02c4641-83e0-4dc0-9fe9-d0c4f8ff1308\">\n",
              "      <button class=\"colab-df-quickchart\" onclick=\"quickchart('df-d02c4641-83e0-4dc0-9fe9-d0c4f8ff1308')\"\n",
              "                title=\"Suggest charts\"\n",
              "                style=\"display:none;\">\n",
              "\n",
              "<svg xmlns=\"http://www.w3.org/2000/svg\" height=\"24px\"viewBox=\"0 0 24 24\"\n",
              "     width=\"24px\">\n",
              "    <g>\n",
              "        <path d=\"M19 3H5c-1.1 0-2 .9-2 2v14c0 1.1.9 2 2 2h14c1.1 0 2-.9 2-2V5c0-1.1-.9-2-2-2zM9 17H7v-7h2v7zm4 0h-2V7h2v10zm4 0h-2v-4h2v4z\"/>\n",
              "    </g>\n",
              "</svg>\n",
              "      </button>\n",
              "\n",
              "<style>\n",
              "  .colab-df-quickchart {\n",
              "      --bg-color: #E8F0FE;\n",
              "      --fill-color: #1967D2;\n",
              "      --hover-bg-color: #E2EBFA;\n",
              "      --hover-fill-color: #174EA6;\n",
              "      --disabled-fill-color: #AAA;\n",
              "      --disabled-bg-color: #DDD;\n",
              "  }\n",
              "\n",
              "  [theme=dark] .colab-df-quickchart {\n",
              "      --bg-color: #3B4455;\n",
              "      --fill-color: #D2E3FC;\n",
              "      --hover-bg-color: #434B5C;\n",
              "      --hover-fill-color: #FFFFFF;\n",
              "      --disabled-bg-color: #3B4455;\n",
              "      --disabled-fill-color: #666;\n",
              "  }\n",
              "\n",
              "  .colab-df-quickchart {\n",
              "    background-color: var(--bg-color);\n",
              "    border: none;\n",
              "    border-radius: 50%;\n",
              "    cursor: pointer;\n",
              "    display: none;\n",
              "    fill: var(--fill-color);\n",
              "    height: 32px;\n",
              "    padding: 0;\n",
              "    width: 32px;\n",
              "  }\n",
              "\n",
              "  .colab-df-quickchart:hover {\n",
              "    background-color: var(--hover-bg-color);\n",
              "    box-shadow: 0 1px 2px rgba(60, 64, 67, 0.3), 0 1px 3px 1px rgba(60, 64, 67, 0.15);\n",
              "    fill: var(--button-hover-fill-color);\n",
              "  }\n",
              "\n",
              "  .colab-df-quickchart-complete:disabled,\n",
              "  .colab-df-quickchart-complete:disabled:hover {\n",
              "    background-color: var(--disabled-bg-color);\n",
              "    fill: var(--disabled-fill-color);\n",
              "    box-shadow: none;\n",
              "  }\n",
              "\n",
              "  .colab-df-spinner {\n",
              "    border: 2px solid var(--fill-color);\n",
              "    border-color: transparent;\n",
              "    border-bottom-color: var(--fill-color);\n",
              "    animation:\n",
              "      spin 1s steps(1) infinite;\n",
              "  }\n",
              "\n",
              "  @keyframes spin {\n",
              "    0% {\n",
              "      border-color: transparent;\n",
              "      border-bottom-color: var(--fill-color);\n",
              "      border-left-color: var(--fill-color);\n",
              "    }\n",
              "    20% {\n",
              "      border-color: transparent;\n",
              "      border-left-color: var(--fill-color);\n",
              "      border-top-color: var(--fill-color);\n",
              "    }\n",
              "    30% {\n",
              "      border-color: transparent;\n",
              "      border-left-color: var(--fill-color);\n",
              "      border-top-color: var(--fill-color);\n",
              "      border-right-color: var(--fill-color);\n",
              "    }\n",
              "    40% {\n",
              "      border-color: transparent;\n",
              "      border-right-color: var(--fill-color);\n",
              "      border-top-color: var(--fill-color);\n",
              "    }\n",
              "    60% {\n",
              "      border-color: transparent;\n",
              "      border-right-color: var(--fill-color);\n",
              "    }\n",
              "    80% {\n",
              "      border-color: transparent;\n",
              "      border-right-color: var(--fill-color);\n",
              "      border-bottom-color: var(--fill-color);\n",
              "    }\n",
              "    90% {\n",
              "      border-color: transparent;\n",
              "      border-bottom-color: var(--fill-color);\n",
              "    }\n",
              "  }\n",
              "</style>\n",
              "\n",
              "      <script>\n",
              "        async function quickchart(key) {\n",
              "          const quickchartButtonEl =\n",
              "            document.querySelector('#' + key + ' button');\n",
              "          quickchartButtonEl.disabled = true;  // To prevent multiple clicks.\n",
              "          quickchartButtonEl.classList.add('colab-df-spinner');\n",
              "          try {\n",
              "            const charts = await google.colab.kernel.invokeFunction(\n",
              "                'suggestCharts', [key], {});\n",
              "          } catch (error) {\n",
              "            console.error('Error during call to suggestCharts:', error);\n",
              "          }\n",
              "          quickchartButtonEl.classList.remove('colab-df-spinner');\n",
              "          quickchartButtonEl.classList.add('colab-df-quickchart-complete');\n",
              "        }\n",
              "        (() => {\n",
              "          let quickchartButtonEl =\n",
              "            document.querySelector('#df-d02c4641-83e0-4dc0-9fe9-d0c4f8ff1308 button');\n",
              "          quickchartButtonEl.style.display =\n",
              "            google.colab.kernel.accessAllowed ? 'block' : 'none';\n",
              "        })();\n",
              "      </script>\n",
              "    </div>\n",
              "\n",
              "    </div>\n",
              "  </div>\n"
            ],
            "application/vnd.google.colaboratory.intrinsic+json": {
              "type": "dataframe",
              "summary": "{\n  \"name\": \"    display(v\",\n  \"rows\": 3,\n  \"fields\": [\n    {\n      \"column\": \"date\",\n      \"properties\": {\n        \"dtype\": \"string\",\n        \"num_unique_values\": 3,\n        \"samples\": [\n          \"15-03-1925\",\n          \"04-04-1925 14:00\",\n          \"22-05-1925\"\n        ],\n        \"semantic_type\": \"\",\n        \"description\": \"\"\n      }\n    },\n    {\n      \"column\": \"precip_24h_mm\",\n      \"properties\": {\n        \"dtype\": \"string\",\n        \"num_unique_values\": 3,\n        \"samples\": [\n          \"0.0\",\n          \"0.6\",\n          \"0.1\"\n        ],\n        \"semantic_type\": \"\",\n        \"description\": \"\"\n      }\n    },\n    {\n      \"column\": \"precip_type\",\n      \"properties\": {\n        \"dtype\": \"string\",\n        \"num_unique_values\": 3,\n        \"samples\": [\n          \"none\",\n          \"snow\",\n          \"\"\n        ],\n        \"semantic_type\": \"\",\n        \"description\": \"\"\n      }\n    },\n    {\n      \"column\": \"notes\",\n      \"properties\": {\n        \"dtype\": \"string\",\n        \"num_unique_values\": 3,\n        \"samples\": [\n          \"M\\u0113r\\u012bjums apstiprin\\u0101ts\",\n          \"Ap pusdienlaiku saule\",\n          \"\"\n        ],\n        \"semantic_type\": \"\",\n        \"description\": \"\"\n      }\n    },\n    {\n      \"column\": \"t_min_c\",\n      \"properties\": {\n        \"dtype\": \"string\",\n        \"num_unique_values\": 3,\n        \"samples\": [\n          \"-3.7\",\n          \"4.7\",\n          \"7.7\"\n        ],\n        \"semantic_type\": \"\",\n        \"description\": \"\"\n      }\n    },\n    {\n      \"column\": \"present_weather_code\",\n      \"properties\": {\n        \"dtype\": \"string\",\n        \"num_unique_values\": 3,\n        \"samples\": [\n          \"70\",\n          \"75\",\n          \"80\"\n        ],\n        \"semantic_type\": \"\",\n        \"description\": \"\"\n      }\n    },\n    {\n      \"column\": \"t_max_c\",\n      \"properties\": {\n        \"dtype\": \"string\",\n        \"num_unique_values\": 3,\n        \"samples\": [\n          \"-4.4\\n\",\n          \"7.9\\n\",\n          \"11.9\\n\"\n        ],\n        \"semantic_type\": \"\",\n        \"description\": \"\"\n      }\n    }\n  ]\n}"
            }
          },
          "metadata": {}
        },
        {
          "output_type": "stream",
          "name": "stdout",
          "text": [
            "riga_university_1925_p1\n"
          ]
        },
        {
          "output_type": "display_data",
          "data": {
            "text/plain": [
              "         date t_min_c t_max_c present_weather_code precip_type precip_24h_mm  \\\n",
              "0  1925-02-11       —     1.3                   73                       0.0   \n",
              "1  1925-01-06    -4.7     0.8                   90        none        0.1 mm   \n",
              "2  1925-02-07    -8.3    -7.2                   71        none        0.0 mm   \n",
              "\n",
              "                notes  \n",
              "0                 —\\n  \n",
              "1  Mērīšanas kļūda?\\n  \n",
              "2       Rīts auksts\\n  "
            ],
            "text/html": [
              "\n",
              "  <div id=\"df-249aeac6-83de-4ea6-8321-ec53f998c4e6\" class=\"colab-df-container\">\n",
              "    <div>\n",
              "<style scoped>\n",
              "    .dataframe tbody tr th:only-of-type {\n",
              "        vertical-align: middle;\n",
              "    }\n",
              "\n",
              "    .dataframe tbody tr th {\n",
              "        vertical-align: top;\n",
              "    }\n",
              "\n",
              "    .dataframe thead th {\n",
              "        text-align: right;\n",
              "    }\n",
              "</style>\n",
              "<table border=\"1\" class=\"dataframe\">\n",
              "  <thead>\n",
              "    <tr style=\"text-align: right;\">\n",
              "      <th></th>\n",
              "      <th>date</th>\n",
              "      <th>t_min_c</th>\n",
              "      <th>t_max_c</th>\n",
              "      <th>present_weather_code</th>\n",
              "      <th>precip_type</th>\n",
              "      <th>precip_24h_mm</th>\n",
              "      <th>notes</th>\n",
              "    </tr>\n",
              "  </thead>\n",
              "  <tbody>\n",
              "    <tr>\n",
              "      <th>0</th>\n",
              "      <td>1925-02-11</td>\n",
              "      <td>—</td>\n",
              "      <td>1.3</td>\n",
              "      <td>73</td>\n",
              "      <td></td>\n",
              "      <td>0.0</td>\n",
              "      <td>—\\n</td>\n",
              "    </tr>\n",
              "    <tr>\n",
              "      <th>1</th>\n",
              "      <td>1925-01-06</td>\n",
              "      <td>-4.7</td>\n",
              "      <td>0.8</td>\n",
              "      <td>90</td>\n",
              "      <td>none</td>\n",
              "      <td>0.1 mm</td>\n",
              "      <td>Mērīšanas kļūda?\\n</td>\n",
              "    </tr>\n",
              "    <tr>\n",
              "      <th>2</th>\n",
              "      <td>1925-02-07</td>\n",
              "      <td>-8.3</td>\n",
              "      <td>-7.2</td>\n",
              "      <td>71</td>\n",
              "      <td>none</td>\n",
              "      <td>0.0 mm</td>\n",
              "      <td>Rīts auksts\\n</td>\n",
              "    </tr>\n",
              "  </tbody>\n",
              "</table>\n",
              "</div>\n",
              "    <div class=\"colab-df-buttons\">\n",
              "\n",
              "  <div class=\"colab-df-container\">\n",
              "    <button class=\"colab-df-convert\" onclick=\"convertToInteractive('df-249aeac6-83de-4ea6-8321-ec53f998c4e6')\"\n",
              "            title=\"Convert this dataframe to an interactive table.\"\n",
              "            style=\"display:none;\">\n",
              "\n",
              "  <svg xmlns=\"http://www.w3.org/2000/svg\" height=\"24px\" viewBox=\"0 -960 960 960\">\n",
              "    <path d=\"M120-120v-720h720v720H120Zm60-500h600v-160H180v160Zm220 220h160v-160H400v160Zm0 220h160v-160H400v160ZM180-400h160v-160H180v160Zm440 0h160v-160H620v160ZM180-180h160v-160H180v160Zm440 0h160v-160H620v160Z\"/>\n",
              "  </svg>\n",
              "    </button>\n",
              "\n",
              "  <style>\n",
              "    .colab-df-container {\n",
              "      display:flex;\n",
              "      gap: 12px;\n",
              "    }\n",
              "\n",
              "    .colab-df-convert {\n",
              "      background-color: #E8F0FE;\n",
              "      border: none;\n",
              "      border-radius: 50%;\n",
              "      cursor: pointer;\n",
              "      display: none;\n",
              "      fill: #1967D2;\n",
              "      height: 32px;\n",
              "      padding: 0 0 0 0;\n",
              "      width: 32px;\n",
              "    }\n",
              "\n",
              "    .colab-df-convert:hover {\n",
              "      background-color: #E2EBFA;\n",
              "      box-shadow: 0px 1px 2px rgba(60, 64, 67, 0.3), 0px 1px 3px 1px rgba(60, 64, 67, 0.15);\n",
              "      fill: #174EA6;\n",
              "    }\n",
              "\n",
              "    .colab-df-buttons div {\n",
              "      margin-bottom: 4px;\n",
              "    }\n",
              "\n",
              "    [theme=dark] .colab-df-convert {\n",
              "      background-color: #3B4455;\n",
              "      fill: #D2E3FC;\n",
              "    }\n",
              "\n",
              "    [theme=dark] .colab-df-convert:hover {\n",
              "      background-color: #434B5C;\n",
              "      box-shadow: 0px 1px 3px 1px rgba(0, 0, 0, 0.15);\n",
              "      filter: drop-shadow(0px 1px 2px rgba(0, 0, 0, 0.3));\n",
              "      fill: #FFFFFF;\n",
              "    }\n",
              "  </style>\n",
              "\n",
              "    <script>\n",
              "      const buttonEl =\n",
              "        document.querySelector('#df-249aeac6-83de-4ea6-8321-ec53f998c4e6 button.colab-df-convert');\n",
              "      buttonEl.style.display =\n",
              "        google.colab.kernel.accessAllowed ? 'block' : 'none';\n",
              "\n",
              "      async function convertToInteractive(key) {\n",
              "        const element = document.querySelector('#df-249aeac6-83de-4ea6-8321-ec53f998c4e6');\n",
              "        const dataTable =\n",
              "          await google.colab.kernel.invokeFunction('convertToInteractive',\n",
              "                                                    [key], {});\n",
              "        if (!dataTable) return;\n",
              "\n",
              "        const docLinkHtml = 'Like what you see? Visit the ' +\n",
              "          '<a target=\"_blank\" href=https://colab.research.google.com/notebooks/data_table.ipynb>data table notebook</a>'\n",
              "          + ' to learn more about interactive tables.';\n",
              "        element.innerHTML = '';\n",
              "        dataTable['output_type'] = 'display_data';\n",
              "        await google.colab.output.renderOutput(dataTable, element);\n",
              "        const docLink = document.createElement('div');\n",
              "        docLink.innerHTML = docLinkHtml;\n",
              "        element.appendChild(docLink);\n",
              "      }\n",
              "    </script>\n",
              "  </div>\n",
              "\n",
              "\n",
              "    <div id=\"df-bac864fb-d0b7-41c0-96ae-33c88cbd33a1\">\n",
              "      <button class=\"colab-df-quickchart\" onclick=\"quickchart('df-bac864fb-d0b7-41c0-96ae-33c88cbd33a1')\"\n",
              "                title=\"Suggest charts\"\n",
              "                style=\"display:none;\">\n",
              "\n",
              "<svg xmlns=\"http://www.w3.org/2000/svg\" height=\"24px\"viewBox=\"0 0 24 24\"\n",
              "     width=\"24px\">\n",
              "    <g>\n",
              "        <path d=\"M19 3H5c-1.1 0-2 .9-2 2v14c0 1.1.9 2 2 2h14c1.1 0 2-.9 2-2V5c0-1.1-.9-2-2-2zM9 17H7v-7h2v7zm4 0h-2V7h2v10zm4 0h-2v-4h2v4z\"/>\n",
              "    </g>\n",
              "</svg>\n",
              "      </button>\n",
              "\n",
              "<style>\n",
              "  .colab-df-quickchart {\n",
              "      --bg-color: #E8F0FE;\n",
              "      --fill-color: #1967D2;\n",
              "      --hover-bg-color: #E2EBFA;\n",
              "      --hover-fill-color: #174EA6;\n",
              "      --disabled-fill-color: #AAA;\n",
              "      --disabled-bg-color: #DDD;\n",
              "  }\n",
              "\n",
              "  [theme=dark] .colab-df-quickchart {\n",
              "      --bg-color: #3B4455;\n",
              "      --fill-color: #D2E3FC;\n",
              "      --hover-bg-color: #434B5C;\n",
              "      --hover-fill-color: #FFFFFF;\n",
              "      --disabled-bg-color: #3B4455;\n",
              "      --disabled-fill-color: #666;\n",
              "  }\n",
              "\n",
              "  .colab-df-quickchart {\n",
              "    background-color: var(--bg-color);\n",
              "    border: none;\n",
              "    border-radius: 50%;\n",
              "    cursor: pointer;\n",
              "    display: none;\n",
              "    fill: var(--fill-color);\n",
              "    height: 32px;\n",
              "    padding: 0;\n",
              "    width: 32px;\n",
              "  }\n",
              "\n",
              "  .colab-df-quickchart:hover {\n",
              "    background-color: var(--hover-bg-color);\n",
              "    box-shadow: 0 1px 2px rgba(60, 64, 67, 0.3), 0 1px 3px 1px rgba(60, 64, 67, 0.15);\n",
              "    fill: var(--button-hover-fill-color);\n",
              "  }\n",
              "\n",
              "  .colab-df-quickchart-complete:disabled,\n",
              "  .colab-df-quickchart-complete:disabled:hover {\n",
              "    background-color: var(--disabled-bg-color);\n",
              "    fill: var(--disabled-fill-color);\n",
              "    box-shadow: none;\n",
              "  }\n",
              "\n",
              "  .colab-df-spinner {\n",
              "    border: 2px solid var(--fill-color);\n",
              "    border-color: transparent;\n",
              "    border-bottom-color: var(--fill-color);\n",
              "    animation:\n",
              "      spin 1s steps(1) infinite;\n",
              "  }\n",
              "\n",
              "  @keyframes spin {\n",
              "    0% {\n",
              "      border-color: transparent;\n",
              "      border-bottom-color: var(--fill-color);\n",
              "      border-left-color: var(--fill-color);\n",
              "    }\n",
              "    20% {\n",
              "      border-color: transparent;\n",
              "      border-left-color: var(--fill-color);\n",
              "      border-top-color: var(--fill-color);\n",
              "    }\n",
              "    30% {\n",
              "      border-color: transparent;\n",
              "      border-left-color: var(--fill-color);\n",
              "      border-top-color: var(--fill-color);\n",
              "      border-right-color: var(--fill-color);\n",
              "    }\n",
              "    40% {\n",
              "      border-color: transparent;\n",
              "      border-right-color: var(--fill-color);\n",
              "      border-top-color: var(--fill-color);\n",
              "    }\n",
              "    60% {\n",
              "      border-color: transparent;\n",
              "      border-right-color: var(--fill-color);\n",
              "    }\n",
              "    80% {\n",
              "      border-color: transparent;\n",
              "      border-right-color: var(--fill-color);\n",
              "      border-bottom-color: var(--fill-color);\n",
              "    }\n",
              "    90% {\n",
              "      border-color: transparent;\n",
              "      border-bottom-color: var(--fill-color);\n",
              "    }\n",
              "  }\n",
              "</style>\n",
              "\n",
              "      <script>\n",
              "        async function quickchart(key) {\n",
              "          const quickchartButtonEl =\n",
              "            document.querySelector('#' + key + ' button');\n",
              "          quickchartButtonEl.disabled = true;  // To prevent multiple clicks.\n",
              "          quickchartButtonEl.classList.add('colab-df-spinner');\n",
              "          try {\n",
              "            const charts = await google.colab.kernel.invokeFunction(\n",
              "                'suggestCharts', [key], {});\n",
              "          } catch (error) {\n",
              "            console.error('Error during call to suggestCharts:', error);\n",
              "          }\n",
              "          quickchartButtonEl.classList.remove('colab-df-spinner');\n",
              "          quickchartButtonEl.classList.add('colab-df-quickchart-complete');\n",
              "        }\n",
              "        (() => {\n",
              "          let quickchartButtonEl =\n",
              "            document.querySelector('#df-bac864fb-d0b7-41c0-96ae-33c88cbd33a1 button');\n",
              "          quickchartButtonEl.style.display =\n",
              "            google.colab.kernel.accessAllowed ? 'block' : 'none';\n",
              "        })();\n",
              "      </script>\n",
              "    </div>\n",
              "\n",
              "    </div>\n",
              "  </div>\n"
            ],
            "application/vnd.google.colaboratory.intrinsic+json": {
              "type": "dataframe",
              "summary": "{\n  \"name\": \"    display(v\",\n  \"rows\": 3,\n  \"fields\": [\n    {\n      \"column\": \"date\",\n      \"properties\": {\n        \"dtype\": \"object\",\n        \"num_unique_values\": 3,\n        \"samples\": [\n          \"1925-02-11\",\n          \"1925-01-06\",\n          \"1925-02-07\"\n        ],\n        \"semantic_type\": \"\",\n        \"description\": \"\"\n      }\n    },\n    {\n      \"column\": \"t_min_c\",\n      \"properties\": {\n        \"dtype\": \"string\",\n        \"num_unique_values\": 3,\n        \"samples\": [\n          \"\\u2014\",\n          \"-4.7\",\n          \"-8.3\"\n        ],\n        \"semantic_type\": \"\",\n        \"description\": \"\"\n      }\n    },\n    {\n      \"column\": \"t_max_c\",\n      \"properties\": {\n        \"dtype\": \"string\",\n        \"num_unique_values\": 3,\n        \"samples\": [\n          \"1.3\",\n          \"0.8\",\n          \"-7.2\"\n        ],\n        \"semantic_type\": \"\",\n        \"description\": \"\"\n      }\n    },\n    {\n      \"column\": \"present_weather_code\",\n      \"properties\": {\n        \"dtype\": \"string\",\n        \"num_unique_values\": 3,\n        \"samples\": [\n          \"73\",\n          \"90\",\n          \"71\"\n        ],\n        \"semantic_type\": \"\",\n        \"description\": \"\"\n      }\n    },\n    {\n      \"column\": \"precip_type\",\n      \"properties\": {\n        \"dtype\": \"string\",\n        \"num_unique_values\": 2,\n        \"samples\": [\n          \"none\",\n          \"\"\n        ],\n        \"semantic_type\": \"\",\n        \"description\": \"\"\n      }\n    },\n    {\n      \"column\": \"precip_24h_mm\",\n      \"properties\": {\n        \"dtype\": \"string\",\n        \"num_unique_values\": 3,\n        \"samples\": [\n          \"0.0\",\n          \"0.1 mm\"\n        ],\n        \"semantic_type\": \"\",\n        \"description\": \"\"\n      }\n    },\n    {\n      \"column\": \"notes\",\n      \"properties\": {\n        \"dtype\": \"string\",\n        \"num_unique_values\": 3,\n        \"samples\": [\n          \"\\u2014\\n\",\n          \"M\\u0113r\\u012b\\u0161anas k\\u013c\\u016bda?\\n\"\n        ],\n        \"semantic_type\": \"\",\n        \"description\": \"\"\n      }\n    }\n  ]\n}"
            }
          },
          "metadata": {}
        },
        {
          "output_type": "stream",
          "name": "stdout",
          "text": [
            "riga_university_1925_p2\n"
          ]
        },
        {
          "output_type": "display_data",
          "data": {
            "text/plain": [
              "  present_weather_code              date precip_24h_mm t_max_c t_min_c  \\\n",
              "0                   53  18.10.1925 20:00           0.7    10.5     6.0   \n",
              "1                             1925/10/13           0.0     9.7     8.1   \n",
              "2                   50        16.09.1925           1.3    17.3    14.8   \n",
              "\n",
              "  precip_type               notes  \n",
              "0        snow                 —\\n  \n",
              "1           —                  \\n  \n",
              "2        rain  Mērīšanas kļūda?\\n  "
            ],
            "text/html": [
              "\n",
              "  <div id=\"df-12a34511-2c31-4857-9668-510cb7ae98d8\" class=\"colab-df-container\">\n",
              "    <div>\n",
              "<style scoped>\n",
              "    .dataframe tbody tr th:only-of-type {\n",
              "        vertical-align: middle;\n",
              "    }\n",
              "\n",
              "    .dataframe tbody tr th {\n",
              "        vertical-align: top;\n",
              "    }\n",
              "\n",
              "    .dataframe thead th {\n",
              "        text-align: right;\n",
              "    }\n",
              "</style>\n",
              "<table border=\"1\" class=\"dataframe\">\n",
              "  <thead>\n",
              "    <tr style=\"text-align: right;\">\n",
              "      <th></th>\n",
              "      <th>present_weather_code</th>\n",
              "      <th>date</th>\n",
              "      <th>precip_24h_mm</th>\n",
              "      <th>t_max_c</th>\n",
              "      <th>t_min_c</th>\n",
              "      <th>precip_type</th>\n",
              "      <th>notes</th>\n",
              "    </tr>\n",
              "  </thead>\n",
              "  <tbody>\n",
              "    <tr>\n",
              "      <th>0</th>\n",
              "      <td>53</td>\n",
              "      <td>18.10.1925 20:00</td>\n",
              "      <td>0.7</td>\n",
              "      <td>10.5</td>\n",
              "      <td>6.0</td>\n",
              "      <td>snow</td>\n",
              "      <td>—\\n</td>\n",
              "    </tr>\n",
              "    <tr>\n",
              "      <th>1</th>\n",
              "      <td></td>\n",
              "      <td>1925/10/13</td>\n",
              "      <td>0.0</td>\n",
              "      <td>9.7</td>\n",
              "      <td>8.1</td>\n",
              "      <td>—</td>\n",
              "      <td>\\n</td>\n",
              "    </tr>\n",
              "    <tr>\n",
              "      <th>2</th>\n",
              "      <td>50</td>\n",
              "      <td>16.09.1925</td>\n",
              "      <td>1.3</td>\n",
              "      <td>17.3</td>\n",
              "      <td>14.8</td>\n",
              "      <td>rain</td>\n",
              "      <td>Mērīšanas kļūda?\\n</td>\n",
              "    </tr>\n",
              "  </tbody>\n",
              "</table>\n",
              "</div>\n",
              "    <div class=\"colab-df-buttons\">\n",
              "\n",
              "  <div class=\"colab-df-container\">\n",
              "    <button class=\"colab-df-convert\" onclick=\"convertToInteractive('df-12a34511-2c31-4857-9668-510cb7ae98d8')\"\n",
              "            title=\"Convert this dataframe to an interactive table.\"\n",
              "            style=\"display:none;\">\n",
              "\n",
              "  <svg xmlns=\"http://www.w3.org/2000/svg\" height=\"24px\" viewBox=\"0 -960 960 960\">\n",
              "    <path d=\"M120-120v-720h720v720H120Zm60-500h600v-160H180v160Zm220 220h160v-160H400v160Zm0 220h160v-160H400v160ZM180-400h160v-160H180v160Zm440 0h160v-160H620v160ZM180-180h160v-160H180v160Zm440 0h160v-160H620v160Z\"/>\n",
              "  </svg>\n",
              "    </button>\n",
              "\n",
              "  <style>\n",
              "    .colab-df-container {\n",
              "      display:flex;\n",
              "      gap: 12px;\n",
              "    }\n",
              "\n",
              "    .colab-df-convert {\n",
              "      background-color: #E8F0FE;\n",
              "      border: none;\n",
              "      border-radius: 50%;\n",
              "      cursor: pointer;\n",
              "      display: none;\n",
              "      fill: #1967D2;\n",
              "      height: 32px;\n",
              "      padding: 0 0 0 0;\n",
              "      width: 32px;\n",
              "    }\n",
              "\n",
              "    .colab-df-convert:hover {\n",
              "      background-color: #E2EBFA;\n",
              "      box-shadow: 0px 1px 2px rgba(60, 64, 67, 0.3), 0px 1px 3px 1px rgba(60, 64, 67, 0.15);\n",
              "      fill: #174EA6;\n",
              "    }\n",
              "\n",
              "    .colab-df-buttons div {\n",
              "      margin-bottom: 4px;\n",
              "    }\n",
              "\n",
              "    [theme=dark] .colab-df-convert {\n",
              "      background-color: #3B4455;\n",
              "      fill: #D2E3FC;\n",
              "    }\n",
              "\n",
              "    [theme=dark] .colab-df-convert:hover {\n",
              "      background-color: #434B5C;\n",
              "      box-shadow: 0px 1px 3px 1px rgba(0, 0, 0, 0.15);\n",
              "      filter: drop-shadow(0px 1px 2px rgba(0, 0, 0, 0.3));\n",
              "      fill: #FFFFFF;\n",
              "    }\n",
              "  </style>\n",
              "\n",
              "    <script>\n",
              "      const buttonEl =\n",
              "        document.querySelector('#df-12a34511-2c31-4857-9668-510cb7ae98d8 button.colab-df-convert');\n",
              "      buttonEl.style.display =\n",
              "        google.colab.kernel.accessAllowed ? 'block' : 'none';\n",
              "\n",
              "      async function convertToInteractive(key) {\n",
              "        const element = document.querySelector('#df-12a34511-2c31-4857-9668-510cb7ae98d8');\n",
              "        const dataTable =\n",
              "          await google.colab.kernel.invokeFunction('convertToInteractive',\n",
              "                                                    [key], {});\n",
              "        if (!dataTable) return;\n",
              "\n",
              "        const docLinkHtml = 'Like what you see? Visit the ' +\n",
              "          '<a target=\"_blank\" href=https://colab.research.google.com/notebooks/data_table.ipynb>data table notebook</a>'\n",
              "          + ' to learn more about interactive tables.';\n",
              "        element.innerHTML = '';\n",
              "        dataTable['output_type'] = 'display_data';\n",
              "        await google.colab.output.renderOutput(dataTable, element);\n",
              "        const docLink = document.createElement('div');\n",
              "        docLink.innerHTML = docLinkHtml;\n",
              "        element.appendChild(docLink);\n",
              "      }\n",
              "    </script>\n",
              "  </div>\n",
              "\n",
              "\n",
              "    <div id=\"df-5a6354b9-6f49-4b35-addb-b744b9a2d1ec\">\n",
              "      <button class=\"colab-df-quickchart\" onclick=\"quickchart('df-5a6354b9-6f49-4b35-addb-b744b9a2d1ec')\"\n",
              "                title=\"Suggest charts\"\n",
              "                style=\"display:none;\">\n",
              "\n",
              "<svg xmlns=\"http://www.w3.org/2000/svg\" height=\"24px\"viewBox=\"0 0 24 24\"\n",
              "     width=\"24px\">\n",
              "    <g>\n",
              "        <path d=\"M19 3H5c-1.1 0-2 .9-2 2v14c0 1.1.9 2 2 2h14c1.1 0 2-.9 2-2V5c0-1.1-.9-2-2-2zM9 17H7v-7h2v7zm4 0h-2V7h2v10zm4 0h-2v-4h2v4z\"/>\n",
              "    </g>\n",
              "</svg>\n",
              "      </button>\n",
              "\n",
              "<style>\n",
              "  .colab-df-quickchart {\n",
              "      --bg-color: #E8F0FE;\n",
              "      --fill-color: #1967D2;\n",
              "      --hover-bg-color: #E2EBFA;\n",
              "      --hover-fill-color: #174EA6;\n",
              "      --disabled-fill-color: #AAA;\n",
              "      --disabled-bg-color: #DDD;\n",
              "  }\n",
              "\n",
              "  [theme=dark] .colab-df-quickchart {\n",
              "      --bg-color: #3B4455;\n",
              "      --fill-color: #D2E3FC;\n",
              "      --hover-bg-color: #434B5C;\n",
              "      --hover-fill-color: #FFFFFF;\n",
              "      --disabled-bg-color: #3B4455;\n",
              "      --disabled-fill-color: #666;\n",
              "  }\n",
              "\n",
              "  .colab-df-quickchart {\n",
              "    background-color: var(--bg-color);\n",
              "    border: none;\n",
              "    border-radius: 50%;\n",
              "    cursor: pointer;\n",
              "    display: none;\n",
              "    fill: var(--fill-color);\n",
              "    height: 32px;\n",
              "    padding: 0;\n",
              "    width: 32px;\n",
              "  }\n",
              "\n",
              "  .colab-df-quickchart:hover {\n",
              "    background-color: var(--hover-bg-color);\n",
              "    box-shadow: 0 1px 2px rgba(60, 64, 67, 0.3), 0 1px 3px 1px rgba(60, 64, 67, 0.15);\n",
              "    fill: var(--button-hover-fill-color);\n",
              "  }\n",
              "\n",
              "  .colab-df-quickchart-complete:disabled,\n",
              "  .colab-df-quickchart-complete:disabled:hover {\n",
              "    background-color: var(--disabled-bg-color);\n",
              "    fill: var(--disabled-fill-color);\n",
              "    box-shadow: none;\n",
              "  }\n",
              "\n",
              "  .colab-df-spinner {\n",
              "    border: 2px solid var(--fill-color);\n",
              "    border-color: transparent;\n",
              "    border-bottom-color: var(--fill-color);\n",
              "    animation:\n",
              "      spin 1s steps(1) infinite;\n",
              "  }\n",
              "\n",
              "  @keyframes spin {\n",
              "    0% {\n",
              "      border-color: transparent;\n",
              "      border-bottom-color: var(--fill-color);\n",
              "      border-left-color: var(--fill-color);\n",
              "    }\n",
              "    20% {\n",
              "      border-color: transparent;\n",
              "      border-left-color: var(--fill-color);\n",
              "      border-top-color: var(--fill-color);\n",
              "    }\n",
              "    30% {\n",
              "      border-color: transparent;\n",
              "      border-left-color: var(--fill-color);\n",
              "      border-top-color: var(--fill-color);\n",
              "      border-right-color: var(--fill-color);\n",
              "    }\n",
              "    40% {\n",
              "      border-color: transparent;\n",
              "      border-right-color: var(--fill-color);\n",
              "      border-top-color: var(--fill-color);\n",
              "    }\n",
              "    60% {\n",
              "      border-color: transparent;\n",
              "      border-right-color: var(--fill-color);\n",
              "    }\n",
              "    80% {\n",
              "      border-color: transparent;\n",
              "      border-right-color: var(--fill-color);\n",
              "      border-bottom-color: var(--fill-color);\n",
              "    }\n",
              "    90% {\n",
              "      border-color: transparent;\n",
              "      border-bottom-color: var(--fill-color);\n",
              "    }\n",
              "  }\n",
              "</style>\n",
              "\n",
              "      <script>\n",
              "        async function quickchart(key) {\n",
              "          const quickchartButtonEl =\n",
              "            document.querySelector('#' + key + ' button');\n",
              "          quickchartButtonEl.disabled = true;  // To prevent multiple clicks.\n",
              "          quickchartButtonEl.classList.add('colab-df-spinner');\n",
              "          try {\n",
              "            const charts = await google.colab.kernel.invokeFunction(\n",
              "                'suggestCharts', [key], {});\n",
              "          } catch (error) {\n",
              "            console.error('Error during call to suggestCharts:', error);\n",
              "          }\n",
              "          quickchartButtonEl.classList.remove('colab-df-spinner');\n",
              "          quickchartButtonEl.classList.add('colab-df-quickchart-complete');\n",
              "        }\n",
              "        (() => {\n",
              "          let quickchartButtonEl =\n",
              "            document.querySelector('#df-5a6354b9-6f49-4b35-addb-b744b9a2d1ec button');\n",
              "          quickchartButtonEl.style.display =\n",
              "            google.colab.kernel.accessAllowed ? 'block' : 'none';\n",
              "        })();\n",
              "      </script>\n",
              "    </div>\n",
              "\n",
              "    </div>\n",
              "  </div>\n"
            ],
            "application/vnd.google.colaboratory.intrinsic+json": {
              "type": "dataframe",
              "summary": "{\n  \"name\": \"    display(v\",\n  \"rows\": 3,\n  \"fields\": [\n    {\n      \"column\": \"present_weather_code\",\n      \"properties\": {\n        \"dtype\": \"string\",\n        \"num_unique_values\": 3,\n        \"samples\": [\n          \"53\",\n          \"\",\n          \"50\"\n        ],\n        \"semantic_type\": \"\",\n        \"description\": \"\"\n      }\n    },\n    {\n      \"column\": \"date\",\n      \"properties\": {\n        \"dtype\": \"string\",\n        \"num_unique_values\": 3,\n        \"samples\": [\n          \"18.10.1925 20:00\",\n          \"1925/10/13\",\n          \"16.09.1925\"\n        ],\n        \"semantic_type\": \"\",\n        \"description\": \"\"\n      }\n    },\n    {\n      \"column\": \"precip_24h_mm\",\n      \"properties\": {\n        \"dtype\": \"string\",\n        \"num_unique_values\": 3,\n        \"samples\": [\n          \"0.7\",\n          \"0.0\",\n          \"1.3\"\n        ],\n        \"semantic_type\": \"\",\n        \"description\": \"\"\n      }\n    },\n    {\n      \"column\": \"t_max_c\",\n      \"properties\": {\n        \"dtype\": \"string\",\n        \"num_unique_values\": 3,\n        \"samples\": [\n          \"10.5\",\n          \"9.7\",\n          \"17.3\"\n        ],\n        \"semantic_type\": \"\",\n        \"description\": \"\"\n      }\n    },\n    {\n      \"column\": \"t_min_c\",\n      \"properties\": {\n        \"dtype\": \"string\",\n        \"num_unique_values\": 3,\n        \"samples\": [\n          \"6.0\",\n          \"8.1\",\n          \"14.8\"\n        ],\n        \"semantic_type\": \"\",\n        \"description\": \"\"\n      }\n    },\n    {\n      \"column\": \"precip_type\",\n      \"properties\": {\n        \"dtype\": \"string\",\n        \"num_unique_values\": 3,\n        \"samples\": [\n          \"snow\",\n          \"\\u2014\",\n          \"rain\"\n        ],\n        \"semantic_type\": \"\",\n        \"description\": \"\"\n      }\n    },\n    {\n      \"column\": \"notes\",\n      \"properties\": {\n        \"dtype\": \"string\",\n        \"num_unique_values\": 3,\n        \"samples\": [\n          \"\\u2014\\n\",\n          \"\\n\",\n          \"M\\u0113r\\u012b\\u0161anas k\\u013c\\u016bda?\\n\"\n        ],\n        \"semantic_type\": \"\",\n        \"description\": \"\"\n      }\n    }\n  ]\n}"
            }
          },
          "metadata": {}
        }
      ]
    },
    {
      "cell_type": "code",
      "execution_count": 40,
      "id": "160242eb",
      "metadata": {
        "id": "160242eb"
      },
      "outputs": [],
      "source": [
        "# okay let's write a function that takes src folder containing text files\n",
        "# function takes also dst folder for output of xlsx files that will be obtained by saving Dataframes from text files\n",
        "def create_xlsx_files(src: Path | str, dst: Path | str):\n",
        "    # first read text files in src\n",
        "    src = Path(src) # to make sure that src is actually Path\n",
        "    text_files = sorted(src.glob('*.txt'))\n",
        "\n",
        "    # create dst if it does not exist\n",
        "    dst = Path(dst)\n",
        "    dst.mkdir(exist_ok=True)\n",
        "    # now simply loop through text_files and create Dataframe and save in dst as text file with xlsx suffix\n",
        "    for p in text_files:\n",
        "        df = load_messy_file(p) # note this df is local to this function, outside df is not affected\n",
        "        df.to_excel(dst / (p.stem + \".xlsx\"))"
      ]
    },
    {
      "cell_type": "markdown",
      "id": "bc921bad",
      "metadata": {
        "id": "bc921bad"
      },
      "source": [
        "### Saving converted files into XLSX\n",
        "\n",
        "Now that we have needed functions we can use them to convert text files to XLSX format.\n",
        "\n",
        "Of course the text files should match the specific format (have separator hint and naturally have lines of content separated by that separtor"
      ]
    },
    {
      "cell_type": "code",
      "execution_count": 41,
      "id": "42291ec0",
      "metadata": {
        "id": "42291ec0"
      },
      "outputs": [],
      "source": [
        "# let'' take day_2_data text files\n",
        "# and convert them to xlsx\n",
        "# let's use new folder for that\n",
        "# let's call it day_2_xlsx\n",
        "INPUT_DIR = \"day_2_data\"\n",
        "OUTPUT_DIR = \"day_2_xlsx\"\n",
        "\n",
        "create_xlsx_files(INPUT_DIR, OUTPUT_DIR)"
      ]
    },
    {
      "cell_type": "code",
      "source": [
        "# let us download all files from OUTPU_DIR\n",
        "from google.colab import files\n",
        "for p in sorted(Path(OUTPUT_DIR).glob(\"*.xlsx\")):\n",
        "    files.download(p)"
      ],
      "metadata": {
        "id": "okLrI8EkmgE-",
        "outputId": "499d9945-e5f4-4cd7-bfb2-6f82b87e28a1",
        "colab": {
          "base_uri": "https://localhost:8080/",
          "height": 17
        }
      },
      "id": "okLrI8EkmgE-",
      "execution_count": 42,
      "outputs": [
        {
          "output_type": "display_data",
          "data": {
            "text/plain": [
              "<IPython.core.display.Javascript object>"
            ],
            "application/javascript": [
              "\n",
              "    async function download(id, filename, size) {\n",
              "      if (!google.colab.kernel.accessAllowed) {\n",
              "        return;\n",
              "      }\n",
              "      const div = document.createElement('div');\n",
              "      const label = document.createElement('label');\n",
              "      label.textContent = `Downloading \"${filename}\": `;\n",
              "      div.appendChild(label);\n",
              "      const progress = document.createElement('progress');\n",
              "      progress.max = size;\n",
              "      div.appendChild(progress);\n",
              "      document.body.appendChild(div);\n",
              "\n",
              "      const buffers = [];\n",
              "      let downloaded = 0;\n",
              "\n",
              "      const channel = await google.colab.kernel.comms.open(id);\n",
              "      // Send a message to notify the kernel that we're ready.\n",
              "      channel.send({})\n",
              "\n",
              "      for await (const message of channel.messages) {\n",
              "        // Send a message to notify the kernel that we're ready.\n",
              "        channel.send({})\n",
              "        if (message.buffers) {\n",
              "          for (const buffer of message.buffers) {\n",
              "            buffers.push(buffer);\n",
              "            downloaded += buffer.byteLength;\n",
              "            progress.value = downloaded;\n",
              "          }\n",
              "        }\n",
              "      }\n",
              "      const blob = new Blob(buffers, {type: 'application/binary'});\n",
              "      const a = document.createElement('a');\n",
              "      a.href = window.URL.createObjectURL(blob);\n",
              "      a.download = filename;\n",
              "      div.appendChild(a);\n",
              "      a.click();\n",
              "      div.remove();\n",
              "    }\n",
              "  "
            ]
          },
          "metadata": {}
        },
        {
          "output_type": "display_data",
          "data": {
            "text/plain": [
              "<IPython.core.display.Javascript object>"
            ],
            "application/javascript": [
              "download(\"download_07dadec8-f8d1-4a5c-adc5-b2e380e28e4a\", \"aluksne_1925.xlsx\", 6987)"
            ]
          },
          "metadata": {}
        },
        {
          "output_type": "display_data",
          "data": {
            "text/plain": [
              "<IPython.core.display.Javascript object>"
            ],
            "application/javascript": [
              "\n",
              "    async function download(id, filename, size) {\n",
              "      if (!google.colab.kernel.accessAllowed) {\n",
              "        return;\n",
              "      }\n",
              "      const div = document.createElement('div');\n",
              "      const label = document.createElement('label');\n",
              "      label.textContent = `Downloading \"${filename}\": `;\n",
              "      div.appendChild(label);\n",
              "      const progress = document.createElement('progress');\n",
              "      progress.max = size;\n",
              "      div.appendChild(progress);\n",
              "      document.body.appendChild(div);\n",
              "\n",
              "      const buffers = [];\n",
              "      let downloaded = 0;\n",
              "\n",
              "      const channel = await google.colab.kernel.comms.open(id);\n",
              "      // Send a message to notify the kernel that we're ready.\n",
              "      channel.send({})\n",
              "\n",
              "      for await (const message of channel.messages) {\n",
              "        // Send a message to notify the kernel that we're ready.\n",
              "        channel.send({})\n",
              "        if (message.buffers) {\n",
              "          for (const buffer of message.buffers) {\n",
              "            buffers.push(buffer);\n",
              "            downloaded += buffer.byteLength;\n",
              "            progress.value = downloaded;\n",
              "          }\n",
              "        }\n",
              "      }\n",
              "      const blob = new Blob(buffers, {type: 'application/binary'});\n",
              "      const a = document.createElement('a');\n",
              "      a.href = window.URL.createObjectURL(blob);\n",
              "      a.download = filename;\n",
              "      div.appendChild(a);\n",
              "      a.click();\n",
              "      div.remove();\n",
              "    }\n",
              "  "
            ]
          },
          "metadata": {}
        },
        {
          "output_type": "display_data",
          "data": {
            "text/plain": [
              "<IPython.core.display.Javascript object>"
            ],
            "application/javascript": [
              "download(\"download_4d243eee-047f-4378-9752-a32dcfb817d2\", \"liepaja_1925.xlsx\", 7306)"
            ]
          },
          "metadata": {}
        },
        {
          "output_type": "display_data",
          "data": {
            "text/plain": [
              "<IPython.core.display.Javascript object>"
            ],
            "application/javascript": [
              "\n",
              "    async function download(id, filename, size) {\n",
              "      if (!google.colab.kernel.accessAllowed) {\n",
              "        return;\n",
              "      }\n",
              "      const div = document.createElement('div');\n",
              "      const label = document.createElement('label');\n",
              "      label.textContent = `Downloading \"${filename}\": `;\n",
              "      div.appendChild(label);\n",
              "      const progress = document.createElement('progress');\n",
              "      progress.max = size;\n",
              "      div.appendChild(progress);\n",
              "      document.body.appendChild(div);\n",
              "\n",
              "      const buffers = [];\n",
              "      let downloaded = 0;\n",
              "\n",
              "      const channel = await google.colab.kernel.comms.open(id);\n",
              "      // Send a message to notify the kernel that we're ready.\n",
              "      channel.send({})\n",
              "\n",
              "      for await (const message of channel.messages) {\n",
              "        // Send a message to notify the kernel that we're ready.\n",
              "        channel.send({})\n",
              "        if (message.buffers) {\n",
              "          for (const buffer of message.buffers) {\n",
              "            buffers.push(buffer);\n",
              "            downloaded += buffer.byteLength;\n",
              "            progress.value = downloaded;\n",
              "          }\n",
              "        }\n",
              "      }\n",
              "      const blob = new Blob(buffers, {type: 'application/binary'});\n",
              "      const a = document.createElement('a');\n",
              "      a.href = window.URL.createObjectURL(blob);\n",
              "      a.download = filename;\n",
              "      div.appendChild(a);\n",
              "      a.click();\n",
              "      div.remove();\n",
              "    }\n",
              "  "
            ]
          },
          "metadata": {}
        },
        {
          "output_type": "display_data",
          "data": {
            "text/plain": [
              "<IPython.core.display.Javascript object>"
            ],
            "application/javascript": [
              "download(\"download_4989801a-bf47-43a5-8bba-11f496516eec\", \"mersrags_1925.xlsx\", 7475)"
            ]
          },
          "metadata": {}
        },
        {
          "output_type": "display_data",
          "data": {
            "text/plain": [
              "<IPython.core.display.Javascript object>"
            ],
            "application/javascript": [
              "\n",
              "    async function download(id, filename, size) {\n",
              "      if (!google.colab.kernel.accessAllowed) {\n",
              "        return;\n",
              "      }\n",
              "      const div = document.createElement('div');\n",
              "      const label = document.createElement('label');\n",
              "      label.textContent = `Downloading \"${filename}\": `;\n",
              "      div.appendChild(label);\n",
              "      const progress = document.createElement('progress');\n",
              "      progress.max = size;\n",
              "      div.appendChild(progress);\n",
              "      document.body.appendChild(div);\n",
              "\n",
              "      const buffers = [];\n",
              "      let downloaded = 0;\n",
              "\n",
              "      const channel = await google.colab.kernel.comms.open(id);\n",
              "      // Send a message to notify the kernel that we're ready.\n",
              "      channel.send({})\n",
              "\n",
              "      for await (const message of channel.messages) {\n",
              "        // Send a message to notify the kernel that we're ready.\n",
              "        channel.send({})\n",
              "        if (message.buffers) {\n",
              "          for (const buffer of message.buffers) {\n",
              "            buffers.push(buffer);\n",
              "            downloaded += buffer.byteLength;\n",
              "            progress.value = downloaded;\n",
              "          }\n",
              "        }\n",
              "      }\n",
              "      const blob = new Blob(buffers, {type: 'application/binary'});\n",
              "      const a = document.createElement('a');\n",
              "      a.href = window.URL.createObjectURL(blob);\n",
              "      a.download = filename;\n",
              "      div.appendChild(a);\n",
              "      a.click();\n",
              "      div.remove();\n",
              "    }\n",
              "  "
            ]
          },
          "metadata": {}
        },
        {
          "output_type": "display_data",
          "data": {
            "text/plain": [
              "<IPython.core.display.Javascript object>"
            ],
            "application/javascript": [
              "download(\"download_2630cc6a-8a19-49e5-a69b-cf088bfbca75\", \"riga_university_1925_p1.xlsx\", 6882)"
            ]
          },
          "metadata": {}
        },
        {
          "output_type": "display_data",
          "data": {
            "text/plain": [
              "<IPython.core.display.Javascript object>"
            ],
            "application/javascript": [
              "\n",
              "    async function download(id, filename, size) {\n",
              "      if (!google.colab.kernel.accessAllowed) {\n",
              "        return;\n",
              "      }\n",
              "      const div = document.createElement('div');\n",
              "      const label = document.createElement('label');\n",
              "      label.textContent = `Downloading \"${filename}\": `;\n",
              "      div.appendChild(label);\n",
              "      const progress = document.createElement('progress');\n",
              "      progress.max = size;\n",
              "      div.appendChild(progress);\n",
              "      document.body.appendChild(div);\n",
              "\n",
              "      const buffers = [];\n",
              "      let downloaded = 0;\n",
              "\n",
              "      const channel = await google.colab.kernel.comms.open(id);\n",
              "      // Send a message to notify the kernel that we're ready.\n",
              "      channel.send({})\n",
              "\n",
              "      for await (const message of channel.messages) {\n",
              "        // Send a message to notify the kernel that we're ready.\n",
              "        channel.send({})\n",
              "        if (message.buffers) {\n",
              "          for (const buffer of message.buffers) {\n",
              "            buffers.push(buffer);\n",
              "            downloaded += buffer.byteLength;\n",
              "            progress.value = downloaded;\n",
              "          }\n",
              "        }\n",
              "      }\n",
              "      const blob = new Blob(buffers, {type: 'application/binary'});\n",
              "      const a = document.createElement('a');\n",
              "      a.href = window.URL.createObjectURL(blob);\n",
              "      a.download = filename;\n",
              "      div.appendChild(a);\n",
              "      a.click();\n",
              "      div.remove();\n",
              "    }\n",
              "  "
            ]
          },
          "metadata": {}
        },
        {
          "output_type": "display_data",
          "data": {
            "text/plain": [
              "<IPython.core.display.Javascript object>"
            ],
            "application/javascript": [
              "download(\"download_06b01646-2765-4e0c-881e-e7b25f90a141\", \"riga_university_1925_p2.xlsx\", 6895)"
            ]
          },
          "metadata": {}
        }
      ]
    },
    {
      "cell_type": "markdown",
      "id": "08925dbe",
      "metadata": {
        "id": "08925dbe"
      },
      "source": [
        "## Part 2: Guided Exercise — Latvia Weather Data (Extra Messy)"
      ]
    },
    {
      "cell_type": "markdown",
      "id": "d71e5dda",
      "metadata": {
        "id": "d71e5dda"
      },
      "source": [
        "**Duration:** ~30 minutes  \n",
        "**Dataset:** `latvia_meteo_1925_extra_messy.zip`  \n",
        "**URL:** https://github.com/ValRCS/RTU_Data_Analysis_Visualization_CPD/raw/refs/heads/main/data/latvia_meteo_1925_extra_messy.zip\n",
        "\n",
        "### 🎯 Objective\n",
        "Convert multiple extra-messy weather text files   into XLSX files into a new folder of your choice\n",
        "\n",
        "### Hint\n",
        "\n",
        "Simply run the provided functions with folders of your choice.\n",
        "\n",
        "### Advanced Users\n",
        "\n",
        "You can start working on extracting column names from the original files. We will do that after break."
      ]
    },
    {
      "cell_type": "code",
      "execution_count": null,
      "id": "95d0ea1f",
      "metadata": {
        "colab": {
          "base_uri": "https://localhost:8080/"
        },
        "id": "95d0ea1f",
        "outputId": "c7a52acd-5727-4e8d-d395-85abf1be85e3"
      },
      "outputs": [
        {
          "name": "stdout",
          "output_type": "stream",
          "text": [
            "day_2_exercise/dobele_1925.txt\n",
            "day_2_exercise/mersrags_extra_1925.txt\n",
            "day_2_exercise/pavilosta_1925.txt\n"
          ]
        }
      ],
      "source": [
        "# --- SKELETON (students fill in) ---\n",
        "EXTRA_URL = 'https://github.com/ValRCS/RTU_Data_Analysis_Visualization_CPD/raw/refs/heads/main/data/latvia_meteo_1925_extra_messy.zip'\n",
        "DATA_DIR = Path('day_2_exercise')\n",
        "\n",
        "# 1) Download & unzip\n",
        "# download_and_unzip(EXTRA_URL, DATA_DIR)\n",
        "\n",
        "# # 2) Print contents of DATA DIR\n",
        "\n",
        "# data_files = sorted(DATA_DIR.glob('*.txt'))\n",
        "# for file_name in data_files: # file_names is just a variable name\n",
        "#   print(file_name)\n",
        "\n",
        "# 2) Inspect: list files & counts\n",
        "# for p in sorted(DATA_DIR.glob('*.txt')):\n",
        "#     print(p.name, '->', count_lines(p))\n",
        "\n",
        "# 3) Clean all files\n",
        "# results = clean_files(DATA_DIR)\n",
        "# results\n",
        "\n",
        "# 4) Load cleaned files\n",
        "# dfs_extra = {}\n",
        "# for p in sorted(DATA_DIR.glob('*.good.txt')):\n",
        "#     dfs_extra[p.stem] = load_cleaned_file(p)\n",
        "# {k: v.head() for k, v in dfs_extra.items()}"
      ]
    },
    {
      "cell_type": "code",
      "execution_count": null,
      "id": "YqgOCLyaxINo",
      "metadata": {
        "id": "YqgOCLyaxINo"
      },
      "outputs": [],
      "source": []
    },
    {
      "cell_type": "code",
      "execution_count": null,
      "id": "4dAVu73yyKuP",
      "metadata": {
        "id": "4dAVu73yyKuP"
      },
      "outputs": [],
      "source": []
    },
    {
      "cell_type": "code",
      "execution_count": null,
      "id": "V_YIyJj_yAj_",
      "metadata": {
        "id": "V_YIyJj_yAj_"
      },
      "outputs": [],
      "source": [
        "# # let us test on day_2_exercise folder\n",
        "# INPUT_FOLDER = Path(\"day_2_exercise\") # this should actually exist\n",
        "# OUTPUT_FOLDER = Path(\"day_2_exercise_output\") # this can be any valid folder name\n",
        "# create_xlsx_files(INPUT_FOLDER, OUTPUT_FOLDER)"
      ]
    },
    {
      "cell_type": "markdown",
      "id": "96e6fd3a",
      "metadata": {
        "id": "96e6fd3a"
      },
      "source": [
        "### 🧪 Checkpoints\n",
        "- At least **N≥3** cleaned files successfully load into DataFrames.\n",
        "- No parsing exceptions on `.head()` or `.info()`.\n",
        "- You can explain (in comments) which rules your `is_good_line` used.\n",
        "\n",
        "### 🛠 Extension (Optional)\n",
        "- Write a variant `clean_files(folder, out_dir=Path('data/cleaned'))` that writes outputs into a subfolder.\n",
        "- Add a **regex-based** `is_good_line_regex` that only keeps lines starting with `YYYY-MM-DD`."
      ]
    },
    {
      "cell_type": "markdown",
      "id": "c1a2569c",
      "metadata": {
        "id": "c1a2569c"
      },
      "source": [
        "## Part 2b: Extracting column names automatically\n",
        "\n",
        "We were able to extract the data from the files and load them into DataFrames and then save them into XLSX files.\n",
        "\n",
        "One negative is that we do not have column names just numbers.\n",
        "\n",
        "Thus we would like to extract column names automatically"
      ]
    },
    {
      "cell_type": "markdown",
      "id": "f89a410b",
      "metadata": {
        "id": "f89a410b"
      },
      "source": [
        "## Part 3: Pandas-Specific Data Cleaning\n",
        "\n",
        "Now we will focus on cleaning the data using pandas.\n",
        "\n"
      ]
    },
    {
      "cell_type": "markdown",
      "id": "99b764b0",
      "metadata": {
        "id": "99b764b0"
      },
      "source": [
        "### Overview\n",
        "In this section, you will standardize each DataFrame from Part 2 so they share a **common schema** and are ready to merge.\n",
        "\n",
        "### Target Schema (example)\n",
        "- `date` (datetime)\n",
        "- `station` (string/category)\n",
        "- `t_min` (float)\n",
        "- `t_max` (float)\n",
        "- `precip` (float)\n",
        "\n",
        "### Typical Operations\n",
        "1. **Column detection & renaming** – bring different column names to a shared set\n",
        "2. **Type coercion** – numbers via `pd.to_numeric(errors='coerce')`, dates via `pd.to_datetime(errors='coerce')`\n",
        "3. **Missing values** – `dropna` or `fillna` depending on context\n",
        "4. **Duplicates** – `.duplicated()` + `.drop_duplicates()`\n",
        "5. **Categoricals** – normalize text (`strip`, `title`, `upper`) and `astype('category')` if useful\n",
        "6. **Validation** – quick assertions (e.g., date not null, temperature ranges plausible)"
      ]
    },
    {
      "cell_type": "markdown",
      "id": "1972b8ec",
      "metadata": {
        "id": "1972b8ec"
      },
      "source": [
        "### Step-by-Step Guide\n",
        "1) **Pick one DataFrame** from `dfs_extra` and print `.head()`, `.columns`, `.info()`\n",
        "2) **Map columns** to target names (e.g., `temp_min` → `t_min`)\n",
        "3) **Coerce**:\n",
        "   - `date = pd.to_datetime(df['date'], errors='coerce')`\n",
        "   - `df[['t_min','t_max','precip']] = df[['t_min','t_max','precip']].apply(pd.to_numeric, errors='coerce')`\n",
        "4) **Handle missing**: start conservative (e.g., drop rows missing `date` or all temperature columns)\n",
        "5) **Standardize station names**: `df['station'] = df['station'].astype(str).str.strip().str.title()`\n",
        "6) **Check duplicates** and remove\n",
        "7) **Repeat** for all DataFrames"
      ]
    },
    {
      "cell_type": "markdown",
      "id": "8dc449af",
      "metadata": {
        "id": "8dc449af"
      },
      "source": [
        "### Common Pitfalls & Tips\n",
        "- Treat ambiguous `-` or `NA` strings as missing (`na_values=[\"-\",\"NA\",\"N/A\"]` if you re-read with `read_csv`)\n",
        "- Some files might have **merged columns**; split using `.str.split(',', expand=True)` when necessary\n",
        "- If a file lacks a column, create it with `pd.NA` so the schema lines up later"
      ]
    },
    {
      "cell_type": "markdown",
      "id": "afe28061",
      "metadata": {
        "id": "afe28061"
      },
      "source": [
        "### 🧱 Skeleton: Inspect & Rename"
      ]
    },
    {
      "cell_type": "code",
      "execution_count": null,
      "id": "f16bfb3c",
      "metadata": {
        "id": "f16bfb3c"
      },
      "outputs": [],
      "source": [
        "# Example skeleton for one dataframe named df\n",
        "# df = dfs_extra['some_file']\n",
        "# print(df.head()); print(df.columns); df.info()\n",
        "\n",
        "# rename_map = {\n",
        "#     'Date': 'date', 'DATE':'date',\n",
        "#     'Station':'station', 'City':'station',\n",
        "#     'Tmin':'t_min', 'TminC':'t_min', 'Min':'t_min',\n",
        "#     'Tmax':'t_max', 'TmaxC':'t_max', 'Max':'t_max',\n",
        "#     'Precip':'precip', 'Rain':'precip'\n",
        "# }\n",
        "# df = df.rename(columns=lambda c: rename_map.get(str(c), str(c).strip().lower()))\n"
      ]
    },
    {
      "cell_type": "markdown",
      "id": "d6b255cc",
      "metadata": {
        "id": "d6b255cc"
      },
      "source": [
        "### 🧱 Skeleton: Type Coercion & Missing Handling"
      ]
    },
    {
      "cell_type": "code",
      "execution_count": null,
      "id": "a19ef475",
      "metadata": {
        "id": "a19ef475"
      },
      "outputs": [],
      "source": [
        "# required_cols = ['date','station','t_min','t_max','precip']\n",
        "# for c in required_cols:\n",
        "#     if c not in df.columns:\n",
        "#         df[c] = pd.NA\n",
        "\n",
        "# df['date'] = pd.to_datetime(df['date'], errors='coerce')\n",
        "# for c in ['t_min','t_max','precip']:\n",
        "#     df[c] = pd.to_numeric(df[c], errors='coerce')\n",
        "\n",
        "# # Drop rows with no usable date\n",
        "# df = df.dropna(subset=['date'])\n",
        "\n",
        "# # Optional: fill precip missing with 0 if domain-appropriate\n",
        "# # df['precip'] = df['precip'].fillna(0)"
      ]
    },
    {
      "cell_type": "markdown",
      "id": "6e69ada3",
      "metadata": {
        "id": "6e69ada3"
      },
      "source": [
        "### 🧱 Skeleton: Text Normalization & Duplicates"
      ]
    },
    {
      "cell_type": "code",
      "execution_count": null,
      "id": "6537d71d",
      "metadata": {
        "id": "6537d71d"
      },
      "outputs": [],
      "source": [
        "# df['station'] = df['station'].astype(str).str.strip().str.title()\n",
        "# before = len(df)\n",
        "# df = df.drop_duplicates()\n",
        "# print('Removed', before - len(df), 'duplicate rows')"
      ]
    },
    {
      "cell_type": "markdown",
      "id": "db547327",
      "metadata": {
        "id": "db547327"
      },
      "source": [
        "### 🧪 Suggested Sanity Checks"
      ]
    },
    {
      "cell_type": "code",
      "execution_count": null,
      "id": "67435a09",
      "metadata": {
        "id": "67435a09"
      },
      "outputs": [],
      "source": [
        "# assert df['date'].notna().all(), 'Null dates remain'\n",
        "# # Optional plausibility checks (adjust to real units)\n",
        "# assert (df['t_min'] <= df['t_max']).dropna().all(), 'Found t_min > t_max'"
      ]
    },
    {
      "cell_type": "markdown",
      "id": "fbc1e041",
      "metadata": {
        "id": "fbc1e041"
      },
      "source": [
        "## Part 4: Merging Cleaned DataFrames"
      ]
    },
    {
      "cell_type": "markdown",
      "id": "2d818314",
      "metadata": {
        "id": "2d818314"
      },
      "source": [
        "### Goal\n",
        "Combine all standardized DataFrames into **one big DataFrame** with a **unified column structure**.\n",
        "\n",
        "### Strategy\n",
        "1. **Define the target schema** used in Part 3.\n",
        "2. **Align each DataFrame** to the schema (add missing columns, reorder).\n",
        "3. **Concatenate** with `pd.concat`.\n",
        "4. **Final cleanup**: deduplicate, reindex, and sort by date/station.\n",
        "5. **Save outputs** (`CSV` or `Parquet`) for Day 3 (EDA)."
      ]
    },
    {
      "cell_type": "markdown",
      "id": "65ee0bea",
      "metadata": {
        "id": "65ee0bea"
      },
      "source": [
        "### Integration Checklist\n",
        "- All DataFrames have columns: `date, station, t_min, t_max, precip`\n",
        "- Dtypes are consistent across DataFrames\n",
        "- No catastrophic loss of rows during coercion\n",
        "- Final row count equals the sum of inputs minus duplicates"
      ]
    },
    {
      "cell_type": "markdown",
      "id": "4a2d282b",
      "metadata": {
        "id": "4a2d282b"
      },
      "source": [
        "### 🧱 Skeleton: Alignment & Concatenation"
      ]
    },
    {
      "cell_type": "code",
      "execution_count": null,
      "id": "de996ea9",
      "metadata": {
        "id": "de996ea9"
      },
      "outputs": [],
      "source": [
        "# Suppose you have a dict of cleaned dfs: dfs_clean\n",
        "# target_cols = ['date','station','t_min','t_max','precip']\n",
        "\n",
        "# def coerce_to_schema(df: pd.DataFrame, cols: list[str]) -> pd.DataFrame:\n",
        "#     for c in cols:\n",
        "#         if c not in df.columns:\n",
        "#             df[c] = pd.NA\n",
        "#     # Reorder and drop extras for now\n",
        "#     return df[cols]\n",
        "\n",
        "# aligned = [coerce_to_schema(d.copy(), target_cols) for d in dfs_clean.values()]\n",
        "# big = pd.concat(aligned, axis=0, ignore_index=True)\n",
        "# big = big.drop_duplicates().reset_index(drop=True)\n",
        "# big = big.sort_values(['date','station'])\n",
        "# big.head()"
      ]
    },
    {
      "cell_type": "markdown",
      "id": "d2821858",
      "metadata": {
        "id": "d2821858"
      },
      "source": [
        "### 🧾 Export for Day 3"
      ]
    },
    {
      "cell_type": "code",
      "execution_count": null,
      "id": "53f8911d",
      "metadata": {
        "id": "53f8911d"
      },
      "outputs": [],
      "source": [
        "# out_dir = Path('outputs'); out_dir.mkdir(exist_ok=True)\n",
        "# big.to_csv(out_dir / 'latvia_meteo_1925_cleaned_merged.csv', index=False)\n",
        "# # Optional: Parquet for speed/size\n",
        "# # big.to_parquet(out_dir / 'latvia_meteo_1925_cleaned_merged.parquet', index=False)"
      ]
    },
    {
      "cell_type": "markdown",
      "id": "8259a98e",
      "metadata": {
        "id": "8259a98e"
      },
      "source": [
        "## 🔄 Reflection\n",
        "- What kinds of messiness were easier to fix with **Python basics**?\n",
        "- What kinds of messiness required **pandas**?\n",
        "- What are the risks of “over-cleaning” or discarding too much data?"
      ]
    }
  ],
  "metadata": {
    "colab": {
      "provenance": []
    },
    "kernelspec": {
      "display_name": "venv",
      "language": "python",
      "name": "python3"
    },
    "language_info": {
      "codemirror_mode": {
        "name": "ipython",
        "version": 3
      },
      "file_extension": ".py",
      "mimetype": "text/x-python",
      "name": "python",
      "nbconvert_exporter": "python",
      "pygments_lexer": "ipython3",
      "version": "3.12.5"
    }
  },
  "nbformat": 4,
  "nbformat_minor": 5
}
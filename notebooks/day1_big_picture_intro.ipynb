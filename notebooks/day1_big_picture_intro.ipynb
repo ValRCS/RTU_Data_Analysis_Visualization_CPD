{
  "cells": [
    {
      "cell_type": "markdown",
      "metadata": {
        "id": "4I-dbfXgu0OS"
      },
      "source": [
        "#  Day 1  Big Picture, Tools Landscape & Data Handling in Python\n",
        "\n",
        "Open in Google Colab (if you have not done so yet!): [![Open In Colab](https://colab.research.google.com/assets/colab-badge.svg)](https://colab.research.google.com/github/ValRCS/RTU_Data_Analysis_Visualization_CPD/blob/main/notebooks/day1_big_picture_intro.ipynb)\n",
        "\n",
        "## Course Description\n",
        "\n",
        "This course provides a practical introduction to **data analysis** and **data visualization** using Python and modern AI-assisted tooling.  \n",
        "Students will learn to work through the complete analytics workflow — from data collection, cleaning, and preparation, through exploratory data analysis (EDA), modeling, and visualization — with a focus on producing clear, actionable insights.  \n",
        "\n",
        "Core skills are built using Python’s rich data ecosystem, including **pandas**, **matplotlib**, **seaborn**, **plotly**, and **scikit-learn**.  \n",
        "In addition, we explore the use of **AI tools** such as ChatGPT, GitHub Copilot, and agent frameworks to enhance productivity, automate repetitive tasks, and assist in coding, exploration, and communication.  \n",
        "\n",
        "By the end of the course, students should have a basic idea on how to analyze datasets, create compelling visualizations, build simple dashboards, and integrate AI assistance into their data workflows."
      ]
    },
    {
      "cell_type": "markdown",
      "metadata": {
        "id": "1zqCF5F1u0Od"
      },
      "source": [
        "<div style=\"display: flex; align-items: center; justify-content: center; gap: 30px;\">\n",
        "  <img src=\"https://github.com/ValRCS/RTU_Data_Analysis_Visualization_CPD/blob/main/img/RTU_Analysis_Puzzled.png?raw=true\" width=\"400\"/>\n",
        "\n",
        "  <!-- Thick arrow as inline SVG -->\n",
        "  <!-- <span style=\"font-size:60px; line-height:20px; color:rgb(0,88,84);\">⇒</span> -->\n",
        "\n",
        "  <img src=\"https://github.com/ValRCS/RTU_Data_Analysis_Visualization_CPD/blob/main/img/RTU_1862_wall.png?raw=true\" width=\"400\"/>\n",
        "</div>"
      ]
    },
    {
      "cell_type": "markdown",
      "metadata": {
        "id": "xYErj20Qu0Og"
      },
      "source": [
        "## About Instructor\n",
        "\n",
        " Valdis Saulespurēns is a lecturer at Riga Technical University, where he teaches Python, JavaScript, algorithms, AI and other computer science subjects. He also works at as a researcher and developer at the National Library of Latvia. Valdis has a specialization in Machine Learning and Data Analysis, and he enjoys **transforming disordered data into structured knowledge**. With more than 30 years of programming experience, Valdis began his professional career by writing programs for quantum scientists at the University of California, Santa Barbara. Before moving into teaching, he developed software for a radio broadcast equipment manufacturer. Valdis holds a Master's degree in Computer Science from the University of Latvia.\n",
        "\n",
        " E-mail: valdis.saulespurens@rtu.lv"
      ]
    },
    {
      "cell_type": "markdown",
      "metadata": {
        "id": "rQC-KTtiu0Ok"
      },
      "source": [
        "## Requisites for this course - the part taught by me\n",
        "\n",
        "There is also a course page at RTU DAS platform: [Python Data Analysis and Visualization](https://www.das.lv/platforma/course/view.php?id=34) - this will require that course administrator has added you to the course - we will use this platform for quizzes and feedback.\n",
        "\n",
        "* To successfully complete this course, you will need to complete the daily QUIZZES\n",
        "\n",
        "For multiple choice quizzes you should get at least 50% correct answers to pass the quiz.\n",
        "* There will also be five daily practical assignments, that you can finish at home, and submit them by the end of the course.\n",
        "\n",
        "For assignments there is no hard requirement, as your previous experience and knowledge will be taken into account, so complete beginners can submit a minimally modified version of the notebooks, while more experienced students can submit more advanced versions of the notebooks with multiple improvements and additions."
      ]
    },
    {
      "cell_type": "markdown",
      "metadata": {
        "id": "bTd9eo65u0Or"
      },
      "source": [
        "## Prerequisites\n",
        "\n",
        "- 📄 Reasonable knowledge of written English - most materials are in English - Latvian materials are sparse\n",
        "- 💻 Little or no programming experience  \n",
        "- 📊 Basic familiarity with spreadsheets such as Excel  \n",
        "- 📈 Interest in data analysis and visualization  \n",
        "- ⏳ Ability to set aside a few hours every week for practice and exercises  \n",
        "\n",
        "### Computer Requirements\n",
        "\n",
        "- 🌐 Internet connection with any up-to-date web browser (e.g., Google Chrome, Mozilla Firefox, Microsoft Edge, Safari)  \n",
        "- 📧 A Gmail account for accessing Google Colab and related tools  \n",
        "\n",
        "**Optional but Recommended (for local development - cloud access can be run on a potato):**  \n",
        "- 🖥 Operating System: Windows 10/11, macOS 12 or later, or a modern Linux distribution  \n",
        "- ⚙️ Processor: Dual-core CPU (Intel i5/Ryzen 3 or better)  \n",
        "- 🛠 Memory: 8 GB RAM or more (16 GB preferred)  \n",
        "- 💾 Storage: At least 20 GB of free SSD space for software, data files, and projects  \n",
        "- 🖥 Screen: Minimum 13\" display with 1920×1080 resolution or higher  \n",
        "- 🛠 Software: Ability to install and run Visual Studio Code, Python, and Jupyter Notebooks locally  "
      ]
    },
    {
      "cell_type": "markdown",
      "metadata": {
        "id": "5_xx0Fvhu0Ow"
      },
      "source": [
        "## Limitations\n",
        "\n",
        "- ⏳ Limited course time: **5 days × 5 academic hours** means we focus on core concepts rather than exhaustive coverage  \n",
        "- 🎣 This course is more about **teaching you to fish** — and even **teaching you how to find more fishing instructions** — than providing a complete manual  \n",
        "- 🐍 Concentrates on **Python with pandas** through **Jupyter Notebooks on Google Colab**, rather than traditional `.py` file programming on a local machine  \n",
        "- 🤖 Focuses on a **small subset of AI tooling** (e.g., ChatGPT, GitHub Copilot) instead of covering the full range of options such as Gemini or Claude Code  \n",
        "- 🧭 The goal is to provide enough **\"hooks\"** so students can confidently continue learning and know **what to research next** after the course  \n",
        "\n",
        "## Course Structure\n",
        "\n",
        "Every day will consist of:\n",
        "- 🗣 **Lecture**: 3 academic hours of theory and practice with short breaks\n",
        "- 💻 **Hands-on Practice**: 1 academic hour of exercises and projects\n",
        "- 🔄 **Reflection**: 1 academic hour of Q&A, discussion, and feedback and quizzes\n",
        "\n"
      ]
    },
    {
      "cell_type": "markdown",
      "metadata": {
        "id": "IRZ8i3veu0O0"
      },
      "source": [
        "## Key terms - the map of the territory in the course\n",
        "\n",
        "### General Data and Computing Terms\n",
        "\n",
        "* 📊 Data Analysis - The process of inspecting, cleaning, transforming, and modeling data to discover useful information, inform conclusions, and support decision-making.  \n",
        "* 📈 Data Visualization - The graphical representation of information and data, using visual elements like charts, graphs, and maps to make complex data more accessible, understandable, and usable.  \n",
        "* 🧪 Data Science - An interdisciplinary field that uses scientific methods, processes, algorithms, and systems to extract knowledge and insights from structured and unstructured data.  \n",
        "* 🗄️ Big Data - Extremely large datasets that may be analyzed computationally to reveal patterns, trends, and associations, especially relating to human behavior and interactions.  \n",
        "  *ℹ️ Informally - Big Data = what does not fit into local computer memory, or is too large to be processed by a single machine in a reasonable time.*  \n",
        "* ☁️ Cloud Computing - The delivery of computing services over the internet (\"the cloud\"), allowing for on-demand access to a shared pool of configurable computing resources (e.g., servers, storage, databases, networking, software).  \n",
        "  *ℹ️ Informally - Cloud Computing = computing on someone else's computer, accessed via the internet.*  \n",
        "\n",
        "### AI and Machine Learning Terms\n",
        "\n",
        "* 🤖 Machine Learning - A subset of artificial intelligence (AI) that involves the use of algorithms and statistical models to enable computers to perform tasks without explicit instructions, relying on patterns and inference instead.  \n",
        "* 🧠 LLM - Large Language Model, a type of AI model trained on vast amounts of text data to understand and generate human-like language, enabling applications like chatbots, translation, and content generation. LLMs are a type of Machine Learning model.  \n",
        "* 👨‍💻 Github Copilot - An AI-powered code completion tool developed by GitHub, which uses machine learning to suggest code snippets and entire functions as developers write code in various programming languages.  \n",
        "* 💬 ChatGPT - A conversational AI model developed by OpenAI, based on the GPT architecture, one of many LLMs, designed to understand and generate human-like text responses in a conversational context.  \n",
        "\n",
        "### Programming and Data Handling Terms\n",
        "\n",
        "* 🖥️ Programming - The process of designing and building executable computer software to accomplish a specific task or solve a problem, typically involving writing code in a programming language.  \n",
        "* 🐍 Python - A high-level, interpreted programming language known for its readability and versatility, widely used in data analysis, web development, automation, and more.  \n",
        "* 🐼 Pandas - A powerful open-source data manipulation and analysis library for Python, providing data structures.  \n",
        "* 📓 Jupyter Notebook - An open-source web application that allows you to create and share documents containing live code, equations, visualizations, and narrative text, widely used for data analysis and scientific computing.  \n",
        "* 🌐 Google Colab - A free and optionally paid, cloud-based Jupyter notebook environment provided by Google that allows users to write and execute Python code in the browser, with access to powerful computing resources.  \n",
        "\n",
        "### Any data terms you would like to add?\n",
        "\n",
        "* Numpy - Python library that underlies most numerical computing including Pandas. In essence Numpy provides low level data structures that are highly optimized for parallel computing using modern CPU instructions.\n",
        "\n",
        "Gemini says:\n",
        "NumPy is a Python library that provides highly optimized data structures and functions for numerical computing. It is built on top of Python's basic types and is the foundation for many other data science libraries like pandas. NumPy arrays are efficient for parallel computing using modern CPU instructions and are the underlying data structure for most numerical operations in Python.\n"
      ]
    },
    {
      "cell_type": "markdown",
      "metadata": {
        "vscode": {
          "languageId": "markdown"
        },
        "id": "bss5Sut8u0O3"
      },
      "source": [
        "## 📅 Day 1 — Plan -  Big Picture, Tools Landscape & Data Handling in Python\n",
        "\n",
        "**📚 Instruction (3h)**  \n",
        "- 🌐 Big picture: data analysis workflow  \n",
        "- ⚖️ Tools comparison: Python vs Excel, Power BI, Tableau (how they complement each other)  \n",
        "- 📓 Jupyter Notebooks for interactive analysis & documentation  \n",
        "- 🐍 Python basics for data work  \n",
        "- 📊 Intro to `pandas` DataFrames  \n",
        "- 📥 Data import (CSV, Excel, JSON) & inspection  \n",
        "\n",
        "**🛠 Practical (1h)**  \n",
        "- 📂 Load & filter a dataset  \n",
        "- ➗ Compute basic statistics  \n",
        "\n",
        "**🔄 Reflection (1h)**  \n",
        "- 💬 Group discussion: comparing workflows in Python vs spreadsheets  \n",
        "- 📝 Mini quiz on `pandas` basics  \n",
        "- 🐞 Troubleshoot common import/inspection issues"
      ]
    },
    {
      "cell_type": "markdown",
      "metadata": {
        "id": "dgRQSs4Su0O6"
      },
      "source": [
        "## 🧭 Data Analysis & Visualization Workflow\n",
        "\n",
        "### 1. 🎯 Defining the Problem\n",
        "- ✅ Clarify goals – What are you trying to understand, explain, or predict?  \n",
        "- 👥 Identify stakeholders – Who will use the results? What decisions will it support?  \n",
        "- ❓ Formulate measurable questions – Turn vague objectives into specific, testable ones  \n",
        "  - *Example:* Instead of “Improve sales,” ask: “What factors most influence monthly sales volume?”  \n",
        "\n",
        "### 2. 📥 Data Acquisition\n",
        "- 📂 Collect from:\n",
        "  - 🏢 Internal sources (databases, transaction logs, CRM systems)  \n",
        "  - 🌍 External sources (APIs, surveys, government datasets, sensors)  \n",
        "- 🔑 Check accessibility – permissions, licenses  \n",
        "- 📝 Document sources for reproducibility  \n",
        "\n",
        "### 3. 🧹 Data Cleaning & Preparation (50–80% of the work)\n",
        "- 🔧 Handle missing values – fill in, remove, or flag  \n",
        "- 🗑 Remove duplicates & errors  \n",
        "- 📅 Standardize formats – dates, units, currency, text casing  \n",
        "- 🏗 Feature engineering – derive new variables from existing data  \n",
        "- 🔗 Combine datasets – merge or join multiple sources  \n",
        "\n",
        "### 4. 🔍 Exploratory Data Analysis (EDA)\n",
        "- 📊 Summarize with descriptive statistics – mean, median, variance, distributions  \n",
        "- 👀 Spot patterns and trends  \n",
        "- 🚨 Detect anomalies or outliers  \n",
        "- 💡 Test initial hypotheses  \n",
        "- 🖼 Create simple visualizations – histograms, scatter plots, boxplots  \n",
        "\n",
        "### 5. 📐 Modeling & Analysis\n",
        "- 🧮 Choose an approach:\n",
        "  - 📊 Statistical tests (t-tests, ANOVA, correlation)  \n",
        "  - 🤖 Predictive modeling (linear regression, decision trees, neural networks)  \n",
        "  - 🧩 Clustering & segmentation  \n",
        "- 📏 Evaluate performance – accuracy, error rates, R², precision/recall, etc.  \n",
        "- 🧐 Validate assumptions – ensure the method fits the data  \n",
        "\n",
        "### 6. 📈 Data Visualization\n",
        "- 📊 Choose the right chart for the question:\n",
        "  - 📊 Comparisons → bar charts  \n",
        "  - 📉 Distributions → histograms, boxplots  \n",
        "  - 📆 Trends over time → line charts  \n",
        "  - 🔗 Relationships → scatter plots  \n",
        "  - 🥧 Parts of a whole → pie/donut charts (sparingly)  \n",
        "- 🎨 Apply design principles:\n",
        "  - 🧩 Keep it simple (avoid “chart junk”)  \n",
        "  - 🎨 Use consistent scales and colors  \n",
        "  - 🏷 Label clearly  \n",
        "- 🖥 Consider interactive tools – dashboards, filters, drill-downs  \n",
        "\n",
        "### 7. 📖 Interpretation & Storytelling\n",
        "- 🤔 Explain the *why* behind patterns  \n",
        "- 🔗 Link results back to the original question  \n",
        "- 🎯 Highlight implications for decision-making  \n",
        "- ⚠️ Acknowledge limitations and uncertainty  \n",
        "\n",
        "### 8. 📢 Communication & Delivery\n",
        "- 📑 Reports – PDF, Word, LaTeX  \n",
        "- 📊 Dashboards – Tableau, Power BI, Plotly Dash  \n",
        "- 🎤 Live presentations – slides, interactive demos  \n",
        "- 🧑‍🤝‍🧑 Tailor depth and format to the audience (executives, technical teams, general public)  \n",
        "\n",
        "### 9. 🚀 Action & Monitoring\n",
        "- 🛠 Implement recommendations  \n",
        "- 📊 Track metrics over time  \n",
        "- 🔄 Iterate as new data comes in  \n",
        "- 📈 Adjust strategies based on feedback and results"
      ]
    },
    {
      "cell_type": "markdown",
      "metadata": {
        "id": "a66CyvMqu0PA"
      },
      "source": [
        "## 🛠 Tools Landscape\n",
        "\n",
        "| Tool     | Strengths | Limitations | Best For |\n",
        "|----------|-----------|-------------|----------|\n",
        "| **Python** (Open-source, code-based) | • Automation & reproducibility  <br>• Handles large datasets  <br>• Flexible analysis  <br>• Integration with APIs/databases  <br>• Huge library ecosystem | • Steeper learning curve  <br>• Requires coding knowledge | Complex, custom, or large-scale analyses; automated pipelines; integrating multiple data sources |\n",
        "| **Excel** (Spreadsheet-based) | • Widely used in business  <br>• Easy to learn  <br>• Quick calculations & charts  <br>• Strong for small datasets | • Limited scalability  <br>• Weak automation  <br>• Prone to manual errors | Quick ad-hoc analysis and reporting; small datasets; business users without coding skills |\n",
        "| **Power BI** (Microsoft BI platform) | • Powerful dashboards  <br>• Microsoft ecosystem integration  <br>• Good data modeling tools  <br>• Easy sharing | • Less flexible for custom analysis  <br>• Desktop license cost | Interactive business dashboards; automated refresh from Microsoft data sources; corporate reporting |\n",
        "| **Tableau** (Visualization & storytelling) | • Best-in-class visualizations  <br>• Strong storytelling tools  <br>• Drag-and-drop interface  <br>• Good interactivity | • Limited data prep capabilities  <br>• License cost | Creating polished, interactive visuals and stories for presentations; visual exploration of data |\n"
      ]
    },
    {
      "cell_type": "markdown",
      "metadata": {
        "id": "UGkc_9oxu0PG"
      },
      "source": [
        "## Now time for your own experiences!\n",
        "\n",
        "Let's take a 5 minute break then we will explore your own experiences if any with data analysis and visualization.\n",
        "\n"
      ]
    },
    {
      "cell_type": "markdown",
      "metadata": {
        "id": "ne7C0eaXu0PI"
      },
      "source": [
        "## 📓 Jupyter Notebooks — The Very Basics\n",
        "\n",
        "Jupyter Notebooks are an interactive environment that combines **code**, **text**, and **results** in one place.  \n",
        "They are especially useful for **data analysis**, **experiments**, and **teaching**.  \n",
        "\n",
        "### 🔑 Key Features\n",
        "- **Cells**: The notebook is divided into cells that can contain either:\n",
        "  - **Code cells** (Python or other languages)\n",
        "  - **Markdown cells** (formatted text, math, images, links)\n",
        "- **Interactive execution**: Run code cell-by-cell and see results immediately.\n",
        "- **Documentation and narrative**: Mix explanations with code to tell the story of your analysis.\n",
        "\n",
        "### 🛠 Basic Actions\n",
        "- ▶️ **Run a cell**: `Shift + Enter`  \n",
        "- ➕ **Add a new cell**: `+` button or `Insert` menu  \n",
        "- ✏️ **Switch cell type**: Code ↔ Markdown (use toolbar or menu)  \n",
        "- 🔄 **Restart kernel**: Clears memory and restarts execution environment  \n",
        "\n",
        "### ✅ Why Use Jupyter?\n",
        "- Great for **step-by-step analysis**.  \n",
        "- Supports **visualizations** inline.  \n",
        "- Makes it easy to **share reproducible research**.  \n"
      ]
    },
    {
      "cell_type": "markdown",
      "metadata": {
        "id": "0cYZfbA2u0PK"
      },
      "source": [
        "## 🌐 Google Colab — Jupyter in the Cloud\n",
        "\n",
        "[Google Colab](https://colab.research.google.com/) is a free, cloud-based platform that runs **Jupyter Notebooks** without any local installation.  \n",
        "It’s widely used for **teaching**, **data analysis**, and **machine learning**.\n",
        "\n",
        "### 🔑 Key Features\n",
        "- **No installation required**: Works entirely in your web browser.  \n",
        "- **Free compute resources**: Provides CPU, GPU, and sometimes TPU acceleration.  \n",
        "- **Google Drive integration**: Save and load notebooks directly from your Google Drive.  \n",
        "- **Collaboration**: Share notebooks just like Google Docs for real-time teamwork.  \n",
        "- **Preinstalled libraries**: Many data science and AI libraries (e.g., pandas, NumPy, TensorFlow, PyTorch) are already included.  \n",
        "\n",
        "### 🛠 How It Relates to Jupyter\n",
        "- **Same interface & workflow**: Colab is essentially Jupyter Notebook hosted in the cloud.  \n",
        "- **Compatible format**: You can open `.ipynb` files from local Jupyter in Colab and vice versa.  \n",
        "- **Extra conveniences**: GPU/TPU hardware, easy sharing, integration with Google ecosystem.  \n",
        "\n",
        "### ⚖️ Trade-offs\n",
        "- **Pros**: No setup, free compute, easy collaboration.  \n",
        "- **Cons**: Requires internet connection, limited runtime/session length, dependency on Google’s environment.  \n",
        "\n",
        "\n",
        "### Local vs Cloud\n",
        "\n",
        "When choosing between local Jupyter Notebooks and Google Colab, consider:\n",
        "- **Local Jupyter**:\n",
        "  - Pros: Full control over environment, no internet dependency, can handle larger datasets without session limits.\n",
        "  - Cons: Requires setup, may need local resources (RAM, CPU), less convenient for collaboration.\n",
        "\n",
        "- **Google Colab**:\n",
        "  - Pros: No setup, free compute, easy collaboration, preinstalled libraries.   \n",
        "  - Cons: Internet dependency, session limits, less control over environment.\n",
        "\n",
        "\n",
        "I will provide instructions for setting up local Jupyter Notebooks for those intersted after a few days, once we have covered the basics of data handling in Python."
      ]
    },
    {
      "cell_type": "markdown",
      "metadata": {
        "id": "McqA5WLUu0PL"
      },
      "source": [
        "## ✍️ Markdown — The Basics\n",
        "\n",
        "Markdown is a **lightweight markup language** used to format plain text.  \n",
        "In Jupyter Notebooks, Markdown cells let you add **headings, lists, links, images, equations, and more** to explain your code and results.\n",
        "\n",
        "### 🔑 Common Elements\n",
        "- **Headings**  \n",
        "  `# Heading 1`  \n",
        "  `## Heading 2`  \n",
        "  `### Heading 3`  \n",
        "\n",
        "- **Text formatting**  \n",
        "  *Italic* → `*Italic*`  \n",
        "  **Bold** → `**Bold**`  \n",
        "  `Code` → `` `Code` ``  \n",
        "\n",
        "- **Lists**  \n",
        "  - Bulleted list → `- item` or `* item`  \n",
        "  1. Numbered list → `1. item`  \n",
        "\n",
        "- **Links & Images**  \n",
        "  [Example link](https://example.com) → `[Example link](https://example.com)`  \n",
        "  ![Alt text](https://example.com/image.png) → `![Alt text](url)`  \n",
        "\n",
        "There are also more advanced features like:\n",
        "- **Tables**\n",
        "- **Math (LaTeX syntax)**  \n",
        "- **Footnotes**\n",
        "- **Blockquotes**  \n",
        "- **Other formatting options**\n",
        "\n",
        "\n",
        "### 📚 Learn More\n",
        "👉 [Markdown Guide on GitHub](https://guides.github.com/features/mastering-markdown/)\n",
        "\n"
      ]
    },
    {
      "cell_type": "markdown",
      "metadata": {
        "id": "8aEPhxtLu0PM"
      },
      "source": [
        "---\n",
        "\n",
        "## 📦 **Mini Task: Markdown Practice**\n",
        "\n",
        "Create a **bulleted list** of 3 of your favorite websites in a **new** Markdown cell.\n",
        "Each list item should be a **clickable link**.\n",
        "\n",
        "👉 Example format (replace with your own sites):\n",
        "\n",
        "- [Riga Technical University](https://www.rtu.lv)  \n",
        "- [Python Official](https://www.python.org)  \n",
        "- [Pandas Documentation](https://pandas.pydata.org/docs/)\n",
        "\n",
        "Extra challenges:\n",
        "- Add a **heading** for your list (e.g., \"My Favorite Websites\")\n",
        "- Add an image related to one of the websites\n",
        "- Use **bold** or *italic* formatting for emphasis\n",
        "---\n",
        "\n",
        "Note if you want an easy way to save your notebook, I recommend making a copy of the notebook in your Google Drive, and then you can download it from there as an `.ipynb` file or as a PDF.\n",
        "You can also use the \"File\" menu in Google Colab to download the notebook as an `.ipynb` file or as a PDF.\n",
        "\n",
        "To make a copy of the notebook in your Google Drive, click on \"File\" → \"Save a copy in Drive\".\n",
        "Then you will have your own editable copy of the notebook in your Google Drive, which you can then download or share as needed.\n",
        "Theoretically it should be automatically saved in your Google Drive, but I recommend checking that it is there, just in case.\n",
        "To force a save afterwards you can also click on \"File\" → \"Save\" or use the keyboard shortcut `Ctrl + S` (or `Cmd + S` on Mac).\n",
        "---"
      ]
    },
    {
      "cell_type": "markdown",
      "metadata": {
        "id": "l1ICokIGu0PP"
      },
      "source": [
        "## 💻 Code Cells in Jupyter\n",
        "\n",
        "Code cells let you **write and run code directly** inside the notebook.  \n",
        "In this course we’ll use **Python**, but Jupyter can support many languages.\n",
        "\n",
        "### 🔑 Key Points\n",
        "- Code cells can contain Python code (or another supported language).  \n",
        "- Press **Shift + Enter** (or the ▶️ button) to run a cell.  \n",
        "- The output appears **directly below the cell**.  \n",
        "- Variables and functions you define stay in memory until the kernel is restarted.  \n",
        "\n",
        "### 🐍 Example\n",
        "```python\n",
        "# A simple Python example\n",
        "name = \"RTU\"\n",
        "year = 2025\n",
        "message = f\"Hello {name}! Welcome to {year}.\"\n",
        "print(message)\n",
        "```\n",
        "\n",
        "Note above code will not run because it is in a markdown cell!!\n",
        "To run code we need to create a code cell! See below:\n",
        "\n",
        "In Google Colab, you can create a new code cell by clicking the `+ Code` button or using the keyboard shortcut `Ctrl + M B` (or `Cmd + M B` on Mac).  \n",
        "Then you can paste the code above into the new cell and run it."
      ]
    },
    {
      "cell_type": "code",
      "execution_count": null,
      "metadata": {
        "id": "-wXMZWDBu0PS",
        "outputId": "072a9768-b84a-49bd-c9d8-9ea60903e646"
      },
      "outputs": [
        {
          "name": "stdout",
          "output_type": "stream",
          "text": [
            "Hello Valdis! Welcome to 2025.\n"
          ]
        }
      ],
      "source": [
        "# A simple Python example\n",
        "# hash means this is a comment - computer ignores it\n",
        "# use comments to explain your code - WHY you did something, not just WHAT you did\n",
        "name = \"Valdis\" # we supply data to the variable name\n",
        "# Python is case-sensitive, so 'name' and 'Name' are different variables\n",
        "# in Python, we use '=' to assign values to variables\n",
        "# in Python we do not need to declare variable types like in some other languages (such as Javascript and many others)\n",
        "\n",
        "year = 2025 # we supply data to the variable year\n",
        "# variables are like boxes that hold data\n",
        "message = f\"Hello {name}! Welcome to {year}.\" # f-string allows us to insert variables into strings\n",
        "# f-string starts with 'f' and allows us to use curly braces {} to insert variables\n",
        "print(message) # print() outputs the message to the console"
      ]
    },
    {
      "cell_type": "markdown",
      "metadata": {
        "id": "wizBKJfYu0PY"
      },
      "source": [
        "---\n",
        "\n",
        "## 📦 **Mini Task: Your First Variable**\n",
        "\n",
        "1. Create a variable with your **first name** as a string.  \n",
        "2. Print a greeting that includes your name using an **f-string**.  \n",
        "\n",
        "👉 Example (replace with your own name):\n",
        "\n",
        "```python\n",
        "my_name = \"Anna\"\n",
        "print(f\"Hello, my name is {my_name}\")\n"
      ]
    },
    {
      "cell_type": "markdown",
      "metadata": {
        "id": "sCGTFOq6u0Pb"
      },
      "source": [
        "## Exploring Variables and Data Types in Python with Jupyter Notebooks\n",
        "\n",
        "### Dynamic Typing in Python\n",
        "\n",
        "When we create a variable in Python, we are essentially creating a **label** for a value stored in memory.  \n",
        "Variables can hold different types of data, such as numbers, strings, lists, and more.\n",
        "\n",
        "Python is a dynamically typed language, which means you don't need to declare the type of a variable when you create it.  \n",
        "The type is determined automatically based on the value assigned to the variable.\n",
        "This value can be changed later, and the variable will adapt to the new type if necessary.\n",
        "\n",
        "```python\n",
        "# Example of variable assignment and type change\n",
        "my_variable = 42  # Initially an integer\n",
        "print(type(my_variable))  # Output: <class 'int'>\n",
        "my_variable = \"Hello, World!\"  # Now a string\n",
        "print(type(my_variable))  # Output: <class 'str'>\n",
        "```\n",
        "\n",
        "Now generally you do not want to change the type of a variable like this too much in real code, as it can lead to confusion and bugs.\n",
        "However, it is useful to know that Python allows this flexibility.\n",
        "\n",
        "### Basic Data Types in Python\n",
        "\n",
        "Python has several built-in data types that are commonly used in data analysis and programming.\n",
        "\n",
        "### Common Data Types\n",
        "\n",
        "#### Primitive Data Types\n",
        "These are the basic building blocks of data in Python. They include:\n",
        "- **Integers**: Whole numbers, e.g., `42`, `-7`\n",
        "- **Floats**: Decimal numbers, e.g., `3.14`, `-0.001`\n",
        "- **Strings**: Text data, e.g., `\"Hello\"`, `'RTU'`\n",
        "- **Booleans**: True/False values, e.g., `True`, `False`\n",
        "- **None**: Represents the absence of a value, e.g., `None` (other languages may call this `null` or `nil`)\n",
        "\n",
        "#### Composite Data Types\n",
        "These are collections of other data types and can hold multiple values:\n",
        "- **Lists**: Ordered collections of items, e.g., `[1, 2, 3]`, `[\"apple\", \"banana\"]`\n",
        "- **Dictionaries**: Key-value pairs, e.g., `{\"name\": \"RTU\", \"year\": 2025}`\n",
        "- **Tuples**: Immutable ordered collections, e.g., `(1, 2, 3)`, `(\"apple\", \"banana\")`\n",
        "- **Sets**: Unordered collections of unique items, e.g., `{1, 2, 3}`, `{\"apple\", \"banana\"}`\n",
        "\n",
        "#### Custom Data Types\n",
        "You can also create your own data types using classes, but we will not cover that in this course.\n",
        "We will however use some of the custom data types from libraries like `pandas` and `numpy`, which are built on top of Python's basic types.\n",
        "\n",
        "### Performing operations on different data types\n",
        "You can perform various operations on these data types, such as arithmetic operations on numbers, string concatenation, and list manipulation.\n",
        "\n",
        "Numeric types support arithmetic operations like addition, subtraction, multiplication, and division.\n",
        "\n",
        "Strings support concatenation, slicing, and various string methods.\n",
        "\n",
        "\n",
        "### Exploring Data Types in Jupyter"
      ]
    },
    {
      "cell_type": "code",
      "execution_count": null,
      "metadata": {
        "id": "vTHfoB-Vu0Pe",
        "outputId": "37ec639d-2267-4b22-8fc5-53b970c67789"
      },
      "outputs": [
        {
          "name": "stdout",
          "output_type": "stream",
          "text": [
            "42 3.14 Hello, World! True None\n"
          ]
        }
      ],
      "source": [
        "# let's create all primitive data types in Python\n",
        "my_integer = 42 # integer - whole number\n",
        "my_float = 3.14 # float - number with decimal point\n",
        "my_string = \"Hello, World!\" # string - text enclosed in quotes\n",
        "my_boolean = True # boolean - True or False value\n",
        "my_nothing = None # None - represents no value or null\n",
        "\n",
        "print(my_integer, my_float, my_string, my_boolean, my_nothing) # print all variables"
      ]
    },
    {
      "cell_type": "markdown",
      "metadata": {
        "id": "vHTQwS9Su0Ph"
      },
      "source": [
        "### Checking Data Types\n",
        "You can check the type of a variable using the `type()` function.\n",
        "\n",
        "However Google Colab and Jupyter Notebooks also provide a convenient way to display the type of a variable directly in the output cell.\n",
        "\n",
        "In Google Colab, you can use Variable Inspector to see the type of a variable. Variable Inspector is a tool that shows all **CURRENTLY** active variables in the current notebook, their types, and values."
      ]
    },
    {
      "cell_type": "markdown",
      "metadata": {
        "id": "CdL4mJtzu0Pk"
      },
      "source": [
        "### Running same cell multiple times\n",
        "\n",
        "When you run a code cell multiple times, the variable will retain its value from the last execution.\n",
        "This means you can modify the variable and see the changes reflected in subsequent runs."
      ]
    },
    {
      "cell_type": "code",
      "execution_count": null,
      "metadata": {
        "id": "Pxnir_Umu0Pn",
        "outputId": "e97cddb9-2c32-499c-f359-6a00f4c1c9d8"
      },
      "outputs": [
        {
          "name": "stdout",
          "output_type": "stream",
          "text": [
            "Hello Valdis! Welcome to year 2000.\n"
          ]
        }
      ],
      "source": [
        "year = 2000 # reassigning a new value to the variable year which we created earlier\n",
        "# this overwrites the previous value of year\n",
        "message = f\"Hello {name}! Welcome to year {year}.\" # updating the message with the new year\n",
        "print(message) # print the updated message"
      ]
    },
    {
      "cell_type": "code",
      "execution_count": null,
      "metadata": {
        "id": "NsZC-3vGu0Pr",
        "outputId": "095c37c2-f672-495e-8e71-981639ae82f7"
      },
      "outputs": [
        {
          "name": "stdout",
          "output_type": "stream",
          "text": [
            "Next year will be 2001.\n"
          ]
        }
      ],
      "source": [
        "# now let us add one year to the year variable\n",
        "year += 1 # this is a shorthand for year = year + 1\n",
        "# we can also use year = year + 1, but += is shorter and more readable\n",
        "print(f\"Next year will be {year}.\") # print the next year\n",
        "# note how if we run the cell again, the year will be 2001, then 2002, etc."
      ]
    },
    {
      "cell_type": "markdown",
      "metadata": {
        "id": "L1EtRAHau0Pt"
      },
      "source": [
        "## Good Practice: Notebook should be runnable from top to bottom\n",
        "\n",
        "When you create a Jupyter Notebook, it is a good practice to ensure that the notebook can be run from top to bottom without any errors.\n",
        "\n",
        "Jupyter is very flexible and allows you to run cells in any order, but this can lead to confusion if the notebook is not structured properly.\n",
        "\n",
        "If you plan on sharing your notebook with others, or if you want to ensure that it works correctly in the future, it is best to follow this practice.\n",
        "This means that you should not rely on running cells out of order, and you should ensure that all variables and functions are defined before they are used.\n",
        "\n",
        "Google Colab and other Jupyter environments let you have a \"Run all\" button that will run all cells in the notebook in order, which is a good way to check if your notebook is runnable from top to bottom.\n",
        "\n",
        "In our case we can restart and run all cells in the notebook by clicking on the \"Runtime\" menu and selecting \"Restart and run all\"."
      ]
    },
    {
      "cell_type": "markdown",
      "metadata": {
        "id": "92mh7qeMu0Pv"
      },
      "source": [
        "Here’s a structured **second-level Markdown section** on Pandas DataFrame basics, aligned with your outline. It’s designed to fit nicely into your Jupyter Notebook with clear subheadings and explanations:\n",
        "\n",
        "````markdown\n",
        "## 📊 Intro to `pandas` DataFrames\n",
        "\n",
        "The **pandas DataFrame** is one of the most important tools for data analysis in Python.  \n",
        "Think of it as a **spreadsheet-like table** where each column can have its own data type (numbers, text, dates, etc.).  \n",
        "It allows you to efficiently store, manipulate, and analyze structured data.\n",
        "\n",
        "---\n",
        "\n",
        "### 🧾 DataFrame Basics — Spreadsheet Analogy\n",
        "- Rows = **records** (e.g., one person, one transaction, one measurement).  \n",
        "- Columns = **fields** (e.g., age, salary, product name).  \n",
        "- Each column can have a specific type: integer, float, string, datetime, categorical.  \n",
        "\n",
        "👉 A DataFrame is like an **Excel sheet**, but programmable and much more powerful.\n",
        "Dataframes can handle much larger datasets than Excel, and they allow for complex operations like filtering, grouping, and aggregating data.\n",
        "\n",
        "---\n",
        "\n",
        "### 📥 Reading CSV Files\n",
        "The most common way to load data into a DataFrame is from a CSV file:\n",
        "\n",
        "```python\n",
        "import pandas as pd\n",
        "\n",
        "df = pd.read_csv(\"data/iris.csv\")\n",
        "````\n",
        "\n",
        "* `pd.read_csv()` reads comma-separated values.\n",
        "* Other formats: `pd.read_excel()` for Excel, `pd.read_json()` for JSON (mentioned here, details later).\n",
        "\n",
        "---\n",
        "\n",
        "### ⚙️ Common Options When Reading CSV\n",
        "\n",
        "* **Delimiter**: Use `sep=\";\"` if the file uses `;` instead of `,`.\n",
        "* **Encoding**: Use `encoding=\"utf-8\"` (default) or `encoding=\"latin-1\"` for special characters.\n",
        "* **Headers**: By default, the first row is treated as headers. You can override with `header=None` or provide `names=[...]`.\n",
        "\n",
        "👉 Example:\n",
        "\n",
        "```python\n",
        "df = pd.read_csv(\"data/custom.csv\", sep=\";\", encoding=\"utf-8\", header=0)\n",
        "```\n",
        "\n",
        "---\n",
        "\n",
        "### 🔍 Identifying Data Types\n",
        "\n",
        "Use `.dtypes` or `.info()` to see how pandas interprets your columns.\n",
        "\n",
        "```python\n",
        "df.info()\n",
        "```\n",
        "\n",
        "* Sometimes numbers are mistakenly read as strings due to formatting.\n",
        "* Use `pd.to_numeric(df[\"col\"], errors=\"coerce\")` to fix issues.\n",
        "\n",
        "---\n",
        "\n",
        "### ❓ First Look at Missing Values\n",
        "\n",
        "Missing values are represented as **NaN (Not a Number)**.\n",
        "\n",
        "```python\n",
        "df.isna().sum()\n",
        "```\n",
        "\n",
        "* Shows how many missing values are in each column.\n",
        "* Important to detect early for cleaning.\n",
        "\n",
        "---\n",
        "\n",
        "### 👀 Inspecting Your Data\n",
        "\n",
        "* `df.head()` → first 5 rows\n",
        "* `df.tail()` → last 5 rows\n",
        "* `df.info()` → structure and data types\n",
        "* `df.describe()` → summary statistics for numeric columns\n",
        "\n",
        "👉 These methods help you **understand the dataset at a glance**.\n",
        "\n",
        "---\n",
        "\n",
        "### 🎯 Selecting Columns & Filtering Rows\n",
        "\n",
        "* Select a single column: `df[\"species\"]`\n",
        "* Select multiple columns: `df[[\"sepal_length\", \"sepal_width\"]]`\n",
        "* Filter rows:\n",
        "\n",
        "```python\n",
        "df[df[\"sepal_length\"] > 5.0]\n",
        "```\n",
        "\n",
        "---\n",
        "\n",
        "### 🗂 Other Considerations When Working With CSV\n",
        "\n",
        "* **Large files**: Use `chunksize=` to load in parts.\n",
        "* **Malformed files**: Try options like `error_bad_lines=False` (deprecated, newer versions use `on_bad_lines=\"skip\"`).\n",
        "* **Memory usage**: Check `df.memory_usage(deep=True)`.\n",
        "\n",
        "---\n",
        "\n",
        "### 💾 Saving Data\n",
        "\n",
        "After processing, you can save your DataFrame:\n",
        "\n",
        "```python\n",
        "df.to_csv(\"output/cleaned.csv\", index=False)\n",
        "df.to_excel(\"output/cleaned.xlsx\", index=False)\n",
        "```\n",
        "\n",
        "* `index=False` prevents pandas from writing the row index as an extra column.\n",
        "\n",
        "---\n",
        "\n",
        "### 📚 Learn More\n",
        "\n",
        "For more details on pandas DataFrames, check out the official documentation:\n",
        "- [pandas DataFrame Documentation](https://pandas.pydata.org/pandas-docs/stable/reference/api/pandas.DataFrame.html)\n",
        "- [pandas User Guide](https://pandas.pydata.org/pandas-docs/stable/user_guide/index.html)\n"
      ]
    },
    {
      "cell_type": "markdown",
      "metadata": {
        "id": "_UGclCFDu0Px"
      },
      "source": [
        "## Price Analysis Example - least expensive food per calories\n",
        "\n",
        "Let's do a simple example of loading a dataset and performing some basic analysis.\n",
        "\n",
        "First we should remember why we are doing this remember step 1 of the data analysis workflow: **Defining the Problem**.\n",
        "\n",
        "### Step 1: Defining the Problem\n",
        "\n",
        "We want to find the **least expensive food per calories** from a dataset of food items to offer suggestions for budget-friendly meals.\n",
        "For this exercise we ignore any other factors like taste, nutrition, or dietary restrictions. How realistic is that? Not very, but it is a good start for learning how to work with data.\n",
        "\n",
        "### Step 2: Loading the Data\n",
        "We will load a dataset of food items from a CSV file."
      ]
    },
    {
      "cell_type": "code",
      "execution_count": null,
      "metadata": {
        "id": "zVoUeT-du0Pz",
        "outputId": "8c61d050-614b-43b9-d41c-77da08320911"
      },
      "outputs": [
        {
          "name": "stdout",
          "output_type": "stream",
          "text": [
            "Dataset URL: https://github.com/ValRCS/RTU_Data_Analysis_Visualization_CPD/raw/refs/heads/main/notebooks/sample_data/foods.csv\n"
          ]
        }
      ],
      "source": [
        "# So we have a dataset called foods.csv\n",
        "# instead of data location, we actually have a URL to the dataset\n",
        "# this is a common practice in data science, as it allows us to easily share and access on networks\n",
        "url  = \"https://github.com/ValRCS/RTU_Data_Analysis_Visualization_CPD/raw/refs/heads/main/notebooks/sample_data/foods.csv\"\n",
        "print(f\"Dataset URL: {url}\") # print the dataset URL\n",
        "# we could click on the printed link to check that the dataset is available publicly"
      ]
    },
    {
      "cell_type": "markdown",
      "metadata": {
        "id": "b0TYPYeRu0P0"
      },
      "source": [
        "### Importing the necessary libraries\n",
        "\n",
        "In Python we need to import the necessary libraries to work with data. Pandas is the main library we will use for data manipulation and analysis. It is available in Google Colab by default, so we do not need to install it. Otherwise we would use `pip install pandas` to install it. Actually to include Excel support we would also need to install `openpyxl` library, but we will not do that as again it is available in Google Colab by default.\n",
        "\n",
        "\n",
        "\n"
      ]
    },
    {
      "cell_type": "code",
      "execution_count": null,
      "metadata": {
        "id": "_z13cBuxu0P2",
        "outputId": "cfef158c-43e6-49b6-ed45-851e378aadd1"
      },
      "outputs": [
        {
          "name": "stdout",
          "output_type": "stream",
          "text": [
            "Pandas version: 2.3.1\n"
          ]
        }
      ],
      "source": [
        "# let's load the dataset using pandas\n",
        "import pandas as pd # import pandas library, which is used for data manipulation and analysis\n",
        "# read the CSV file from the URL into a pandas DataFrame\n",
        "# it is good idea to print the version of pandas we are using\n",
        "print(f\"Pandas version: {pd.__version__}\") # print the pandas version"
      ]
    },
    {
      "cell_type": "code",
      "execution_count": null,
      "metadata": {
        "id": "DSNwHk5zu0P4",
        "outputId": "d5b66b4e-2d4f-4725-8315-f03eca11add5"
      },
      "outputs": [
        {
          "name": "stdout",
          "output_type": "stream",
          "text": [
            "Current date: 2025-08-18 15:42:36\n",
            "Python version: 3.12.7 (tags/v3.12.7:0b05ead, Oct  1 2024, 03:06:41) [MSC v.1941 64 bit (AMD64)]\n"
          ]
        }
      ],
      "source": [
        "# optional but nice to havea is print current date and python version\n",
        "from datetime import datetime # import datetime module to get current date\n",
        "print(f\"Current date: {datetime.now().strftime('%Y-%m-%d %H:%M:%S')}\") # print current date and time\n",
        "import sys # import sys module to get Python version\n",
        "print(f\"Python version: {sys.version}\") # print Python version\n",
        "# we want this to help track down issues if they arise, so we know what version of Python and pandas we are using"
      ]
    },
    {
      "cell_type": "code",
      "execution_count": null,
      "metadata": {
        "id": "evHi8BIfu0P6",
        "outputId": "4fb063f9-31d0-4720-db3f-2b38846e84d7"
      },
      "outputs": [
        {
          "name": "stdout",
          "output_type": "stream",
          "text": [
            "Dataset loaded with 32 rows and 12 columns.\n",
            "Dataset shape: (32, 12)\n"
          ]
        }
      ],
      "source": [
        "\n",
        "df = pd.read_csv(url) # read_csv() function reads a CSV file and returns a DataFrame\n",
        "print(f\"Dataset loaded with {len(df)} rows and {len(df.columns)} columns.\")\n",
        "# shape\n",
        "print(f\"Dataset shape: {df.shape}\") # print the shape of the DataFrame (number of rows and columns)"
      ]
    },
    {
      "cell_type": "markdown",
      "metadata": {
        "id": "3n3oxhjPu0P9"
      },
      "source": [
        "### Displaying the first few rows of the dataset\n",
        "Let's load the dataset and display the first few rows to see what it looks like."
      ]
    },
    {
      "cell_type": "code",
      "execution_count": null,
      "metadata": {
        "id": "JYJUdfO1u0P_",
        "outputId": "146098f5-8ab6-4a41-cf2e-ce8699ac7ab4"
      },
      "outputs": [
        {
          "name": "stdout",
          "output_type": "stream",
          "text": [
            "First 5 rows of the dataset:\n"
          ]
        },
        {
          "data": {
            "text/html": [
              "<div>\n",
              "<style scoped>\n",
              "    .dataframe tbody tr th:only-of-type {\n",
              "        vertical-align: middle;\n",
              "    }\n",
              "\n",
              "    .dataframe tbody tr th {\n",
              "        vertical-align: top;\n",
              "    }\n",
              "\n",
              "    .dataframe thead th {\n",
              "        text-align: right;\n",
              "    }\n",
              "</style>\n",
              "<table border=\"1\" class=\"dataframe\">\n",
              "  <thead>\n",
              "    <tr style=\"text-align: right;\">\n",
              "      <th></th>\n",
              "      <th>food</th>\n",
              "      <th>category</th>\n",
              "      <th>description</th>\n",
              "      <th>price_eur</th>\n",
              "      <th>weight_kg</th>\n",
              "      <th>height_cm</th>\n",
              "      <th>width_cm</th>\n",
              "      <th>length_cm</th>\n",
              "      <th>expiration_date</th>\n",
              "      <th>country_of_origin</th>\n",
              "      <th>brand</th>\n",
              "      <th>calories</th>\n",
              "    </tr>\n",
              "  </thead>\n",
              "  <tbody>\n",
              "    <tr>\n",
              "      <th>0</th>\n",
              "      <td>Rupjmaize</td>\n",
              "      <td>Bread</td>\n",
              "      <td>Traditional Latvian rye bread</td>\n",
              "      <td>14.87</td>\n",
              "      <td>1.37</td>\n",
              "      <td>21.5</td>\n",
              "      <td>13.2</td>\n",
              "      <td>27.1</td>\n",
              "      <td>2026-08-04</td>\n",
              "      <td>Latvia</td>\n",
              "      <td>Hanzas Maiznīca</td>\n",
              "      <td>3425</td>\n",
              "    </tr>\n",
              "    <tr>\n",
              "      <th>1</th>\n",
              "      <td>Kefīrs</td>\n",
              "      <td>Dairy</td>\n",
              "      <td>Fermented milk drink</td>\n",
              "      <td>12.63</td>\n",
              "      <td>1.63</td>\n",
              "      <td>NaN</td>\n",
              "      <td>NaN</td>\n",
              "      <td>NaN</td>\n",
              "      <td>2025-09-08</td>\n",
              "      <td>Poland</td>\n",
              "      <td>Valmiera</td>\n",
              "      <td>1467</td>\n",
              "    </tr>\n",
              "    <tr>\n",
              "      <th>2</th>\n",
              "      <td>Siers</td>\n",
              "      <td>Dairy</td>\n",
              "      <td>Semi-hard cheese</td>\n",
              "      <td>0.94</td>\n",
              "      <td>1.76</td>\n",
              "      <td>20.4</td>\n",
              "      <td>18.2</td>\n",
              "      <td>15.8</td>\n",
              "      <td>2026-04-17</td>\n",
              "      <td>Spain</td>\n",
              "      <td>Talsu</td>\n",
              "      <td>1584</td>\n",
              "    </tr>\n",
              "    <tr>\n",
              "      <th>3</th>\n",
              "      <td>Biezpiens</td>\n",
              "      <td>Dairy</td>\n",
              "      <td>Fresh curd cheese</td>\n",
              "      <td>9.86</td>\n",
              "      <td>0.84</td>\n",
              "      <td>6.5</td>\n",
              "      <td>11.5</td>\n",
              "      <td>21.4</td>\n",
              "      <td>2026-06-19</td>\n",
              "      <td>Poland</td>\n",
              "      <td>Baltais</td>\n",
              "      <td>756</td>\n",
              "    </tr>\n",
              "    <tr>\n",
              "      <th>4</th>\n",
              "      <td>Skābais krējums</td>\n",
              "      <td>Dairy</td>\n",
              "      <td>Sour cream</td>\n",
              "      <td>5.16</td>\n",
              "      <td>1.92</td>\n",
              "      <td>17.6</td>\n",
              "      <td>9.0</td>\n",
              "      <td>9.9</td>\n",
              "      <td>2026-02-22</td>\n",
              "      <td>Poland</td>\n",
              "      <td>Rīgas Piensaimnieks</td>\n",
              "      <td>1728</td>\n",
              "    </tr>\n",
              "  </tbody>\n",
              "</table>\n",
              "</div>"
            ],
            "text/plain": [
              "              food category                    description  price_eur  \\\n",
              "0        Rupjmaize    Bread  Traditional Latvian rye bread      14.87   \n",
              "1           Kefīrs    Dairy           Fermented milk drink      12.63   \n",
              "2            Siers    Dairy               Semi-hard cheese       0.94   \n",
              "3        Biezpiens    Dairy              Fresh curd cheese       9.86   \n",
              "4  Skābais krējums    Dairy                     Sour cream       5.16   \n",
              "\n",
              "   weight_kg  height_cm  width_cm  length_cm expiration_date  \\\n",
              "0       1.37       21.5      13.2       27.1      2026-08-04   \n",
              "1       1.63        NaN       NaN        NaN      2025-09-08   \n",
              "2       1.76       20.4      18.2       15.8      2026-04-17   \n",
              "3       0.84        6.5      11.5       21.4      2026-06-19   \n",
              "4       1.92       17.6       9.0        9.9      2026-02-22   \n",
              "\n",
              "  country_of_origin                brand  calories  \n",
              "0            Latvia      Hanzas Maiznīca      3425  \n",
              "1            Poland             Valmiera      1467  \n",
              "2             Spain                Talsu      1584  \n",
              "3            Poland              Baltais       756  \n",
              "4            Poland  Rīgas Piensaimnieks      1728  "
            ]
          },
          "execution_count": 10,
          "metadata": {},
          "output_type": "execute_result"
        }
      ],
      "source": [
        "# we use head() method to display the first few rows of the DataFrame\n",
        "print(\"First 5 rows of the dataset:\")\n",
        "df.head()"
      ]
    },
    {
      "cell_type": "markdown",
      "metadata": {
        "id": "V-0FdDX-u0QC"
      },
      "source": [
        "### Getting data types of individual columns\n",
        "\n",
        "Dataframes have a `dtypes` attribute that shows the data type of each column.\n",
        "This is useful to check if the data types are correct and if we need to convert any columns\n",
        "\n",
        "Important: Each column in a DataFrame can have its own data type, which is different from the variable type in Python."
      ]
    },
    {
      "cell_type": "code",
      "execution_count": null,
      "metadata": {
        "id": "rU32y6p2u0QE",
        "outputId": "a6b6303c-49e2-4509-ec66-5e5cc8e3ee32"
      },
      "outputs": [
        {
          "name": "stdout",
          "output_type": "stream",
          "text": [
            "Data types of the columns:\n",
            "food                  object\n",
            "category              object\n",
            "description           object\n",
            "price_eur            float64\n",
            "weight_kg            float64\n",
            "height_cm            float64\n",
            "width_cm             float64\n",
            "length_cm            float64\n",
            "expiration_date       object\n",
            "country_of_origin     object\n",
            "brand                 object\n",
            "calories               int64\n",
            "dtype: object\n"
          ]
        }
      ],
      "source": [
        "# let's see what data types are in the DataFrame\n",
        "print(\"Data types of the columns:\")\n",
        "print(df.dtypes) # print the data types of the columns in the DataFrame"
      ]
    },
    {
      "cell_type": "markdown",
      "metadata": {
        "id": "Ogwb7H1yu0QG"
      },
      "source": [
        "Looks like we are in luck, as numeric columns are already in the correct format, so we do not need to convert them.\n",
        "\n",
        "In real life often you will need to convert columns to the correct data type, especially if the data comes from a CSV file or an Excel file.\n",
        "You can use the `pd.to_numeric()` function to convert a column to a numeric type, more on that later."
      ]
    },
    {
      "cell_type": "markdown",
      "metadata": {
        "id": "HYo3e25mu0QG"
      },
      "source": [
        "### Describing the data\n",
        "We can use the `describe()` method to get a summary of the numeric columns in the DataFrame.\n",
        "This will give us the count, mean, standard deviation, minimum, maximum, and quartiles of the numeric columns."
      ]
    },
    {
      "cell_type": "code",
      "execution_count": null,
      "metadata": {
        "id": "tyh9OrRvu0QH",
        "outputId": "4f8e59dc-cf89-40a9-b2dc-865fbc594688"
      },
      "outputs": [
        {
          "name": "stdout",
          "output_type": "stream",
          "text": [
            "Describing the data:\n"
          ]
        },
        {
          "data": {
            "text/html": [
              "<div>\n",
              "<style scoped>\n",
              "    .dataframe tbody tr th:only-of-type {\n",
              "        vertical-align: middle;\n",
              "    }\n",
              "\n",
              "    .dataframe tbody tr th {\n",
              "        vertical-align: top;\n",
              "    }\n",
              "\n",
              "    .dataframe thead th {\n",
              "        text-align: right;\n",
              "    }\n",
              "</style>\n",
              "<table border=\"1\" class=\"dataframe\">\n",
              "  <thead>\n",
              "    <tr style=\"text-align: right;\">\n",
              "      <th></th>\n",
              "      <th>price_eur</th>\n",
              "      <th>weight_kg</th>\n",
              "      <th>height_cm</th>\n",
              "      <th>width_cm</th>\n",
              "      <th>length_cm</th>\n",
              "      <th>calories</th>\n",
              "      <th>price_per_kg</th>\n",
              "      <th>price_per_100g</th>\n",
              "    </tr>\n",
              "  </thead>\n",
              "  <tbody>\n",
              "    <tr>\n",
              "      <th>count</th>\n",
              "      <td>32.000000</td>\n",
              "      <td>32.000000</td>\n",
              "      <td>25.000000</td>\n",
              "      <td>25.000000</td>\n",
              "      <td>25.00000</td>\n",
              "      <td>32.000000</td>\n",
              "      <td>32.000000</td>\n",
              "      <td>32.000000</td>\n",
              "    </tr>\n",
              "    <tr>\n",
              "      <th>mean</th>\n",
              "      <td>8.871250</td>\n",
              "      <td>1.150313</td>\n",
              "      <td>15.612000</td>\n",
              "      <td>12.988000</td>\n",
              "      <td>16.54800</td>\n",
              "      <td>1545.750000</td>\n",
              "      <td>11.861903</td>\n",
              "      <td>1.186190</td>\n",
              "    </tr>\n",
              "    <tr>\n",
              "      <th>std</th>\n",
              "      <td>3.718128</td>\n",
              "      <td>0.555178</td>\n",
              "      <td>5.850593</td>\n",
              "      <td>3.884727</td>\n",
              "      <td>6.88108</td>\n",
              "      <td>1452.072201</td>\n",
              "      <td>11.200417</td>\n",
              "      <td>1.120042</td>\n",
              "    </tr>\n",
              "    <tr>\n",
              "      <th>min</th>\n",
              "      <td>0.940000</td>\n",
              "      <td>0.190000</td>\n",
              "      <td>6.500000</td>\n",
              "      <td>6.700000</td>\n",
              "      <td>6.00000</td>\n",
              "      <td>0.000000</td>\n",
              "      <td>0.534091</td>\n",
              "      <td>0.053409</td>\n",
              "    </tr>\n",
              "    <tr>\n",
              "      <th>25%</th>\n",
              "      <td>6.182500</td>\n",
              "      <td>0.637500</td>\n",
              "      <td>10.100000</td>\n",
              "      <td>9.900000</td>\n",
              "      <td>10.40000</td>\n",
              "      <td>441.000000</td>\n",
              "      <td>5.882882</td>\n",
              "      <td>0.588288</td>\n",
              "    </tr>\n",
              "    <tr>\n",
              "      <th>50%</th>\n",
              "      <td>9.720000</td>\n",
              "      <td>1.215000</td>\n",
              "      <td>17.600000</td>\n",
              "      <td>13.000000</td>\n",
              "      <td>15.80000</td>\n",
              "      <td>900.000000</td>\n",
              "      <td>7.624242</td>\n",
              "      <td>0.762424</td>\n",
              "    </tr>\n",
              "    <tr>\n",
              "      <th>75%</th>\n",
              "      <td>11.385000</td>\n",
              "      <td>1.635000</td>\n",
              "      <td>20.500000</td>\n",
              "      <td>16.600000</td>\n",
              "      <td>21.40000</td>\n",
              "      <td>2613.750000</td>\n",
              "      <td>12.789826</td>\n",
              "      <td>1.278983</td>\n",
              "    </tr>\n",
              "    <tr>\n",
              "      <th>max</th>\n",
              "      <td>14.870000</td>\n",
              "      <td>1.920000</td>\n",
              "      <td>22.800000</td>\n",
              "      <td>19.000000</td>\n",
              "      <td>29.20000</td>\n",
              "      <td>4620.000000</td>\n",
              "      <td>43.600000</td>\n",
              "      <td>4.360000</td>\n",
              "    </tr>\n",
              "  </tbody>\n",
              "</table>\n",
              "</div>"
            ],
            "text/plain": [
              "       price_eur  weight_kg  height_cm   width_cm  length_cm     calories  \\\n",
              "count  32.000000  32.000000  25.000000  25.000000   25.00000    32.000000   \n",
              "mean    8.871250   1.150313  15.612000  12.988000   16.54800  1545.750000   \n",
              "std     3.718128   0.555178   5.850593   3.884727    6.88108  1452.072201   \n",
              "min     0.940000   0.190000   6.500000   6.700000    6.00000     0.000000   \n",
              "25%     6.182500   0.637500  10.100000   9.900000   10.40000   441.000000   \n",
              "50%     9.720000   1.215000  17.600000  13.000000   15.80000   900.000000   \n",
              "75%    11.385000   1.635000  20.500000  16.600000   21.40000  2613.750000   \n",
              "max    14.870000   1.920000  22.800000  19.000000   29.20000  4620.000000   \n",
              "\n",
              "       price_per_kg  price_per_100g  \n",
              "count     32.000000       32.000000  \n",
              "mean      11.861903        1.186190  \n",
              "std       11.200417        1.120042  \n",
              "min        0.534091        0.053409  \n",
              "25%        5.882882        0.588288  \n",
              "50%        7.624242        0.762424  \n",
              "75%       12.789826        1.278983  \n",
              "max       43.600000        4.360000  "
            ]
          },
          "execution_count": 17,
          "metadata": {},
          "output_type": "execute_result"
        }
      ],
      "source": [
        "# let's describe the data\n",
        "print(\"Describing the data:\")\n",
        "df.describe() # print the summary statistics of the numeric columns in the DataFrame"
      ]
    },
    {
      "cell_type": "code",
      "execution_count": null,
      "metadata": {
        "id": "gmsMz3Yku0Q7",
        "outputId": "c38509d1-fc44-4007-f287-1428710fb025"
      },
      "outputs": [
        {
          "name": "stdout",
          "output_type": "stream",
          "text": [
            "Describing non-numeric columns:\n"
          ]
        },
        {
          "data": {
            "text/html": [
              "<div>\n",
              "<style scoped>\n",
              "    .dataframe tbody tr th:only-of-type {\n",
              "        vertical-align: middle;\n",
              "    }\n",
              "\n",
              "    .dataframe tbody tr th {\n",
              "        vertical-align: top;\n",
              "    }\n",
              "\n",
              "    .dataframe thead th {\n",
              "        text-align: right;\n",
              "    }\n",
              "</style>\n",
              "<table border=\"1\" class=\"dataframe\">\n",
              "  <thead>\n",
              "    <tr style=\"text-align: right;\">\n",
              "      <th></th>\n",
              "      <th>food</th>\n",
              "      <th>category</th>\n",
              "      <th>description</th>\n",
              "      <th>expiration_date</th>\n",
              "      <th>country_of_origin</th>\n",
              "      <th>brand</th>\n",
              "    </tr>\n",
              "  </thead>\n",
              "  <tbody>\n",
              "    <tr>\n",
              "      <th>count</th>\n",
              "      <td>32</td>\n",
              "      <td>32</td>\n",
              "      <td>32</td>\n",
              "      <td>32</td>\n",
              "      <td>32</td>\n",
              "      <td>20</td>\n",
              "    </tr>\n",
              "    <tr>\n",
              "      <th>unique</th>\n",
              "      <td>32</td>\n",
              "      <td>11</td>\n",
              "      <td>32</td>\n",
              "      <td>31</td>\n",
              "      <td>10</td>\n",
              "      <td>17</td>\n",
              "    </tr>\n",
              "    <tr>\n",
              "      <th>top</th>\n",
              "      <td>Rupjmaize</td>\n",
              "      <td>Dairy</td>\n",
              "      <td>Traditional Latvian rye bread</td>\n",
              "      <td>2026-04-17</td>\n",
              "      <td>Poland</td>\n",
              "      <td>Valmiera</td>\n",
              "    </tr>\n",
              "    <tr>\n",
              "      <th>freq</th>\n",
              "      <td>1</td>\n",
              "      <td>7</td>\n",
              "      <td>1</td>\n",
              "      <td>2</td>\n",
              "      <td>10</td>\n",
              "      <td>3</td>\n",
              "    </tr>\n",
              "  </tbody>\n",
              "</table>\n",
              "</div>"
            ],
            "text/plain": [
              "             food category                    description expiration_date  \\\n",
              "count          32       32                             32              32   \n",
              "unique         32       11                             32              31   \n",
              "top     Rupjmaize    Dairy  Traditional Latvian rye bread      2026-04-17   \n",
              "freq            1        7                              1               2   \n",
              "\n",
              "       country_of_origin     brand  \n",
              "count                 32        20  \n",
              "unique                10        17  \n",
              "top               Poland  Valmiera  \n",
              "freq                  10         3  "
            ]
          },
          "execution_count": 18,
          "metadata": {},
          "output_type": "execute_result"
        }
      ],
      "source": [
        "# we can also desribe non-numeric columns\n",
        "print(\"Describing non-numeric columns:\")\n",
        "df.describe(include='object') # print the summary statistics of the non-numeric columns in the DataFrame\n"
      ]
    },
    {
      "cell_type": "code",
      "execution_count": null,
      "metadata": {
        "id": "j8q610dJu0Q8",
        "outputId": "a89a5388-a4a7-4175-c4bd-9113fd490a94"
      },
      "outputs": [
        {
          "name": "stdout",
          "output_type": "stream",
          "text": [
            "Value counts for 'country_of_origin' column:\n"
          ]
        },
        {
          "data": {
            "text/plain": [
              "country_of_origin\n",
              "Poland         10\n",
              "Latvia          4\n",
              "Spain           3\n",
              "Estonia         3\n",
              "Lithuania       3\n",
              "Italy           3\n",
              "Netherlands     2\n",
              "Germany         2\n",
              "Brazil          1\n",
              "India           1\n",
              "Name: count, dtype: int64"
            ]
          },
          "execution_count": 19,
          "metadata": {},
          "output_type": "execute_result"
        }
      ],
      "source": [
        "# we can also value count for non-numeric columns how about country of origin?\n",
        "print(\"Value counts for 'country_of_origin' column:\")\n",
        "df['country_of_origin'].value_counts() # print the value counts for the 'country\n",
        "# note here value_counts() returns a Series with the counts of unique values in the 'country_of_origin' column\n",
        "# think of Series as a single column DataFrame, the basic building block of pandas\n"
      ]
    },
    {
      "cell_type": "code",
      "execution_count": null,
      "metadata": {
        "id": "gpRha45lu0Q_",
        "outputId": "13f1b82b-10cc-4948-e51b-32b162df9166"
      },
      "outputs": [
        {
          "name": "stdout",
          "output_type": "stream",
          "text": [
            "Value counts for 'country_of_origin' column as a DataFrame:\n"
          ]
        },
        {
          "data": {
            "text/html": [
              "<div>\n",
              "<style scoped>\n",
              "    .dataframe tbody tr th:only-of-type {\n",
              "        vertical-align: middle;\n",
              "    }\n",
              "\n",
              "    .dataframe tbody tr th {\n",
              "        vertical-align: top;\n",
              "    }\n",
              "\n",
              "    .dataframe thead th {\n",
              "        text-align: right;\n",
              "    }\n",
              "</style>\n",
              "<table border=\"1\" class=\"dataframe\">\n",
              "  <thead>\n",
              "    <tr style=\"text-align: right;\">\n",
              "      <th></th>\n",
              "      <th>country_of_origin</th>\n",
              "      <th>count</th>\n",
              "    </tr>\n",
              "  </thead>\n",
              "  <tbody>\n",
              "    <tr>\n",
              "      <th>0</th>\n",
              "      <td>Poland</td>\n",
              "      <td>10</td>\n",
              "    </tr>\n",
              "    <tr>\n",
              "      <th>1</th>\n",
              "      <td>Latvia</td>\n",
              "      <td>4</td>\n",
              "    </tr>\n",
              "    <tr>\n",
              "      <th>2</th>\n",
              "      <td>Spain</td>\n",
              "      <td>3</td>\n",
              "    </tr>\n",
              "    <tr>\n",
              "      <th>3</th>\n",
              "      <td>Estonia</td>\n",
              "      <td>3</td>\n",
              "    </tr>\n",
              "    <tr>\n",
              "      <th>4</th>\n",
              "      <td>Lithuania</td>\n",
              "      <td>3</td>\n",
              "    </tr>\n",
              "    <tr>\n",
              "      <th>5</th>\n",
              "      <td>Italy</td>\n",
              "      <td>3</td>\n",
              "    </tr>\n",
              "    <tr>\n",
              "      <th>6</th>\n",
              "      <td>Netherlands</td>\n",
              "      <td>2</td>\n",
              "    </tr>\n",
              "    <tr>\n",
              "      <th>7</th>\n",
              "      <td>Germany</td>\n",
              "      <td>2</td>\n",
              "    </tr>\n",
              "    <tr>\n",
              "      <th>8</th>\n",
              "      <td>Brazil</td>\n",
              "      <td>1</td>\n",
              "    </tr>\n",
              "    <tr>\n",
              "      <th>9</th>\n",
              "      <td>India</td>\n",
              "      <td>1</td>\n",
              "    </tr>\n",
              "  </tbody>\n",
              "</table>\n",
              "</div>"
            ],
            "text/plain": [
              "  country_of_origin  count\n",
              "0            Poland     10\n",
              "1            Latvia      4\n",
              "2             Spain      3\n",
              "3           Estonia      3\n",
              "4         Lithuania      3\n",
              "5             Italy      3\n",
              "6       Netherlands      2\n",
              "7           Germany      2\n",
              "8            Brazil      1\n",
              "9             India      1"
            ]
          },
          "execution_count": 21,
          "metadata": {},
          "output_type": "execute_result"
        }
      ],
      "source": [
        "print(\"Value counts for 'country_of_origin' column as a DataFrame:\")\n",
        "df['country_of_origin'].value_counts().to_frame(name='count').reset_index() # convert the Series to a DataFrame with 'count' column"
      ]
    },
    {
      "cell_type": "markdown",
      "metadata": {
        "id": "aM2fE8nNu0RB"
      },
      "source": [
        "### Simple bar plot of country value counts\n",
        "\n",
        "We can use built-in plotting capabilities of pandas to create a simple bar plot of the number of food items per country.\n",
        "This will give us an idea of how many food items we have from each country in the dataset.\n"
      ]
    },
    {
      "cell_type": "code",
      "execution_count": null,
      "metadata": {
        "id": "LoQhJzk0u0RD",
        "outputId": "d554e5d4-f56d-4d52-a12d-48e5b1e5c763"
      },
      "outputs": [
        {
          "data": {
            "text/plain": [
              "<Axes: title={'center': 'Country of Origin Counts'}, xlabel='country_of_origin'>"
            ]
          },
          "execution_count": 24,
          "metadata": {},
          "output_type": "execute_result"
        },
        {
          "data": {
            "image/png": "[encoded data removed]",
            "text/plain": [
              "<Figure size 640x480 with 1 Axes>"
            ]
          },
          "metadata": {},
          "output_type": "display_data"
        }
      ],
      "source": [
        "# we will do more visualizations later but for now let's just plot the value counts of the 'country_of_origin' column\n",
        "# pandas offers a built-in plotting functionality\n",
        "df['country_of_origin'].value_counts().plot(kind='bar', title='Country of Origin Counts') # plot the value counts as a bar chart"
      ]
    },
    {
      "cell_type": "markdown",
      "metadata": {
        "id": "CyTFQgWmu0RE"
      },
      "source": [
        "Note however plotting which is type of Exploratory Data Analysis (EDA) is not the main focus of today's lesson, as we are still getting familiar with the data handling in Python.\n",
        "We will cover more advanced plotting techniques in the next lessons.\n",
        "\n",
        "Our main goal is to find the least expensive food per calories, so we will focus on that."
      ]
    },
    {
      "cell_type": "markdown",
      "metadata": {
        "id": "VM7DPWm1u0RG"
      },
      "source": [
        "### Sorting the DataFrame by price\n"
      ]
    },
    {
      "cell_type": "code",
      "execution_count": null,
      "metadata": {
        "id": "vkIHP2wEu0RI",
        "outputId": "81830616-86f3-423e-b898-b148df6dfeb8"
      },
      "outputs": [
        {
          "name": "stdout",
          "output_type": "stream",
          "text": [
            "3 cheapest foods:\n"
          ]
        },
        {
          "data": {
            "text/html": [
              "<div>\n",
              "<style scoped>\n",
              "    .dataframe tbody tr th:only-of-type {\n",
              "        vertical-align: middle;\n",
              "    }\n",
              "\n",
              "    .dataframe tbody tr th {\n",
              "        vertical-align: top;\n",
              "    }\n",
              "\n",
              "    .dataframe thead th {\n",
              "        text-align: right;\n",
              "    }\n",
              "</style>\n",
              "<table border=\"1\" class=\"dataframe\">\n",
              "  <thead>\n",
              "    <tr style=\"text-align: right;\">\n",
              "      <th></th>\n",
              "      <th>food</th>\n",
              "      <th>price_eur</th>\n",
              "    </tr>\n",
              "  </thead>\n",
              "  <tbody>\n",
              "    <tr>\n",
              "      <th>2</th>\n",
              "      <td>Siers</td>\n",
              "      <td>0.94</td>\n",
              "    </tr>\n",
              "    <tr>\n",
              "      <th>5</th>\n",
              "      <td>Pelmeņi</td>\n",
              "      <td>1.30</td>\n",
              "    </tr>\n",
              "    <tr>\n",
              "      <th>13</th>\n",
              "      <td>Tomāti</td>\n",
              "      <td>2.22</td>\n",
              "    </tr>\n",
              "  </tbody>\n",
              "</table>\n",
              "</div>"
            ],
            "text/plain": [
              "       food  price_eur\n",
              "2     Siers       0.94\n",
              "5   Pelmeņi       1.30\n",
              "13   Tomāti       2.22"
            ]
          },
          "execution_count": 14,
          "metadata": {},
          "output_type": "execute_result"
        }
      ],
      "source": [
        "# often times we want to sort by one or more columns\n",
        "# let's find the 3 cheapest foods in the dataset\n",
        "print(\"3 cheapest foods:\")\n",
        "cheapest_foods = df.sort_values(by='price_eur', ascending=True).head(3) # sort by price in ascending order and take the first 3 rows\n",
        "# NOTE: in the above code we actually performed three operations:\n",
        "# 1. sorted the DataFrame by 'price_eur' column in ascending order\n",
        "# 2. selected the first 3 rows of the sorted DataFrame\n",
        "# 3. assigned the result to a new variable cheapest_foods\n",
        "\n",
        "cheapest_foods[['food', 'price_eur']] # display only the name and price_eur columns\n"
      ]
    },
    {
      "cell_type": "markdown",
      "metadata": {
        "id": "q6T8dO86u0RM"
      },
      "source": [
        "### Feature Engineering\n",
        "\n",
        "In most data analysis tasks you will need to create new columns based on existing ones.\n",
        "This is called **feature engineering** and it is an important step in the data analysis workflow.\n",
        "\n",
        "Here we will create a new column that calculates price per 1kg of food, which is a common way to compare prices of different food items.\n",
        "We will also create a new column that calculates price per 100g of food, which is another common way to compare prices of different food items."
      ]
    },
    {
      "cell_type": "code",
      "execution_count": null,
      "metadata": {
        "id": "m2BxyajVu0RN",
        "outputId": "25275b70-b40f-4ae0-d0a7-eb3000dcdc39"
      },
      "outputs": [
        {
          "name": "stdout",
          "output_type": "stream",
          "text": [
            "Adding new columns for price per kg and price per 100g...\n",
            "First 5 rows of the dataset with new columns:\n"
          ]
        },
        {
          "data": {
            "text/html": [
              "<div>\n",
              "<style scoped>\n",
              "    .dataframe tbody tr th:only-of-type {\n",
              "        vertical-align: middle;\n",
              "    }\n",
              "\n",
              "    .dataframe tbody tr th {\n",
              "        vertical-align: top;\n",
              "    }\n",
              "\n",
              "    .dataframe thead th {\n",
              "        text-align: right;\n",
              "    }\n",
              "</style>\n",
              "<table border=\"1\" class=\"dataframe\">\n",
              "  <thead>\n",
              "    <tr style=\"text-align: right;\">\n",
              "      <th></th>\n",
              "      <th>food</th>\n",
              "      <th>category</th>\n",
              "      <th>description</th>\n",
              "      <th>price_eur</th>\n",
              "      <th>weight_kg</th>\n",
              "      <th>height_cm</th>\n",
              "      <th>width_cm</th>\n",
              "      <th>length_cm</th>\n",
              "      <th>expiration_date</th>\n",
              "      <th>country_of_origin</th>\n",
              "      <th>brand</th>\n",
              "      <th>calories</th>\n",
              "      <th>price_per_kg</th>\n",
              "      <th>price_per_100g</th>\n",
              "    </tr>\n",
              "  </thead>\n",
              "  <tbody>\n",
              "    <tr>\n",
              "      <th>0</th>\n",
              "      <td>Rupjmaize</td>\n",
              "      <td>Bread</td>\n",
              "      <td>Traditional Latvian rye bread</td>\n",
              "      <td>14.87</td>\n",
              "      <td>1.37</td>\n",
              "      <td>21.5</td>\n",
              "      <td>13.2</td>\n",
              "      <td>27.1</td>\n",
              "      <td>2026-08-04</td>\n",
              "      <td>Latvia</td>\n",
              "      <td>Hanzas Maiznīca</td>\n",
              "      <td>3425</td>\n",
              "      <td>10.854015</td>\n",
              "      <td>1.085401</td>\n",
              "    </tr>\n",
              "    <tr>\n",
              "      <th>1</th>\n",
              "      <td>Kefīrs</td>\n",
              "      <td>Dairy</td>\n",
              "      <td>Fermented milk drink</td>\n",
              "      <td>12.63</td>\n",
              "      <td>1.63</td>\n",
              "      <td>NaN</td>\n",
              "      <td>NaN</td>\n",
              "      <td>NaN</td>\n",
              "      <td>2025-09-08</td>\n",
              "      <td>Poland</td>\n",
              "      <td>Valmiera</td>\n",
              "      <td>1467</td>\n",
              "      <td>7.748466</td>\n",
              "      <td>0.774847</td>\n",
              "    </tr>\n",
              "    <tr>\n",
              "      <th>2</th>\n",
              "      <td>Siers</td>\n",
              "      <td>Dairy</td>\n",
              "      <td>Semi-hard cheese</td>\n",
              "      <td>0.94</td>\n",
              "      <td>1.76</td>\n",
              "      <td>20.4</td>\n",
              "      <td>18.2</td>\n",
              "      <td>15.8</td>\n",
              "      <td>2026-04-17</td>\n",
              "      <td>Spain</td>\n",
              "      <td>Talsu</td>\n",
              "      <td>1584</td>\n",
              "      <td>0.534091</td>\n",
              "      <td>0.053409</td>\n",
              "    </tr>\n",
              "    <tr>\n",
              "      <th>3</th>\n",
              "      <td>Biezpiens</td>\n",
              "      <td>Dairy</td>\n",
              "      <td>Fresh curd cheese</td>\n",
              "      <td>9.86</td>\n",
              "      <td>0.84</td>\n",
              "      <td>6.5</td>\n",
              "      <td>11.5</td>\n",
              "      <td>21.4</td>\n",
              "      <td>2026-06-19</td>\n",
              "      <td>Poland</td>\n",
              "      <td>Baltais</td>\n",
              "      <td>756</td>\n",
              "      <td>11.738095</td>\n",
              "      <td>1.173810</td>\n",
              "    </tr>\n",
              "    <tr>\n",
              "      <th>4</th>\n",
              "      <td>Skābais krējums</td>\n",
              "      <td>Dairy</td>\n",
              "      <td>Sour cream</td>\n",
              "      <td>5.16</td>\n",
              "      <td>1.92</td>\n",
              "      <td>17.6</td>\n",
              "      <td>9.0</td>\n",
              "      <td>9.9</td>\n",
              "      <td>2026-02-22</td>\n",
              "      <td>Poland</td>\n",
              "      <td>Rīgas Piensaimnieks</td>\n",
              "      <td>1728</td>\n",
              "      <td>2.687500</td>\n",
              "      <td>0.268750</td>\n",
              "    </tr>\n",
              "  </tbody>\n",
              "</table>\n",
              "</div>"
            ],
            "text/plain": [
              "              food category                    description  price_eur  \\\n",
              "0        Rupjmaize    Bread  Traditional Latvian rye bread      14.87   \n",
              "1           Kefīrs    Dairy           Fermented milk drink      12.63   \n",
              "2            Siers    Dairy               Semi-hard cheese       0.94   \n",
              "3        Biezpiens    Dairy              Fresh curd cheese       9.86   \n",
              "4  Skābais krējums    Dairy                     Sour cream       5.16   \n",
              "\n",
              "   weight_kg  height_cm  width_cm  length_cm expiration_date  \\\n",
              "0       1.37       21.5      13.2       27.1      2026-08-04   \n",
              "1       1.63        NaN       NaN        NaN      2025-09-08   \n",
              "2       1.76       20.4      18.2       15.8      2026-04-17   \n",
              "3       0.84        6.5      11.5       21.4      2026-06-19   \n",
              "4       1.92       17.6       9.0        9.9      2026-02-22   \n",
              "\n",
              "  country_of_origin                brand  calories  price_per_kg  \\\n",
              "0            Latvia      Hanzas Maiznīca      3425     10.854015   \n",
              "1            Poland             Valmiera      1467      7.748466   \n",
              "2             Spain                Talsu      1584      0.534091   \n",
              "3            Poland              Baltais       756     11.738095   \n",
              "4            Poland  Rīgas Piensaimnieks      1728      2.687500   \n",
              "\n",
              "   price_per_100g  \n",
              "0        1.085401  \n",
              "1        0.774847  \n",
              "2        0.053409  \n",
              "3        1.173810  \n",
              "4        0.268750  "
            ]
          },
          "execution_count": 15,
          "metadata": {},
          "output_type": "execute_result"
        }
      ],
      "source": [
        "# so let's create these new columns\n",
        "print(\"Adding new columns for price per kg and price per 100g...\")\n",
        "df['price_per_kg'] = df['price_eur'] / df['weight_kg'] # calculate price per kg\n",
        "df['price_per_100g'] = df['price_per_kg'] / 10 # calculate price per 100g\n",
        "\n",
        "# display the first few rows of the DataFrame with the new columns\n",
        "print(\"First 5 rows of the dataset with new columns:\")\n",
        "df.head()"
      ]
    },
    {
      "cell_type": "code",
      "execution_count": null,
      "metadata": {
        "id": "ePzwLl9-u0RP",
        "outputId": "8eada912-c4c2-47a4-a448-b62b4a0d6337"
      },
      "outputs": [
        {
          "name": "stdout",
          "output_type": "stream",
          "text": [
            "5 cheapest foods by price per 100g:\n"
          ]
        },
        {
          "data": {
            "text/html": [
              "<div>\n",
              "<style scoped>\n",
              "    .dataframe tbody tr th:only-of-type {\n",
              "        vertical-align: middle;\n",
              "    }\n",
              "\n",
              "    .dataframe tbody tr th {\n",
              "        vertical-align: top;\n",
              "    }\n",
              "\n",
              "    .dataframe thead th {\n",
              "        text-align: right;\n",
              "    }\n",
              "</style>\n",
              "<table border=\"1\" class=\"dataframe\">\n",
              "  <thead>\n",
              "    <tr style=\"text-align: right;\">\n",
              "      <th></th>\n",
              "      <th>food</th>\n",
              "      <th>price_per_100g</th>\n",
              "    </tr>\n",
              "  </thead>\n",
              "  <tbody>\n",
              "    <tr>\n",
              "      <th>2</th>\n",
              "      <td>Siers</td>\n",
              "      <td>0.053409</td>\n",
              "    </tr>\n",
              "    <tr>\n",
              "      <th>5</th>\n",
              "      <td>Pelmeņi</td>\n",
              "      <td>0.101562</td>\n",
              "    </tr>\n",
              "    <tr>\n",
              "      <th>13</th>\n",
              "      <td>Tomāti</td>\n",
              "      <td>0.209434</td>\n",
              "    </tr>\n",
              "    <tr>\n",
              "      <th>4</th>\n",
              "      <td>Skābais krējums</td>\n",
              "      <td>0.268750</td>\n",
              "    </tr>\n",
              "    <tr>\n",
              "      <th>16</th>\n",
              "      <td>Siļķe</td>\n",
              "      <td>0.276879</td>\n",
              "    </tr>\n",
              "  </tbody>\n",
              "</table>\n",
              "</div>"
            ],
            "text/plain": [
              "               food  price_per_100g\n",
              "2             Siers        0.053409\n",
              "5           Pelmeņi        0.101562\n",
              "13           Tomāti        0.209434\n",
              "4   Skābais krējums        0.268750\n",
              "16            Siļķe        0.276879"
            ]
          },
          "execution_count": 16,
          "metadata": {},
          "output_type": "execute_result"
        }
      ],
      "source": [
        "# so now let's get five cheapest foods by price per 100g\n",
        "print(\"5 cheapest foods by price per 100g:\")\n",
        "cheapest_foods_100g = df.sort_values(by='price_per_100g', ascending=True).head(5) # sort by price per 100g in ascending order and take the first 5 rows\n",
        "# NOTE: in the above code we actually performed three operations:\n",
        "# 1. sorted the DataFrame by 'price_per_100g' column in ascending order\n",
        "# 2. selected the first 5 rows of the sorted DataFrame\n",
        "# 3. assigned the result to a new variable cheapest_foods_100g\n",
        "cheapest_foods_100g[['food', 'price_per_100g']] # display only the name and price_per_100g columns"
      ]
    },
    {
      "cell_type": "markdown",
      "metadata": {
        "id": "9B3ke0_ju0RS"
      },
      "source": [
        "### Saving DataFrame to Excel\n",
        "Once we have our DataFrame ready, we can save it to an Excel(or CSV) file for further analysis or sharing with others.\n",
        "We will use the `to_excel()` method to save the DataFrame to an Excel file."
      ]
    },
    {
      "cell_type": "code",
      "execution_count": null,
      "metadata": {
        "id": "vvN1MHLEu0RU",
        "outputId": "6a3cf2aa-1947-4399-ead4-d8bd1f9ea943"
      },
      "outputs": [
        {
          "name": "stdout",
          "output_type": "stream",
          "text": [
            "Cheapest foods by price per 100g saved to 'cheapest_foods_100g.xlsx' in current directory\n"
          ]
        }
      ],
      "source": [
        "cheapest_foods_100g.to_excel('cheapest_foods_100g.xlsx', index=False) # save the DataFrame to an Excel file\n",
        "print(\"Cheapest foods by price per 100g saved to 'cheapest_foods_100g.xlsx' in current directory\") # print a message to confirm the file was saved\n",
        "# note this will save the file in the current working directory, which is usually the same directory where the notebook is located\n",
        "# often we would want to save the file in a specific directory, so we can specify the full path to the file\n",
        "\n",
        "# also note that on Google Colab the file is saved in the TEMPORARY virtual machine that your Google Colab notebook is running on\n",
        "# so you will need to download the file to your local machine if you want to keep it\n",
        "# alternative would be to attach the file to your Google Drive and save it there - that is a common practice in Google Colab\n",
        "# we will cover this in another lessons, as it is not the main focus of today"
      ]
    },
    {
      "cell_type": "markdown",
      "metadata": {
        "id": "GDKsbktLu0RW"
      },
      "source": [
        "## Practical Exercise: Price Analysis - Least Expensive Food per Calories\n",
        "\n",
        "So now that we know how to load and manipulate data in pandas, let's do a practical exercise.\n",
        "\n",
        "We want to determine the least expensive ten foods per 2000 calories from this dataset.\n",
        "\n",
        "TO do this we will need to:\n",
        "1. Create a new column that calculates the price per calorie for each food item.\n",
        "2. Sort the DataFrame by this new column in ascending order.\n",
        "3. Select the top 10 rows from the sorted DataFrame.\n",
        "4. Display the results.\n",
        "5. Save the results to a Excel file called `least_expensive_food_per_calories.xlsx`.\n",
        "\n",
        "You can freely use AI assistance for this task, including built in Gemini in Google Colab, or ChatGPT, or any other AI tool you prefer.\n",
        "\n",
        "TIP: *If you do use AI assistance, provide clear instructions on what you want to achieve, and ask for code that you can copy and paste into your notebook.\n",
        "You can also ask for explanations of the code, or how to use specific pandas functions.*\n",
        "\n",
        "Also you can use the pandas documentation to find out how to do this.\n",
        "\n",
        "Pandas documentation is available at [pandas.pydata.org](https://pandas.pydata.org/pandas-docs/stable/).\n",
        "\n",
        "We will discuss the solutions and attempts in reflection session.\n",
        "\n",
        "### How to submit your solution\n",
        "\n",
        "1. First you should make a copy of this notebook to your own Google Drive.  \n",
        "   You can do this by clicking on `File` → `Save a copy in Drive`.  \n",
        "   You can optionally rename the notebook to something like `day1_price_analysis.ipynb`.\n",
        "\n",
        "2. Then you can edit the notebook and add your solution to the end of the notebook, or in a new code cell.\n",
        "Feel free to add any comments and explanations to your code as a markdown cell or comments in the code cell(s).\n",
        "\n",
        "3. Download the notebook as a `.ipynb` file by clicking on `File` → `Download` → `Download .ipynb`.\n",
        "\n",
        "4. Upload the `.ipynb` file to the course platform at [RTU DAS](https://www.das.lv/platforma/course/view.php?id=34) in the assignment section for Day 1."
      ]
    },
    {
      "cell_type": "markdown",
      "metadata": {
        "id": "Evw4Gv6Au0RY"
      },
      "source": [
        "## Reflection and Discussion\n",
        "\n",
        "What did you learn today?\n",
        "- How to use Jupyter Notebooks and Google Colab for basic data analysis.\n",
        "- How to load and manipulate data using pandas DataFrames.\n",
        "\n",
        "\n",
        "### Let's discuss some more Pandas DataFrame methods and concepts:\n",
        "- **Filtering**: How to filter rows based on conditions.\n",
        "- **Indexing**: How to set and reset the index of a DataFrame.\n",
        "- **Accessing rows or individual values**: Using `.loc[]` and `.iloc[]` for label-based and position-based indexing.\n",
        "- **Grouping**: How to group data by one or more columns and perform aggregate functions - that is for later.\n"
      ]
    }
  ],
  "metadata": {
    "kernelspec": {
      "display_name": "venv",
      "language": "python",
      "name": "python3"
    },
    "language_info": {
      "codemirror_mode": {
        "name": "ipython",
        "version": 3
      },
      "file_extension": ".py",
      "mimetype": "text/x-python",
      "name": "python",
      "nbconvert_exporter": "python",
      "pygments_lexer": "ipython3",
      "version": "3.12.7"
    },
    "colab": {
      "provenance": []
    }
  },
  "nbformat": 4,
  "nbformat_minor": 0
}
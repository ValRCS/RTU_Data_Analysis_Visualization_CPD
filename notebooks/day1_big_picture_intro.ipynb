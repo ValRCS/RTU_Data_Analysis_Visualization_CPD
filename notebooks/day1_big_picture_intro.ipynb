{
 "cells": [
  {
   "cell_type": "markdown",
   "metadata": {},
   "source": [
    "#  Day 1  Big Picture, Tools Landscape & Data Handling in Python\n",
    "\n",
    "## Course Description\n",
    "\n",
    "This course provides a practical introduction to **data analysis** and **data visualization** using Python and modern AI-assisted tooling.  \n",
    "Students will learn to work through the complete analytics workflow — from data collection, cleaning, and preparation, through exploratory data analysis (EDA), modeling, and visualization — with a focus on producing clear, actionable insights.  \n",
    "\n",
    "Core skills are built using Python’s rich data ecosystem, including **pandas**, **matplotlib**, **seaborn**, **plotly**, and **scikit-learn**.  \n",
    "In addition, we explore the use of **AI tools** such as ChatGPT, GitHub Copilot, and agent frameworks to enhance productivity, automate repetitive tasks, and assist in coding, exploration, and communication.  \n",
    "\n",
    "By the end of the course, students should have a basic idea on how to analyze datasets, create compelling visualizations, build simple dashboards, and integrate AI assistance into their data workflows."
   ]
  },
  {
   "cell_type": "markdown",
   "metadata": {},
   "source": [
    "<div style=\"display: flex; align-items: center; justify-content: center; gap: 30px;\">\n",
    "  <img src=\"https://github.com/ValRCS/RTU_Data_Analysis_Visualization_CPD/blob/main/img/19th_century_data_analysis_gothic_prompt.png?raw=true\" width=\"400\"/>\n",
    "\n",
    "  <!-- Thick arrow as inline SVG -->\n",
    "  <svg width=\"80\" height=\"40\" viewBox=\"0 0 80 40\" xmlns=\"http://www.w3.org/2000/svg\">\n",
    "    <line x1=\"0\" y1=\"20\" x2=\"70\" y2=\"20\" stroke=\"rgb(0, 88, 84)\" stroke-width=\"6\" stroke-linecap=\"round\"/>\n",
    "    <polygon points=\"70,10 80,20 70,30\" fill=\"rgb(0, 88, 84)\"/>\n",
    "  </svg>\n",
    "\n",
    "  <img src=\"https://github.com/ValRCS/RTU_Data_Analysis_Visualization_CPD/blob/main/img/RTU_1862_Data_Analysis.png?raw=true\" width=\"400\"/>\n",
    "</div>"
   ]
  },
  {
   "cell_type": "markdown",
   "metadata": {
    "vscode": {
     "languageId": "markdown"
    }
   },
   "source": [
    "## 📅 Day 1 — Plan -  Big Picture, Tools Landscape & Data Handling in Python\n",
    "\n",
    "**📚 Instruction (3h)**  \n",
    "- 🌐 Big picture: data analysis workflow  \n",
    "- ⚖️ Tools comparison: Python vs Excel, Power BI, Tableau (how they complement each other)  \n",
    "- 📓 Jupyter Notebooks for interactive analysis & documentation  \n",
    "- 🐍 Python basics for data work  \n",
    "- 📊 Intro to `pandas` DataFrames  \n",
    "- 📥 Data import (CSV, Excel, JSON) & inspection  \n",
    "\n",
    "**🛠 Practical (1h)**  \n",
    "- 📂 Load & filter a dataset  \n",
    "- ➗ Compute basic statistics  \n",
    "\n",
    "**🔄 Reflection (1h)**  \n",
    "- 💬 Group discussion: comparing workflows in Python vs spreadsheets  \n",
    "- 📝 Mini quiz on `pandas` basics  \n",
    "- 🐞 Troubleshoot common import/inspection issues"
   ]
  }
 ],
 "metadata": {
  "kernelspec": {
   "display_name": "venv",
   "language": "python",
   "name": "python3"
  },
  "language_info": {
   "codemirror_mode": {
    "name": "ipython",
    "version": 3
   },
   "file_extension": ".py",
   "mimetype": "text/x-python",
   "name": "python",
   "nbconvert_exporter": "python",
   "pygments_lexer": "ipython3",
   "version": "3.12.7"
  }
 },
 "nbformat": 4,
 "nbformat_minor": 4
}
